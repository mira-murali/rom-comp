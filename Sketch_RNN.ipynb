{
 "cells": [
  {
   "cell_type": "markdown",
   "metadata": {
    "colab_type": "text",
    "id": "tDybPQiEFQuJ"
   },
   "source": [
    "In this notebook, we will show how to load pre-trained models and draw things with sketch-rnn"
   ]
  },
  {
   "cell_type": "code",
   "execution_count": 1,
   "metadata": {
    "colab": {},
    "colab_type": "code",
    "id": "k0GqvYgB9JLC"
   },
   "outputs": [],
   "source": [
    "# import the required libraries\n",
    "import numpy as np\n",
    "import time\n",
    "import random\n",
    "import _pickle as cPickle\n",
    "import codecs\n",
    "import collections\n",
    "import os\n",
    "import math\n",
    "import json\n",
    "import tensorflow as tf\n",
    "tf.device('/gpu:0')\n",
    "from six.moves import xrange"
   ]
  },
  {
   "cell_type": "code",
   "execution_count": 2,
   "metadata": {
    "colab": {},
    "colab_type": "code",
    "id": "UI4ZC__4FQuL"
   },
   "outputs": [],
   "source": [
    "# libraries required for visualisation:\n",
    "from IPython.display import SVG, display\n",
    "import PIL\n",
    "from PIL import Image\n",
    "import matplotlib.pyplot as plt\n",
    "\n",
    "# set numpy output to something sensible\n",
    "np.set_printoptions(precision=8, edgeitems=6, linewidth=200, suppress=True)"
   ]
  },
  {
   "cell_type": "code",
   "execution_count": 3,
   "metadata": {
    "colab": {},
    "colab_type": "code",
    "id": "4xYY-TUd9aiD"
   },
   "outputs": [],
   "source": [
    "import svgwrite # conda install -c omnia svgwrite=1.1.6"
   ]
  },
  {
   "cell_type": "code",
   "execution_count": 4,
   "metadata": {
    "colab": {},
    "colab_type": "code",
    "id": "NkFS0E1zFQuU"
   },
   "outputs": [
    {
     "name": "stdout",
     "output_type": "stream",
     "text": [
      "\n",
      "WARNING: The TensorFlow contrib module will not be included in TensorFlow 2.0.\n",
      "For more information, please see:\n",
      "  * https://github.com/tensorflow/community/blob/master/rfcs/20180907-contrib-sunset.md\n",
      "  * https://github.com/tensorflow/addons\n",
      "If you depend on functionality not listed there, please file an issue.\n",
      "\n"
     ]
    }
   ],
   "source": [
    "# import our command line tools\n",
    "from sketch_rnn_infer import *\n",
    "from magenta.models.sketch_rnn.model import *\n",
    "from magenta.models.sketch_rnn.utils import *\n",
    "from magenta.models.sketch_rnn.rnn import *"
   ]
  },
  {
   "cell_type": "code",
   "execution_count": 5,
   "metadata": {
    "colab": {},
    "colab_type": "code",
    "id": "GBde4xkEFQuX"
   },
   "outputs": [],
   "source": [
    "# little function that displays vector images and saves them to .svg\n",
    "def draw_strokes(data, factor=0.2, svg_filename = '/tmp/sketch_rnn/svg/sample.svg'):\n",
    "  tf.gfile.MakeDirs(os.path.dirname(svg_filename))\n",
    "  min_x, max_x, min_y, max_y = get_bounds(data, factor)\n",
    "  dims = (50 + max_x - min_x, 50 + max_y - min_y)\n",
    "  dwg = svgwrite.Drawing(svg_filename, size=dims)\n",
    "  dwg.add(dwg.rect(insert=(0, 0), size=dims,fill='white'))\n",
    "  lift_pen = 1\n",
    "  abs_x = 25 - min_x \n",
    "  abs_y = 25 - min_y\n",
    "  p = \"M%s,%s \" % (abs_x, abs_y)\n",
    "  command = \"m\"\n",
    "  for i in xrange(len(data)):\n",
    "    if (lift_pen == 1):\n",
    "      command = \"m\"\n",
    "    elif (command != \"l\"):\n",
    "      command = \"l\"\n",
    "    else:\n",
    "      command = \"\"\n",
    "    x = float(data[i,0])/factor\n",
    "    y = float(data[i,1])/factor\n",
    "    lift_pen = data[i, 2]\n",
    "    p += command+str(x)+\",\"+str(y)+\" \"\n",
    "  the_color = \"black\"\n",
    "  stroke_width = 1\n",
    "  dwg.add(dwg.path(p).stroke(the_color,stroke_width).fill(\"none\"))\n",
    "  dwg.save()\n",
    "  display(SVG(dwg.tostring()))\n",
    "\n",
    "# generate a 2D grid of many vector drawings\n",
    "def make_grid_svg(s_list, grid_space=10.0, grid_space_x=16.0):\n",
    "  def get_start_and_end(x):\n",
    "    x = np.array(x)\n",
    "    x = x[:, 0:2]\n",
    "    x_start = x[0]\n",
    "    x_end = x.sum(axis=0)\n",
    "    x = x.cumsum(axis=0)\n",
    "    x_max = x.max(axis=0)\n",
    "    x_min = x.min(axis=0)\n",
    "    center_loc = (x_max+x_min)*0.5\n",
    "    return x_start-center_loc, x_end\n",
    "  x_pos = 0.0\n",
    "  y_pos = 0.0\n",
    "  result = [[x_pos, y_pos, 1]]\n",
    "  for sample in s_list:\n",
    "    s = sample[0]\n",
    "    grid_loc = sample[1]\n",
    "    grid_y = grid_loc[0]*grid_space+grid_space*0.5\n",
    "    grid_x = grid_loc[1]*grid_space_x+grid_space_x*0.5\n",
    "    start_loc, delta_pos = get_start_and_end(s)\n",
    "\n",
    "    loc_x = start_loc[0]\n",
    "    loc_y = start_loc[1]\n",
    "    new_x_pos = grid_x+loc_x\n",
    "    new_y_pos = grid_y+loc_y\n",
    "    result.append([new_x_pos-x_pos, new_y_pos-y_pos, 0])\n",
    "\n",
    "    result += s.tolist()\n",
    "    result[-1][2] = 1\n",
    "    x_pos = new_x_pos+delta_pos[0]\n",
    "    y_pos = new_y_pos+delta_pos[1]\n",
    "  return np.array(result)"
   ]
  },
  {
   "cell_type": "markdown",
   "metadata": {
    "colab_type": "text",
    "id": "if7-UyxzFQuY"
   },
   "source": [
    "define the path of the model you want to load, and also the path of the dataset"
   ]
  },
  {
   "cell_type": "code",
   "execution_count": 6,
   "metadata": {
    "colab": {},
    "colab_type": "code",
    "id": "Dipv1EbsFQuZ"
   },
   "outputs": [],
   "source": [
    "data_dir = 'datasets/catbus/'\n",
    "models_root_dir = 'models/'\n",
    "model_dir = 'models/catbus/lstm/'"
   ]
  },
  {
   "cell_type": "code",
   "execution_count": 7,
   "metadata": {
    "colab": {
     "base_uri": "https://localhost:8080/",
     "height": 68
    },
    "colab_type": "code",
    "id": "eaSqI0fIFQub",
    "outputId": "06df45a6-cc86-4f50-802e-25ae185037f7"
   },
   "outputs": [
    {
     "name": "stdout",
     "output_type": "stream",
     "text": [
      "INFO:tensorflow:models/sketch_rnn.zip already exists, using cached copy\n"
     ]
    }
   ],
   "source": [
    "download_pretrained_models(models_root_dir=models_root_dir)"
   ]
  },
  {
   "cell_type": "code",
   "execution_count": 8,
   "metadata": {
    "colab": {},
    "colab_type": "code",
    "id": "G4sRuxyn_1aO"
   },
   "outputs": [],
   "source": [
    "def load_env_compatible(data_dir, model_dir):\n",
    "  \"\"\"Loads environment for inference mode, used in jupyter notebook.\"\"\"\n",
    "  # modified https://github.com/tensorflow/magenta/blob/master/magenta/models/sketch_rnn/sketch_rnn_train.py\n",
    "  # to work with depreciated tf.HParams functionality\n",
    "  model_params = sketch_rnn_model.get_default_hparams()\n",
    "  with tf.gfile.Open(os.path.join(model_dir, 'model_config.json'), 'r') as f:\n",
    "    data = json.load(f)\n",
    "  fix_list = ['conditional', 'is_training', 'use_input_dropout', 'use_output_dropout', 'use_recurrent_dropout']\n",
    "  for fix in fix_list:\n",
    "    data[fix] = (data[fix] == 1)\n",
    "  model_params.parse_json(json.dumps(data))\n",
    "  return load_dataset(data_dir, model_params, inference_mode=True)\n",
    "\n",
    "def load_model_compatible(model_dir):\n",
    "  \"\"\"Loads model for inference mode, used in jupyter notebook.\"\"\"\n",
    "  # modified https://github.com/tensorflow/magenta/blob/master/magenta/models/sketch_rnn/sketch_rnn_train.py\n",
    "  # to work with depreciated tf.HParams functionality\n",
    "  model_params = sketch_rnn_model.get_default_hparams()\n",
    "  with tf.gfile.Open(os.path.join(model_dir, 'model_config.json'), 'r') as f:\n",
    "    data = json.load(f)\n",
    "  fix_list = ['conditional', 'is_training', 'use_input_dropout', 'use_output_dropout', 'use_recurrent_dropout']\n",
    "  for fix in fix_list:\n",
    "    data[fix] = (data[fix] == 1)\n",
    "  model_params.parse_json(json.dumps(data))\n",
    "\n",
    "  model_params.batch_size = 1  # only sample one at a time\n",
    "  eval_model_params = sketch_rnn_model.copy_hparams(model_params)\n",
    "  eval_model_params.use_input_dropout = 0\n",
    "  eval_model_params.use_recurrent_dropout = 0\n",
    "  eval_model_params.use_output_dropout = 0\n",
    "  eval_model_params.is_training = 0\n",
    "  sample_model_params = sketch_rnn_model.copy_hparams(eval_model_params)\n",
    "  sample_model_params.max_seq_len = 1  # sample one point at a time\n",
    "  return [model_params, eval_model_params, sample_model_params]"
   ]
  },
  {
   "cell_type": "code",
   "execution_count": 9,
   "metadata": {
    "colab": {
     "base_uri": "https://localhost:8080/",
     "height": 153
    },
    "colab_type": "code",
    "id": "9m-jSAb3FQuf",
    "outputId": "debc045d-d15a-4b30-f747-fa4bcbd069fd"
   },
   "outputs": [
    {
     "name": "stdout",
     "output_type": "stream",
     "text": [
      "INFO:tensorflow:Loaded 70000/2500/2500 from cat.npz\n",
      "INFO:tensorflow:Loaded 70000/2500/2500 from bus.npz\n",
      "INFO:tensorflow:Dataset combined: 150000 (140000/5000/5000), avg len 77\n",
      "INFO:tensorflow:model_params.max_seq_len 250.\n",
      "total images <= max_seq_len is 140000\n",
      "total images <= max_seq_len is 70000\n",
      "total images <= max_seq_len is 2500\n",
      "total images <= max_seq_len is 2500\n",
      "total images <= max_seq_len is 70000\n",
      "total images <= max_seq_len is 2500\n",
      "total images <= max_seq_len is 2500\n",
      "INFO:tensorflow:normalizing_scale_factor 56.5371.\n"
     ]
    }
   ],
   "source": [
    "[train_set, valid_set, test_set, hps_model, eval_hps_model, sample_hps_model] = load_env_compatible(data_dir, model_dir)"
   ]
  },
  {
   "cell_type": "code",
   "execution_count": 10,
   "metadata": {
    "colab": {
     "base_uri": "https://localhost:8080/",
     "height": 479
    },
    "colab_type": "code",
    "id": "1pHS8TSgFQui",
    "outputId": "50b0e14d-ff0f-43bf-d996-90e9e6a1491e"
   },
   "outputs": [
    {
     "name": "stdout",
     "output_type": "stream",
     "text": [
      "INFO:tensorflow:Model using gpu.\n",
      "WARNING:tensorflow:From /home/loki/anaconda3/envs/dl/lib/python3.7/site-packages/tensorflow/python/framework/op_def_library.py:263: colocate_with (from tensorflow.python.framework.ops) is deprecated and will be removed in a future version.\n",
      "Instructions for updating:\n",
      "Colocations handled automatically by placer.\n",
      "INFO:tensorflow:Input dropout mode = False.\n",
      "INFO:tensorflow:Output dropout mode = False.\n",
      "INFO:tensorflow:Recurrent dropout mode = False.\n",
      "WARNING:tensorflow:From /home/loki/anaconda3/envs/dl/lib/python3.7/site-packages/magenta/models/sketch_rnn/model.py:100: bidirectional_dynamic_rnn (from tensorflow.python.ops.rnn) is deprecated and will be removed in a future version.\n",
      "Instructions for updating:\n",
      "Please use `keras.layers.Bidirectional(keras.layers.RNN(cell))`, which is equivalent to this API\n",
      "WARNING:tensorflow:From /home/loki/anaconda3/envs/dl/lib/python3.7/site-packages/tensorflow/python/ops/rnn.py:443: dynamic_rnn (from tensorflow.python.ops.rnn) is deprecated and will be removed in a future version.\n",
      "Instructions for updating:\n",
      "Please use `keras.layers.RNN(cell)`, which is equivalent to this API\n",
      "WARNING:tensorflow:From /home/loki/anaconda3/envs/dl/lib/python3.7/site-packages/tensorflow/python/ops/rnn.py:626: to_int32 (from tensorflow.python.ops.math_ops) is deprecated and will be removed in a future version.\n",
      "Instructions for updating:\n",
      "Use tf.cast instead.\n",
      "WARNING:tensorflow:From /home/loki/anaconda3/envs/dl/lib/python3.7/site-packages/magenta/models/sketch_rnn/model.py:266: div (from tensorflow.python.ops.math_ops) is deprecated and will be removed in a future version.\n",
      "Instructions for updating:\n",
      "Deprecated in favor of operator or tf.math.divide.\n",
      "WARNING:tensorflow:From /home/loki/anaconda3/envs/dl/lib/python3.7/site-packages/magenta/models/sketch_rnn/model.py:285: calling reduce_sum_v1 (from tensorflow.python.ops.math_ops) with keep_dims is deprecated and will be removed in a future version.\n",
      "Instructions for updating:\n",
      "keep_dims is deprecated, use keepdims instead\n",
      "WARNING:tensorflow:From /home/loki/anaconda3/envs/dl/lib/python3.7/site-packages/magenta/models/sketch_rnn/model.py:295: softmax_cross_entropy_with_logits (from tensorflow.python.ops.nn_ops) is deprecated and will be removed in a future version.\n",
      "Instructions for updating:\n",
      "\n",
      "Future major versions of TensorFlow will allow gradients to flow\n",
      "into the labels input on backprop by default.\n",
      "\n",
      "See `tf.nn.softmax_cross_entropy_with_logits_v2`.\n",
      "\n",
      "INFO:tensorflow:Model using gpu.\n",
      "INFO:tensorflow:Input dropout mode = 0.\n",
      "INFO:tensorflow:Output dropout mode = 0.\n",
      "INFO:tensorflow:Recurrent dropout mode = 0.\n",
      "INFO:tensorflow:Model using gpu.\n",
      "INFO:tensorflow:Input dropout mode = 0.\n",
      "INFO:tensorflow:Output dropout mode = 0.\n",
      "INFO:tensorflow:Recurrent dropout mode = 0.\n"
     ]
    }
   ],
   "source": [
    "# construct the sketch-rnn model here:\n",
    "reset_graph()\n",
    "model = Model(hps_model)\n",
    "eval_model = Model(eval_hps_model, reuse=True)\n",
    "sample_model = Model(sample_hps_model, reuse=True)"
   ]
  },
  {
   "cell_type": "code",
   "execution_count": 11,
   "metadata": {
    "colab": {},
    "colab_type": "code",
    "id": "1gxYLPTQFQuk"
   },
   "outputs": [],
   "source": [
    "sess = tf.InteractiveSession()\n",
    "sess.run(tf.global_variables_initializer())"
   ]
  },
  {
   "cell_type": "code",
   "execution_count": 12,
   "metadata": {
    "colab": {
     "base_uri": "https://localhost:8080/",
     "height": 51
    },
    "colab_type": "code",
    "id": "bVlDyfN_FQum",
    "outputId": "fb41ce20-4c7f-4991-e9f6-559ea9b34a31"
   },
   "outputs": [
    {
     "name": "stdout",
     "output_type": "stream",
     "text": [
      "INFO:tensorflow:Loading model models/catbus/lstm/vector.\n",
      "WARNING:tensorflow:From /home/loki/anaconda3/envs/dl/lib/python3.7/site-packages/tensorflow/python/training/saver.py:1266: checkpoint_exists (from tensorflow.python.training.checkpoint_management) is deprecated and will be removed in a future version.\n",
      "Instructions for updating:\n",
      "Use standard file APIs to check for files with this prefix.\n",
      "INFO:tensorflow:Restoring parameters from models/catbus/lstm/vector\n"
     ]
    }
   ],
   "source": [
    "# loads the weights from checkpoint into our model\n",
    "load_checkpoint(sess, model_dir)"
   ]
  },
  {
   "cell_type": "markdown",
   "metadata": {
    "colab_type": "text",
    "id": "EOblwpFeFQuq"
   },
   "source": [
    "We define two convenience functions to encode a stroke into a latent vector, and decode from latent vector to stroke."
   ]
  },
  {
   "cell_type": "code",
   "execution_count": 13,
   "metadata": {
    "colab": {},
    "colab_type": "code",
    "id": "tMFlV487FQur"
   },
   "outputs": [],
   "source": [
    "def encode(input_strokes):\n",
    "  strokes = to_big_strokes(input_strokes).tolist()\n",
    "  strokes.insert(0, [0, 0, 1, 0, 0])\n",
    "  seq_len = [len(input_strokes)]\n",
    "  draw_strokes(to_normal_strokes(np.array(strokes)))\n",
    "  return sess.run(eval_model.batch_z, feed_dict={eval_model.input_data: [strokes], eval_model.sequence_lengths: seq_len})[0]"
   ]
  },
  {
   "cell_type": "code",
   "execution_count": 14,
   "metadata": {
    "colab": {},
    "colab_type": "code",
    "id": "1D5CV7ZlFQut"
   },
   "outputs": [],
   "source": [
    "def decode(z_input=None, draw_mode=True, temperature=0.1, factor=0.2):\n",
    "  z = None\n",
    "  if z_input is not None:\n",
    "    z = [z_input]\n",
    "  sample_strokes, m = sample(sess, sample_model, seq_len=eval_model.hps.max_seq_len, temperature=temperature, z=z)\n",
    "  strokes = to_normal_strokes(sample_strokes)\n",
    "  if draw_mode:\n",
    "    draw_strokes(strokes, factor)\n",
    "  return strokes"
   ]
  },
  {
   "cell_type": "code",
   "execution_count": 17,
   "metadata": {},
   "outputs": [
    {
     "data": {
      "image/svg+xml": [
       "<svg baseProfile=\"full\" height=\"82.10281044244766\" version=\"1.1\" width=\"90.50437301397324\" xmlns=\"http://www.w3.org/2000/svg\" xmlns:ev=\"http://www.w3.org/2001/xml-events\" xmlns:xlink=\"http://www.w3.org/1999/xlink\"><defs/><rect fill=\"white\" height=\"82.10281044244766\" width=\"90.50437301397324\" x=\"0\" y=\"0\"/><path d=\"M59.31374818086624,30.394687354564667 m0.0,0.0 l-0.5306249856948853,-0.7074999809265137 -1.0612499713897705,-0.5306249856948853 l-2.3878124356269836,-0.5306249856948853 -4.510312378406525,0.0 l-2.476249933242798,0.7074999809265137 -2.2109374403953552,1.3265624642372131 l-1.5918749570846558,1.5918749570846558 -0.5306249856948853,1.9456249475479126 l0.0,2.476249933242798 0.44218748807907104,1.238124966621399 l1.4149999618530273,2.8299999237060547 1.7687499523162842,2.476249933242798 l2.2109374403953552,2.034062445163727 1.4149999618530273,0.7074999809265137 l1.68031245470047,0.35374999046325684 3.1837499141693115,0.08843749761581421 l1.68031245470047,-0.5306249856948853 3.1837499141693115,-1.68031245470047 l2.564687430858612,-2.2993749380111694 1.4149999618530273,-1.9456249475479126 l0.5306249856948853,-1.68031245470047 0.0,-1.7687499523162842 l-1.3265624642372131,-2.122499942779541 -3.006874918937683,-3.5374999046325684 l-0.8843749761581421,-0.8843749761581421 -1.4149999618530273,-0.6190624833106995 m-4.687187373638153,7.163437008857727 l-0.35374999046325684,2.7415624260902405 -0.8843749761581421,0.8843749761581421 l-2.2109374403953552,0.17687499523162842 -0.5306249856948853,-0.17687499523162842 l-0.5306249856948853,-0.7074999809265137 m4.952499866485596,-2.476249933242798 l0.08843749761581421,2.3878124356269836 0.5306249856948853,0.9728124737739563 l0.7959374785423279,0.7074999809265137 3.006874918937683,0.2653124928474426 l1.7687499523162842,-0.7959374785423279 m-9.993436932563782,-7.870936989784241 l0.0,-0.17687499523162842 m6.898124814033508,0.8843749761581421 l-0.08843749761581421,0.0 m-12.027499675750732,-2.8299999237060547 l-0.44218748807907104,-0.44218748807907104 -0.6190624833106995,-2.2109374403953552 l-0.08843749761581421,-2.8299999237060547 5.3062498569488525,3.5374999046325684 m9.551249742507935,0.6190624833106995 l4.156562387943268,-3.2721874117851257 -0.17687499523162842,1.4149999618530273 l-1.5918749570846558,5.040937066078186 m-12.115936279296875,12.823436260223389 l-3.0953124165534973,0.0 -2.7415624260902405,0.9728124737739563 l-4.244999885559082,0.7959374785423279 -3.6259374022483826,1.238124966621399 l-2.2993749380111694,1.3265624642372131 -0.5306249856948853,0.7074999809265137 l-0.08843749761581421,1.4149999618530273 0.6190624833106995,0.44218748807907104 l1.1496874690055847,0.2653124928474426 5.7484370470047,0.17687499523162842 l4.068124890327454,-0.7959374785423279 5.040937066078186,-1.4149999618530273 l2.6531249284744263,-0.9728124737739563 1.3265624642372131,-0.9728124737739563 m-2.6531249284744263,2.034062445163727 l0.7959374785423279,1.7687499523162842 1.1496874690055847,1.5918749570846558 l1.3265624642372131,0.7959374785423279 1.3265624642372131,0.08843749761581421 l0.0,-1.0612499713897705 -1.5034374594688416,-3.36062490940094 m-15.122811794281006,1.5918749570846558 l-0.9728124737739563,-0.17687499523162842 -2.2993749380111694,3.36062490940094 l-0.8843749761581421,1.8571874499320984 -0.44218748807907104,0.2653124928474426 l-0.7074999809265137,-0.7959374785423279 -0.17687499523162842,-0.9728124737739563 l-0.08843749761581421,-1.9456249475479126 0.2653124928474426,-0.2653124928474426 m0.0,-2.034062445163727 l-1.0612499713897705,0.08843749761581421 -1.7687499523162842,0.8843749761581421 l-0.9728124737739563,0.17687499523162842 -0.5306249856948853,-1.3265624642372131 l-0.44218748807907104,-0.17687499523162842 -3.802812397480011,0.5306249856948853 \" fill=\"none\" stroke=\"black\" stroke-width=\"1\"/></svg>"
      ],
      "text/plain": [
       "<IPython.core.display.SVG object>"
      ]
     },
     "metadata": {},
     "output_type": "display_data"
    },
    {
     "data": {
      "image/svg+xml": [
       "<svg baseProfile=\"full\" height=\"104.34937067329884\" version=\"1.1\" width=\"82.85918370387662\" xmlns=\"http://www.w3.org/2000/svg\" xmlns:ev=\"http://www.w3.org/2001/xml-events\" xmlns:xlink=\"http://www.w3.org/1999/xlink\"><defs/><rect fill=\"white\" height=\"104.34937067329884\" width=\"82.85918370387662\" x=\"0\" y=\"0\"/><path d=\"M40.52197103104845,33.10081861692197 m-0.46194326132535934,-0.7361819595098495 l-1.1898475885391235,-0.38045279681682587 -2.516155242919922,-0.00022496758901979774 l-1.851183921098709,0.48158466815948486 -1.638508141040802,0.8548619598150253 l-1.3210444152355194,1.0991313308477402 -1.4541560411453247,2.125212252140045 l-0.7994469255208969,2.762567400932312 7.546175766037777e-05,2.4063342809677124 l0.33137042075395584,1.1666040122509003 1.2434620410203934,2.1105000376701355 l2.33006551861763,2.1834972500801086 2.237754762172699,1.2467699497938156 l3.429660201072693,0.9074221551418304 3.5766220092773438,-0.00015454968888661824 l1.4170387387275696,-0.29125047847628593 2.3728936910629272,-1.1049846559762955 l2.3797839879989624,-2.0392590761184692 0.7526780664920807,-1.1098872870206833 l0.710337907075882,-2.139260917901993 8.602310117566958e-05,-2.793242633342743 l-0.9610367566347122,-1.8393957614898682 -1.9889141619205475,-2.2462671995162964 l-2.0159150660037994,-1.2300247699022293 -3.0301830172538757,-1.1729056388139725 l-2.892742156982422,-0.5677730217576027 m-2.167910933494568,6.8786996603012085 l-0.4747229814529419,-0.00020950536054442637 -2.189251631498337,0.2798355370759964 l-1.3924117386341095,0.10631929151713848 -3.362586200237274,0.4361952096223831 l-4.59583967924118,0.9462422132492065 m11.525155305862427,0.010668057948350906 l-3.4135061502456665,1.4780709147453308 -2.988021969795227,1.1152712255716324 l-2.4323928356170654,0.7712230831384659 m15.377793312072754,-4.746206700801849 l5.179509520530701,0.7641501724720001 2.389449328184128,0.27653714641928673 m-7.937589883804321,1.1537061631679535 l5.771551132202148,2.481980472803116 1.6016314923763275,0.6833367049694061 m-14.106853008270264,-7.766197919845581 l-0.00018636201275512576,0.12676073238253593 0.1224401406943798,0.017347398679703474 l0.10008961893618107,-0.11854611337184906 0.00727782491594553,-0.08995212614536285 l-0.05497667472809553,-7.210940566437785e-05 m4.4965749979019165,-0.4957577586174011 l0.004737364361062646,0.2667691744863987 0.28964653611183167,-0.38149021565914154 l-0.39657000452280045,0.08228687569499016 0.26767583563923836,0.2206314168870449 m-3.4125375747680664,1.3587220013141632 l0.00016148940630955622,-0.3291482478380203 0.10527527891099453,-0.2109272964298725 l-0.04330923780798912,0.22170443087816238 0.08926736190915108,0.22619975730776787 m-2.7810782194137573,-0.3099970519542694 l-0.6894654035568237,-0.4306924343109131 -0.9485364705324173,-1.4980074763298035 l-0.5454845726490021,-1.5457908809185028 -0.5510760843753815,-2.2144393622875214 l-0.4012170061469078,-2.410650998353958 -0.5335082858800888,-3.0509763956069946 l0.0002582257366157137,-1.76106795668602 0.7503979653120041,0.1127749402076006 l2.005128562450409,1.5618731081485748 2.7598312497138977,2.5715798139572144 l2.091270685195923,2.504272758960724 1.400173157453537,1.9923901557922363 l0.5361409112811089,0.5989682301878929 2.4924924969673157,-2.8166455030441284 l1.5523990988731384,-2.357241064310074 3.3172717690467834,-3.8099876046180725 l0.9493209421634674,-0.6945501267910004 0.3486025333404541,0.7858050614595413 l-0.00018658070985111408,4.370127320289612 -0.35542912781238556,2.8518179059028625 l-0.45556243509054184,2.202536314725876 -0.43866679072380066,1.7355209589004517 l-0.5077236890792847,1.2620456516742706 m-11.725319623947144,6.570415496826172 l-0.14752889052033424,1.48895263671875 -0.7544606178998947,2.283489853143692 l-2.267414480447769,5.237123966217041 -1.6839337348937988,5.559261441230774 l-0.7208555191755295,6.264010667800903 -0.00022093989173299633,4.201785922050476 l0.20531324669718742,1.4929240942001343 0.8910755813121796,2.20835417509079 l1.1496637016534805,1.631249189376831 2.4081094563007355,1.964980810880661 l3.4574198722839355,1.4316308498382568 4.265466630458832,0.8073383569717407 l4.886006116867065,-0.00010371806638431735 1.4752338826656342,-0.2993769757449627 l2.479197084903717,-1.2298056483268738 2.851511836051941,-2.6442545652389526 l2.0700526237487793,-3.8427335023880005 1.1781751364469528,-4.620257019996643 l0.3040465712547302,-5.498641729354858 -0.6895448267459869,-5.273722410202026 \" fill=\"none\" stroke=\"black\" stroke-width=\"1\"/></svg>"
      ],
      "text/plain": [
       "<IPython.core.display.SVG object>"
      ]
     },
     "metadata": {},
     "output_type": "display_data"
    },
    {
     "data": {
      "image/svg+xml": [
       "<svg baseProfile=\"full\" height=\"80.86468666791916\" version=\"1.1\" width=\"71.40187472105026\" xmlns=\"http://www.w3.org/2000/svg\" xmlns:ev=\"http://www.w3.org/2001/xml-events\" xmlns:xlink=\"http://www.w3.org/1999/xlink\"><defs/><rect fill=\"white\" height=\"80.86468666791916\" width=\"71.40187472105026\" x=\"0\" y=\"0\"/><path d=\"M26.326562464237213,45.34062445163727 m0.0,0.0 l-1.3265624642372131,-0.6190624833106995 0.2653124928474426,-2.3878124356269836 l1.5034374594688416,-2.8299999237060547 2.034062445163727,-2.122499942779541 l5.483124852180481,-3.891249895095825 2.3878124356269836,-0.7074999809265137 l3.36062490940094,0.17687499523162842 1.7687499523162842,1.0612499713897705 l1.3265624642372131,1.7687499523162842 0.9728124737739563,2.2993749380111694 l0.5306249856948853,3.891249895095825 -0.08843749761581421,3.36062490940094 l-0.9728124737739563,2.8299999237060547 -1.5034374594688416,2.8299999237060547 l-0.9728124737739563,1.0612499713897705 -0.8843749761581421,0.7959374785423279 l-3.5374999046325684,2.034062445163727 -3.36062490940094,0.9728124737739563 l-3.5374999046325684,-0.08843749761581421 -0.9728124737739563,-0.35374999046325684 l-2.034062445163727,-1.68031245470047 -0.7074999809265137,-1.5034374594688416 l-0.44218748807907104,-2.2993749380111694 0.0,-4.244999885559082 l0.35374999046325684,-1.5918749570846558 1.1496874690055847,-2.6531249284744263 l1.238124966621399,-1.9456249475479126 0.7074999809265137,-0.5306249856948853 m3.449062407016754,0.5306249856948853 l0.35374999046325684,2.564687430858612 m5.7484370470047,-2.564687430858612 l-0.08843749761581421,3.1837499141693115 m-6.72124981880188,5.394687056541443 l0.35374999046325684,-0.44218748807907104 1.3265624642372131,-0.2653124928474426 l4.687187373638153,-0.08843749761581421 m-6.279062032699585,0.35374999046325684 l2.034062445163727,2.2109374403953552 1.68031245470047,0.35374999046325684 l1.1496874690055847,-0.5306249856948853 0.8843749761581421,-2.122499942779541 m-2.7415624260902405,3.006874918937683 l-0.35374999046325684,1.4149999618530273 -0.7074999809265137,0.8843749761581421 l-3.1837499141693115,-0.44218748807907104 2.7415624260902405,0.7959374785423279 l3.891249895095825,0.17687499523162842 1.5034374594688416,-0.6190624833106995 l1.1496874690055847,-0.8843749761581421 m0.5306249856948853,-18.660311698913574 l0.35374999046325684,-1.238124966621399 1.3265624642372131,-1.5034374594688416 l0.8843749761581421,-0.44218748807907104 1.238124966621399,0.0 l0.6190624833106995,0.5306249856948853 0.44218748807907104,1.0612499713897705 l0.08843749761581421,1.68031245470047 -0.9728124737739563,1.68031245470047 l-0.44218748807907104,1.5034374594688416 m-9.285936951637268,-2.2993749380111694 l-0.17687499523162842,-0.9728124737739563 -1.68031245470047,-1.8571874499320984 l-1.7687499523162842,-2.6531249284744263 -0.7959374785423279,-0.6190624833106995 l-1.7687499523162842,0.08843749761581421 -0.7074999809265137,1.8571874499320984 l0.08843749761581421,2.6531249284744263 1.68031245470047,2.564687430858612 l2.564687430858612,2.7415624260902405 m8.843749761581421,-4.598749876022339 l2.2109374403953552,-2.476249933242798 3.1837499141693115,-2.564687430858612 l-0.7074999809265137,2.918437421321869 -1.9456249475479126,5.129374861717224 m-15.211249589920044,0.7074999809265137 l0.17687499523162842,-11.673749685287476 0.5306249856948853,-0.44218748807907104 l8.136249780654907,7.78249979019165 1.0612499713897705,0.44218748807907104 m-7.78249979019165,22.37468719482422 l0.0,0.0 \" fill=\"none\" stroke=\"black\" stroke-width=\"1\"/></svg>"
      ],
      "text/plain": [
       "<IPython.core.display.SVG object>"
      ]
     },
     "metadata": {},
     "output_type": "display_data"
    },
    {
     "data": {
      "image/svg+xml": [
       "<svg baseProfile=\"full\" height=\"77.79687418435515\" version=\"1.1\" width=\"90.27284197509289\" xmlns=\"http://www.w3.org/2000/svg\" xmlns:ev=\"http://www.w3.org/2001/xml-events\" xmlns:xlink=\"http://www.w3.org/1999/xlink\"><defs/><rect fill=\"white\" height=\"77.79687418435515\" width=\"90.27284197509289\" x=\"0\" y=\"0\"/><path d=\"M35.10368044284405,40.45354010537267 m-1.0183578729629517,-0.9206431359052658 l0.42894039303064346,-3.0890467762947083 3.240099251270294,-6.487227082252502 l3.365631401538849,-3.3507901430130005 2.4348916113376617,-1.2987911701202393 l2.9843342304229736,-0.30704179778695107 3.305002748966217,1.0501059889793396 l1.9945015013217926,1.6698192059993744 1.506207287311554,2.0544326305389404 l1.0364697873592377,2.284720242023468 0.8623557537794113,3.8646355271339417 l0.0359633332118392,4.146960079669952 -0.5016624554991722,2.5786498188972473 l-0.7628537714481354,1.8089468777179718 -1.0145087540149689,1.4495348930358887 l-1.1637935042381287,1.0615261644124985 -1.3357965648174286,0.7664886862039566 l-1.4559876918792725,0.4590177908539772 -1.5615563094615936,0.1523496862500906 l-1.6292586922645569,-0.1796524040400982 -2.87416011095047,-0.8881578594446182 l-1.9562074542045593,-1.0015636682510376 -1.561519056558609,-1.1947331577539444 l-1.900094449520111,-2.3608262836933136 -0.7312554121017456,-1.9501431286334991 l-0.3696121275424957,-2.5759759545326233 m5.566731095314026,-2.6060667634010315 l0.05080460570752621,2.7977407626167405e-05 m6.038146018981934,-1.030479148030281 l-0.004129328590352088,0.0001288071598537499 m-4.100699722766876,4.317761659622192 l0.418100543320179,0.8296434581279755 0.8903132379055023,0.34420397132635117 l0.99759541451931,-0.6879259645938873 0.2120816335082054,-0.8066827803850174 l-0.4129301756620407,-0.6300736218690872 -1.093377098441124,-0.00010729575478762854 m-3.6135226488113403,0.7574716210365295 l-0.8474501967430115,-0.16079669818282127 -3.055419623851776,0.08325451985001564 l-4.588620960712433,0.5307707190513611 -3.606843948364258,1.1336798965930939 l-3.382813036441803,1.8235690891742706 -0.9294193238019943,0.7795166969299316 m15.675269365310669,-2.05164298415184 l-1.533929854631424,0.2780473232269287 -1.611790806055069,0.8236678689718246 l-4.698749780654907,3.603958785533905 -2.6462027430534363,2.9491376876831055 l-1.4620180428028107,2.076486349105835 m13.230271339416504,-7.600385546684265 l-1.4100797474384308,0.7238726317882538 -1.3676565885543823,1.3065972924232483 l-2.0657451450824738,3.048301339149475 -1.2675036489963531,2.5952085852622986 l-0.6971820443868637,2.169593572616577 m15.453580617904663,-15.522018671035767 l1.1656875908374786,-0.6777089089155197 3.3832204341888428,-1.065087616443634 l3.2437074184417725,-0.5816024914383888 4.2436683177948,-0.20018670707941055 l2.638295292854309,0.25707608088850975 m-13.796581029891968,4.920086562633514 l3.6824193596839905,0.3552559018135071 3.0957505106925964,0.8066128939390182 l2.6125332713127136,1.168149784207344 1.796249896287918,1.2568137049674988 m-11.50699496269226,-0.47693774104118347 l2.771008014678955,1.6081199049949646 3.7880241870880127,2.955879271030426 l3.190735876560211,3.2946565747261047 m-20.11892795562744,-13.662344217300415 l-0.0004545949923340231,-0.9349728375673294 0.19802389666438103,-2.0915958285331726 l0.38354702293872833,-2.1838945150375366 1.6721653938293457,2.5284162163734436 l0.6242647767066956,1.0971249639987946 m6.3351476192474365,-1.8759995698928833 l0.5635971575975418,-0.9678105264902115 1.2196431308984756,-1.6846080124378204 l0.47264356166124344,3.4553539752960205 0.11989539489150047,1.1635443568229675 \" fill=\"none\" stroke=\"black\" stroke-width=\"1\"/></svg>"
      ],
      "text/plain": [
       "<IPython.core.display.SVG object>"
      ]
     },
     "metadata": {},
     "output_type": "display_data"
    }
   ],
   "source": [
    "_=decode(encode(test_set[\"cat\"].strokes[2038]))\n",
    "_=decode(encode(test_set[\"cat\"].strokes[1857]))"
   ]
  },
  {
   "cell_type": "code",
   "execution_count": null,
   "metadata": {
    "colab": {
     "base_uri": "https://localhost:8080/",
     "height": 123
    },
    "colab_type": "code",
    "id": "fUOAvRQtFQuw",
    "outputId": "c8e9a1c3-28db-4263-ac67-62ffece1e1e0"
   },
   "outputs": [],
   "source": [
    "# get a sample drawing from the test set, and render it to .svg\n",
    "stroke = test_set[\"bus\"].random_sample()\n",
    "draw_strokes(stroke)"
   ]
  },
  {
   "cell_type": "markdown",
   "metadata": {
    "colab_type": "text",
    "id": "j114Re2JFQuz"
   },
   "source": [
    "Let's try to encode the sample stroke into latent vector $z$"
   ]
  },
  {
   "cell_type": "code",
   "execution_count": null,
   "metadata": {
    "colab": {
     "base_uri": "https://localhost:8080/",
     "height": 123
    },
    "colab_type": "code",
    "id": "DBRjPBo-FQu0",
    "outputId": "e089dc78-88e3-44c6-ed7e-f1844471f47f"
   },
   "outputs": [],
   "source": [
    "z = encode(stroke)"
   ]
  },
  {
   "cell_type": "code",
   "execution_count": null,
   "metadata": {
    "colab": {
     "base_uri": "https://localhost:8080/",
     "height": 124
    },
    "colab_type": "code",
    "id": "-37v6eZLFQu5",
    "outputId": "5ddac2f2-5b3b-4cd7-b81f-7a8fa374aa6b"
   },
   "outputs": [],
   "source": [
    "_ = decode(z, temperature=0.8) # convert z back to drawing at temperature of 0.8"
   ]
  },
  {
   "cell_type": "markdown",
   "metadata": {
    "colab_type": "text",
    "id": "M5ft6IEBFQu9"
   },
   "source": [
    "Create generated grid at various temperatures from 0.1 to 1.0"
   ]
  },
  {
   "cell_type": "code",
   "execution_count": null,
   "metadata": {
    "colab": {
     "base_uri": "https://localhost:8080/",
     "height": 130
    },
    "colab_type": "code",
    "id": "BuhaZI0aFQu9",
    "outputId": "d87d4b00-30c2-4302-bec8-46566ef26922"
   },
   "outputs": [],
   "source": [
    "stroke_list = []\n",
    "for i in range(10):\n",
    "  stroke_list.append([decode(z, draw_mode=False, temperature=0.1*i+0.1), [0, i]])\n",
    "stroke_grid = make_grid_svg(stroke_list)\n",
    "draw_strokes(stroke_grid)"
   ]
  },
  {
   "cell_type": "markdown",
   "metadata": {
    "colab_type": "text",
    "id": "4xiwp3_DFQvB"
   },
   "source": [
    "Latent Space Interpolation Example between $z_0$ and $z_1$"
   ]
  },
  {
   "cell_type": "code",
   "execution_count": null,
   "metadata": {
    "colab": {
     "base_uri": "https://localhost:8080/",
     "height": 123
    },
    "colab_type": "code",
    "id": "WSX0uvZTFQvD",
    "outputId": "cd67af4e-5ae6-4327-876e-e1385dadbafc"
   },
   "outputs": [],
   "source": [
    "# get a sample drawing from the test set, and render it to .svg\n",
    "z0 = z\n",
    "_ = decode(z0)"
   ]
  },
  {
   "cell_type": "code",
   "execution_count": null,
   "metadata": {
    "colab": {
     "base_uri": "https://localhost:8080/",
     "height": 194
    },
    "colab_type": "code",
    "id": "jQf99TxOFQvH",
    "outputId": "4265bd5f-8c66-494e-b26e-d3ac874d69bb"
   },
   "outputs": [],
   "source": [
    "stroke = test_set[\"cat\"].random_sample()\n",
    "z1 = encode(stroke)\n",
    "_ = decode(z1)"
   ]
  },
  {
   "cell_type": "markdown",
   "metadata": {
    "colab_type": "text",
    "id": "tDqJR8_eFQvK"
   },
   "source": [
    "Now we interpolate between sheep $z_0$ and sheep $z_1$"
   ]
  },
  {
   "cell_type": "code",
   "execution_count": null,
   "metadata": {
    "colab": {},
    "colab_type": "code",
    "id": "_YkPNL5SFQvL"
   },
   "outputs": [],
   "source": [
    "z_list = [] # interpolate spherically between z0 and z1\n",
    "N = 10\n",
    "for t in np.linspace(0, 1, N):\n",
    "  z_list.append(slerp(z0, z1, t))"
   ]
  },
  {
   "cell_type": "code",
   "execution_count": null,
   "metadata": {
    "colab": {},
    "colab_type": "code",
    "id": "UoM-W1tQFQvM"
   },
   "outputs": [],
   "source": [
    "# for every latent vector in z_list, sample a vector image\n",
    "reconstructions = []\n",
    "for i in range(N):\n",
    "  reconstructions.append([decode(z_list[i], draw_mode=False), [0, i]])"
   ]
  },
  {
   "cell_type": "code",
   "execution_count": null,
   "metadata": {
    "colab": {
     "base_uri": "https://localhost:8080/",
     "height": 122
    },
    "colab_type": "code",
    "id": "mTqmlL6GFQvQ",
    "outputId": "062e015f-29c6-4e77-c6db-e403d5cabd59"
   },
   "outputs": [],
   "source": [
    "stroke_grid = make_grid_svg(reconstructions)\n",
    "draw_strokes(stroke_grid)"
   ]
  },
  {
   "cell_type": "markdown",
   "metadata": {
    "colab_type": "text",
    "id": "vFwPna6uFQvS"
   },
   "source": [
    "Let's load the Flamingo Model, and try Unconditional (Decoder-Only) Generation"
   ]
  },
  {
   "cell_type": "code",
   "execution_count": null,
   "metadata": {
    "colab": {},
    "colab_type": "code",
    "id": "HH-YclgNFQvT"
   },
   "outputs": [],
   "source": [
    "model_dir = 'models/flamingo/lstm_uncond'"
   ]
  },
  {
   "cell_type": "code",
   "execution_count": null,
   "metadata": {
    "colab": {},
    "colab_type": "code",
    "id": "-Znvy3KxFQvU"
   },
   "outputs": [],
   "source": [
    "[hps_model, eval_hps_model, sample_hps_model] = load_model_compatible(model_dir)"
   ]
  },
  {
   "cell_type": "code",
   "execution_count": null,
   "metadata": {
    "colab": {
     "base_uri": "https://localhost:8080/",
     "height": 221
    },
    "colab_type": "code",
    "id": "cqDNK1cYFQvZ",
    "outputId": "d346d57c-f51a-4286-ba55-705bc27d4d0d"
   },
   "outputs": [],
   "source": [
    "# construct the sketch-rnn model here:\n",
    "reset_graph()\n",
    "model = Model(hps_model)\n",
    "eval_model = Model(eval_hps_model, reuse=True)\n",
    "sample_model = Model(sample_hps_model, reuse=True)"
   ]
  },
  {
   "cell_type": "code",
   "execution_count": null,
   "metadata": {
    "colab": {},
    "colab_type": "code",
    "id": "7wzerSI6FQvd"
   },
   "outputs": [],
   "source": [
    "sess = tf.InteractiveSession()\n",
    "sess.run(tf.global_variables_initializer())"
   ]
  },
  {
   "cell_type": "code",
   "execution_count": null,
   "metadata": {
    "colab": {
     "base_uri": "https://localhost:8080/",
     "height": 51
    },
    "colab_type": "code",
    "id": "6mzk8KjOFQvf",
    "outputId": "c450a6c6-22ee-4a58-8451-443462b42d58"
   },
   "outputs": [],
   "source": [
    "# loads the weights from checkpoint into our model\n",
    "load_checkpoint(sess, model_dir)"
   ]
  },
  {
   "cell_type": "code",
   "execution_count": null,
   "metadata": {
    "colab": {},
    "colab_type": "code",
    "id": "X88CgcyuFQvh"
   },
   "outputs": [],
   "source": [
    "# randomly unconditionally generate 10 examples\n",
    "N = 10\n",
    "reconstructions = []\n",
    "for i in range(N):\n",
    "  reconstructions.append([decode(temperature=0.5, draw_mode=False), [0, i]])"
   ]
  },
  {
   "cell_type": "code",
   "execution_count": null,
   "metadata": {
    "colab": {
     "base_uri": "https://localhost:8080/",
     "height": 149
    },
    "colab_type": "code",
    "id": "k57REtd_FQvj",
    "outputId": "8bd69652-9d1d-475e-fc64-f205cf6b9ed1"
   },
   "outputs": [],
   "source": [
    "stroke_grid = make_grid_svg(reconstructions)\n",
    "draw_strokes(stroke_grid)"
   ]
  },
  {
   "cell_type": "markdown",
   "metadata": {
    "colab_type": "text",
    "id": "L-rJ0iUQFQvl"
   },
   "source": [
    "Let's load the owl model, and generate two sketches using two random IID gaussian latent vectors"
   ]
  },
  {
   "cell_type": "code",
   "execution_count": null,
   "metadata": {
    "colab": {},
    "colab_type": "code",
    "id": "of4SWwGdFQvm"
   },
   "outputs": [],
   "source": [
    "model_dir = 'models/owl/lstm'"
   ]
  },
  {
   "cell_type": "code",
   "execution_count": null,
   "metadata": {
    "colab": {
     "base_uri": "https://localhost:8080/",
     "height": 255
    },
    "colab_type": "code",
    "id": "jJiSZFQeFQvp",
    "outputId": "f84360ca-c2be-482f-db57-41b5ecc05768"
   },
   "outputs": [],
   "source": [
    "[hps_model, eval_hps_model, sample_hps_model] = load_model_compatible(model_dir)\n",
    "# construct the sketch-rnn model here:\n",
    "reset_graph()\n",
    "model = Model(hps_model)\n",
    "eval_model = Model(eval_hps_model, reuse=True)\n",
    "sample_model = Model(sample_hps_model, reuse=True)\n",
    "sess = tf.InteractiveSession()\n",
    "sess.run(tf.global_variables_initializer())\n",
    "# loads the weights from checkpoint into our model\n",
    "load_checkpoint(sess, model_dir)"
   ]
  },
  {
   "cell_type": "code",
   "execution_count": null,
   "metadata": {
    "colab": {
     "base_uri": "https://localhost:8080/",
     "height": 141
    },
    "colab_type": "code",
    "id": "vR4TDoi5FQvr",
    "outputId": "db08cb2c-952c-4949-d2b0-94c11351264b"
   },
   "outputs": [],
   "source": [
    "z_0 = np.random.randn(eval_model.hps.z_size)\n",
    "_ = decode(z_0)"
   ]
  },
  {
   "cell_type": "code",
   "execution_count": null,
   "metadata": {
    "colab": {
     "base_uri": "https://localhost:8080/",
     "height": 124
    },
    "colab_type": "code",
    "id": "ZX23lTnpFQvt",
    "outputId": "247052f2-a0f3-4046-83d6-d08e0429fafb"
   },
   "outputs": [],
   "source": [
    "z_1 = np.random.randn(eval_model.hps.z_size)\n",
    "_ = decode(z_1)"
   ]
  },
  {
   "cell_type": "markdown",
   "metadata": {
    "colab_type": "text",
    "id": "7FjQsF_2FQvv"
   },
   "source": [
    "Let's interpolate between the two owls $z_0$ and $z_1$"
   ]
  },
  {
   "cell_type": "code",
   "execution_count": null,
   "metadata": {
    "colab": {},
    "colab_type": "code",
    "id": "u6G37E8_FQvw"
   },
   "outputs": [],
   "source": [
    "z_list = [] # interpolate spherically between z_0 and z_1\n",
    "N = 10\n",
    "for t in np.linspace(0, 1, N):\n",
    "  z_list.append(slerp(z_0, z_1, t))\n",
    "# for every latent vector in z_list, sample a vector image\n",
    "reconstructions = []\n",
    "for i in range(N):\n",
    "  reconstructions.append([decode(z_list[i], draw_mode=False, temperature=0.1), [0, i]])"
   ]
  },
  {
   "cell_type": "code",
   "execution_count": null,
   "metadata": {
    "colab": {
     "base_uri": "https://localhost:8080/",
     "height": 149
    },
    "colab_type": "code",
    "id": "OULjMktmFQvx",
    "outputId": "94b7b68e-9c57-4a1b-b216-83770fa4be81"
   },
   "outputs": [],
   "source": [
    "stroke_grid = make_grid_svg(reconstructions)\n",
    "draw_strokes(stroke_grid)"
   ]
  },
  {
   "cell_type": "markdown",
   "metadata": {
    "colab_type": "text",
    "id": "OiXNC-YsFQv0"
   },
   "source": [
    "Let's load the model trained on both cats and buses!  catbus!"
   ]
  },
  {
   "cell_type": "code",
   "execution_count": null,
   "metadata": {
    "colab": {},
    "colab_type": "code",
    "id": "SL7WpDDQFQv0"
   },
   "outputs": [],
   "source": [
    "model_dir = 'models/catbus/lstm'"
   ]
  },
  {
   "cell_type": "code",
   "execution_count": null,
   "metadata": {
    "colab": {
     "base_uri": "https://localhost:8080/",
     "height": 255
    },
    "colab_type": "code",
    "id": "Cvk5WOqHFQv2",
    "outputId": "8081d53d-52d6-4d18-f973-a9dd44c897f2"
   },
   "outputs": [],
   "source": [
    "[hps_model, eval_hps_model, sample_hps_model] = load_model_compatible(model_dir)\n",
    "# construct the sketch-rnn model here:\n",
    "reset_graph()\n",
    "model = Model(hps_model)\n",
    "eval_model = Model(eval_hps_model, reuse=True)\n",
    "sample_model = Model(sample_hps_model, reuse=True)\n",
    "sess = tf.InteractiveSession()\n",
    "sess.run(tf.global_variables_initializer())\n",
    "# loads the weights from checkpoint into our model\n",
    "load_checkpoint(sess, model_dir)"
   ]
  },
  {
   "cell_type": "code",
   "execution_count": null,
   "metadata": {
    "colab": {
     "base_uri": "https://localhost:8080/",
     "height": 106
    },
    "colab_type": "code",
    "id": "icvlBPVkFQv5",
    "outputId": "f7b415fe-4d65-4b00-c0eb-fb592597dba2"
   },
   "outputs": [],
   "source": [
    "z_1 = np.random.randn(eval_model.hps.z_size)\n",
    "_ = decode(z_1)"
   ]
  },
  {
   "cell_type": "code",
   "execution_count": null,
   "metadata": {
    "colab": {
     "base_uri": "https://localhost:8080/",
     "height": 88
    },
    "colab_type": "code",
    "id": "uaNxd0LuFQv-",
    "outputId": "4de5ee9a-cf14-49f4-e5f5-399a0d0b8215"
   },
   "outputs": [],
   "source": [
    "z_0 = np.random.randn(eval_model.hps.z_size)\n",
    "_ = decode(z_0)"
   ]
  },
  {
   "cell_type": "markdown",
   "metadata": {
    "colab_type": "text",
    "id": "VtSYkS6mFQwC"
   },
   "source": [
    "Let's interpolate between a cat and a bus!!!"
   ]
  },
  {
   "cell_type": "code",
   "execution_count": null,
   "metadata": {
    "colab": {},
    "colab_type": "code",
    "id": "qIDYUxBEFQwD"
   },
   "outputs": [],
   "source": [
    "z_list = [] # interpolate spherically between z_1 and z_0\n",
    "N = 10\n",
    "for t in np.linspace(0, 1, N):\n",
    "  z_list.append(slerp(z_1, z_0, t))\n",
    "# for every latent vector in z_list, sample a vector image\n",
    "reconstructions = []\n",
    "for i in range(N):\n",
    "  reconstructions.append([decode(z_list[i], draw_mode=False, temperature=0.15), [0, i]])"
   ]
  },
  {
   "cell_type": "code",
   "execution_count": null,
   "metadata": {
    "colab": {
     "base_uri": "https://localhost:8080/",
     "height": 112
    },
    "colab_type": "code",
    "id": "ZHmnSjSaFQwH",
    "outputId": "38fe3c7e-698b-4b19-8851-e7f3ff037744"
   },
   "outputs": [],
   "source": [
    "stroke_grid = make_grid_svg(reconstructions)\n",
    "draw_strokes(stroke_grid)"
   ]
  },
  {
   "cell_type": "markdown",
   "metadata": {
    "colab_type": "text",
    "id": "flZ_OgzCFQwJ"
   },
   "source": [
    "Why stop here? Let's load the model trained on both elephants and pigs!!!"
   ]
  },
  {
   "cell_type": "code",
   "execution_count": null,
   "metadata": {
    "colab": {},
    "colab_type": "code",
    "id": "S8WwK8FPFQwK"
   },
   "outputs": [],
   "source": [
    "model_dir = 'models/elephantpig/lstm'"
   ]
  },
  {
   "cell_type": "code",
   "execution_count": null,
   "metadata": {
    "colab": {
     "base_uri": "https://localhost:8080/",
     "height": 255
    },
    "colab_type": "code",
    "id": "meOH4AFXFQwM",
    "outputId": "764938a7-bbdc-4732-e688-a8a278ab3089"
   },
   "outputs": [],
   "source": [
    "[hps_model, eval_hps_model, sample_hps_model] = load_model_compatible(model_dir)\n",
    "# construct the sketch-rnn model here:\n",
    "reset_graph()\n",
    "model = Model(hps_model)\n",
    "eval_model = Model(eval_hps_model, reuse=True)\n",
    "sample_model = Model(sample_hps_model, reuse=True)\n",
    "sess = tf.InteractiveSession()\n",
    "sess.run(tf.global_variables_initializer())\n",
    "# loads the weights from checkpoint into our model\n",
    "load_checkpoint(sess, model_dir)"
   ]
  },
  {
   "cell_type": "code",
   "execution_count": null,
   "metadata": {
    "colab": {
     "base_uri": "https://localhost:8080/",
     "height": 121
    },
    "colab_type": "code",
    "id": "foZiiYPdFQwO",
    "outputId": "a09fc4fb-110f-4280-8515-c9b673cb6b90"
   },
   "outputs": [],
   "source": [
    "z_0 = np.random.randn(eval_model.hps.z_size)\n",
    "_ = decode(z_0)"
   ]
  },
  {
   "cell_type": "code",
   "execution_count": null,
   "metadata": {
    "colab": {
     "base_uri": "https://localhost:8080/",
     "height": 163
    },
    "colab_type": "code",
    "id": "6Gaz3QG1FQwS",
    "outputId": "0cfc279c-1c59-419f-86d4-ed74d5e38a26"
   },
   "outputs": [],
   "source": [
    "z_1 = np.random.randn(eval_model.hps.z_size)\n",
    "_ = decode(z_1)"
   ]
  },
  {
   "cell_type": "markdown",
   "metadata": {
    "colab_type": "text",
    "id": "oVtr7NnGFQwU"
   },
   "source": [
    "Tribute to an episode of [South Park](https://en.wikipedia.org/wiki/An_Elephant_Makes_Love_to_a_Pig): The interpolation between an Elephant and a Pig"
   ]
  },
  {
   "cell_type": "code",
   "execution_count": null,
   "metadata": {
    "colab": {},
    "colab_type": "code",
    "id": "lJs9JbROFQwU"
   },
   "outputs": [],
   "source": [
    "z_list = [] # interpolate spherically between z_1 and z_0\n",
    "N = 10\n",
    "for t in np.linspace(0, 1, N):\n",
    "  z_list.append(slerp(z_0, z_1, t))\n",
    "# for every latent vector in z_list, sample a vector image\n",
    "reconstructions = []\n",
    "for i in range(N):\n",
    "  reconstructions.append([decode(z_list[i], draw_mode=False, temperature=0.15), [0, i]])"
   ]
  },
  {
   "cell_type": "code",
   "execution_count": null,
   "metadata": {
    "colab": {},
    "colab_type": "code",
    "id": "0FOuNfJMFQwW"
   },
   "outputs": [],
   "source": [
    "stroke_grid = make_grid_svg(reconstructions, grid_space_x=25.0)"
   ]
  },
  {
   "cell_type": "code",
   "execution_count": null,
   "metadata": {
    "colab": {
     "base_uri": "https://localhost:8080/",
     "height": 130
    },
    "colab_type": "code",
    "id": "bZ6zpdiMFQwX",
    "outputId": "70679bd1-4dba-4c08-b39f-bbde81d22019"
   },
   "outputs": [],
   "source": [
    "draw_strokes(stroke_grid, factor=0.3)"
   ]
  },
  {
   "cell_type": "code",
   "execution_count": null,
   "metadata": {
    "colab": {},
    "colab_type": "code",
    "id": "KUgVRGnSFQwa"
   },
   "outputs": [],
   "source": []
  }
 ],
 "metadata": {
  "colab": {
   "name": "Sketch_RNN.ipynb",
   "provenance": [],
   "version": "0.3.2"
  },
  "kernelspec": {
   "display_name": "Python 2",
   "language": "python",
   "name": "python2"
  },
  "language_info": {
   "codemirror_mode": {
    "name": "ipython",
    "version": 3
   },
   "file_extension": ".py",
   "mimetype": "text/x-python",
   "name": "python",
   "nbconvert_exporter": "python",
   "pygments_lexer": "ipython3",
   "version": "3.7.2"
  }
 },
 "nbformat": 4,
 "nbformat_minor": 1
}
