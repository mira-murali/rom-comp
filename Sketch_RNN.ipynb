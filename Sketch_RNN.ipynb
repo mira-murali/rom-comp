{
 "cells": [
  {
   "cell_type": "markdown",
   "metadata": {
    "colab_type": "text",
    "id": "tDybPQiEFQuJ"
   },
   "source": [
    "In this notebook, we will show how to load pre-trained models and draw things with sketch-rnn"
   ]
  },
  {
   "cell_type": "code",
   "execution_count": 1,
   "metadata": {
    "colab": {},
    "colab_type": "code",
    "id": "k0GqvYgB9JLC"
   },
   "outputs": [],
   "source": [
    "# import the required libraries\n",
    "import numpy as np\n",
    "import time\n",
    "import random\n",
    "import _pickle as cPickle\n",
    "import codecs\n",
    "import collections\n",
    "import os\n",
    "import math\n",
    "import json\n",
    "import tensorflow as tf\n",
    "from six.moves import xrange"
   ]
  },
  {
   "cell_type": "code",
   "execution_count": 2,
   "metadata": {
    "colab": {},
    "colab_type": "code",
    "id": "UI4ZC__4FQuL"
   },
   "outputs": [],
   "source": [
    "# libraries required for visualisation:\n",
    "from IPython.display import SVG, display\n",
    "import PIL\n",
    "from PIL import Image\n",
    "import matplotlib.pyplot as plt\n",
    "\n",
    "# set numpy output to something sensible\n",
    "np.set_printoptions(precision=8, edgeitems=6, linewidth=200, suppress=True)"
   ]
  },
  {
   "cell_type": "code",
   "execution_count": 3,
   "metadata": {
    "colab": {},
    "colab_type": "code",
    "id": "D7ObpAUh9jrk"
   },
   "outputs": [],
   "source": [
    "!pip install -qU svgwrite"
   ]
  },
  {
   "cell_type": "code",
   "execution_count": 4,
   "metadata": {
    "colab": {},
    "colab_type": "code",
    "id": "4xYY-TUd9aiD"
   },
   "outputs": [],
   "source": [
    "import svgwrite # conda install -c omnia svgwrite=1.1.6"
   ]
  },
  {
   "cell_type": "code",
   "execution_count": 5,
   "metadata": {
    "colab": {
     "base_uri": "https://localhost:8080/",
     "height": 34
    },
    "colab_type": "code",
    "id": "NzPSD-XRFQuP",
    "outputId": "daa0dd33-6d59-4d15-f437-d8ec787c8884"
   },
   "outputs": [
    {
     "name": "stdout",
     "output_type": "stream",
     "text": [
      "INFO:tensorflow:TensorFlow Version: 1.13.1\n"
     ]
    }
   ],
   "source": [
    "tf.logging.info(\"TensorFlow Version: %s\", tf.__version__)\n"
   ]
  },
  {
   "cell_type": "code",
   "execution_count": 6,
   "metadata": {
    "colab": {},
    "colab_type": "code",
    "id": "LebxcF4p90OR"
   },
   "outputs": [],
   "source": [
    "!pip install -q magenta"
   ]
  },
  {
   "cell_type": "code",
   "execution_count": 7,
   "metadata": {
    "colab": {},
    "colab_type": "code",
    "id": "NkFS0E1zFQuU"
   },
   "outputs": [
    {
     "name": "stdout",
     "output_type": "stream",
     "text": [
      "\n",
      "WARNING: The TensorFlow contrib module will not be included in TensorFlow 2.0.\n",
      "For more information, please see:\n",
      "  * https://github.com/tensorflow/community/blob/master/rfcs/20180907-contrib-sunset.md\n",
      "  * https://github.com/tensorflow/addons\n",
      "If you depend on functionality not listed there, please file an issue.\n",
      "\n"
     ]
    }
   ],
   "source": [
    "# import our command line tools\n",
    "from magenta.models.sketch_rnn.sketch_rnn_train import *\n",
    "from magenta.models.sketch_rnn.model import *\n",
    "from magenta.models.sketch_rnn.utils import *\n",
    "from magenta.models.sketch_rnn.rnn import *"
   ]
  },
  {
   "cell_type": "code",
   "execution_count": 8,
   "metadata": {
    "colab": {},
    "colab_type": "code",
    "id": "GBde4xkEFQuX"
   },
   "outputs": [],
   "source": [
    "# little function that displays vector images and saves them to .svg\n",
    "def draw_strokes(data, factor=0.2, svg_filename = '/tmp/sketch_rnn/svg/sample.svg'):\n",
    "  tf.gfile.MakeDirs(os.path.dirname(svg_filename))\n",
    "  min_x, max_x, min_y, max_y = get_bounds(data, factor)\n",
    "  dims = (50 + max_x - min_x, 50 + max_y - min_y)\n",
    "  dwg = svgwrite.Drawing(svg_filename, size=dims)\n",
    "  dwg.add(dwg.rect(insert=(0, 0), size=dims,fill='white'))\n",
    "  lift_pen = 1\n",
    "  abs_x = 25 - min_x \n",
    "  abs_y = 25 - min_y\n",
    "  p = \"M%s,%s \" % (abs_x, abs_y)\n",
    "  command = \"m\"\n",
    "  for i in xrange(len(data)):\n",
    "    if (lift_pen == 1):\n",
    "      command = \"m\"\n",
    "    elif (command != \"l\"):\n",
    "      command = \"l\"\n",
    "    else:\n",
    "      command = \"\"\n",
    "    x = float(data[i,0])/factor\n",
    "    y = float(data[i,1])/factor\n",
    "    lift_pen = data[i, 2]\n",
    "    p += command+str(x)+\",\"+str(y)+\" \"\n",
    "  the_color = \"black\"\n",
    "  stroke_width = 1\n",
    "  dwg.add(dwg.path(p).stroke(the_color,stroke_width).fill(\"none\"))\n",
    "  dwg.save()\n",
    "  display(SVG(dwg.tostring()))\n",
    "\n",
    "# generate a 2D grid of many vector drawings\n",
    "def make_grid_svg(s_list, grid_space=10.0, grid_space_x=16.0):\n",
    "  def get_start_and_end(x):\n",
    "    x = np.array(x)\n",
    "    x = x[:, 0:2]\n",
    "    x_start = x[0]\n",
    "    x_end = x.sum(axis=0)\n",
    "    x = x.cumsum(axis=0)\n",
    "    x_max = x.max(axis=0)\n",
    "    x_min = x.min(axis=0)\n",
    "    center_loc = (x_max+x_min)*0.5\n",
    "    return x_start-center_loc, x_end\n",
    "  x_pos = 0.0\n",
    "  y_pos = 0.0\n",
    "  result = [[x_pos, y_pos, 1]]\n",
    "  for sample in s_list:\n",
    "    s = sample[0]\n",
    "    grid_loc = sample[1]\n",
    "    grid_y = grid_loc[0]*grid_space+grid_space*0.5\n",
    "    grid_x = grid_loc[1]*grid_space_x+grid_space_x*0.5\n",
    "    start_loc, delta_pos = get_start_and_end(s)\n",
    "\n",
    "    loc_x = start_loc[0]\n",
    "    loc_y = start_loc[1]\n",
    "    new_x_pos = grid_x+loc_x\n",
    "    new_y_pos = grid_y+loc_y\n",
    "    result.append([new_x_pos-x_pos, new_y_pos-y_pos, 0])\n",
    "\n",
    "    result += s.tolist()\n",
    "    result[-1][2] = 1\n",
    "    x_pos = new_x_pos+delta_pos[0]\n",
    "    y_pos = new_y_pos+delta_pos[1]\n",
    "  return np.array(result)"
   ]
  },
  {
   "cell_type": "markdown",
   "metadata": {
    "colab_type": "text",
    "id": "if7-UyxzFQuY"
   },
   "source": [
    "define the path of the model you want to load, and also the path of the dataset"
   ]
  },
  {
   "cell_type": "code",
   "execution_count": 15,
   "metadata": {
    "colab": {},
    "colab_type": "code",
    "id": "Dipv1EbsFQuZ"
   },
   "outputs": [],
   "source": [
    "data_dir = 'datasets/aaron_sheep'\n",
    "models_root_dir = 'models/'\n",
    "model_dir = 'models/aaron_sheep/lstm/'"
   ]
  },
  {
   "cell_type": "code",
   "execution_count": 10,
   "metadata": {
    "colab": {
     "base_uri": "https://localhost:8080/",
     "height": 68
    },
    "colab_type": "code",
    "id": "eaSqI0fIFQub",
    "outputId": "06df45a6-cc86-4f50-802e-25ae185037f7"
   },
   "outputs": [
    {
     "name": "stdout",
     "output_type": "stream",
     "text": [
      "INFO:tensorflow:Downloading pretrained models from http://download.magenta.tensorflow.org/models/sketch_rnn.zip...\n",
      "INFO:tensorflow:Download complete.\n",
      "INFO:tensorflow:Unzipping models/sketch_rnn.zip...\n",
      "INFO:tensorflow:Unzipping complete.\n"
     ]
    }
   ],
   "source": [
    "download_pretrained_models(models_root_dir=models_root_dir)"
   ]
  },
  {
   "cell_type": "code",
   "execution_count": 11,
   "metadata": {
    "colab": {},
    "colab_type": "code",
    "id": "G4sRuxyn_1aO"
   },
   "outputs": [],
   "source": [
    "def load_env_compatible(data_dir, model_dir):\n",
    "  \"\"\"Loads environment for inference mode, used in jupyter notebook.\"\"\"\n",
    "  # modified https://github.com/tensorflow/magenta/blob/master/magenta/models/sketch_rnn/sketch_rnn_train.py\n",
    "  # to work with depreciated tf.HParams functionality\n",
    "  model_params = sketch_rnn_model.get_default_hparams()\n",
    "  with tf.gfile.Open(os.path.join(model_dir, 'model_config.json'), 'r') as f:\n",
    "    data = json.load(f)\n",
    "  fix_list = ['conditional', 'is_training', 'use_input_dropout', 'use_output_dropout', 'use_recurrent_dropout']\n",
    "  for fix in fix_list:\n",
    "    data[fix] = (data[fix] == 1)\n",
    "  model_params.parse_json(json.dumps(data))\n",
    "  return load_dataset(data_dir, model_params, inference_mode=True)\n",
    "\n",
    "def load_model_compatible(model_dir):\n",
    "  \"\"\"Loads model for inference mode, used in jupyter notebook.\"\"\"\n",
    "  # modified https://github.com/tensorflow/magenta/blob/master/magenta/models/sketch_rnn/sketch_rnn_train.py\n",
    "  # to work with depreciated tf.HParams functionality\n",
    "  model_params = sketch_rnn_model.get_default_hparams()\n",
    "  with tf.gfile.Open(os.path.join(model_dir, 'model_config.json'), 'r') as f:\n",
    "    data = json.load(f)\n",
    "  fix_list = ['conditional', 'is_training', 'use_input_dropout', 'use_output_dropout', 'use_recurrent_dropout']\n",
    "  for fix in fix_list:\n",
    "    data[fix] = (data[fix] == 1)\n",
    "  model_params.parse_json(json.dumps(data))\n",
    "\n",
    "  model_params.batch_size = 1  # only sample one at a time\n",
    "  eval_model_params = sketch_rnn_model.copy_hparams(model_params)\n",
    "  eval_model_params.use_input_dropout = 0\n",
    "  eval_model_params.use_recurrent_dropout = 0\n",
    "  eval_model_params.use_output_dropout = 0\n",
    "  eval_model_params.is_training = 0\n",
    "  sample_model_params = sketch_rnn_model.copy_hparams(eval_model_params)\n",
    "  sample_model_params.max_seq_len = 1  # sample one point at a time\n",
    "  return [model_params, eval_model_params, sample_model_params]"
   ]
  },
  {
   "cell_type": "code",
   "execution_count": 16,
   "metadata": {
    "colab": {
     "base_uri": "https://localhost:8080/",
     "height": 153
    },
    "colab_type": "code",
    "id": "9m-jSAb3FQuf",
    "outputId": "debc045d-d15a-4b30-f747-fa4bcbd069fd"
   },
   "outputs": [
    {
     "name": "stdout",
     "output_type": "stream",
     "text": [
      "INFO:tensorflow:Loaded 7400/300/300 from aaron_sheep.npz\n",
      "INFO:tensorflow:Dataset combined: 8000 (7400/300/300), avg len 125\n",
      "INFO:tensorflow:model_params.max_seq_len 250.\n",
      "total images <= max_seq_len is 7400\n",
      "total images <= max_seq_len is 300\n",
      "total images <= max_seq_len is 300\n",
      "INFO:tensorflow:normalizing_scale_factor 18.5198.\n"
     ]
    }
   ],
   "source": [
    "[train_set, valid_set, test_set, hps_model, eval_hps_model, sample_hps_model] = load_env_compatible(data_dir, model_dir)"
   ]
  },
  {
   "cell_type": "code",
   "execution_count": 17,
   "metadata": {
    "colab": {
     "base_uri": "https://localhost:8080/",
     "height": 479
    },
    "colab_type": "code",
    "id": "1pHS8TSgFQui",
    "outputId": "50b0e14d-ff0f-43bf-d996-90e9e6a1491e"
   },
   "outputs": [
    {
     "name": "stdout",
     "output_type": "stream",
     "text": [
      "INFO:tensorflow:Model using gpu.\n",
      "WARNING:tensorflow:From /home/loki/anaconda3/envs/dl/lib/python3.7/site-packages/tensorflow/python/framework/op_def_library.py:263: colocate_with (from tensorflow.python.framework.ops) is deprecated and will be removed in a future version.\n",
      "Instructions for updating:\n",
      "Colocations handled automatically by placer.\n",
      "INFO:tensorflow:Input dropout mode = False.\n",
      "INFO:tensorflow:Output dropout mode = False.\n",
      "INFO:tensorflow:Recurrent dropout mode = True.\n",
      "WARNING:tensorflow:From /home/loki/anaconda3/envs/dl/lib/python3.7/site-packages/magenta/models/sketch_rnn/model.py:100: bidirectional_dynamic_rnn (from tensorflow.python.ops.rnn) is deprecated and will be removed in a future version.\n",
      "Instructions for updating:\n",
      "Please use `keras.layers.Bidirectional(keras.layers.RNN(cell))`, which is equivalent to this API\n",
      "WARNING:tensorflow:From /home/loki/anaconda3/envs/dl/lib/python3.7/site-packages/tensorflow/python/ops/rnn.py:443: dynamic_rnn (from tensorflow.python.ops.rnn) is deprecated and will be removed in a future version.\n",
      "Instructions for updating:\n",
      "Please use `keras.layers.RNN(cell)`, which is equivalent to this API\n",
      "WARNING:tensorflow:From /home/loki/anaconda3/envs/dl/lib/python3.7/site-packages/tensorflow/python/ops/rnn.py:626: to_int32 (from tensorflow.python.ops.math_ops) is deprecated and will be removed in a future version.\n",
      "Instructions for updating:\n",
      "Use tf.cast instead.\n",
      "WARNING:tensorflow:From /home/loki/anaconda3/envs/dl/lib/python3.7/site-packages/magenta/models/sketch_rnn/rnn.py:114: calling dropout (from tensorflow.python.ops.nn_ops) with keep_prob is deprecated and will be removed in a future version.\n",
      "Instructions for updating:\n",
      "Please use `rate` instead of `keep_prob`. Rate should be set to `rate = 1 - keep_prob`.\n",
      "WARNING:tensorflow:From /home/loki/anaconda3/envs/dl/lib/python3.7/site-packages/magenta/models/sketch_rnn/model.py:266: div (from tensorflow.python.ops.math_ops) is deprecated and will be removed in a future version.\n",
      "Instructions for updating:\n",
      "Deprecated in favor of operator or tf.math.divide.\n",
      "WARNING:tensorflow:From /home/loki/anaconda3/envs/dl/lib/python3.7/site-packages/magenta/models/sketch_rnn/model.py:285: calling reduce_sum_v1 (from tensorflow.python.ops.math_ops) with keep_dims is deprecated and will be removed in a future version.\n",
      "Instructions for updating:\n",
      "keep_dims is deprecated, use keepdims instead\n",
      "WARNING:tensorflow:From /home/loki/anaconda3/envs/dl/lib/python3.7/site-packages/magenta/models/sketch_rnn/model.py:295: softmax_cross_entropy_with_logits (from tensorflow.python.ops.nn_ops) is deprecated and will be removed in a future version.\n",
      "Instructions for updating:\n",
      "\n",
      "Future major versions of TensorFlow will allow gradients to flow\n",
      "into the labels input on backprop by default.\n",
      "\n",
      "See `tf.nn.softmax_cross_entropy_with_logits_v2`.\n",
      "\n",
      "INFO:tensorflow:Model using gpu.\n",
      "INFO:tensorflow:Input dropout mode = 0.\n",
      "INFO:tensorflow:Output dropout mode = 0.\n",
      "INFO:tensorflow:Recurrent dropout mode = 0.\n",
      "INFO:tensorflow:Model using gpu.\n",
      "INFO:tensorflow:Input dropout mode = 0.\n",
      "INFO:tensorflow:Output dropout mode = 0.\n",
      "INFO:tensorflow:Recurrent dropout mode = 0.\n"
     ]
    }
   ],
   "source": [
    "# construct the sketch-rnn model here:\n",
    "reset_graph()\n",
    "model = Model(hps_model)\n",
    "eval_model = Model(eval_hps_model, reuse=True)\n",
    "sample_model = Model(sample_hps_model, reuse=True)"
   ]
  },
  {
   "cell_type": "code",
   "execution_count": 18,
   "metadata": {
    "colab": {},
    "colab_type": "code",
    "id": "1gxYLPTQFQuk"
   },
   "outputs": [],
   "source": [
    "sess = tf.InteractiveSession()\n",
    "sess.run(tf.global_variables_initializer())"
   ]
  },
  {
   "cell_type": "code",
   "execution_count": 19,
   "metadata": {
    "colab": {
     "base_uri": "https://localhost:8080/",
     "height": 51
    },
    "colab_type": "code",
    "id": "bVlDyfN_FQum",
    "outputId": "fb41ce20-4c7f-4991-e9f6-559ea9b34a31"
   },
   "outputs": [
    {
     "name": "stdout",
     "output_type": "stream",
     "text": [
      "INFO:tensorflow:Loading model models/aaron_sheep/lstm/vector.\n",
      "WARNING:tensorflow:From /home/loki/anaconda3/envs/dl/lib/python3.7/site-packages/tensorflow/python/training/saver.py:1266: checkpoint_exists (from tensorflow.python.training.checkpoint_management) is deprecated and will be removed in a future version.\n",
      "Instructions for updating:\n",
      "Use standard file APIs to check for files with this prefix.\n",
      "INFO:tensorflow:Restoring parameters from models/aaron_sheep/lstm/vector\n"
     ]
    }
   ],
   "source": [
    "# loads the weights from checkpoint into our model\n",
    "load_checkpoint(sess, model_dir)"
   ]
  },
  {
   "cell_type": "markdown",
   "metadata": {
    "colab_type": "text",
    "id": "EOblwpFeFQuq"
   },
   "source": [
    "We define two convenience functions to encode a stroke into a latent vector, and decode from latent vector to stroke."
   ]
  },
  {
   "cell_type": "code",
   "execution_count": 20,
   "metadata": {
    "colab": {},
    "colab_type": "code",
    "id": "tMFlV487FQur"
   },
   "outputs": [],
   "source": [
    "def encode(input_strokes):\n",
    "  strokes = to_big_strokes(input_strokes).tolist()\n",
    "  strokes.insert(0, [0, 0, 1, 0, 0])\n",
    "  seq_len = [len(input_strokes)]\n",
    "  draw_strokes(to_normal_strokes(np.array(strokes)))\n",
    "  return sess.run(eval_model.batch_z, feed_dict={eval_model.input_data: [strokes], eval_model.sequence_lengths: seq_len})[0]"
   ]
  },
  {
   "cell_type": "code",
   "execution_count": 21,
   "metadata": {
    "colab": {},
    "colab_type": "code",
    "id": "1D5CV7ZlFQut"
   },
   "outputs": [],
   "source": [
    "def decode(z_input=None, draw_mode=True, temperature=0.1, factor=0.2):\n",
    "  z = None\n",
    "  if z_input is not None:\n",
    "    z = [z_input]\n",
    "  sample_strokes, m = sample(sess, sample_model, seq_len=eval_model.hps.max_seq_len, temperature=temperature, z=z)\n",
    "  strokes = to_normal_strokes(sample_strokes)\n",
    "  if draw_mode:\n",
    "    draw_strokes(strokes, factor)\n",
    "  return strokes"
   ]
  },
  {
   "cell_type": "code",
   "execution_count": 23,
   "metadata": {
    "colab": {
     "base_uri": "https://localhost:8080/",
     "height": 123
    },
    "colab_type": "code",
    "id": "fUOAvRQtFQuw",
    "outputId": "c8e9a1c3-28db-4263-ac67-62ffece1e1e0"
   },
   "outputs": [
    {
     "data": {
      "image/svg+xml": [
       "<svg baseProfile=\"full\" height=\"89.14724163711071\" version=\"1.1\" width=\"108.04591078311205\" xmlns=\"http://www.w3.org/2000/svg\" xmlns:ev=\"http://www.w3.org/2001/xml-events\" xmlns:xlink=\"http://www.w3.org/1999/xlink\"><defs/><rect fill=\"white\" height=\"89.14724163711071\" width=\"108.04591078311205\" x=\"0\" y=\"0\"/><path d=\"M33.09942960739136,55.237869545817375 m0.0,8.909372091293335 l3.2397717237472534,0.0 0.0,-8.909372091293335 l-3.5097527503967285,0.2699809893965721 -3.7797337770462036,-4.85965758562088 l0.0,-1.0799239575862885 1.0799239575862885,-1.0799239575862885 l0.0,-0.5399619787931442 -4.049714803695679,-3.2397717237472534 l-1.0799239575862885,-1.6198858618736267 0.5399619787931442,-2.42982879281044 l4.85965758562088,-2.6998096704483032 -1.0799239575862885,-1.0799239575862885 l0.2699809893965721,-1.0799239575862885 8.639391660690308,-4.049714803695679 l3.2397717237472534,-1.0799239575862885 -0.2699809893965721,-0.2699809893965721 l2.6998096704483032,-2.6998096704483032 7.289486527442932,-2.6998096704483032 l0.5399619787931442,0.0 0.0,0.8099429309368134 l-1.6198858618736267,2.9697906970977783 7.559467554092407,-2.42982879281044 l1.0799239575862885,1.3499048352241516 0.2699809893965721,2.6998096704483032 l-0.5399619787931442,1.8898668885231018 1.3499048352241516,-0.8099429309368134 l2.159847915172577,-0.5399619787931442 4.589676558971405,-0.5399619787931442 l-1.6198858618736267,1.8898668885231018 1.3499048352241516,-0.5399619787931442 l1.3499048352241516,0.2699809893965721 0.8099429309368134,2.42982879281044 l-1.0799239575862885,0.2699809893965721 0.5399619787931442,-1.0799239575862885 l4.049714803695679,-2.159847915172577 -0.5399619787931442,-2.159847915172577 l0.0,-1.6198858618736267 0.5399619787931442,-1.0799239575862885 l1.6198858618736267,-0.5399619787931442 1.3499048352241516,0.2699809893965721 l0.5399619787931442,0.5399619787931442 0.2699809893965721,2.42982879281044 l0.2699809893965721,-0.5399619787931442 3.2397717237472534,-1.0799239575862885 l1.8898668885231018,0.0 1.3499048352241516,1.8898668885231018 l0.5399619787931442,2.159847915172577 -0.8099429309368134,2.42982879281044 l-2.42982879281044,1.3499048352241516 0.8099429309368134,1.6198858618736267 l-0.5399619787931442,1.8898668885231018 -1.6198858618736267,1.3499048352241516 l0.5399619787931442,0.8099429309368134 0.0,1.3499048352241516 l-0.5399619787931442,0.8099429309368134 -1.8898668885231018,1.3499048352241516 l-1.6198858618736267,0.0 -0.5399619787931442,-0.5399619787931442 l-0.8099429309368134,0.0 -0.2699809893965721,0.5399619787931442 l-0.2699809893965721,2.42982879281044 0.5399619787931442,1.3499048352241516 l-1.8898668885231018,1.8898668885231018 0.0,0.5399619787931442 l-0.5399619787931442,0.0 0.5399619787931442,5.3996193408966064 l-1.0799239575862885,-0.5399619787931442 -2.9697906970977783,0.5399619787931442 l-3.5097527503967285,0.0 0.8099429309368134,1.3499048352241516 l0.2699809893965721,2.159847915172577 -0.2699809893965721,4.319695830345154 l-3.5097527503967285,0.0 0.0,-3.5097527503967285 l0.5399619787931442,-1.0799239575862885 -0.2699809893965721,-3.5097527503967285 l2.6998096704483032,-0.5399619787931442 -2.159847915172577,0.5399619787931442 l-4.85965758562088,0.2699809893965721 -0.2699809893965721,-1.0799239575862885 l-1.6198858618736267,-1.3499048352241516 -1.6198858618736267,0.0 l-3.5097527503967285,2.159847915172577 -0.5399619787931442,0.0 l-2.6998096704483032,-1.8898668885231018 -4.589676558971405,0.0 l-3.5097527503967285,0.8099429309368134 -2.42982879281044,0.0 m33.20765972137451,-21.05851650238037 l0.5399619787931442,1.6198858618736267 2.9697906970977783,3.7797337770462036 l4.049714803695679,3.2397717237472534 m1.8898668885231018,-12.689106464385986 l-0.2699809893965721,1.6198858618736267 0.0,-1.6198858618736267 \" fill=\"none\" stroke=\"black\" stroke-width=\"1\"/></svg>"
      ],
      "text/plain": [
       "<IPython.core.display.SVG object>"
      ]
     },
     "metadata": {},
     "output_type": "display_data"
    }
   ],
   "source": [
    "# get a sample drawing from the test set, and render it to .svg\n",
    "stroke = test_set.random_sample()\n",
    "draw_strokes(stroke)"
   ]
  },
  {
   "cell_type": "markdown",
   "metadata": {
    "colab_type": "text",
    "id": "j114Re2JFQuz"
   },
   "source": [
    "Let's try to encode the sample stroke into latent vector $z$"
   ]
  },
  {
   "cell_type": "code",
   "execution_count": 24,
   "metadata": {
    "colab": {
     "base_uri": "https://localhost:8080/",
     "height": 123
    },
    "colab_type": "code",
    "id": "DBRjPBo-FQu0",
    "outputId": "e089dc78-88e3-44c6-ed7e-f1844471f47f"
   },
   "outputs": [
    {
     "data": {
      "image/svg+xml": [
       "<svg baseProfile=\"full\" height=\"89.14724163711071\" version=\"1.1\" width=\"108.04591078311205\" xmlns=\"http://www.w3.org/2000/svg\" xmlns:ev=\"http://www.w3.org/2001/xml-events\" xmlns:xlink=\"http://www.w3.org/1999/xlink\"><defs/><rect fill=\"white\" height=\"89.14724163711071\" width=\"108.04591078311205\" x=\"0\" y=\"0\"/><path d=\"M33.09942960739136,55.237869545817375 m0.0,0.0 l0.0,8.909372091293335 3.2397717237472534,0.0 l0.0,-8.909372091293335 -3.5097527503967285,0.2699809893965721 l-3.7797337770462036,-4.85965758562088 0.0,-1.0799239575862885 l1.0799239575862885,-1.0799239575862885 0.0,-0.5399619787931442 l-4.049714803695679,-3.2397717237472534 -1.0799239575862885,-1.6198858618736267 l0.5399619787931442,-2.42982879281044 4.85965758562088,-2.6998096704483032 l-1.0799239575862885,-1.0799239575862885 0.2699809893965721,-1.0799239575862885 l8.639391660690308,-4.049714803695679 3.2397717237472534,-1.0799239575862885 l-0.2699809893965721,-0.2699809893965721 2.6998096704483032,-2.6998096704483032 l7.289486527442932,-2.6998096704483032 0.5399619787931442,0.0 l0.0,0.8099429309368134 -1.6198858618736267,2.9697906970977783 l7.559467554092407,-2.42982879281044 1.0799239575862885,1.3499048352241516 l0.2699809893965721,2.6998096704483032 -0.5399619787931442,1.8898668885231018 l1.3499048352241516,-0.8099429309368134 2.159847915172577,-0.5399619787931442 l4.589676558971405,-0.5399619787931442 -1.6198858618736267,1.8898668885231018 l1.3499048352241516,-0.5399619787931442 1.3499048352241516,0.2699809893965721 l0.8099429309368134,2.42982879281044 -1.0799239575862885,0.2699809893965721 l0.5399619787931442,-1.0799239575862885 4.049714803695679,-2.159847915172577 l-0.5399619787931442,-2.159847915172577 0.0,-1.6198858618736267 l0.5399619787931442,-1.0799239575862885 1.6198858618736267,-0.5399619787931442 l1.3499048352241516,0.2699809893965721 0.5399619787931442,0.5399619787931442 l0.2699809893965721,2.42982879281044 0.2699809893965721,-0.5399619787931442 l3.2397717237472534,-1.0799239575862885 1.8898668885231018,0.0 l1.3499048352241516,1.8898668885231018 0.5399619787931442,2.159847915172577 l-0.8099429309368134,2.42982879281044 -2.42982879281044,1.3499048352241516 l0.8099429309368134,1.6198858618736267 -0.5399619787931442,1.8898668885231018 l-1.6198858618736267,1.3499048352241516 0.5399619787931442,0.8099429309368134 l0.0,1.3499048352241516 -0.5399619787931442,0.8099429309368134 l-1.8898668885231018,1.3499048352241516 -1.6198858618736267,0.0 l-0.5399619787931442,-0.5399619787931442 -0.8099429309368134,0.0 l-0.2699809893965721,0.5399619787931442 -0.2699809893965721,2.42982879281044 l0.5399619787931442,1.3499048352241516 -1.8898668885231018,1.8898668885231018 l0.0,0.5399619787931442 -0.5399619787931442,0.0 l0.5399619787931442,5.3996193408966064 -1.0799239575862885,-0.5399619787931442 l-2.9697906970977783,0.5399619787931442 -3.5097527503967285,0.0 l0.8099429309368134,1.3499048352241516 0.2699809893965721,2.159847915172577 l-0.2699809893965721,4.319695830345154 -3.5097527503967285,0.0 l0.0,-3.5097527503967285 0.5399619787931442,-1.0799239575862885 l-0.2699809893965721,-3.5097527503967285 2.6998096704483032,-0.5399619787931442 l-2.159847915172577,0.5399619787931442 -4.85965758562088,0.2699809893965721 l-0.2699809893965721,-1.0799239575862885 -1.6198858618736267,-1.3499048352241516 l-1.6198858618736267,0.0 -3.5097527503967285,2.159847915172577 l-0.5399619787931442,0.0 -2.6998096704483032,-1.8898668885231018 l-4.589676558971405,0.0 -3.5097527503967285,0.8099429309368134 l-2.42982879281044,0.0 m33.20765972137451,-21.05851650238037 l0.5399619787931442,1.6198858618736267 2.9697906970977783,3.7797337770462036 l4.049714803695679,3.2397717237472534 m1.8898668885231018,-12.689106464385986 l-0.2699809893965721,1.6198858618736267 0.0,-1.6198858618736267 \" fill=\"none\" stroke=\"black\" stroke-width=\"1\"/></svg>"
      ],
      "text/plain": [
       "<IPython.core.display.SVG object>"
      ]
     },
     "metadata": {},
     "output_type": "display_data"
    }
   ],
   "source": [
    "z = encode(stroke)"
   ]
  },
  {
   "cell_type": "code",
   "execution_count": 25,
   "metadata": {
    "colab": {
     "base_uri": "https://localhost:8080/",
     "height": 124
    },
    "colab_type": "code",
    "id": "-37v6eZLFQu5",
    "outputId": "5ddac2f2-5b3b-4cd7-b81f-7a8fa374aa6b"
   },
   "outputs": [
    {
     "data": {
      "image/svg+xml": [
       "<svg baseProfile=\"full\" height=\"94.01566777474727\" version=\"1.1\" width=\"106.6891944539475\" xmlns=\"http://www.w3.org/2000/svg\" xmlns:ev=\"http://www.w3.org/2001/xml-events\" xmlns:xlink=\"http://www.w3.org/1999/xlink\"><defs/><rect fill=\"white\" height=\"94.01566777474727\" width=\"106.6891944539475\" x=\"0\" y=\"0\"/><path d=\"M29.9324279179109,52.653116338769905 m-0.17783207818865776,9.296819567680359 l3.304399251937866,-0.47786619514226913 -0.4415086656808853,-13.191361427307129 l-0.596788302063942,-1.7179316282272339 -3.1656205654144287,0.0008098622492980212 l-0.925334170460701,0.0014241600001696497 -0.00014647132957179565,-1.439983993768692 l-1.1979056894779205,-0.9665302932262421 -0.9413903206586838,-0.7898005098104477 l0.0002710363514779601,-0.9764543175697327 -0.7905719429254532,-4.397896230220795 l4.732365310192108,-3.4420520067214966 1.6965420544147491,-0.7362786680459976 l4.710324704647064,-0.25963975116610527 0.16219714656472206,1.5137693285942078 l1.470949649810791,-3.018685281276703 -0.00021510795704671182,-2.0081841945648193 l3.1591036915779114,-5.043274760246277 5.751467943191528,0.29930660501122475 l1.5891611576080322,2.3352570831775665 0.00010928667506959755,1.9673943519592285 l2.5592347979545593,0.0007594896305818111 0.0432543084025383,1.4820809662342072 l0.00021391982954810373,2.382441908121109 -1.6087597608566284,1.9417466223239899 l-4.869033992290497,1.9610495865345001 -0.6823206692934036,2.2994205355644226 l0.8484099805355072,1.1272279173135757 -0.8213027566671371,0.968315452337265 l-1.9267044961452484,0.0006306877912720665 -0.9279091656208038,-1.70050710439682 l0.042843776755034924,-0.6382834911346436 9.297255277633667,-0.7319536060094833 l0.0010166069841943681,-0.91598279774189 1.8836236000061035,0.0012939095904584974 l0.000869272043928504,-2.5884416699409485 -2.2327205538749695,0.26993755251169205 l-0.330798402428627,-0.8269359171390533 0.00030578779842471704,-0.979984924197197 l0.7012848556041718,-0.5688977241516113 4.7777679562568665,-0.3794035315513611 l-0.17853708937764168,1.3988137245178223 0.8614428341388702,-2.2840265929698944 l0.5844204500317574,0.2873987890779972 1.9960805773735046,0.0007612023910041898 l-0.3572538122534752,0.5800354853272438 0.9944929927587509,-1.8397699296474457 l3.7850168347358704,-0.27643540874123573 0.1811790093779564,0.42874887585639954 l0.07934646680951118,-0.2677070163190365 1.3016702234745026,-0.4753955453634262 l5.291818380355835,-0.20444542169570923 1.62984699010849,1.1666523665189743 l0.08574859239161015,1.6033528745174408 -0.6693606823682785,0.5667496845126152 l2.396056652069092,1.3175183534622192 0.7454608380794525,1.5197566151618958 l-0.15656728297472,0.2754960209131241 6.08353853225708,0.3744134306907654 l0.06206784397363663,0.4750175029039383 -1.1791886389255524,1.5160657465457916 l2.5296682119369507,1.7508772015571594 -0.7337846606969833,1.156037524342537 l1.3270512223243713,1.796405017375946 0.0004437889947439544,2.8671830892562866 l-1.168242022395134,0.5120756477117538 -1.3264758884906769,1.3023680448532104 l-1.151985377073288,0.2759076841175556 1.060396209359169,1.130291223526001 l2.1551886200904846,5.051150321960449 -0.9984748065471649,1.253250241279602 l-1.8067803978919983,1.2534849345684052 0.7140755653381348,0.9005706757307053 l1.0257980227470398,0.27771782130002975 -1.2806135416030884,2.1969668567180634 l-2.9819846153259277,1.8063496053218842 -1.1291523277759552,0.0003121201734757051 l-0.26105698198080063,1.586008071899414 -2.3518189787864685,1.757534146308899 l-7.040660977363586,-0.00033490072382846847 1.101991906762123,0.9179288148880005 l0.5448753014206886,0.0002748054794210475 1.2911297380924225,0.289990920573473 l-1.3456223905086517,2.063845247030258 -5.163393020629883,-0.25817854329943657 l-2.037246972322464,-1.4313142001628876 -0.8496271073818207,-0.2535881847143173 l0.289640873670578,-1.1426715552806854 0.00020365274394862354,2.003915309906006 l-1.973956674337387,-0.24553272873163223 1.0924886737484485e-05,-7.511094808578491 l2.095537930727005,-1.306375414133072 0.5535221099853516,-0.9959850460290909 l-1.151937022805214,-2.010982781648636 -1.6391029953956604,-0.659850537776947 l-1.5947513282299042,-0.2560209669172764 -1.2566953897476196,1.272720843553543 l-0.8508501946926117,2.456161081790924 m-7.7994102239608765,-11.773083209991455 l1.1814327538013458,0.0005340675124898553 -1.4133135974407196,0.5399978160858154 l0.9871914982795715,-4.359039394330466e-05 m-7.004385590553284,0.2242106758058071 l2.7174094319343567,-0.00035047956771450117 \" fill=\"none\" stroke=\"black\" stroke-width=\"1\"/></svg>"
      ],
      "text/plain": [
       "<IPython.core.display.SVG object>"
      ]
     },
     "metadata": {},
     "output_type": "display_data"
    }
   ],
   "source": [
    "_ = decode(z, temperature=0.8) # convert z back to drawing at temperature of 0.8"
   ]
  },
  {
   "cell_type": "markdown",
   "metadata": {
    "colab_type": "text",
    "id": "M5ft6IEBFQu9"
   },
   "source": [
    "Create generated grid at various temperatures from 0.1 to 1.0"
   ]
  },
  {
   "cell_type": "code",
   "execution_count": 26,
   "metadata": {
    "colab": {
     "base_uri": "https://localhost:8080/",
     "height": 130
    },
    "colab_type": "code",
    "id": "BuhaZI0aFQu9",
    "outputId": "d87d4b00-30c2-4302-bec8-46566ef26922"
   },
   "outputs": [
    {
     "data": {
      "image/svg+xml": [
       "<svg baseProfile=\"full\" height=\"110.1675719899066\" version=\"1.1\" width=\"842.7228414129786\" xmlns=\"http://www.w3.org/2000/svg\" xmlns:ev=\"http://www.w3.org/2001/xml-events\" xmlns:xlink=\"http://www.w3.org/1999/xlink\"><defs/><rect fill=\"white\" height=\"110.1675719899066\" width=\"842.7228414129786\" x=\"0\" y=\"0\"/><path d=\"M25,25 m0.0,0.0 m26.911294167019832,35.75174643609898 l-0.11938607320189476,9.358884692192078 3.4580710530281067,-0.4485234245657921 l-0.6410616636276245,-8.463373184204102 -1.3859175145626068,-2.1222224831581116 l-0.9869091957807541,-1.1508022248744965 -2.8048333525657654,0.00046404937165789306 l-1.955239325761795,-1.946663111448288 -0.44918548315763474,-0.7991886883974075 l-1.0082955658435822,0.0008771303691901267 -1.0680489987134933,-2.0752395689487457 l-0.0062762637389823794,-0.9208854287862778 0.6459196656942368,-0.8232007920742035 l2.338162809610367,-3.2014229893684387 2.450409233570099,-2.5753051042556763 l2.624819278717041,-2.514745593070984 2.1680255234241486,0.0009964517084881663 l-0.00010130695955012925,0.6958532333374023 1.6321192681789398,-2.0315805077552795 l1.9005462527275085,-0.913626030087471 3.297516405582428,0.0009890832006931305 l0.6544915586709976,1.575142741203308 1.9800198078155518,-1.6850627958774567 l3.6757269501686096,0.0007803584594512358 0.5427676066756248,1.6736209392547607 l4.380649626255035,-0.4479193314909935 0.6101201102137566,1.645762175321579 l3.3657079935073853,0.4072638973593712 0.0005341821452020667,0.8830876648426056 l3.0529987812042236,1.4531917870044708 0.0004843376518692821,1.4296981692314148 l2.0676153898239136,1.4295554161071777 0.000522431182616856,1.7791557312011719 l-1.002122163772583,0.7767408341169357 0.6619460880756378,0.00041829494875855744 l0.738794356584549,1.3893713057041168 -0.5842911824584007,1.413467824459076 l0.00018460516002960503,0.9766528010368347 0.6695596873760223,0.0004438026007846929 l0.3046019747853279,1.4484131336212158 0.17901545390486717,0.0006833929364802316 l0.23687360808253288,1.4386998116970062 0.7042276859283447,0.0005904351928620599 l0.2639893814921379,1.4198680222034454 -0.591704398393631,1.2462380528450012 l-0.15944402664899826,0.000575920166738797 0.000275217680609785,1.114734560251236 l-0.16531430184841156,0.000623275846010074 0.06127387750893831,1.4620304107666016 l-0.09251762181520462,0.0006055742051103152 0.1442253589630127,1.4348526298999786 l-0.5701881274580956,1.335105448961258 -0.9525956958532333,1.4134468138217926 l-0.762200653553009,1.481602042913437 -0.9198715537786484,1.6730768978595734 l-1.1960414052009583,1.7596282064914703 -1.2890632450580597,1.8245069682598114 l-1.5415386855602264,1.5066076815128326 -2.160075753927231,0.000294828259939095 l0.0003248830762458965,0.6026001274585724 -0.5835795029997826,0.00021496060071513057 l-1.0917777568101883,1.3150376081466675 -2.174151986837387,0.00021712909074267372 l-1.466941386461258,-1.5469667315483093 0.00020422310626599938,-2.572360336780548 l-0.39962615817785263,-3.8233155012130737 -0.9930987656116486,-3.255644142627716 l-0.4765250161290169,-0.8654537796974182 -2.503463625907898,0.00046918645239202306 l2.0741310891025933e-05,0.374702624976635 -1.470397263765335,1.3157235085964203 l-2.579176127910614,0.0004952926610712893 -1.5143944323062897,1.464291363954544 l-2.4276621639728546,0.000543525347893592 6.883064088469837e-05,1.2282013893127441 l-1.5931949019432068,1.4526209235191345 -2.1024110913276672,0.0003129704055027105 l0.00028862496037618257,1.1524664610624313 -1.3590489327907562,0.0003269324588472955 l0.0004549702862277627,0.7122253626585007 -1.4365056157112122,0.000349006695614662 l0.0005014141424908303,0.4437049478292465 -0.5968344211578369,0.00027319016226101667 l0.0006372470670612529,0.37635553628206253 -0.8437895029783249,0.0003130538243567571 l0.0005863145270268433,-0.34266214817762375 0.015557580627501011,0.0003195742465322837 l0.0005990322461002506,-0.6538903713226318 0.0006152444257168099,-1.369767040014267 l0.0003742358967429027,-2.182878255844116 -0.21344637498259544,-3.7835758924484253 l0.12540042400360107,-0.8780315518379211 0.2149205468595028,-0.880902111530304 l0.00044840377086075023,-2.810777723789215 m16.25152587890625,-3.407358229160309 l0.0012831443746108562,1.1674227565526962 m5.521303415298462,1.5605588257312775 l1.9679850339889526,0.00012946276910952292 m10.55222749710083,0.7326380163431168 l1.6764472424983978,0.0006675459007965401 m48.7484100487508,1.640572976571093 l-0.13952093198895454,9.323868155479431 3.5667452216148376,-0.45279908925294876 l-1.1404923349618912,-7.128443717956543 -1.5597181022167206,-1.8608011305332184 l-0.6409148871898651,-1.2493044883012772 -0.17349548637866974,-1.211867481470108 l-2.401290237903595,0.00028212660254212096 -3.8738584518432617,-1.4439710974693298 l-0.7972913235425949,-1.8655426800251007 -3.8231605291366577,-2.932559847831726 l0.005885646678507328,-0.8986169099807739 0.9808577597141266,-0.9263536334037781 l0.6327476352453232,-2.2974741458892822 1.4984944462776184,-1.0646413266658783 l3.7894511222839355,-2.717117667198181 2.8266584873199463,0.0008983621228253469 l4.749135484871658e-06,-0.06309171672910452 0.6449289619922638,-1.0458309203386307 l1.7835703492164612,-0.9188288450241089 4.59911435842514,0.0009837905963649973 l0.68337582051754,0.5252907052636147 1.819201409816742,-1.8222211301326752 l4.355655610561371,0.0007075591565808281 0.8018498122692108,0.6355329602956772 l1.786704659461975,-1.8062135577201843 3.2621246576309204,0.0008701250044396147 l0.9696058183908463,1.7284275591373444 1.9507776200771332,-1.7108404636383057 l1.047489270567894,1.1401533335447311 0.000188026278920006,0.49059174954891205 l3.7269073724746704,0.5635953694581985 0.1426891889423132,1.7376813292503357 l3.1597793102264404,0.766136422753334 0.040356176905333996,1.4763781428337097 l-0.9348475188016891,1.1059017479419708 3.13018798828125,1.3984417915344238 l-0.20344873890280724,1.4647765457630157 -1.080690547823906,0.7279025763273239 l3.136020600795746,1.6760392487049103 0.0004599706517183222,1.4276166260242462 l-1.120818555355072,0.6997410953044891 0.6238250806927681,1.305907666683197 l-0.4857596382498741,1.4183971285820007 -1.272994577884674,0.0005379847789299674 l0.5338914319872856,1.616951823234558 -0.6505563855171204,1.1158166080713272 l-1.0387402772903442,0.0006664985266979784 0.43432191014289856,1.4026343822479248 l-0.2782171405851841,1.4336425065994263 -0.8648347854614258,1.2972408533096313 l-0.6480462104082108,1.525595784187317 -0.13701182790100574,1.6742175817489624 l-0.777900442481041,1.972528100013733 -1.2717968225479126,1.8665742874145508 l-0.7700023800134659,1.7332182824611664 -1.6026590764522552,1.4667214453220367 l-2.530703544616699,8.626840099168476e-05 0.0002889067036448978,-1.2330935895442963 l-0.320793017745018,1.2792375683784485 -1.4989858865737915,0.00015715966583229601 l0.00012775165487255435,-1.3496261835098267 0.0001924135722219944,-2.6998308300971985 l-0.8824180066585541,-4.2645463347435 -0.5078611895442009,-1.2140761315822601 l-0.49711350351572037,-2.623012959957123 -0.5348717793822289,-0.8636873215436935 l-2.2302649915218353,0.0004705620449385606 2.0428792595339473e-05,0.2874562330543995 l-1.260170191526413,1.298193782567978 -2.380659729242325,0.0003998761167167686 l-1.8052220344543457,1.1526291817426682 7.662290045118425e-05,1.795654296875 l-1.2895166873931885,1.3641932606697083 -1.7836770415306091,1.4889612793922424 l-0.278954841196537,4.313880503177643 -0.8849374949932098,0.9914226830005646 l-1.8556375801563263,0.0002751787360466551 0.0003980276596848853,-1.8066562712192535 l0.0003822867074632086,-2.687326669692993 -0.8744210004806519,-5.336204767227173 l-0.9012654423713684,-2.2342702746391296 -0.6496268510818481,-0.8455318212509155 l0.0005552372385864146,-1.3461001217365265 -0.3048229031264782,-0.8400677144527435 l-0.5559239163994789,-0.8598413318395615 -0.6258735060691833,-0.8800598978996277 l-0.6217174604535103,-0.8348850160837173 m20.30143976211548,-0.07929470390081406 l0.0013088791456539184,1.7316599190235138 0.6412112712860107,0.00011871560673171189 l0.00011104013537988067,0.9492652863264084 m3.6074471473693848,-3.577638268470764 l0.00020451430827961303,2.043147385120392 1.110733523964882,0.0006740614480804652 l-0.00017882799511426128,-0.7441899180412292 m-4.178682565689087,-9.113568663597107 l0.0004969730798620731,1.934809684753418 m53.98252709142483,9.045524273823986 l-0.132420277222991,9.3101567029953 3.5703065991401672,-0.28767095878720284 l-0.95323845744133,-5.652431845664978 -1.9103144109249115,-4.7347018122673035 l-0.5992643907666206,-1.6837039589881897 -0.5330494418740273,-0.8358801901340485 l-0.6851367652416229,-0.6686987727880478 -2.858976423740387,1.2827889621257782 l-0.33581357449293137,0.0006945266068214551 -1.5741302073001862,-0.5782568454742432 l0.000272997967840638,-1.1716850101947784 0.005769788403995335,-0.9032017737627029 l1.514153927564621,0.0010393912089057267 -1.8969936668872833,1.0673756897449493 l-1.9166772067546844,-2.5983527302742004 -0.012526691425591707,-1.190413311123848 l0.561741515994072,-2.131982296705246 0.8369413018226624,-0.9748339653015137 l3.8033485412597656,-4.257742464542389 2.246943861246109,-2.4751847982406616 l2.892751395702362,-0.2712339721620083 0.00023256578060681932,0.2602381817996502 l1.096760332584381,-1.7565585672855377 2.2661441564559937,-1.1276033520698547 l3.2781147956848145,-1.6314950585365295 4.052323698997498,0.0007513037417083979 l1.0117513686418533,1.0572534054517746 0.00020060595488757826,0.2341904491186142 l6.72433614730835,-0.650676041841507 0.7877720892429352,1.2945817410945892 l0.0003108708915533498,1.1445293575525284 2.9876866936683655,0.0006295330967986956 l0.8929585665464401,1.2868131697177887 0.00026902072931989096,0.3985682874917984 l4.431864321231842,1.820150911808014 -0.5907230451703072,1.267545372247696 l0.6259013712406158,0.0008585373871028423 1.2593652307987213,0.0005335811874829233 l0.19912723451852798,1.4299540221691132 2.6080814003944397,1.7409545183181763 l0.7474705576896667,1.4575676620006561 -0.7368893921375275,0.7239433377981186 l0.47924384474754333,0.0005081183553556912 2.111806720495224,0.00043934334826190025 l1.5138134360313416,0.9027773141860962 -0.9249166399240494,1.643514633178711 l0.2680063433945179,0.000534294595126994 2.7978551387786865,1.6743043065071106 l-0.01922238850966096,1.416228711605072 -0.6391460448503494,0.0006278898945311084 l0.7072289288043976,-1.0899689048528671 1.1796879768371582,0.00043062158511020243 l1.659963459132996e-05,1.6902150213718414 -0.46200964599847794,0.0004957394412485883 l0.529525876045227,1.3154669106006622 -0.10929846204817295,0.0005142132795299403 l0.5448921769857407,1.5540674328804016 6.424537787097506e-05,2.378649562597275 l-0.9663189202547073,0.951467975974083 0.24126706644892693,1.8041200935840607 l-0.6214730814099312,1.4120900630950928 -1.3123850524425507,1.5424644947052002 l0.14489118941128254,1.7054402828216553 -0.6186730787158012,1.6447751224040985 l-1.3268537819385529,1.6226410865783691 -3.540758192539215,0.0004060167702846229 l0.00016605643395450898,1.0857871174812317 -1.6691511869430542,5.789744136563968e-05 l0.0001472817803005455,1.5333114564418793 -1.1978815495967865,9.036658411787357e-05 l-3.6456581950187683,2.4185624170058873e-05 8.514745786669664e-05,-0.666496604681015 l-1.1778239905834198,-5.128527283668518 -1.0413272678852081,-4.42242830991745 l-2.1288415789604187,-0.27646349743008614 3.6600843031919794e-05,1.5065886080265045 l-2.285410165786743,-4.3848595510098676e-06 -1.9636482000350952,-1.1964461952447891 l-1.737993061542511,1.0677353292703629 -2.421375811100006,0.00047900266508804634 l-1.8308664858341217,1.4861737191677094 -2.121783345937729,0.0004203927528578788 l-5.969859103061026e-05,1.4112083613872528 0.40885042399168015,7.102816104888916 l-1.1157916486263275,4.139474332332611 -2.4667495489120483,-0.00012187172615085728 l-2.1771834790706635,-3.069387972354889 0.00032585070584900677,-7.493618726730347 l-1.043669432401657,-2.9812169075012207 -1.1326289921998978,-2.9855871200561523 l-1.9712120294570923,-1.2828552722930908 -0.9678421914577484,-0.8513373136520386 m9.508840441703796,2.4511606991291046 l0.23978838697075844,-5.4394449762185104e-05 0.00017015683624777012,2.0634831488132477 l0.42116444557905197,3.448213647061493e-05 m7.757425308227539,-9.101282954216003 l0.000226604679482989,3.3808091282844543 m55.50707395936513,-3.9681589922069804 l-0.21404650062322617,9.357747435569763 5.94539999961853,-5.091926455497742 l-0.0016979900829028338,-4.86667662858963 -1.5314820408821106,-2.3296277225017548 l-1.7095986008644104,-0.940651074051857 -4.951535761356354,-0.00037149558920646086 l-1.22804693877697,-1.602199524641037 -3.6886999011039734,0.0012127344962209463 l-2.5360283255577087,-1.8311989307403564 -1.0488539189100266,-2.376043200492859 l0.5224426090717316,-1.8510931730270386 1.6584862768650055,-1.60133957862854 l5.108904242515564,-2.6499485969543457 1.5933872759342194,0.000534549035364762 l0.49097951501607895,-0.813131257891655 0.723000094294548,0.000811867939773947 l0.7214184105396271,-0.8862209320068359 1.1935246735811234,-0.8733773231506348 l2.9593369364738464,0.0009102858894038945 2.946092188358307,0.272831954061985 l3.7284159660339355,-0.055635361932218075 0.00016344976756954566,1.2051242589950562 l-0.15664739534258842,1.3395191729068756 6.391989588737488,0.8258530497550964 l-1.651930958032608,2.4760523438453674 2.436898350715637,0.979028195142746 l-0.6888438761234283,1.5686513483524323 -2.207701653242111,0.0006441696314141154 l0.0003758303864742629,0.63149094581604 1.0900718718767166,-0.26733390986919403 l-0.13514564372599125,1.0586357861757278 -1.6352389752864838,0.964365229010582 l0.0004496429392020218,2.512308955192566 1.1070969700813293,0.7740720361471176 l-0.45756053179502487,1.615014672279358 -1.9809725880622864,1.127488762140274 l0.00031054431019583717,1.378517746925354 -0.36898694932460785,1.3429248332977295 l0.7079441845417023,4.2408862709999084 -2.3481199145317078,1.0781347006559372 l0.00030256385798566043,1.5880599617958069 0.9836896508932114,2.9504087567329407 l1.1269183456897736,0.7368623465299606 2.2202207148075104,0.000794948500697501 l0.964554026722908,-2.6456135511398315 0.00012448961570044048,-1.922842413187027 l0.1260360423475504,-1.0179716348648071 1.6000176966190338,-0.2739921025931835 l-4.021339464088669e-05,-0.7517074048519135 2.0440901815891266,-1.6550925374031067 l1.0579060763120651,1.2170667946338654 2.1288490295410156,-0.7972180843353271 l2.1467842161655426,-2.3584377765655518 0.0002484192191332113,-1.276453286409378 l2.161819189786911,-1.8682914972305298 2.521907389163971,0.0006586999370483682 l2.1250584721565247,-1.4668482542037964 2.1356332302093506,0.0007532311428803951 l2.4924777448177338,-1.5600848197937012 2.6686784625053406,0.0007608493615407497 l0.6058331951498985,0.6257320940494537 2.060052901506424,-1.0884188115596771 l1.8482862412929535,-0.8049692213535309 2.041807919740677,0.0006678867066511884 l0.7419160008430481,0.9216544032096863 1.1762921512126923,1.230156123638153 l-0.17080703750252724,1.1867005378007889 1.4276248216629028,-1.6692964732646942 l1.831137239933014,-0.26561303064227104 -0.00012301572496653534,-0.37267811596393585 l2.083708643913269,0.26465117931365967 0.8296693861484528,1.6661328077316284 l3.4178808331489563,-0.1828191615641117 0.16070114448666573,3.5941100120544434 l-0.7620003074407578,0.0008069456816883758 0.468841977417469,1.5602676570415497 l-0.4115547239780426,1.9428220391273499 0.00027172074624104425,3.47655326128006 l-1.49781733751297,1.2156044691801071 0.0004483038355829194,1.9624163210391998 l-1.1368001997470856,1.9425061345100403 0.00020329653125372715,4.231569766998291 l-0.12104912661015987,5.062881112098694 -0.8313079923391342,0.9822610020637512 l-5.012715458869934,0.00029151047783670947 0.00010294854291714728,-5.309593081474304 l0.0004410585461300798,-7.287157773971558 -0.5587643384933472,-0.27258673682808876 l0.00036927365727024153,-0.16076311469078064 -1.2598161399364471,-0.9712443500757217 l-2.2550907731056213,-1.9536654651165009 -0.8491324633359909,-0.8208278566598892 l-2.3885396122932434,-1.431024819612503 -1.0888281464576721,-1.0445558279752731 l-1.3789041340351105,-0.831931084394455 -8.743244409561157,-9.753056474437471e-05 l-0.4378480836749077,0.6141249090433121 -0.4988051950931549,6.587777137756348 l-0.9295856952667236,2.062850445508957 -2.6501113552512834e-05,3.2432931661605835 l-2.512200176715851,0.00037358211557148024 -2.690698802471161,-2.5139284133911133 l0.0002876535290852189,-5.435392260551453 -0.6032754853367805,-3.2975536584854126 m-3.8489916920661926,-8.870672583580017 l0.2952761761844158,7.82042661739979e-05 m3.603074848651886,2.946268618106842 l-0.0004570468081510626,0.34821774810552597 m58.46367172168712,7.1549413066895795 l-0.17439104616641998,9.478849172592163 5.871480703353882,-3.3824288845062256 l0.0007305644248845056,-8.521011471748352 -1.2280619144439697,-1.6130386292934418 l-3.483491837978363,-0.0010071428550872952 -1.856626719236374,-0.8539460599422455 l-3.371168233456956e-07,0.11322134174406528 0.00026060450181830674,-1.4925961196422577 l0.7863477617502213,-1.0941971093416214 -1.9386141002178192,0.0005943979704170488 l-1.5834635496139526,-3.1579959392547607 0.7899032533168793,-2.734571397304535 l-0.3157879412174225,0.5317339301109314 -4.140840768814087,0.004629946197383106 l0.11003871448338032,-1.4688476920127869 1.830563247203827,-1.133836805820465 l4.421897232532501,-3.24228435754776 0.5206339433789253,1.3201852142810822 l0.8123360574245453,-1.8142671883106232 5.182904601097107,-3.1108230352401733 l3.7616103887557983,0.0010057198232971132 0.5987044051289558,0.6240856647491455 l0.00039674818253843114,0.5208726972341537 5.372905731201172,-2.1637672185897827 l5.104935169219971,0.00044257543777348474 0.24164067581295967,0.8124681562185287 l0.0001298141614824999,0.10193316265940666 1.6987083852291107,-0.9018328040838242 l0.7094325125217438,0.2571957930922508 2.76655375957489,1.696275770664215 l-1.9894453883171082,1.2292447686195374 5.51575243473053,-1.1286816000938416 l0.4544949531555176,0.834377184510231 3.6367037892341614,1.2466560304164886 l0.00047421384806511924,1.5939806401729584 -4.213468432426453,3.04951548576355 l1.9936347007751465,1.3419970870018005 0.8490618318319321,2.045576274394989 l-2.3058603703975677,2.578737735748291 -3.2264095544815063,1.1319620907306671 l0.00056554184993729,1.44054114818573 -2.2287316620349884,0.00017220276276930235 l-0.5028735101222992,1.3155078887939453 -1.3241532444953918,0.0002431365464872215 l0.13112396001815796,0.7944993674755096 2.8667372465133667,0.3023005463182926 l-0.9936092048883438,1.3658477365970612 -1.3594730198383331,1.0586970299482346 l0.0001949017314473167,2.1301881968975067 1.9346319139003754,0.2554703503847122 l0.3655572980642319,2.034694105386734 -1.748104989528656,2.196638435125351 l0.00042902989662252367,2.059287130832672 -0.5017977207899094,3.278447687625885 l-0.6023187935352325,1.606292873620987 -0.3346674144268036,3.2129505276679993 l-1.2643338739871979,0.00024044305973802693 -0.195031575858593,0.710323378443718 l2.076316624879837,0.0007456286402884871 1.958150863647461,-1.6791671514511108 l0.6799405813217163,-3.3354589343070984 -0.3321465104818344,-6.491767168045044 l-0.1377154141664505,-0.8542047441005707 1.206352487206459,0.0005443134796223603 l1.5243606269359589,0.0008385591354453936 0.7033204287290573,-0.7263146340847015 l-3.1839776966080535e-05,-1.0639231652021408 1.6168439388275146,0.0007348787039518356 l0.5367034673690796,1.118408590555191 2.697201371192932,0.0003594093141146004 l0.4809075593948364,-0.7643450796604156 0.00017789279809221625,-0.2910911291837692 l0.7923536002635956,1.096208170056343 1.2069109827280045,0.000558235333301127 l1.965281367301941,-1.62772536277771 -0.00018243152226204984,-2.4970845878124237 l3.8210144639015198,1.8489009141921997 1.7753978073596954,-2.0125846564769745 l2.7435222268104553,1.7125511169433594 0.7825989276170731,6.062275767326355 l0.00020473644326557405,0.046900748275220394 1.3954158127307892,0.00030537925340468064 l0.2479902096092701,-3.8826602697372437 1.7668516933918,0.0003039191142306663 l0.0002593836143205408,-3.299188017845154 0.9220701456069946,-1.4469729363918304 l3.283987553004408e-05,-3.6399808526039124 1.7613767087459564,0.0001564402373332996 m-17.36946940422058,-3.943294584751129 l-0.0001168033941212343,1.8098889291286469 m6.507481932640076,2.7652639150619507 l0.6562833487987518,0.0011899022501893342 m-29.8447585105896,2.1918076276779175 l3.1526923179626465,0.0009421257709618658 m67.93296534223828,3.6213933009503307 l-0.10337082669138908,9.132739305496216 3.061683475971222,-0.3252441808581352 l-0.5607423931360245,-6.104187965393066 -2.1929922699928284,-6.745430827140808 l-0.10760861448943615,-0.8009856194257736 -1.9899968802928925,-0.8425068855285645 l-4.2232003808021545,-1.5690606832504272 -1.447601169347763,-0.819038525223732 l-0.10223515331745148,0.0011143321171402931 2.0006227493286133,0.0009766797302290797 l0.1349259540438652,0.9631200134754181 1.8103185296058655,0.00042993946408387274 l2.3551134765148163,-3.6975377798080444 -1.3617810606956482,0.9083584696054459 l-0.1360461488366127,0.6520947813987732 -0.05031290464103222,-1.0156533867120743 l0.7971000671386719,-1.296818107366562 0.24740979075431824,-0.7496547698974609 l4.020322859287262,-7.304623126983643 9.087762919079978e-05,-2.3047836124897003 l6.188410520553589,-0.28407901525497437 0.9319683909416199,1.1167846620082855 l4.969807863235474,0.11348229832947254 0.41633952409029007,-0.3002309240400791 l-4.525695443153381,0.6197765842080116 1.129516139626503,-2.067098468542099 l7.266941666603088,0.00045302782382350415 -0.44246193021535873,1.9797374308109283 l1.949986219406128,0.2752813696861267 2.1782295405864716,-1.352580189704895 l2.556113302707672,1.1283179372549057 1.5664170682430267,-0.013750660000368953 l1.7327062785625458,-0.8139757066965103 0.7114940881729126,1.2131597846746445 l1.831187754869461,-0.6809670478105545 3.142717480659485,0.0005224571214057505 l-0.054509565234184265,1.6018077731132507 1.2248915433883667,0.2541503682732582 l-0.1951943337917328,0.7126663625240326 2.2193336486816406,0.2656762860715389 l4.772101938724518,3.141835629940033 0.00032301380997523665,1.2187271565198898 l2.997843623161316,0.00025883957277983427 -0.5703925713896751,0.9609904140233994 l0.463937409222126,1.4572204649448395 0.8402800559997559,2.582768201828003 l-0.4035315662622452,1.7360220849514008 -0.45470457524061203,2.1735119819641113 l0.0003638901762315072,2.40793377161026 -1.6664741933345795,4.503921568393707 l0.8688221126794815,1.8356525897979736 0.00031199237128021196,2.99393892288208 l-3.4799018502235413,0.8020682632923126 0.00038046469853725284,-1.3765035569667816 l0.0005666197102982551,0.858757421374321 -1.290162205696106,1.5153954923152924 l-0.4580767825245857,0.00021699117496609688 -1.190260574221611,1.3179388642311096 l-1.9161145389080048,0.00010661490705388132 -0.38922175765037537,2.942158877849579 l-2.0299459993839264,-1.0568156767476466e-05 -1.4458397030830383,-1.002316176891327 l-0.7790131121873856,-2.087472081184387 -1.1275512725114822,-4.929906725883484 l2.261080890893936,-0.2755042724311352 0.00048492056521354243,-0.7614228874444962 l-1.2506842613220215,0.6574802100658417 -1.2329015135765076,-1.7199081182479858 l-2.1471184492111206,-2.4803389608860016 -4.4372230768203735,-1.137525513768196 l-1.0956665873527527,-0.8492415398359299 -2.079486697912216,-1.2166820466518402 l-1.5793119370937347,0.3247613087296486 -0.16953833401203156,0.6726203858852386 l0.1993299461901188,0.7918605208396912 -1.993800699710846,1.5334926545619965 l-0.6650704890489578,2.0353062450885773 -0.9440723806619644,7.562884092330933 l-1.2784813344478607,0.5992712453007698 -1.3104146718978882,1.3663581013679504 l-0.11191167868673801,-7.115846074157162e-05 1.1256752163171768,0.00014372059013112448 l-2.472958564758301,-0.25352781638503075 -2.5550371408462524,-2.8090181946754456 l0.12351389043033123,-2.732004225254059 -0.45530837029218674,-4.713696837425232 l0.7240476459264755,-0.8832792192697525 m6.0737144947052,-12.579643726348877 l-1.5447524189949036,-0.0002336401848879177 0.10903902351856232,1.738957017660141 l-0.6763877719640732,0.2655300684273243 0.5863146111369133,-1.286737471818924 m21.81511402130127,7.450059652328491 l1.5465205907821655,0.0009177363972412422 m-15.76578140258789,-6.712191700935364 l1.2715089321136475,0.0012313354818616062 m57.066579151173755,5.958244711349039 l-0.1809343509376049,9.441170692443848 3.2272571325302124,-0.2431679517030716 l0.7799237966537476,-10.807186365127563 -1.3375408947467804,-1.5265052020549774 l-6.478303074836731,0.27595244348049164 -4.346848130226135,0.2659563533961773 l0.5511322990059853,-1.0073304921388626 1.7646285891532898,-0.337473601102829 l4.127255082130432,-3.556852340698242 -0.5126427486538887,0.9927372634410858 l0.12849098071455956,0.0009823646541917697 0.6122373789548874,-2.4414975941181183 l1.5214239060878754,-1.1259209364652634 -0.00020108509488636628,-0.06389193702489138 l0.00020645347831305116,-0.17009485512971878 0.0005229803718975745,-0.4897194728255272 l2.3822930455207825,-3.518300950527191 4.826231598854065,-2.717357873916626 l1.3717587292194366,0.0011755633749999106 1.3462181389331818,1.2881068885326385 l0.0002671796755748801,0.018901192815974355 1.64303719997406,1.215238943696022 l3.940379023551941,-2.3920293152332306 -0.9400740265846252,1.3921579718589783 l1.4399974048137665,2.09079310297966 2.147597074508667,0.0009669167775427923 l5.190775394439697,-2.338797301054001 4.95462030172348,-0.24875890463590622 l0.0002317138023499865,-1.1372505128383636 0.0003859899516100995,-1.289583295583725 l-0.09890049695968628,-0.635744109749794 0.4354901611804962,-1.053435057401657 l-0.04384503234177828,1.5134529769420624 1.436711698770523,0.2744445763528347 l2.615973651409149,-0.9455336630344391 2.9275736212730408,0.7042524218559265 l5.702888369560242,2.877263128757477 0.00046090211981208995,2.2077900171279907 l-1.418951153755188,0.827600359916687 4.097389876842499,0.9078174084424973 l-0.5037315934896469,1.1414825916290283 -0.41922885924577713,-0.33487774431705475 l-0.5526289343833923,-0.051894974894821644 -3.7506742955883965e-05,-1.3735316693782806 l1.601002812385559,-0.42502298951148987 0.8661677688360214,0.27163369581103325 l0.34280743449926376,2.8500205278396606 -0.7752586901187897,1.066311076283455 l-0.6034913659095764,1.7185667157173157 -0.13487705029547215,2.2395122051239014 l1.8727685511112213,-1.694396436214447 0.9431954473257065,1.5291184186935425 l0.2639955095946789,3.6741891503334045 -0.7698291540145874,0.6935054808855057 l2.3616912961006165,1.8031924962997437 0.00027170422981726006,2.0123934745788574 l-1.8954937160015106,2.3120927810668945 1.0111850500106812,6.707971692085266 l-1.8694789707660675,1.9327570497989655 -5.735243558883667,0.0008010212332010269 l-0.08499423041939735,0.8490530401468277 -1.3321135938167572,1.5097230672836304 l-4.870561957359314,-0.5391363054513931 -0.7241316884756088,-1.112898588180542 l-1.100630834698677,-0.012909522047266364 0.2721625380218029,1.3422644138336182 l0.9004808962345123,0.0003313827619422227 -2.2745344042778015,-0.26255326345562935 l-1.636294573545456,-1.4864441752433777 7.059670224407455e-05,-3.293583393096924 l-0.9626973420381546,-1.1567127704620361 -0.8479759842157364,-1.315029114484787 l-3.190261125564575,0.0004474251181818545 -3.054950535297394,-0.0003581144119380042 l-0.0002060490078292787,0.5375657230615616 -0.05602342542260885,0.24087375029921532 l0.5451938882470131,1.039406657218933 -2.6610267162323,0.2798418886959553 l-0.9553167223930359,1.7412209510803223 -4.394790828227997,0.00047735258704051375 l-1.5235009789466858,1.8494433164596558 -0.485156886279583,4.827446639537811 l-0.5280108004808426,1.423104703426361 -0.8365508913993835,0.00015448755220859312 l-1.3396534323692322,8.883107511792332e-05 -3.6222928762435913,-3.0197596549987793 l-4.499733677221229e-05,-8.792848587036133 -1.0605267435312271,0.0008782505028648302 l1.4253376424312592,-0.277272816747427 0.41410017758607864,-0.0003327196100144647 m0.8555307239294052,-6.475943326950073 l-0.0004800637179869227,5.8389729261398315 2.247278094291687,0.29881855472922325 l0.7412141561508179,-3.325899839401245 m-0.6625945121049881,0.2553975023329258 l-0.7903429865837097,-1.787518499440921e-05 0.0005115237581776455,1.470394879579544 m-5.00670850276947,-1.9763042032718658 l-1.9293470680713654,3.936672328563873e-05 m11.73948049545288,-25.651395320892334 l2.0718322694301605,0.14264638535678387 m56.95449006922445,27.28214391295694 l-0.09881182573735714,9.220401048660278 3.8352733850479126,-0.38291819393634796 l-0.7707894593477249,-6.99800431728363 -0.9936109185218811,-5.124024748802185 l0.7077555358409882,-1.9641722738742828 -0.17144294455647469,-2.2061902284622192 l-2.368246614933014,-0.2752012200653553 3.679807484149933,-2.338482439517975 l2.6771441102027893,-2.978939116001129 -1.5035705268383026,0.26284225285053253 l-2.8650397062301636,1.152382493019104 1.3260966539382935,-3.0956587195396423 l1.1583638936281204,0.0014943475252948701 -3.8909870386123657,2.311292141675949 l-1.7453710734844208,0.0004962809543940239 3.3726540207862854,-4.55755889415741 l1.3317541778087616,-1.0169393569231033 1.3884732127189636,-1.0894928127527237 l2.5439202785491943,0.0005326055179466493 0.044514224864542484,-0.09098220616579056 l-1.0875051468610764,-1.471889615058899 0.512702465057373,-2.5847911834716797 l0.2884094789624214,-0.6959535926580429 7.093532085418701,-0.24613145738840103 l0.00039589365769643337,-0.8875669538974762 -1.0005472600460052,0.0011132505460409448 l0.0003056752757402137,0.2353244088590145 1.9664300978183746,0.9599604457616806 l2.570822536945343,0.6659557670354843 0.00014741168342879973,-0.9326381981372833 l2.3162169754505157,0.0011282113700872287 3.6138808727264404,1.2742021679878235 l-1.1254986375570297,1.6616499423980713 -4.875578880310059,0.0006256270717130974 l3.790682852268219,-1.6281959414482117 5.045949816703796,-0.000297080787277082 l0.0005080104892840609,0.5867649987339973 -1.6524198651313782,0.45454323291778564 l0.27724282816052437,-1.0988224297761917 3.0295330286026,-0.599292442202568 l2.1455641090869904,0.0006333326746243984 0.0007979548536241055,-0.5065825954079628 l-0.10422240011394024,-0.6542380899190903 6.427846550941467,0.0005513908399734646 l-1.5707993507385254,0.4744025692343712 0.9241387993097305,-1.6001863777637482 l2.728235423564911,-0.9152746945619583 4.000764191150665,0.00046978999307611957 l-1.386016458272934,1.4527107775211334 0.4530049115419388,0.27581993490457535 l4.66131329536438,2.824741005897522 -0.6396722048521042,1.1741406470537186 l1.8593156337738037,-1.186675801873207 2.6359063386917114,1.5037041902542114 l0.00015081769561220426,3.119453191757202 -2.12088480591774,-3.7803897612320725e-05 l2.520855963230133,0.28633343055844307 0.6680335104465485,2.1721623837947845 l-0.6183436512947083,0.0003532105984049849 4.642725586891174,0.0002522140675864648 l1.3976189494132996,2.3197564482688904 -4.232280850410461,1.0518116503953934 l-0.3282760828733444,0.8170679956674576 1.9439977407455444,0.8856498450040817 l0.0003064093107241206,4.148251116275787 -4.951255023479462,0.4316898435354233 l0.00017283282431890257,-0.5458759516477585 3.1478890776634216,-0.27030404657125473 l0.0001988857184187509,1.3905997574329376 -2.8372591733932495,0.00055600128689548 l-1.4547538757324219,0.00031970554118743166 -1.4785507321357727,1.0812322050333023 l1.0930953919887543,0.7589908689260483 -0.9233266115188599,1.4621536433696747 l-2.2367168962955475,0.0006363774446072057 -0.3009653836488724,1.9675704836845398 l-0.49143441021442413,9.438601732254028 -0.8034314960241318,0.716773048043251 l-3.9987584948539734,0.0004364932101452723 0.014399228384718299,2.4327683448791504 l-3.2273855805397034,0.0002975758798129391 6.33103718428174e-05,-0.23240698501467705 l-0.38621414452791214,-2.4784210324287415 -0.00014990589079388883,-7.269436717033386 l0.10761121287941933,0.0001452482865715865 -0.10610710829496384,6.468430757522583 l-6.428315043449402,0.00014926564290362876 -0.5238430947065353,-1.1790122836828232 l0.05933370441198349,-3.4402933716773987 -3.95815908908844,-0.2803088165819645 l-3.037385940551758,6.835861768195173e-05 -2.6461565494537354,0.0001654241896176245 l-1.9804397225379944,-1.57930389046669 -0.7014956325292587,-1.181059554219246 l0.8181263506412506,0.4797845333814621 -1.142112985253334,6.130303144454956 l-2.7580443024635315,3.0568015575408936 -1.5215864777565002,-0.25286197662353516 l-0.7278577238321304,-0.7065646350383759 0.00043977543100481853,-4.7308894991874695 m-0.045476783998310566,-20.196022987365723 l1.5291646122932434,-0.00020100325855310075 -5.3969201871950645e-05,1.3180921971797943 m-2.0693127810955048,6.885514855384827 l1.0947968065738678,0.4376514256000519 m1.8095143139362335,5.7504355907440186 l3.5276997089385986,0.24652201682329178 2.515282928943634,-4.025763273239136 m71.03736717310312,-8.057264425563062 l-0.1720527559518814,9.372864961624146 3.710569441318512,-0.6796588003635406 l-1.1884816735982895,-7.321588397026062 0.6771992146968842,-6.407291889190674 l-7.320828437805176,0.8284105360507965 -2.163858413696289,-0.07976907305419445 l-2.1958112716674805,-1.4635825157165527 -2.9686102271080017,-1.9315017759799957 l2.509170174598694,-0.337827168405056 1.0333548486232758,-1.2805776298046112 l3.975021243095398,-3.7010350823402405 2.446003705263138,-0.8344652503728867 l2.3545122146606445,0.0008731803973205388 0.00011689258826663718,-0.042177909053862095 l1.014346107840538,-0.8935590833425522 0.37354540079832077,-0.24131188169121742 l3.0375808477401733,-0.0402439059689641 1.2049799412488937,0.2120271697640419 l5.032548308372498,-0.654580146074295 6.648675799369812,0.0009516845602774993 l0.5490849167108536,0.6541331112384796 -1.7929734289646149,0.0005922897616983391 l1.5425093472003937,-1.6654138267040253 -1.1980189383029938,0.25632577016949654 l-0.9111563861370087,0.6229478493332863 6.730368137359619,-1.1592555046081543 l1.2927402555942535,2.8859031200408936 -0.043486468493938446,2.496003806591034 l-2.2833700478076935,0.0004509806603891775 -2.163822650909424,-0.8163288980722427 l-0.8798879384994507,0.5858652293682098 0.45387450605630875,3.678666055202484 l-1.376420110464096,0.9757126122713089 -0.9908290952444077,1.529572755098343 l-3.052775263786316,4.3594905734062195 0.0005058585156803019,-0.47525960952043533 l0.0009308857261203229,0.24962414056062698 2.6331788301467896,3.1652048230171204 l-3.224359452724457,1.3143037259578705 -0.7123695313930511,0.7370730489492416 l2.560076117515564,0.7302628457546234 0.23572657257318497,0.03834173083305359 l0.48896901309490204,-0.3331845626235008 4.6612553887825925e-05,2.465355098247528 l1.903577744960785,0.7778679579496384 -0.8234041184186935,1.672479510307312 l1.5925775468349457,0.25322236120700836 0.2978823520243168,1.2553825974464417 l0.00016647178199491464,1.3366813957691193 0.9013998508453369,0.2553136460483074 l-1.3075760006904602,1.9030718505382538 -2.2158367931842804,1.3544957339763641 l-1.1136306822299957,1.7292355000972748 1.751294881105423,3.7405848503112793 l0.00037171867006691173,3.0309611558914185 -0.927642211318016,2.3901839554309845 l0.827593132853508,0.546160526573658 3.7515071034431458,0.0007377257134066895 l0.38493022322654724,-10.14802098274231 2.8936153650283813,-0.2732132375240326 l-0.00010116227713297121,-0.9180358052253723 3.266337513923645,0.2713465131819248 l-6.592545560124563e-05,3.671598434448242 2.831360697746277,0.2559638023376465 l1.08567014336586,-1.074928492307663 1.8221461772918701,0.0004477561014937237 l3.4211382269859314,0.4612107202410698 0.5607620999217033,-0.7828168570995331 l2.2572505474090576,-1.0905442386865616 3.5910236835479736,2.1768806874752045 l0.00039571135857841,2.8697848320007324 -1.0849794745445251,0.00010659958206815645 l-0.3276929259300232,0.5882234126329422 0.4980093985795975,-1.7981106042861938 l0.32719936221838,1.098611056804657 0.00017603188098291866,1.2944528460502625 l4.221154153347015,-0.00011879313206009101 0.20609380677342415,-1.632358729839325 l0.09057735092937946,-1.4451602101325989 0.048020645044744015,1.6456091403961182 m-38.514912128448486,-26.67776584625244 l2.087218314409256,0.28762465342879295 8.696158528327942,-1.518818438053131 l2.764819860458374,-1.9273847341537476 0.0003588949402910657,0.5275412276387215 l2.3627981543540955,0.0008195830741897225 0.8305263519287109,0.21635230630636215 l5.808988809585571,-2.5864744186401367 0.0007587065920233727,0.715424194931984 l8.936625719070435,-2.4039605259895325 0.8086110651493073,0.1500735804438591 l1.7769230902194977,-1.8203115463256836 -0.18909942358732224,0.41613515466451645 l-0.7221812754869461,2.719573974609375 m-8.74925434589386,12.865357398986816 l1.9925284385681152,0.2660020440816879 0.0016152349417097867,2.1830838918685913 l-0.14983541332185268,0.2768193371593952 m-3.039117753505707,-1.0119940340518951 l-0.20141704007983208,-2.32122465968132 m-33.57526779174805,17.648344039916992 l0.9744720160961151,-0.003376984386704862 m79.82899522178741,-10.749176793253241 l-0.11346060782670975,9.50740396976471 2.2384661436080933,0.3479444980621338 l0.9579769521951675,-12.307393550872803 -2.2464852035045624,-0.180838480591774 l-0.8881485462188721,-0.9954792261123657 -3.8583213090896606,-0.00020801538994419388 l-1.80355966091156,0.27315713465213776 -7.542121410369873,7.127566277631558e-05 l-0.362219400703907,-4.836774468421936 2.556999921798706,0.4838963970541954 l-0.0005832879105582833,-0.9272333979606628 -0.6377463787794113,-0.1116986945271492 l0.5904324352741241,-3.0187249183654785 3.8021275401115417,-1.697876751422882 l1.500723659992218,0.37359874695539474 5.557430982589722,-2.0417192578315735 l0.3229048103094101,-1.1413921415805817 6.321873664855957,0.0008895999781088904 l-1.152108684182167,-2.0292913913726807 -0.563260056078434,-4.683456718921661 l1.0640928149223328,-0.7919879257678986 1.7988567054271698,-2.2354744374752045 l1.1284572631120682,-0.2738990820944309 1.333404928445816,0.597117692232132 l0.9946213662624359,1.293039619922638 8.355697989463806,-3.9893466234207153 l0.73867067694664,2.868700921535492 0.8479581773281097,-0.7556284219026566 l0.00042129409848712385,-1.692856103181839 0.8861802518367767,-0.4917443171143532 l-0.4715036228299141,0.7517066597938538 3.2296204566955566,-1.334560364484787 l2.7142903208732605,-0.825880616903305 3.1682783365249634,0.25086985900998116 l0.4116388037800789,0.41037701070308685 6.962285041809082,0.8071272820234299 l0.40120765566825867,0.8968689292669296 -0.9733084589242935,1.679966300725937 l1.933598816394806,0.3013581596314907 0.8148720115423203,0.9499794244766235 l3.239268660545349,3.101690709590912 -2.736431360244751,0.8062982559204102 l0.144901555031538,0.5034003406763077 0.7475303113460541,0.6912142038345337 l2.086450159549713,0.2850618027150631 3.1948336958885193,2.3820433020591736 l-0.13503204099833965,0.3187341243028641 1.1541471630334854,1.746002584695816 l1.9178563356399536,0.8225761353969574 2.4209441244602203,-0.26207854971289635 l-7.457321771653369e-05,1.9543899595737457 -4.912778437137604,1.7662107944488525 l0.9505970776081085,0.0005627321661449969 -0.7108356058597565,-0.24879168719053268 l-3.46837509823672e-05,-0.06530525162816048 -3.8141149282455444,-0.2054021880030632 l-1.0139189660549164,1.3431712985038757 0.5220389738678932,0.7871756702661514 l-1.7283542454242706,2.6134708523750305 -2.529933452606201,1.0318078100681305 l0.5079933255910873,5.030395984649658 1.1649774014949799,7.862130403518677 l-2.085753083229065,1.413528174161911 -4.128037095069885,8.492539525032043 l1.2142332643270493,3.156135678291321 -2.5968286395072937,0.2787759341299534 l-0.48642903566360474,0.2702442370355129 -0.8869227021932602,-0.4259113222360611 l-2.4452733993530273,-2.4371108412742615 -0.45406587421894073,-1.5178938210010529 l0.00016837488146848045,-3.3622321486473083 -0.000654837058391422,-6.1334943771362305 l-0.8860292285680771,-0.5161953717470169 -1.6916565597057343,-0.6170884147286415 l-1.458945870399475,-1.5495117008686066 -0.7982318848371506,-1.488010287284851 l-8.696406483650208,7.772391438484192 -5.810704827308655,1.067214157046692e-05 l-0.6203407421708107,-1.8297623097896576 -0.44168613851070404,1.8512313067913055 l1.24462328851223,1.8196921050548553 1.1453189700841904,1.589467078447342 l2.2326038777828217,0.7099739462137222 -0.45413557440042496,4.520002603530884 l1.2534865736961365,1.7622476816177368 -1.9877846539020538,-2.2917995465832064e-05 l-0.08689279668033123,-1.05900838971138 0.00016283704098896123,-1.1872970312833786 l-0.40515169501304626,-1.1372771859169006 0.0005111912832944654,-6.633844971656799 l-2.358900308609009,-0.16694160178303719 -0.8988877385854721,-1.320929080247879 l-0.0005545746171264909,-0.41181713342666626 -1.7729224264621735,-5.149978995323181 m-5.665751695632935,0.2758938632905483 l-0.00013804557966068387,1.4660283923149109 0.8709010481834412,-0.6710579246282578 m25.979995727539062,-16.63323998451233 l-0.6111185625195503,1.4091625809669495 0.3999383747577667,7.140169143676758 \" fill=\"none\" stroke=\"black\" stroke-width=\"1\"/></svg>"
      ],
      "text/plain": [
       "<IPython.core.display.SVG object>"
      ]
     },
     "metadata": {},
     "output_type": "display_data"
    }
   ],
   "source": [
    "stroke_list = []\n",
    "for i in range(10):\n",
    "  stroke_list.append([decode(z, draw_mode=False, temperature=0.1*i+0.1), [0, i]])\n",
    "stroke_grid = make_grid_svg(stroke_list)\n",
    "draw_strokes(stroke_grid)"
   ]
  },
  {
   "cell_type": "markdown",
   "metadata": {
    "colab_type": "text",
    "id": "4xiwp3_DFQvB"
   },
   "source": [
    "Latent Space Interpolation Example between $z_0$ and $z_1$"
   ]
  },
  {
   "cell_type": "code",
   "execution_count": 27,
   "metadata": {
    "colab": {
     "base_uri": "https://localhost:8080/",
     "height": 123
    },
    "colab_type": "code",
    "id": "WSX0uvZTFQvD",
    "outputId": "cd67af4e-5ae6-4327-876e-e1385dadbafc"
   },
   "outputs": [
    {
     "data": {
      "image/svg+xml": [
       "<svg baseProfile=\"full\" height=\"89.357505805757\" version=\"1.1\" width=\"96.18191800255772\" xmlns=\"http://www.w3.org/2000/svg\" xmlns:ev=\"http://www.w3.org/2001/xml-events\" xmlns:xlink=\"http://www.w3.org/1999/xlink\"><defs/><rect fill=\"white\" height=\"89.357505805757\" width=\"96.18191800255772\" x=\"0\" y=\"0\"/><path d=\"M32.48505583964288,47.16475630510104 m-0.12500888668000698,9.295365810394287 l3.4603071212768555,-0.4020308703184128 -0.8130290359258652,-9.050458073616028 l-1.186385229229927,-1.7549242079257965 -0.9904535859823227,-1.035686656832695 l-2.615332007408142,0.00048193924158113077 -1.5587055683135986,-1.8082848191261292 l-0.5681278556585312,-0.7528043538331985 -1.6562244296073914,0.0008037367661017925 l-1.4320963621139526,-2.1192632615566254 0.02089844085276127,-0.8640493452548981 l1.007901206612587,-0.8649700880050659 -0.23637857288122177,-1.5213268995285034 l0.4307299852371216,-1.0541483014822006 1.1260666698217392,-0.9437435120344162 l3.0378323793411255,-3.2855847477912903 2.427983433008194,-2.5021523237228394 l2.932967245578766,0.0011386258847778663 -9.013829185278155e-06,0.41007567197084427 l2.0197932422161102,-1.9500873982906342 4.157541394233704,-1.8623720109462738 l3.85223925113678,0.0009352547203889117 0.844266414642334,0.7102303951978683 l0.00023623779270565137,0.8455768972635269 1.9809956848621368,-1.6574777662754059 l4.3810465931892395,0.0006631900032516569 0.5288288742303848,1.4676757156848907 l2.307574450969696,0.000626612818450667 0.6538482010364532,1.5633845329284668 l1.8611468374729156,0.0007946036203065887 0.3867863863706589,1.5515659749507904 l1.6069628298282623,0.0009422600851394236 0.6440026313066483,1.3796594738960266 l2.488435059785843,1.6404877603054047 0.00032076684874482453,1.3760070502758026 l0.6593187898397446,0.0008944771980168298 0.00027343638066668063,1.174173727631569 l1.6055087745189667,0.0007555403863079846 0.6165087223052979,1.4557872712612152 l0.4515976086258888,0.0007526805711677298 0.6184836104512215,1.399616301059723 l0.00024048398699960671,1.1383233219385147 0.9848442673683167,0.0004087642446393147 l0.0001974894621525891,0.8015450835227966 1.8901358544826508,1.761176586151123 l0.00022154405087349005,1.4958849549293518 -0.14776612631976604,0.0006603448855457827 l0.00023303518901229836,1.438610553741455 0.5803120136260986,0.0006040604785084724 l0.4597918689250946,1.4034660160541534 -0.8058213442564011,1.4116552472114563 l-0.7793445885181427,0.0005466054426506162 0.0003439390638959594,1.698366105556488 l-0.3842063993215561,1.4530527591705322 -1.0352077335119247,1.4621838927268982 l-0.9327837824821472,1.6009023785591125 -0.6760857999324799,1.6095514595508575 l-0.9570950269699097,1.7660808563232422 -1.513432264328003,1.7779140174388885 l-1.1866399645805359,1.670706570148468 -1.3704538345336914,1.5176936984062195 l-2.3802906274795532,8.175576112989802e-05 0.0003444527101237327,0.049424897879362106 l-1.4744018018245697,-5.096115955893765e-06 3.777710617214325e-05,-0.8126255869865417 l-0.42789582163095474,-4.761181175708771 -0.2807537093758583,-1.2338687479496002 l-1.2175530940294266,-3.381098210811615 -1.1654727160930634,-2.1751707792282104 l-2.344641387462616,0.0003671765443868935 4.723186521005118e-05,0.7458220422267914 l-2.0565392076969147,0.00048259909817716107 -1.654757410287857,1.3923181593418121 l-3.6632001399993896,0.000511486578034237 -1.4468586444854736,1.3404156267642975 l-2.805085778236389,0.0005130366480443627 -1.069442480802536,1.528020054101944 l-2.1878649294376373,0.0004480792995309457 7.664662007300649e-06,3.126288950443268 l-0.669802725315094,5.55874764919281 -0.9087153524160385,0.9546510130167007 l-2.631464898586273,0.00024242650397354737 -1.8362237513065338,-2.0365068316459656 l0.0003879690484609455,-4.962531626224518 -0.2622166648507118,-4.607928395271301 l-0.22624948993325233,-1.0134616494178772 -0.49431242048740387,-0.8760914206504822 l-0.3251514211297035,-1.0126268863677979 -0.44244352728128433,-0.9837637096643448 l-0.18416427075862885,-0.9855861961841583 -0.12445691041648388,-1.027560532093048 l-0.1469646394252777,-0.9550748020410538 m17.146083116531372,-3.9074766635894775 l0.0013326734188012779,1.286405771970749 m3.69960218667984,0.30269697308540344 l2.016402631998062,0.00033906060707522556 \" fill=\"none\" stroke=\"black\" stroke-width=\"1\"/></svg>"
      ],
      "text/plain": [
       "<IPython.core.display.SVG object>"
      ]
     },
     "metadata": {},
     "output_type": "display_data"
    }
   ],
   "source": [
    "# get a sample drawing from the test set, and render it to .svg\n",
    "z0 = z\n",
    "_ = decode(z0)"
   ]
  },
  {
   "cell_type": "code",
   "execution_count": 28,
   "metadata": {
    "colab": {
     "base_uri": "https://localhost:8080/",
     "height": 194
    },
    "colab_type": "code",
    "id": "jQf99TxOFQvH",
    "outputId": "4265bd5f-8c66-494e-b26e-d3ac874d69bb"
   },
   "outputs": [
    {
     "data": {
      "image/svg+xml": [
       "<svg baseProfile=\"full\" height=\"81.31779339164495\" version=\"1.1\" width=\"114.52545404434204\" xmlns=\"http://www.w3.org/2000/svg\" xmlns:ev=\"http://www.w3.org/2001/xml-events\" xmlns:xlink=\"http://www.w3.org/1999/xlink\"><defs/><rect fill=\"white\" height=\"81.31779339164495\" width=\"114.52545404434204\" x=\"0\" y=\"0\"/><path d=\"M34.44933455437422,32.55946759134531 m0.0,0.0 l-4.049714803695679,2.159847915172577 -2.159847915172577,1.6198858618736267 l-1.8898668885231018,2.159847915172577 -1.0799239575862885,4.049714803695679 l-0.2699809893965721,5.6696003675460815 1.6198858618736267,2.159847915172577 l4.049714803695679,1.3499048352241516 3.5097527503967285,0.0 l4.589676558971405,-1.0799239575862885 3.2397717237472534,-4.319695830345154 l2.6998096704483032,-7.559467554092407 m-9.71931517124176,-1.0799239575862885 l-0.5399619787931442,0.2699809893965721 -0.2699809893965721,1.3499048352241516 l1.0799239575862885,0.2699809893965721 0.2699809893965721,-0.5399619787931442 l-1.3499048352241516,-0.2699809893965721 m5.129638910293579,-4.049714803695679 l0.0,1.0799239575862885 0.8099429309368134,1.6198858618736267 l1.3499048352241516,1.3499048352241516 3.5097527503967285,1.0799239575862885 l1.3499048352241516,-0.8099429309368134 0.2699809893965721,-4.589676558971405 l-2.42982879281044,-1.3499048352241516 m-18.088725805282593,14.308991432189941 l1.3499048352241516,1.0799239575862885 -0.2699809893965721,1.0799239575862885 m6.209562420845032,1.6198858618736267 l0.8099429309368134,-2.6998096704483032 m0.2699809893965721,-15.658897161483765 l2.9697906970977783,-1.8898668885231018 4.589676558971405,-0.2699809893965721 m1.6198858618736267,12.149144411087036 l0.0,2.159847915172577 1.8898668885231018,1.0799239575862885 l3.2397717237472534,0.0 0.5399619787931442,-0.2699809893965721 l0.2699809893965721,-0.8099429309368134 -0.8099429309368134,1.6198858618736267 l1.3499048352241516,1.8898668885231018 1.0799239575862885,0.5399619787931442 l4.319695830345154,0.0 1.0799239575862885,-1.8898668885231018 l0.0,1.0799239575862885 2.159847915172577,2.159847915172577 l5.6696003675460815,0.2699809893965721 0.8099429309368134,-1.0799239575862885 l0.5399619787931442,1.0799239575862885 1.6198858618736267,0.8099429309368134 l2.6998096704483032,0.0 3.2397717237472534,-1.6198858618736267 l1.0799239575862885,-1.3499048352241516 1.0799239575862885,0.5399619787931442 l4.319695830345154,0.0 0.8099429309368134,-0.5399619787931442 l1.6198858618736267,-2.42982879281044 0.2699809893965721,-2.6998096704483032 l-0.5399619787931442,-1.3499048352241516 1.6198858618736267,-2.159847915172577 l0.2699809893965721,-1.0799239575862885 0.0,-2.6998096704483032 l-0.8099429309368134,-1.0799239575862885 2.159847915172577,-0.2699809893965721 l1.6198858618736267,-1.0799239575862885 1.6198858618736267,-0.2699809893965721 l1.0799239575862885,-0.5399619787931442 0.0,-0.8099429309368134 l-1.8898668885231018,-1.6198858618736267 -4.589676558971405,0.0 l-0.5399619787931442,0.2699809893965721 -0.5399619787931442,1.3499048352241516 l-0.2699809893965721,-1.3499048352241516 -2.6998096704483032,-2.6998096704483032 l-2.9697906970977783,-0.2699809893965721 -1.6198858618736267,0.8099429309368134 l-1.6198858618736267,-1.8898668885231018 -2.9697906970977783,0.2699809893965721 l-2.42982879281044,1.6198858618736267 -4.319695830345154,-2.9697906970977783 l-2.9697906970977783,0.2699809893965721 -3.2397717237472534,1.6198858618736267 l-2.42982879281044,-2.159847915172577 -1.3499048352241516,-0.2699809893965721 l-3.7797337770462036,0.2699809893965721 -3.2397717237472534,1.8898668885231018 l-2.9697906970977783,0.5399619787931442 -0.8099429309368134,0.5399619787931442 l-0.5399619787931442,1.0799239575862885 -0.2699809893965721,1.8898668885231018 m6.479543447494507,15.928877592086792 l-0.2699809893965721,1.3499048352241516 -2.42982879281044,3.7797337770462036 l-0.2699809893965721,2.6998096704483032 0.8099429309368134,1.3499048352241516 l1.8898668885231018,0.0 2.159847915172577,-0.8099429309368134 l0.8099429309368134,-2.42982879281044 0.0,-3.5097527503967285 \" fill=\"none\" stroke=\"black\" stroke-width=\"1\"/></svg>"
      ],
      "text/plain": [
       "<IPython.core.display.SVG object>"
      ]
     },
     "metadata": {},
     "output_type": "display_data"
    },
    {
     "data": {
      "image/svg+xml": [
       "<svg baseProfile=\"full\" height=\"82.28744984760851\" version=\"1.1\" width=\"106.01387550960567\" xmlns=\"http://www.w3.org/2000/svg\" xmlns:ev=\"http://www.w3.org/2001/xml-events\" xmlns:xlink=\"http://www.w3.org/1999/xlink\"><defs/><rect fill=\"white\" height=\"82.28744984760851\" width=\"106.01387550960567\" x=\"0\" y=\"0\"/><path d=\"M33.6156490445137,30.846684058799383 m-4.12731260061264,2.1732304990291595 l-1.9572645425796509,1.7537294328212738 -1.735270619392395,2.2783535718917847 l-0.7958012819290161,3.9522919058799744 1.6058550775051117,3.960615396499634 l4.1960495710372925,1.8850116431713104 3.956594169139862,0.00038982932892395183 l2.0909614861011505,-0.876031368970871 1.2957821786403656,-1.2860099971294403 l0.8063109964132309,-1.9221386313438416 -9.173175385512877e-05,-4.504911303520203 m-6.469160318374634,-6.266698837280273 l-0.0003276420829934068,-0.12836163863539696 1.8642457462192397e-05,0.6620483845472336 l3.488549964458798e-05,0.9156014025211334 0.5028825998306274,-0.00016653882994432934 l3.527761009536334e-05,-1.0444238036870956 m-2.3886768519878387,4.093141257762909 l1.2826023995876312,-0.0003850392749882303 -0.00029149216061341576,-0.16594236716628075 m3.5838359594345093,2.3362700641155243 l0.6728317588567734,-0.0002614120239741169 -0.0003244351682951674,0.5854612588882446 l0.5702695250511169,-0.00012309605153859593 -0.00011489216376503464,-0.04108653403818607 m0.7685688883066177,-2.5112834572792053 l0.5650094151496887,-0.00045945660531288013 1.8093477189540863,0.933295488357544 l-0.00023885850168881007,1.8324489891529083 0.4166269302368164,-6.904319434397621e-05 l-5.682932624040404e-05,0.8630484342575073 1.0868803411722183,-0.0003488502625259571 l0.22744867950677872,1.6842034459114075 0.9429169446229935,0.94070203602314 l1.3302785158157349,0.8208069205284119 0.39581239223480225,2.0063623785972595 l1.2259965389966965,1.0823535174131393 1.511516273021698,0.853949561715126 l3.8570040464401245,1.4884468913078308 4.143381416797638,-0.00036810728488489985 l1.156613752245903,-0.8838246017694473 7.278558611869812,2.4087266623973846 l4.273243844509125,-8.170446562871803e-05 1.4705546200275421,-0.953543409705162 l0.7713492959737778,-1.4405976235866547 6.6753023862838745,0.6854961067438126 l1.3055366277694702,-1.075160950422287 1.2784220278263092,-3.1077364087104797 l-9.166280506178737e-05,-2.5320520997047424 -0.5172703415155411,-0.8895283192396164 l2.182033210992813,-1.9331838190555573 0.1540535595268011,-3.5900959372520447 l-0.8648168295621872,-1.239536702632904 -1.8856197595596313,-1.5500834584236145 l-2.3465435206890106,-0.8722421526908875 -0.12933600693941116,-2.0515675842761993 l-0.949893444776535,-1.2107489258050919 -1.4562197029590607,-1.0025975108146667 l-1.63870170712471,-0.92744380235672 -2.5498992204666138,1.5836636748645105e-05 l-2.490539997816086,1.3428178429603577 -1.6186630725860596,-2.1036605536937714 l-1.9099844992160797,-1.2228941172361374 -3.0592885613441467,-1.4319451793198823e-05 l-1.8377043306827545,0.8780001848936081 -1.7764519155025482,1.9235965609550476 l-2.1142297983169556,-1.8989787995815277 -2.1189720928668976,-0.9524284303188324 l-2.9341676831245422,-2.8849335649283603e-05 -1.92342147231102,0.8960805833339691 l-1.8736369907855988,2.233024090528488 -1.7153625190258026,-1.2342557311058044 l-1.8560166656970978,-0.7240389287471771 -2.2850067913532257,0.0002066089837171603 l-1.4921660721302032,0.9398212283849716 -1.2039357423782349,2.082076072692871 l-0.00024015935196075588,1.8780675530433655 0.47235578298568726,0.9785692393779755 l1.580336856932263e-05,1.7035803198814392 -1.2513338029384613,1.3771651685237885 m9.377477765083313,13.826531171798706 l-1.3315393030643463,2.5977498292922974 4.549937784759095e-05,3.8310739398002625 l0.5822170153260231,1.036325916647911 1.559029221534729,9.327837688033469e-05 l0.8973787724971771,-0.8498237282037735 0.6127066910266876,-1.4738775789737701 l8.76107606018195e-06,-2.3930127918720245 -0.14347190968692303,-0.8369684964418411 l0.0001170414179796353,-1.27493217587471 m19.01832342147827,1.1116375774145126 l0.17166351899504662,5.365190505981445 0.6375555694103241,1.2165558338165283 l1.2857092916965485,0.0006103609484853223 0.8405201882123947,-0.7081743329763412 l0.6153926998376846,-1.2068723142147064 0.0002451062391628511,-3.1170323491096497 l-0.8101514726877213,-1.508699208498001 \" fill=\"none\" stroke=\"black\" stroke-width=\"1\"/></svg>"
      ],
      "text/plain": [
       "<IPython.core.display.SVG object>"
      ]
     },
     "metadata": {},
     "output_type": "display_data"
    }
   ],
   "source": [
    "stroke = test_set.random_sample()\n",
    "z1 = encode(stroke)\n",
    "_ = decode(z1)"
   ]
  },
  {
   "cell_type": "markdown",
   "metadata": {
    "colab_type": "text",
    "id": "tDqJR8_eFQvK"
   },
   "source": [
    "Now we interpolate between sheep $z_0$ and sheep $z_1$"
   ]
  },
  {
   "cell_type": "code",
   "execution_count": 29,
   "metadata": {
    "colab": {},
    "colab_type": "code",
    "id": "_YkPNL5SFQvL"
   },
   "outputs": [],
   "source": [
    "z_list = [] # interpolate spherically between z0 and z1\n",
    "N = 10\n",
    "for t in np.linspace(0, 1, N):\n",
    "  z_list.append(slerp(z0, z1, t))"
   ]
  },
  {
   "cell_type": "code",
   "execution_count": 30,
   "metadata": {
    "colab": {},
    "colab_type": "code",
    "id": "UoM-W1tQFQvM"
   },
   "outputs": [],
   "source": [
    "# for every latent vector in z_list, sample a vector image\n",
    "reconstructions = []\n",
    "for i in range(N):\n",
    "  reconstructions.append([decode(z_list[i], draw_mode=False), [0, i]])"
   ]
  },
  {
   "cell_type": "code",
   "execution_count": 31,
   "metadata": {
    "colab": {
     "base_uri": "https://localhost:8080/",
     "height": 122
    },
    "colab_type": "code",
    "id": "mTqmlL6GFQvQ",
    "outputId": "062e015f-29c6-4e77-c6db-e403d5cabd59"
   },
   "outputs": [
    {
     "data": {
      "image/svg+xml": [
       "<svg baseProfile=\"full\" height=\"105.62390322211286\" version=\"1.1\" width=\"836.9734572552558\" xmlns=\"http://www.w3.org/2000/svg\" xmlns:ev=\"http://www.w3.org/2001/xml-events\" xmlns:xlink=\"http://www.w3.org/1999/xlink\"><defs/><rect fill=\"white\" height=\"105.62390322211286\" width=\"836.9734572552558\" x=\"0\" y=\"0\"/><path d=\"M25,25 m0.0,0.0 m23.922512052108686,37.47369806423535 l-0.12080974876880646,9.292222261428833 3.4785330295562744,-0.41314367204904556 l-0.9342438727617264,-8.684440851211548 -1.2556234002113342,-1.853686273097992 l-1.0554273426532745,-0.9848224371671677 -2.8029772639274597,0.0005082986535853706 l-1.9826145470142365,-1.8890810012817383 0.00016162830434041098,-1.063934564590454 l-0.4589710012078285,0.0008814220927888528 -0.8994584530591965,-1.9277618825435638 l0.00019078950572293252,-1.3299599289894104 0.47000687569379807,-0.8058832585811615 l0.7103342562913895,-0.8668606728315353 1.9894003868103027,-3.5452470183372498 l2.1145550906658173,-2.7767980098724365 2.688267230987549,-2.3624859750270844 l3.1270992755889893,0.0010109710274264216 0.7230411469936371,0.5921333655714989 l0.00014861861018289346,0.30205175280570984 1.9532983005046844,-1.9029442965984344 l3.764554262161255,-1.8105365335941315 3.729833662509918,0.001004633741104044 l0.759013369679451,1.6885176301002502 4.808870851993561,-0.7599806040525436 l0.4586171731352806,1.555531769990921 0.0002043411586782895,1.0361776500940323 l4.8916566371917725,0.020403654780238867 0.1174734253436327,1.5385530889034271 l1.90312922000885,0.0008113184594549239 0.404561348259449,1.5367324650287628 l1.5136392414569855,0.0008024757698876783 0.07724538445472717,1.561294049024582 l1.017194464802742,0.0008937280654208735 0.2704836241900921,1.4510652422904968 l1.247418373823166,0.0007486392132705078 0.22570418193936348,1.3580596446990967 l2.3263218998908997,1.0299170762300491 0.00027133015464642085,1.4923132956027985 l-1.044979766011238,0.739489272236824 2.8434020280838013,1.477666050195694 l-0.2109692059457302,1.5072503685951233 -1.1133501678705215,0.7580423355102539 l2.2095806896686554,1.9368064403533936 -0.45235544443130493,1.363479197025299 l-1.2017451971769333,1.198495626449585 -0.8168764412403107,0.0005748479452449828 l0.00023868264179327525,1.4689990878105164 -0.5055677890777588,1.418485939502716 l-1.0071907937526703,1.3592302799224854 -0.8944085985422134,1.514912098646164 l-0.9874103218317032,1.6030265390872955 -1.2173203378915787,1.665339171886444 l-1.209726333618164,1.706618070602417 -1.4552360773086548,1.5720249712467194 l-2.119308263063431,0.0003195520184817724 0.00026049594453070313,0.5503692477941513 l-1.024903729557991,1.3947771489620209 -2.1505169570446014,-1.1650579381239368e-05 l-1.486070454120636,-1.4499293267726898 0.00019624716514954343,-1.846601516008377 l-0.5639993399381638,-4.276562333106995 -0.5241585895419121,-1.0812799632549286 l6.826224307587836e-05,-1.4126600325107574 -0.4814401641488075,-0.853448212146759 l-1.9655217230319977,0.0004412447742652148 -1.505909264087677,-1.2957292795181274 l-2.2572843730449677,0.00045552635128842667 -1.8880106508731842,1.0978417843580246 l-2.0609882473945618,1.2419502437114716 -2.219099849462509,0.00035708708310266957 l-1.516956090927124,1.40103280544281 -2.579095959663391,0.00043421165173640475 l-6.096792617427127e-06,2.0211493968963623 -1.348872035741806,1.688804179430008 l-0.5128179118037224,4.740321040153503 -0.804126188158989,0.9690356999635696 l-2.1462243795394897,0.00025209312298102304 0.000733446649974212,-0.36530889570713043 l0.0006205770478118211,-1.3967306911945343 0.00045012599002802745,-3.496982455253601 l-0.20084379240870476,-4.982598721981049 -0.631934180855751,-3.041999042034149 l-0.3959409147500992,-0.9160620719194412 -0.569736547768116,-2.7693971991539 l-0.2624071016907692,-0.9196750819683075 -0.06668008398264647,-0.8403357863426208 l-0.1217422541230917,-0.9104680269956589 -0.3131721541285515,-0.8727019280195236 m22.658092975616455,0.43787360191345215 l1.8538795411586761,0.0001864676596596837 -0.0004133393304073252,0.8376777172088623 l1.8702524900436401,0.00012206228348077275 m4.552662372589111,-0.23833032697439194 l2.600942850112915,0.0004132256071898155 m-15.697367191314697,-2.279183119535446 l2.381817400455475,0.0006768172170268372 m61.088595075156604,-0.305320057765357 l-0.8437623828649521,9.67369794845581 2.9514530301094055,-0.16470786184072495 l-0.8237889409065247,-7.95024037361145 -1.1953388154506683,-1.8354904651641846 l-0.9097562730312347,-1.1549769341945648 -2.033218890428543,0.00040210376027971506 l-2.434765249490738,0.00048316964239347726 -1.997978389263153,0.000795965243014507 l-1.5688109397888184,-2.551921010017395 0.00024805896828183904,-2.030688375234604 l1.2021905183792114,-1.021430641412735 1.559065729379654,-0.8961725234985352 l3.328787386417389,-3.282441794872284 2.8750044107437134,-2.7790331840515137 l2.701682150363922,0.0008734356379136443 6.673985808447469e-05,0.6031667068600655 l1.372174471616745,-1.873793751001358 3.4563618898391724,-2.0964109897613525 l3.391534388065338,0.0007517704216297716 0.7655353099107742,0.6280230730772018 l0.0003252262467867695,1.2690350413322449 2.172468900680542,0.0006737389776390046 l1.1514333635568619,1.6412368416786194 0.0004657665340346284,1.1940871179103851 l2.0475681126117706,0.0007314499089261517 0.6336222589015961,1.620323359966278 l2.285672277212143,1.3407789170742035 0.00048176974814850837,1.3787849247455597 l2.115519940853119,1.231769472360611 0.000573015604459215,1.5356089174747467 l-1.0487699508666992,0.838291123509407 1.354099065065384,0.000785873708082363 l0.7801695913076401,1.431930810213089 0.00033328171411994845,1.3022927939891815 l0.2822044864296913,0.0007570620073238388 0.000321280604111962,0.9190260618925095 l0.9550422430038452,0.0007578366057714447 0.0002671864422154613,0.6506182253360748 l1.5255266427993774,0.0008413301839027554 0.00022206701032700948,0.6611347198486328 l1.400027573108673,0.0007856303273001686 1.0474510490894318,1.0892542451620102 l1.72777459025383,0.000750301405787468 5.8583764257491566e-05,0.371723510324955 l1.721019446849823,0.0007944957178551704 1.1659670621156693,1.1128922551870346 l1.421019732952118,0.0007065750105539337 8.209446605178528e-05,0.2827920578420162 l1.6312161087989807,0.0007947163248900324 2.4945828318595886,0.0006028590360074304 l9.521392712485977e-05,0.562770664691925 1.4514201879501343,0.000763050265959464 l0.0002007864895858802,0.564214214682579 1.766648143529892,0.0007375435234280303 l0.902499333024025,1.1035942286252975 0.000129845493574976,1.5360265970230103 l0.38798805326223373,0.0008235006680479273 0.5704625323414803,1.3558375835418701 l0.00011858472134917974,1.9006983935832977 -0.7652469724416733,0.0008150919893523678 l0.00028826636480516754,2.267434448003769 -0.7654586434364319,1.5793240070343018 l0.0002795561886159703,3.71038556098938 -0.8304952085018158,0.9039310365915298 l0.0004623588756658137,2.807384431362152 -0.8748041838407516,0.7945325970649719 l-3.05317223072052,0.000232656930165831 0.0003191963696735911,-0.7781932502985001 l0.0002814752770063933,-1.3763359189033508 -0.00014103507965046447,-3.1495392322540283 l-1.1453505605459213,-4.897964596748352 -1.1771772801876068,-3.395991623401642 l-0.64442478120327,-0.845121294260025 -2.581948935985565,0.00038471851439680904 l-0.00011633368558250368,0.9547498822212219 -2.435774505138397,0.00042806335841305554 l-1.6053980588912964,1.3197462260723114 -4.364702999591827,0.0003580000702640973 l-1.88942551612854,1.236138790845871 -4.05663937330246,0.0004064478343934752 l-1.5287896990776062,1.150875985622406 -0.4428064450621605,6.4889830350875854 l-0.6916520744562149,4.739961624145508 -0.7834377884864807,0.8524106442928314 l-2.623249590396881,0.00027032998332288116 -1.8308687210083008,-2.2729383409023285 l0.00013666737686435226,-7.326576113700867 -0.6930992007255554,-3.3938488364219666 l-1.9931277632713318,0.0007221356645459309 0.00033036412787623703,-0.3733264282345772 l-0.4230557009577751,-0.9423980861902237 -0.6028188392519951,-1.1471007764339447 l-0.508379191160202,-1.035521999001503 -0.6300723552703857,-1.0992705076932907 l-0.6574234366416931,-1.0913708060979843 m7.921051979064941,-2.7612048387527466 l0.00040542039641877636,1.436421424150467 m1.250273734331131,0.956711545586586 l1.8284184761796496e-05,1.6361182928085327 m62.99604343309056,-5.115878719943794 l-1.5166953206062317,9.44879412651062 2.2951453924179077,0.3012160025537014 l-0.623071976006031,-6.02857768535614 -0.9576950222253799,-1.7162221670150757 l-0.7602889090776443,-1.2466545403003693 -0.3324558958411217,-1.0789462178945541 l-0.19744982942938805,-0.9621122479438782 -0.044642011635005474,0.0006345053407130763 l0.32626934349536896,0.0006239525100681931 0.248637106269598,0.0005679706373484805 l-0.21056076511740685,0.0006707708234898746 -0.3736124560236931,0.0006986279913689941 l0.0653658714145422,0.000814451341284439 0.2297484688460827,0.0007954484317451715 l0.11465693823993206,0.000800730922492221 0.2459252066910267,0.0008279470057459548 l0.0003178750557708554,-0.9066706895828247 -0.1158487144857645,0.0008230904495576397 l0.00034681110264500603,-0.18236707895994186 0.00031449566449737176,-0.2254985086619854 l0.0003549283792381175,-0.3213205933570862 0.0004136459028813988,-0.20010141655802727 l0.0004098723366041668,-0.06097437348216772 0.0004209737016935833,-0.482826866209507 l1.2027015537023544,0.0008003080438356847 0.0004085672117071226,-0.39437655359506607 l0.8505371958017349,0.0008358416380360723 0.0004639767939806916,-0.5037694796919823 l0.969952791929245,0.0008184163016267121 0.00048153397074202076,-0.2478896826505661 m2.5697746872901917,-4.482389986515045 l3.8451018929481506,-4.1810303926467896 7.43202269077301,-2.4410395324230194 l6.922318339347839,0.0006112377741374075 2.4286116659641266,1.8280453979969025 l0.45780353248119354,1.6417022049427032 6.489233374595642,-0.47054458409547806 l0.9616439789533615,0.6294500082731247 2.666306727405754e-05,1.410432606935501 l2.48898908495903,0.00038744459743611515 0.730043426156044,0.8730780333280563 l0.00023967148081283085,1.1412356048822403 1.886770874261856,0.00033576889109099284 l1.2635864317417145,1.4222581684589386 0.00016400577806052752,1.8126140534877777 l1.2914659082889557,0.00040642738895257935 1.2712424993515015,1.457049548625946 l8.773004992690403e-05,1.8935920298099518 -0.9689346700906754,0.7791624963283539 l1.0657891631126404,0.0005485466317622922 1.503332108259201,1.5579116344451904 l6.380564627761487e-05,2.3153655230998993 -0.9080756455659866,0.8224890381097794 l-0.5447284504771233,0.0006589964323211461 0.8726168423891068,1.5417499840259552 l5.598336883849697e-05,3.013153374195099 -0.9484409540891647,0.9209529310464859 l-0.6633564829826355,1.4600476622581482 -0.6901008635759354,1.5860354900360107 l-1.094880849123001,1.5818209946155548 -1.368471086025238,1.606186181306839 l-2.1526098251342773,0.0003743223351193592 0.0002484992910467554,1.2448199838399887 l-1.4559003710746765,0.00034179396607214585 0.0001275761314900592,0.7120668143033981 l-1.5047958493232727,0.00031301959097618237 -1.0545509212533943e-05,0.3263450041413307 l-1.651470810174942,0.00028914168069604784 -1.228114001605718e-05,-0.19617987796664238 l-1.9175606966018677,0.0003436191036598757 -4.6934546844568104e-05,-1.3589692115783691 l-1.0640618205070496,-3.895193934440613 -1.4491088688373566,-3.460906147956848 l-0.7149481028318405,-0.8838506042957306 -3.029646873474121,0.0003093182749580592 l-2.489488869905472,0.00022239946702029556 -4.737717509269714,0.00032866300898604095 l-2.38145649433136,1.2407492846250534 -3.7824010848999023,0.000596829122514464 l-0.6999685615301132,0.7437223941087723 -0.0949551910161972,7.582142353057861 l-1.721586436033249,1.6300633549690247 -2.5333967804908752,0.00013224062058725394 l-1.655876487493515,-2.0077285170555115 2.4727009986236226e-05,-4.633206725120544 l-0.227424968034029,-4.170916378498077 -0.8637553453445435,-2.7665793895721436 l-0.4787655919790268,-0.9279942512512207 -0.4443288594484329,-0.9281706809997559 m7.968136668205261,-3.9057311415672302 l0.00029646502298419364,1.7653408646583557 m70.31606935111284,-9.056280917820914 l-2.068818211555481,8.857741355895996 1.626877337694168,0.6017233431339264 l-0.4905807226896286,-4.697778224945068 -0.9016048163175583,-1.6413387656211853 l-0.0002012120239669457,-2.2728313505649567 0.06276156287640333,-1.135047823190689 l0.1424868404865265,-1.011212170124054 0.7919397950172424,0.000591381176491268 l6.8928653718103305e-06,0.820106640458107 1.6870854794979095,0.000531264922756236 l1.649937778711319,-2.8484877943992615 0.0003086873402935453,-0.6269491463899612 l1.3077962398529053,0.0008643757610116154 6.792435646057129,-0.8497453480958939 l0.00022721098503097892,0.499550960958004 1.4153018593788147,0.00040899572923080996 l2.3677238821983337,0.16147801652550697 0.00023419845092575997,0.582975298166275 l-0.10236120782792568,8.693325071362779e-05 -3.2886457443237305,0.43950799852609634 l-5.070286989212036,0.0004908191112917848 -1.5892858803272247,0.7006137818098068 l-2.6936212182044983,0.0011134776286780834 -2.609494924545288,0.0006906807539053261 l0.0005091174170956947,0.6126026809215546 0.36660391837358475,0.0007772311073495075 l1.5939924120903015,0.00042387760913698 1.7789861559867859,0.0005412777318269946 m2.046813517808914,-3.210459053516388 l0.0005810758375446312,-0.7615645974874496 0.788545161485672,-0.8764289319515228 l2.1518902480602264,0.0004858474130742252 0.00041389466787222773,0.9996376931667328 l1.0504423826932907,0.0006192376167746261 0.0002954600131488405,0.5569224804639816 l1.8521417677402496,0.0007266427564900368 0.0002756161484285258,0.6900174915790558 l2.506232261657715,0.0008726520900381729 0.8826655894517899,1.271512508392334 l2.6342129707336426,0.000858130442793481 1.1579059809446335,1.1279675364494324 l5.020738244056702,0.2582557126879692 0.7120147347450256,1.0401523113250732 l2.937004566192627,0.000989694381132722 3.4823060035705566,-1.8025898933410645 l2.902718484401703,0.0006681659579044208 0.6451223790645599,0.7573825120925903 l2.3018361628055573,0.0007202837150543928 0.6196341291069984,0.8254585415124893 l2.6068314909934998,0.00048245012294501066 1.0189098119735718,1.12061507999897 l1.977829486131668,0.0005249059540801682 8.017693289730232e-05,1.0364889353513718 l1.2178044766187668,0.0007069318962749094 0.6960451602935791,1.3233229517936707 l0.0001650070771574974,1.842796504497528 -1.1841519176959991,1.2594100832939148 l0.0001296491245739162,2.5179967284202576 -0.9834738075733185,1.5241357684135437 l7.015009941824246e-05,2.9374873638153076 -0.7086989283561707,1.0132785141468048 l-1.2902094423770905,1.7713652551174164 2.772723519228748e-05,3.79052996635437 l-0.7913971692323685,1.01582370698452 0.00011316523341520224,2.0954544842243195 l-0.849553793668747,0.7494866102933884 -2.3564977943897247,-6.864227543701418e-05 l-1.5731094435977866e-05,-1.9800639152526855 -0.7334943115711212,-4.877535402774811 l-0.4660211503505707,-1.3070699572563171 -1.2530030310153961,-3.5481569170951843 l-0.5977344885468483,-0.9815811365842819 -2.5950703024864197,0.00041784322093008086 l-2.6079076528549194,0.00031541985663352534 -1.9990120828151703,1.2376364320516586 l-2.409432977437973,1.163456067442894 -4.042114317417145,0.00016874717402970418 l-2.1754808723926544,1.0999325662851334 -1.7809994518756866,1.1973857134580612 l-0.7495073974132538,5.68480372428894 -1.2576425075531006,3.4432509541511536 l-2.7028602361679077,0.00022151356461108662 -1.922852098941803,-2.5110790133476257 l-0.012908143689855933,-6.585142016410828 -0.4684000089764595,-2.435929924249649 l-1.4475300908088684,-1.9810059666633606 -2.5371336936950684,9.489044714428019e-05 l0.000213093026104616,0.7908833026885986 -1.7381803691387177,0.0003042761454707943 l7.864731742301956e-05,0.5660214275121689 0.00012108985174563713,0.16223838552832603 l0.00023396289179800078,-0.5144519731402397 m0.33157601952552795,-8.772224187850952 l0.00015726458514109254,2.139017730951309 m77.28839526746441,-4.549227564157263 l-2.5442802906036377,7.848173379898071 0.9572239965200424,0.9944364428520203 l-1.2102944403886795,-0.0008103739673970267 -3.3453118801116943,-2.3474490642547607 l-0.00015737992725917138,-2.233920246362686 2.3495371639728546,-3.9667361974716187 l3.7018606066703796,-2.450011670589447 3.1763964891433716,-1.6747407615184784 l4.162828624248505,0.0002188897633459419 0.789942592382431,0.31085893511772156 l0.000323486965498887,2.5279784202575684 -0.921211913228035,1.1189398914575577 l-1.380598545074463,0.6088636070489883 -3.6687883734703064,0.00033641881600487977 l-1.9062070548534393,-1.9130487740039825 m-3.9701899886131287,0.44234149158000946 l0.4085782915353775,0.0009062972094397992 1.5610149502754211,0.00046611774450866506 l0.00017780206690076739,-0.7784070819616318 -1.2818439304828644,0.00038515332562383264 l7.546942470071372e-05,0.09028030559420586 0.7115087658166885,0.00013558948921854608 l0.00010668020877346862,-0.24357592687010765 -0.3905250132083893,0.00028584454412339255 l0.2156016230583191,0.0001981642890314106 0.00018037844711216167,-0.03612310625612736 m1.9746661186218262,0.6284601986408234 l0.00044811706175096333,0.21497054025530815 1.141013279557228,0.0005056053851149045 l2.0945938103977824e-05,-0.7646669447422028 -0.5364514514803886,0.0003619339986471459 m3.627161979675293,-1.791866421699524 l3.0920380353927612,-3.869498372077942 4.500601887702942,-2.787190079689026 l3.8109269738197327,0.0005810211223433726 0.9361429512500763,0.9361006319522858 l9.225634130416438e-05,1.312783658504486 2.3444516956806183,-2.210213989019394 l2.384832352399826,-0.8472280204296112 3.0994364619255066,0.000467752615804784 l0.9083345532417297,1.9888821244239807 2.760359048843384,-1.8130922317504883 l3.5420826077461243,0.0004520672882790677 0.7586512714624405,1.9772577285766602 l2.8068453073501587,-1.559026837348938 3.38675320148468,0.0005376288754632697 l0.7562091201543808,2.1128302812576294 0.00032268748327624053,1.0606803745031357 l2.625443935394287,0.000623382511548698 1.1674143373966217,1.7529615759849548 l0.00033558349969098344,1.7979860305786133 3.3363452553749084,2.427777200937271 l-0.05983626935631037,1.913469284772873 -0.9902182221412659,0.8567487448453903 l2.4312706291675568,3.0387040972709656 -0.568905659019947,1.7340804636478424 l-1.2000558525323868,0.8432953059673309 -0.2130441926419735,1.4914794266223907 l-0.7569839060306549,1.6298416256904602 -1.240430548787117,1.5441547334194183 l-1.2191472202539444,1.3204550743103027 -1.543612778186798,0.0003234917312511243 l-0.7623777538537979,1.6413900256156921 -1.5656374394893646,1.633993536233902 l-2.1023808419704437,0.0002075880729535129 -0.9925749897956848,-0.9253086894750595 l0.00014128854672890157,-0.3671150282025337 -1.0155875235795975,1.644599288702011 l-2.424021363258362,1.3018563389778137 -2.0519261062145233,0.00016951613361015916 l-1.5613402426242828,-1.8614774942398071 -1.441568285226822,1.44504114985466 l-2.2399698197841644,1.3140033185482025 -2.038220167160034,0.0003034353176190052 l-1.7370396852493286,-1.9666498899459839 -1.5678492188453674,1.322437971830368 l-2.3579800128936768,1.1931588500738144 -2.1094459295272827,0.0003475228731986135 l-1.806207001209259,-1.8934570252895355 -1.6888976097106934,1.2585625052452087 l-2.688959240913391,0.0005866081482963637 -1.6139894723892212,-1.791950762271881 l5.208875791140599e-05,-1.7080308496952057 -3.678067922592163,-0.0937078706920147 l-1.0765232145786285,-2.0074743032455444 0.0003084210038650781,-1.9886082410812378 l0.04430214874446392,-0.9211382269859314 m4.755386710166931,7.337180972099304 l-0.11248582042753696,7.5622159242630005 0.715673491358757,-0.0006223698437679559 l1.6730430722236633,-4.703030586242676 0.00030829058232484385,-5.127002596855164 m73.40760167416022,-18.721360996050862 l-2.9556256532669067,6.695343255996704 0.34166645258665085,1.2700681388378143 l-1.6079078614711761,-0.0006263257091632113 0.0005605516344076023,0.3958059474825859 l0.7204043120145798,0.0005567186599364504 3.9603817462921143,0.000357071912731044 l1.1650388687849045,-0.7928387820720673 3.1172457337379456,-3.7467846274375916 l5.137164862389909e-05,-2.824999690055847 m-6.919877529144287,-1.5733154118061066 l0.00017491331163910218,0.5434749647974968 1.4353303611278534,0.0008572098158765584 l-1.5303058944482473e-05,-0.9207337349653244 -0.3637019917368889,0.00033067619369830936 l-0.4708780348300934,0.0005753664299845695 0.0001677182808634825,0.11117018759250641 l0.5813019722700119,0.0001693918602541089 8.657623766339384e-05,-0.23235902190208435 m-0.07996024563908577,3.178105056285858 l1.4092561602592468,9.059844160219654e-05 0.00014256629583542235,-0.022577836643904448 l0.20463824272155762,0.0004565703420666978 -0.44947221875190735,0.0003593814471969381 l-0.4685264080762863,0.0002169663639506325 m3.0488011240959167,-0.9628388285636902 l0.00039671136619290337,-0.18331389874219894 3.49050372838974,-0.8374489843845367 l3.2819148898124695,-2.252698689699173 3.4429675340652466,-2.654257118701935 l3.0123907327651978,-2.380738854408264 3.2943788170814514,-2.2137820720672607 l4.390607476234436,0.00046689892769791186 1.2118662148714066,0.8730435371398926 l0.00011474469829408918,3.4920334815979004 -0.8134999126195908,1.1743731796741486 l-0.44457919895648956,0.00023911477910587564 0.4917687550187111,0.00019821976820821874 l2.571098208427429,0.9533397853374481 0.38963939994573593,1.7614313960075378 l2.4568373646616237e-05,2.4560923874378204 -0.8615536987781525,0.9674593806266785 l0.40512312203645706,0.00039827638829592615 2.6345989108085632,0.0002998863965331111 l0.6658041477203369,0.8567694574594498 4.187301328784088e-05,1.9397397339344025 l1.9776950776576996,0.00027211739507038146 0.00021992529582348652,1.1720258742570877 l5.3917174227535725e-05,1.5702053904533386 2.202211767435074,0.0003249213841627352 l0.0001785254426067695,1.0150966048240662 5.558556495088851e-05,1.865086853504181 l2.1487726271152496,0.0003709879456437193 1.1764511466026306,1.3999748229980469 l2.3971365408215206e-05,1.833254098892212 1.077253818511963,0.00040974242438096553 l0.9807167202234268,1.4584729075431824 -0.18786607310175896,1.3600470125675201 l-0.07099494338035583,0.00039675989683019 0.453876331448555,1.450807899236679 l-0.3496954217553139,1.6007745265960693 -0.9027536958456039,0.8456358313560486 l-0.7143502682447433,1.6694210469722748 -1.219848319888115,1.609458327293396 l-2.065960615873337,0.00033322718081763014 -1.0338632017374039,1.443248838186264 l-1.4948862791061401,1.4614738523960114 -2.2021612524986267,0.0001994108060898725 l-1.7115132510662079,-1.7972594499588013 0.00011200168955838308,-1.70908123254776 l-1.27073273062706,1.2668231129646301 -3.065885603427887,0.00043734791688621044 l-1.7194478213787079,-1.7359563708305359 -1.611037701368332,1.288919597864151 l-2.373538464307785,0.0005074390355730429 -1.9477255642414093,-1.7106696963310242 l-1.8805889785289764,1.0862939804792404 -2.515978217124939,0.0005768859773525037 l-1.7383494973182678,-1.5082119405269623 -0.00018828868633136153,-0.5701056867837906 l-1.5241125226020813,1.1740384250879288 -2.508326768875122,0.00046424825995927677 l-1.820206642150879,-1.7558611929416656 -0.00011319109034957364,-1.1150091141462326 l-0.11736511252820492,-0.9270234405994415 4.2204210330965e-05,-1.4451515674591064 l-0.6774729490280151,-3.2391321659088135 -0.3978399559855461,-3.008948266506195 m7.236184477806091,9.00994598865509 l-0.24692876264452934,7.810327410697937 1.08087956905365,-0.000655051990179345 l1.4923520386219025,-5.063211917877197 0.00022381962480721995,-5.312417149543762 m63.02125060667066,-16.36629628197852 l-3.320193886756897,5.528808832168579 -0.23926107212901115,1.41697496175766 l-1.531073898077011,0.7715319842100143 -0.6541120260953903,1.0704704374074936 l3.0352839530678466e-05,3.5918736457824707 1.1661002039909363,1.0822661966085434 l7.792609333992004,0.0002559218955866527 1.9014567136764526,-1.1967713385820389 l2.9640984535217285,-4.4254374504089355 -2.7614294140221318e-05,-3.4959346055984497 m-9.211959838867188,-4.064213335514069 l0.0001767186950019095,-0.5305526033043861 0.2561820298433304,-0.9141926467418671 l0.8017703145742416,0.000589495939493645 0.0001815465475374367,0.44644955545663834 l-0.010313746752217412,7.158112566685304e-05 -0.10682901367545128,0.00013101765944156796 l2.8369418032525573e-05,-0.09564056061208248 3.654493411886506e-05,-0.07911414839327335 l0.00012964144843863323,-0.01681652502156794 m-0.9288553148508072,3.875642418861389 l1.54245063662529,6.412915809050901e-05 0.5682505294680595,-0.9596648067235947 l-0.00017611173461773433,-1.0983523726463318 m1.9833186268806458,1.200387105345726 l7.101849405444227e-05,0.5843228474259377 -2.2448616618930828e-05,1.1986789107322693 l1.3337534666061401,0.0002175434201490134 -6.500989911728539e-05,-0.6809140741825104 l5.581093205364596e-06,-0.8242741972208023 m0.48031963407993317,-0.13152964413166046 l0.00024715918698348105,0.583893395960331 0.00023053215045365505,1.659587323665619 l0.9651215374469757,0.8977865427732468 1.8747879564762115,-0.00014931350051483605 l-0.2479350008070469,1.7005674540996552 0.8803927898406982,0.8875156193971634 l-0.19255958497524261,1.9482675194740295 0.8586045354604721,1.049545630812645 l-0.11940120719373226,1.8606679141521454 0.9043062478303909,1.0043710470199585 l-0.08201182819902897,1.8360655009746552 0.9836612641811371,1.0019321739673615 l1.5293481945991516,0.7398760318756104 3.3834481239318848,0.00019275770682725124 l0.6277359277009964,-0.9018490463495255 0.7863724231719971,1.3039107620716095 l3.643823564052582,0.0003943024785257876 2.1955618262290955,-1.72483429312706 l5.464697480201721,1.4098082482814789 3.8243678212165833,0.00043213352910242975 l0.9488210082054138,-0.9846032410860062 4.831326901912689,1.1318252980709076 l3.045634925365448,0.0003787849345826544 0.9431285411119461,-0.9166983515024185 l1.3599498569965363,-2.1170467138290405 3.87588769197464,-0.04964293912053108 l0.8762730658054352,-1.0727275907993317 0.0004294171594665386,-2.284446060657501 l-0.2544332481920719,-0.8462538570165634 1.8226607143878937,-1.8884019553661346 l0.2431928552687168,-3.761201500892639 -0.8425790816545486,-1.0489989817142487 l0.8161167800426483,-2.045218348503113 -0.691620409488678,-3.2982689142227173 l-1.2019266188144684,-1.0645489394664764 -1.2689632177352905,0.00021552892576437443 l-0.1994858682155609,-1.710933893918991 -0.9049976617097855,-1.1048179864883423 l-1.2511754035949707,-0.9412501007318497 -1.2832605838775635,-0.7815511524677277 l-1.314902901649475,-0.7958056032657623 -1.4334669709205627,-0.8764954656362534 l-1.8448024988174438,0.00027999383746646345 -1.07149139046669,0.732179805636406 l-1.4857891201972961,-1.5284335613250732 -1.6894665360450745,-0.8763100951910019 l-2.1741987764835358,6.0222942011023406e-05 -1.389748454093933,0.8463648706674576 l-0.779920369386673,1.0258878022432327 -1.9674474000930786,-1.4696089923381805 l-2.950926125049591,0.00016233278074651025 -1.3524022698402405,0.7937182486057281 l-1.2158215790987015,2.0009225606918335 -2.2789382934570312,-1.1633221060037613 l-2.6971840858459473,7.068610102578532e-05 -1.3080847263336182,0.8736368268728256 l-1.1606016010046005,2.1044857800006866 -2.5754234194755554,1.1032012104988098 l-0.5699564516544342,0.8950923383235931 m5.276229381561279,19.801080226898193 l-1.976552994165104e-05,4.808672666549683 -0.0922134704887867,3.4129294753074646 l0.3570547327399254,0.00026434061510371976 1.5677337348461151,0.0003050837040063925 l0.7829191535711288,-5.369516015052795 m62.24566608562327,-26.22488655536472 l-3.6408111453056335,4.362614452838898 -0.8227540552616119,1.6353684663772583 l-1.6872280836105347,1.3698530197143555 -1.2402231246232986,3.1049570441246033 l-0.00017445774574298412,3.6013323068618774 1.3177050650119781,1.1782045662403107 l8.09976041316986,0.0003575933078536764 5.126277208328247,-3.125919997692108 l1.226128563284874,-1.7505641281604767 -0.0002067404602712486,-3.773905634880066 l-0.28600262477993965,-1.4043419063091278 m-10.470443964004517,-2.333863079547882 l0.00013346451851248275,0.05512821953743696 -0.00024318260329891928,0.03767567686736584 l-0.20593352615833282,0.00041205443267244846 1.3702775731871952e-05,-0.18695829436182976 l-0.15511579811573029,5.790119303128449e-05 m-0.5832995101809502,4.12210613489151 l1.3788405060768127,-0.00011643680409179069 0.5608303844928741,-0.9591803699731827 l-0.00011778625776059926,-0.6413989514112473 m4.98893678188324,-0.7705871015787125 l-8.943780471781793e-06,0.8876355737447739 0.809251144528389,0.0001882301330624614 l-0.00013902536920795683,-0.1551272440701723 -0.0002122437763318885,-0.4278133809566498 l-7.606683084304677e-05,-0.09480456821620464 m-0.12136380188167095,0.1232841145247221 l-2.0489055714278948e-05,0.6472690403461456 -0.0001536016134195961,1.3042403757572174 l1.1728768795728683,1.551112973174895e-05 -6.043636403774144e-05,0.1363733597099781 l-0.00013773063983535394,0.6264642626047134 3.732889581442578e-05,1.7512781918048859 l1.2279921025037766,-0.0004580208769766614 -0.36815568804740906,1.666031926870346 l0.6884072721004486,0.9050532430410385 -0.35573866218328476,2.09750235080719 l0.7363859564065933,1.0472974926233292 -0.16315016895532608,1.8855443596839905 l0.8101975172758102,1.0554543137550354 1.3803422451019287,0.8671628683805466 l0.3786791115999222,1.757538914680481 1.432473510503769,0.9394105523824692 l4.143834710121155,0.00017501419279142283 0.8752530813217163,-0.949021577835083 l1.3463404774665833,1.4888472855091095 4.087688326835632,0.00029768523745588027 l1.0187800973653793,-0.9807254374027252 6.6761428117752075,1.6104768216609955 l3.1949886679649353,0.00030538838473148644 1.1271994560956955,-0.9953191876411438 l5.595234036445618,0.26802660897374153 1.0475830733776093,-1.0189055651426315 l0.00023894888727227226,-1.3026893138885498 4.84139621257782,-0.037936067674309015 l1.018490269780159,-1.108689308166504 0.00039476875826949254,-2.37812802195549 l-0.32817695289850235,-0.9292431175708771 0.00022837744836579077,-2.421947568655014 l-0.3772427514195442,-0.9609552472829819 1.643882691860199,-1.9780831038951874 l-0.17494294792413712,-3.4780973196029663 -0.9836061298847198,-1.0229258984327316 l-1.0389480739831924,-0.7710306346416473 0.2945294417440891,-1.9093658030033112 l-0.6513617187738419,-1.1475471407175064 -1.143474355340004,-0.9355307370424271 l-1.3280458748340607,-0.867355540394783 -1.2460418790578842,-0.8240239322185516 l-1.3366332650184631,-0.8886966854333878 -1.3774164021015167,-0.8976127207279205 l-2.377108186483383,0.00028973823646083474 -1.0840481519699097,0.7686158269643784 l-1.646629124879837,-1.6910560429096222 -1.694190353155136,-0.9343627840280533 l-2.620536983013153,0.00014015046872373205 -1.442578285932541,0.7976391911506653 l-1.2617334723472595,1.8238498270511627 -2.4390260875225067,-1.5472294390201569 l-1.93028062582016,-0.7634983956813812 -2.7730005979537964,0.0001443910787202185 l-1.5140396356582642,0.8623597025871277 -1.3807187974452972,2.0211592316627502 l-2.3395754396915436,-1.163083016872406 -2.693144977092743,0.0002531247628212441 l-1.305105835199356,0.8553234487771988 -1.1335911601781845,2.1420763432979584 l-0.0002258628410345409,1.6902218759059906 m5.888208746910095,19.540648460388184 l-0.0001957275344466325,4.681641459465027 -0.471651628613472,3.4221479296684265 l0.33085744827985764,0.9610355645418167 1.320386677980423,0.0005457256338559091 l1.5388952195644379,-3.5801833868026733 0.13950742781162262,-4.536442458629608 m61.617807424497926,-20.540023050532454 l-3.9219751954078674,3.262985050678253 -1.394132375717163,1.7234663665294647 l-1.6874143481254578,1.8513813614845276 -1.0043857246637344,3.725905120372772 l1.5650245547294617,3.3341047167778015 1.93366140127182,1.1895295977592468 l6.021124720573425,0.0002944051811937243 2.199684828519821,-1.0507715493440628 l1.4288286864757538,-1.465536206960678 -7.100299171725055e-05,-3.6360320448875427 l0.15922075137495995,-1.4805227518081665 m-7.602216005325317,-5.975202322006226 l-0.00023379619960905984,0.23371275514364243 0.7142607122659683,0.0008449215238215402 l8.666105713928118e-05,-0.27282118797302246 -0.4573032632470131,-0.00011012468348781113 m1.1383932828903198,3.15511018037796 l0.9313872456550598,-0.00041135121136903763 -0.00038005862734280527,-0.17934978008270264 l-6.245339136512484e-05,-0.05769895389676094 m-0.610773116350174,2.472308576107025 l0.7335924357175827,-0.0004565306880977005 1.2270154803991318,-0.0001779100603016559 l-7.50686649553245e-05,-0.2143302746117115 m1.3796423375606537,-1.109754741191864 l1.323201900049753e-05,0.5727770552039146 0.5518922209739685,2.35276460647583 l1.2686757743358612,0.9288725256919861 -0.0002056554876617156,1.2356004863977432 l0.9092524647712708,0.880403146147728 2.934233844280243,-0.0004379172241897322 l0.8228608220815659,-0.7878275215625763 -0.0002674485403986182,0.0920936930924654 l-0.00020462013708311133,2.482951432466507 0.8627548813819885,1.2214633077383041 l1.3385072350502014,0.9029192477464676 3.463444411754608,-0.0002403758480795659 l0.8941391855478287,-0.7696789503097534 0.8170120418071747,1.599670946598053 l1.5022607147693634,1.0088226199150085 3.881618082523346,-4.681170594267314e-05 l1.1376961320638657,-0.8983652293682098 1.2968038022518158,1.5732772648334503 l2.0177221298217773,0.9300090372562408 4.2288437485694885,6.340329946397105e-05 l1.2349151074886322,-0.8821213245391846 -9.484310794505291e-05,-0.7417719811201096 l6.607789993286133,1.4981313049793243 2.938295900821686,1.823118736865581e-05 l1.2419471889734268,-0.9242282807826996 1.2405917793512344,-2.6213935017585754 l4.425916969776154,-0.7886989414691925 1.0543982684612274,-1.3192692399024963 l0.00023840522771934047,-2.429727464914322 -0.6350596994161606,-0.9679343551397324 l0.00013578414836956654,-2.2653497755527496 -0.6181337684392929,-1.1050605773925781 l-0.8494573831558228,-3.552989661693573 -1.1315824836492538,-1.1522698402404785 l-1.2229890376329422,-0.9082696586847305 -0.24016005918383598,-2.033582627773285 l-1.0848905146121979,-1.132030114531517 -1.5100939571857452,-0.9357886761426926 l-1.626875102519989,-0.8809821307659149 -1.5277861058712006,-0.9148028492927551 l-1.65471613407135,-0.9671464562416077 -2.5176972150802612,0.00021159752577659674 l-2.5469568371772766,1.387401670217514 -1.895921528339386,-1.94358691573143 l-1.9992466270923615,-1.0849624127149582 -3.0700817704200745,8.7407361206715e-05 l-1.7101749777793884,0.8288726955652237 -1.728806048631668,2.1181559562683105 l-2.179785817861557,-1.6845464706420898 -2.0074132084846497,-0.805681124329567 l-2.890520691871643,0.00015039478967082687 -1.7031310498714447,0.8828494697809219 l-0.9927573800086975,1.127605140209198 -0.7246696203947067,1.9474242627620697 l-1.8463458120822906,-1.0408840328454971 -2.20424085855484,0.00021855097656953149 l-1.2568672001361847,0.8643708378076553 -1.0004433989524841,2.0612435042858124 l-0.0001526909545646049,2.168111652135849 m7.867164611816406,18.346397876739502 l-0.00038226538890739903,4.394946098327637 -0.8637291938066483,1.2696561217308044 l-0.0004947798151988536,2.1520182490348816 0.5955730751156807,0.8267074078321457 l1.8300294876098633,0.0002488011523382738 0.9807313233613968,-0.7648547738790512 l0.7015065848827362,-1.3315077126026154 0.3627033531665802,-4.143873453140259 l-0.2729870565235615,-2.9515784978866577 m61.96263001209957,-21.65796733383104 l-4.133221507072449,2.164897471666336 -1.9721603393554688,1.7368924617767334 l-1.8137232959270477,2.2935540974140167 -0.9006739407777786,4.0991270542144775 l1.6385720670223236,3.869335651397705 4.185415804386139,1.8066543340682983 l3.9323127269744873,0.00040411858208244666 1.9756944477558136,-0.8384626358747482 l1.289626806974411,-1.2631797790527344 0.7880140095949173,-1.839282512664795 l-8.190709195332602e-05,-3.8415321707725525 m-6.657840609550476,-6.76246702671051 l-0.000383152837457601,-0.3012952394783497 0.6390121579170227,-0.5014052614569664 l0.00010966339687001891,-0.04297025501728058 0.000157767044584034,0.792212188243866 m-1.0212907195091248,4.505394697189331 l0.8658357709646225,-0.0006717939686495811 -0.00023938899175846018,-0.2563280425965786 l-1.6998822047753492e-05,-0.21141303703188896 m-0.6896822154521942,1.8727397918701172 l0.8049210906028748,-0.0004676764365285635 -0.00046277196815935895,0.2872774749994278 m4.6426039934158325,0.2535243332386017 l-0.0001709569369268138,1.6107982397079468 1.8012800812721252,2.2878453135490417 l3.4282246232032776,1.729966551065445 3.664688467979431,-0.0003250323061365634 l1.1335498094558716,-0.8803895860910416 -0.0003227702109143138,-0.9415405988693237 l-0.0004397672091727145,-0.6954018771648407 -0.0004136924326303415,-1.77530899643898 l-0.2893507480621338,-1.0510863363742828 -0.6550531089305878,-0.9797315299510956 l-0.9224741160869598,-0.9536956995725632 -1.2742584943771362,-0.8582321554422379 l-1.44833043217659,-0.8489909768104553 -1.5426832437515259,-0.8679470419883728 m-1.0165727883577347,4.501739144325256 l-2.4817084067763062e-05,1.3034537434577942 0.8577205240726471,0.9601596742868423 l1.9856278598308563,7.500548690586584e-05 -0.11188692413270473,1.6395293176174164 l0.7966215163469315,0.8838187903165817 1.9120997190475464,-0.00013353970643947832 l0.4761766269803047,1.8903708457946777 1.3142435252666473,0.976780503988266 l2.522932291030884,-0.00013100903743179515 1.159570887684822,2.012009620666504 l1.714855432510376,0.9164073318243027 3.9782246947288513,-5.9529461395868566e-05 l0.9455536305904388,-0.8024836331605911 1.3613785803318024,1.7273731529712677 l2.2229157388210297,0.9501463174819946 4.910439848899841,6.059274710423779e-05 l2.8542447090148926,-1.6448275744915009 1.8455618619918823,1.392737329006195 l4.13049042224884,-9.232844604412094e-05 3.195880949497223,-1.948494017124176 l0.8095574378967285,-1.465086191892624 5.206565856933594,-0.6323475390672684 l0.9921202063560486,-1.238344982266426 8.580145731684752e-05,-2.248072028160095 l-0.45178528875112534,-0.9422288089990616 2.1522317826747894,-1.9587822258472443 l0.16200324520468712,-3.6170873045921326 -1.06246680021286,-1.2546053528785706 l-1.1785724759101868,-0.8981110900640488 0.25282302871346474,-2.1457639336586 l-0.8021391928195953,-1.1820391565561295 -1.4325229823589325,-0.9822223335504532 l-1.6123007237911224,-0.8957914263010025 -1.632579118013382,-0.9515820443630219 l-1.6490554809570312,-0.9707885235548019 -1.7799893021583557,-0.8926451951265335 l-2.9615983366966248,-0.34110333770513535 -1.744835078716278,0.7916998118162155 l-1.5124362707138062,1.788410097360611 -2.264406830072403,-1.9538222253322601 l-2.2039036452770233,-1.0732901841402054 -3.35410475730896,9.255591976398136e-05 l-1.8443843722343445,0.9369317442178726 -1.5847426652908325,2.037660777568817 l-2.1648311614990234,-1.5065957605838776 -1.9837123155593872,-0.7489013671875 l-3.247818946838379,0.00016713642253307626 -1.696300357580185,0.8855703473091125 l-1.5911202132701874,2.205725312232971 -0.000452458843938075,1.5713116526603699 l-5.058073997497559,0.7669913023710251 -0.8747412264347076,0.897834375500679 l-0.4117380827665329,1.9309800863265991 m6.580111980438232,15.994411706924438 l-0.00031415445846505463,3.9727240800857544 0.33572088927030563,3.5219740867614746 l0.6635943055152893,0.9914115071296692 1.4309196174144745,0.0004774808985530399 l0.9763871878385544,-0.8696835488080978 0.6660985946655273,-1.3648489117622375 l4.101218564755982e-05,-2.9997920989990234 -0.4069814085960388,-3.0281150341033936 \" fill=\"none\" stroke=\"black\" stroke-width=\"1\"/></svg>"
      ],
      "text/plain": [
       "<IPython.core.display.SVG object>"
      ]
     },
     "metadata": {},
     "output_type": "display_data"
    }
   ],
   "source": [
    "stroke_grid = make_grid_svg(reconstructions)\n",
    "draw_strokes(stroke_grid)"
   ]
  },
  {
   "cell_type": "markdown",
   "metadata": {
    "colab_type": "text",
    "id": "vFwPna6uFQvS"
   },
   "source": [
    "Let's load the Flamingo Model, and try Unconditional (Decoder-Only) Generation"
   ]
  },
  {
   "cell_type": "code",
   "execution_count": 32,
   "metadata": {
    "colab": {},
    "colab_type": "code",
    "id": "HH-YclgNFQvT"
   },
   "outputs": [],
   "source": [
    "model_dir = 'models/flamingo/lstm_uncond'"
   ]
  },
  {
   "cell_type": "code",
   "execution_count": 33,
   "metadata": {
    "colab": {},
    "colab_type": "code",
    "id": "-Znvy3KxFQvU"
   },
   "outputs": [],
   "source": [
    "[hps_model, eval_hps_model, sample_hps_model] = load_model_compatible(model_dir)"
   ]
  },
  {
   "cell_type": "code",
   "execution_count": 34,
   "metadata": {
    "colab": {
     "base_uri": "https://localhost:8080/",
     "height": 221
    },
    "colab_type": "code",
    "id": "cqDNK1cYFQvZ",
    "outputId": "d346d57c-f51a-4286-ba55-705bc27d4d0d"
   },
   "outputs": [
    {
     "name": "stdout",
     "output_type": "stream",
     "text": [
      "INFO:tensorflow:Model using gpu.\n",
      "INFO:tensorflow:Input dropout mode = False.\n",
      "INFO:tensorflow:Output dropout mode = False.\n",
      "INFO:tensorflow:Recurrent dropout mode = False.\n",
      "INFO:tensorflow:Model using gpu.\n",
      "INFO:tensorflow:Input dropout mode = 0.\n",
      "INFO:tensorflow:Output dropout mode = 0.\n",
      "INFO:tensorflow:Recurrent dropout mode = 0.\n",
      "INFO:tensorflow:Model using gpu.\n",
      "INFO:tensorflow:Input dropout mode = 0.\n",
      "INFO:tensorflow:Output dropout mode = 0.\n",
      "INFO:tensorflow:Recurrent dropout mode = 0.\n"
     ]
    }
   ],
   "source": [
    "# construct the sketch-rnn model here:\n",
    "reset_graph()\n",
    "model = Model(hps_model)\n",
    "eval_model = Model(eval_hps_model, reuse=True)\n",
    "sample_model = Model(sample_hps_model, reuse=True)"
   ]
  },
  {
   "cell_type": "code",
   "execution_count": 35,
   "metadata": {
    "colab": {},
    "colab_type": "code",
    "id": "7wzerSI6FQvd"
   },
   "outputs": [],
   "source": [
    "sess = tf.InteractiveSession()\n",
    "sess.run(tf.global_variables_initializer())"
   ]
  },
  {
   "cell_type": "code",
   "execution_count": 36,
   "metadata": {
    "colab": {
     "base_uri": "https://localhost:8080/",
     "height": 51
    },
    "colab_type": "code",
    "id": "6mzk8KjOFQvf",
    "outputId": "c450a6c6-22ee-4a58-8451-443462b42d58"
   },
   "outputs": [
    {
     "name": "stdout",
     "output_type": "stream",
     "text": [
      "INFO:tensorflow:Loading model models/flamingo/lstm_uncond/vector.\n",
      "INFO:tensorflow:Restoring parameters from models/flamingo/lstm_uncond/vector\n"
     ]
    }
   ],
   "source": [
    "# loads the weights from checkpoint into our model\n",
    "load_checkpoint(sess, model_dir)"
   ]
  },
  {
   "cell_type": "code",
   "execution_count": 37,
   "metadata": {
    "colab": {},
    "colab_type": "code",
    "id": "X88CgcyuFQvh"
   },
   "outputs": [],
   "source": [
    "# randomly unconditionally generate 10 examples\n",
    "N = 10\n",
    "reconstructions = []\n",
    "for i in range(N):\n",
    "  reconstructions.append([decode(temperature=0.5, draw_mode=False), [0, i]])"
   ]
  },
  {
   "cell_type": "code",
   "execution_count": 38,
   "metadata": {
    "colab": {
     "base_uri": "https://localhost:8080/",
     "height": 149
    },
    "colab_type": "code",
    "id": "k57REtd_FQvj",
    "outputId": "8bd69652-9d1d-475e-fc64-f205cf6b9ed1"
   },
   "outputs": [
    {
     "data": {
      "image/svg+xml": [
       "<svg baseProfile=\"full\" height=\"123.25342755222209\" version=\"1.1\" width=\"822.8335900511593\" xmlns=\"http://www.w3.org/2000/svg\" xmlns:ev=\"http://www.w3.org/2001/xml-events\" xmlns:xlink=\"http://www.w3.org/1999/xlink\"><defs/><rect fill=\"white\" height=\"123.25342755222209\" width=\"822.8335900511593\" x=\"0\" y=\"0\"/><path d=\"M25,34.965947613991375 m0.0,0.0 m35.62925753507031,31.802053810320103 l-0.03364707576110959,4.924058020114899 -0.3378523141145706,2.7974265813827515 l-0.0016613314801361412,4.060213267803192 -0.24097058922052383,3.0218958854675293 l-6.458487405325286e-05,9.057357907295227 -0.29223039746284485,2.817375659942627 l0.047587016597390175,3.544052243232727 -0.3041335940361023,1.2630465626716614 m2.616366147994995,-32.773988246917725 l-1.3412501402854105e-05,13.238470554351807 0.24792848154902458,2.191755324602127 l-0.00010885787560255267,5.344388484954834 0.05172333214432001,0.6734625995159149 l1.2350808731298457e-06,4.179897308349609 0.2953541465103626,0.9181345254182816 l0.0001902279836940579,1.8719600141048431 0.760124921798706,2.7079010009765625 m-6.00187361240387,-31.270172595977783 l0.5769717693328857,0.05996983963996172 0.6052444875240326,-2.221654540335294e-05 l0.5172562971711159,-0.1467469334602356 1.3030311465263367,-0.6619337946176529 l1.2823061645030975,-0.9937901049852371 3.6198431253433228,-2.675583064556122 l2.356954514980316,-1.7351256310939789 2.674614191055298,-2.1274131536483765 l2.4896448850631714,-2.233518064022064 0.6642535328865051,-0.9417159110307693 l0.44975973665714264,-1.3385826349258423 0.23160280659794807,-0.5879586562514305 l-0.17944484949111938,-1.1662126332521439 -1.3264495134353638,-3.2635584473609924 l-1.919226348400116,-4.111170172691345 -0.5208432301878929,-2.6680129766464233 l0.08093461394309998,-1.112445443868637 0.30012844130396843,-0.5685460940003395 l0.8812876045703888,-0.9691828489303589 1.8082040548324585,-1.0216159373521805 l2.161453068256378,-0.3997444733977318 2.2546501457691193,-0.00011280239050392993 l1.7445629835128784,0.532851405441761 1.5368589758872986,1.061374992132187 l2.2112849354743958,3.5734188556671143 1.0531461238861084,0.2658555656671524 l1.666150689125061,-0.4336388409137726 0.9976981580257416,-0.6996200978755951 l0.5181565880775452,-0.7598671317100525 0.00010900666893576272,-1.7674317955970764 l-0.7728660106658936,-2.1236805617809296 -2.1065762639045715,-2.383093982934952 l-1.6928881406784058,-0.9881721436977386 -3.1747612357139587,-1.1068252474069595 l-2.4426931142807007,-0.31680166721343994 -4.152235686779022,0.326257087290287 l-1.3463567197322845,0.3363097086548805 -1.4826786518096924,0.7289280742406845 l-1.3568305969238281,1.1994826793670654 -1.1017876118421555,1.5528872609138489 l-1.786765307188034,1.8091560900211334 -2.3036086559295654,3.083043098449707 l-0.9799069166183472,2.158616930246353 -0.7389280945062637,4.147875607013702 l-0.495075061917305,1.264970749616623 -2.1400800347328186,3.5265645384788513 l-4.2583876848220825,4.839780628681183 -1.5775971114635468,0.7506540417671204 l-5.008137822151184,1.2020423263311386 -3.901592195034027,1.679510623216629 l-1.3194094598293304,1.1405855417251587 -0.8803745359182358,1.7431536316871643 l0.00017561251297593117,2.0257820188999176 1.084161251783371,2.3482830822467804 l1.5440383553504944,1.5140408277511597 1.8195436894893646,1.3039453327655792 l2.0898540318012238,0.9276454150676727 2.401086837053299,0.6205343082547188 l6.165345311164856,0.6817010790109634 1.7412939667701721,-0.00015547962902928703 l1.4092205464839935,-0.4050619527697563 0.7141012698411942,-0.544746145606041 l0.37711650133132935,-0.6995521485805511 0.4800349473953247,-2.131464183330536 l5.2573946049960796e-05,-2.0708999037742615 -0.6467008590698242,-2.1158400177955627 m72.38449206513451,-30.160565300884628 l-1.3964587450027466,0.5599282681941986 -3.800038993358612,3.10791552066803 l-3.37057888507843,4.734128415584564 -1.2509693205356598,2.74720698595047 l0.879003182053566,0.020391338039189577 2.605464458465576,-2.071615308523178 l0.7602434605360031,-0.6235302239656448 2.104746699333191,-1.127769649028778 l3.864910900592804,-0.6688282638788223 1.3590107858181,-0.648951381444931 m-0.7384791225194931,-6.411504149436951 l-0.13606971129775047,-0.5730865895748138 0.7558262348175049,-1.1653035134077072 l1.267867237329483,-0.9802927076816559 1.6752901673316956,-0.8323200792074203 l1.5357063710689545,-0.2341252751648426 2.1780814230442047,0.2789403311908245 l2.3257774114608765,0.8985652774572372 0.899282693862915,1.1687489598989487 l0.46319466084241867,1.3196417689323425 0.10131637565791607,1.0260237753391266 l-0.21887756884098053,1.054246723651886 -0.687326118350029,1.2107433378696442 l-1.5885451436042786,1.5284860134124756 -2.3794908821582794,1.198800504207611 l-1.9238823652267456,1.4428560435771942 -1.0356388986110687,1.403423547744751 l-0.5841691419482231,1.656326949596405 -0.1578420028090477,1.733059585094452 l0.24366291239857674,3.617117702960968 0.5444658547639847,2.8298959136009216 l0.38381312042474747,1.0796379297971725 1.4722853899002075,6.353679299354553 l1.0142120718955994,2.424551844596863 0.9207847714424133,1.4209622144699097 l0.7265302538871765,0.6023529171943665 0.9855844080448151,0.4251563549041748 l2.2387872636318207,-4.801163413503673e-05 2.7746108174324036,-0.5223362892866135 l3.500380516052246,-1.0886967927217484 4.149132966995239,-1.7738926410675049 l1.2238001078367233,-0.7489879429340363 1.8655847012996674,-1.8092778325080872 l1.5896300971508026,-2.626219093799591 0.506596639752388,-0.6167742237448692 l0.5017619580030441,-1.0921905934810638 0.317160002887249,0.1937338151037693 l0.5180081352591515,2.384757399559021 0.00018016402464127168,3.238881230354309 l-0.3782529756426811,1.8782171607017517 -0.49448128789663315,1.4106640219688416 l-0.8297859132289886,1.309337466955185 -1.125323548913002,1.0902833938598633 l-1.1762058734893799,0.6712168455123901 -2.6117271184921265,0.8325019478797913 l-2.2774305939674377,0.3400386869907379 -7.033671140670776,-0.07975474931299686 l-3.717183768749237,-0.6106051057577133 -1.7188921570777893,-0.6470486521720886 l-1.2032237648963928,-0.9835933893918991 -0.6499122828245163,-1.0390511900186539 l-0.6793472915887833,-1.9722995162010193 -0.354686863720417,-1.9207555055618286 l0.0576081033796072,-3.642897605895996 0.5117138847708702,-2.643141448497772 l0.6124992668628693,-1.899082511663437 2.7056285738945007,-8.051034808158875 l0.5609427392482758,-3.0960044264793396 -0.06506802514195442,-2.7134934067726135 l-0.4346105083823204,-0.8477076888084412 -0.8294977247714996,-0.5817123875021935 l-1.3947461545467377,-0.43599940836429596 -3.34345281124115,0.03817653516307473 m13.04431676864624,31.525535583496094 l0.10157697834074497,1.0598713904619217 -0.3487047180533409,11.384352445602417 l-0.3797341138124466,3.279675245285034 9.658136150392238e-05,3.4484118223190308 l-0.5118633434176445,0.3546895831823349 m2.438725531101227,-20.498473644256592 l-0.2517702989280224,0.9617295861244202 -0.15216149389743805,2.6500916481018066 l0.6944786757230759,10.25968074798584 0.09041088633239269,7.304267883300781 l-1.4162327349185944,1.030557081103325 -1.2410563975572586,-0.00200937211047858 m0.9743873029947281,-1.7976173758506775 l-1.4405407011508942,0.8090190589427948 -1.1614388972520828,1.2103064358234406 l-1.339515596628189,1.1686580628156662 1.8069437146186829,-1.201578825712204 m60.99045704745549,-21.458894376899025 l-0.39985306560993195,0.9165893495082855 -0.2107246220111847,8.654358386993408 l0.36724377423524857,4.639670550823212 1.6732586920261383,7.073829174041748 l0.3788377344608307,3.7175634503364563 m5.515244007110596,-25.34724712371826 l-0.08103692904114723,1.9697757065296173 0.8720263838768005,4.951167702674866 l1.0009919106960297,9.097827672958374 0.3298710659146309,6.013485789299011 l0.2603330835700035,1.425764113664627 m-2.8444623947143555,-24.340965747833252 l-2.462349534034729,0.23346209898591042 -2.4686749279499054,-0.11406839825212955 l-3.2755377888679504,-0.7848323881626129 -1.6206732392311096,-0.7659632712602615 l-1.3311810791492462,-1.0282473266124725 -1.4821557700634003,-1.8253214657306671 l-0.36442045122385025,-0.910106971859932 -0.13051215559244156,-1.5436087548732758 l0.7366840541362762,-1.3578274846076965 1.0430490225553513,-1.033470332622528 l1.8060624599456787,-0.911182090640068 2.881743311882019,-0.6687545031309128 l2.4146416783332825,-0.18325207754969597 2.6767942309379578,-9.607057108951267e-05 l5.611249208450317,1.2683993577957153 3.672926425933838,1.6218970715999603 l1.63248673081398,1.4743565022945404 0.7130954414606094,1.1356954276561737 l0.2054935321211815,0.8370758593082428 -0.13046395033597946,0.7356245070695877 l-0.9580973535776138,1.3558848202228546 -1.2840057909488678,1.0171112418174744 l-2.056175023317337,0.9454020112752914 -2.0294606685638428,0.5698494985699654 l-1.9606375694274902,0.2877448871731758 -1.8098175525665283,-0.07810992654412985 l-1.100374311208725,-0.23696033284068108 -0.49589622765779495,-0.3664190322160721 m5.530299544334412,-9.031205177307129 l0.46359263360500336,-0.6782617419958115 0.911211222410202,-2.2864167392253876 l0.43952256441116333,-3.748372495174408 0.5504272878170013,-9.261832237243652 l0.30862191691994667,-3.044900596141815 0.3653501346707344,-1.7009881138801575 l1.1541097611188889,-2.9389160871505737 1.0885923355817795,-1.4791026711463928 l2.101462483406067,-1.7880381643772125 2.8715094923973083,-1.3463565707206726 l2.158772796392441,-0.6076499819755554 3.0215924978256226,-0.2689315006136894 l2.433736175298691,-3.8607963688264135e-05 2.339940518140793,0.35415805876255035 l2.6035457849502563,1.2019479274749756 1.5613152086734772,1.0141780227422714 l1.0862920433282852,1.0413829982280731 0.5860831215977669,0.9365206956863403 l0.5345776304602623,2.5962799787521362 -0.18926193937659264,0.53310327231884 l-2.1002183854579926,0.15307961963117123 -2.156958431005478,-0.635230615735054 l-5.286585688591003,-2.2451063990592957 -1.8394744396209717,-0.2774493768811226 l-2.3008660972118378,-0.40564578026533127 -3.6623072624206543,0.014208955690264702 l-1.4450828731060028,0.4036196693778038 -1.8453627824783325,0.9965111315250397 l-2.0205186307430267,2.130269557237625 -1.20169036090374,2.0444080233573914 l-1.218791902065277,4.324035942554474 -0.5544023588299751,4.692328572273254 l7.656251000298653e-05,2.7749761939048767 -0.3562929108738899,2.311263829469681 l-0.2768377959728241,3.3540701866149902 m82.14589407819403,-6.265147407686982 l-0.8433597534894943,0.09218862280249596 -2.7326300740242004,1.055779904127121 l-1.3818076252937317,0.7128286361694336 -1.3465236127376556,1.2243836373090744 l-1.4221784472465515,2.246584892272949 -0.8622699230909348,2.755400836467743 l-0.10651020333170891,1.9279523193836212 0.6226146593689919,2.5284120440483093 l1.241561472415924,2.5751659274101257 1.3339851796627045,1.3298627734184265 l1.9511881470680237,1.318175047636032 1.7202430963516235,0.5707595497369766 l2.27575346827507,0.373741053044796 4.155773818492889,0.01672280835919082 l2.645862400531769,-0.5999250710010529 1.9045734405517578,-0.9617505967617035 l2.3591983318328857,-2.9268285632133484 0.74882872402668,-2.059890031814575 l0.48147279769182205,-3.9142096042633057 -0.18631510436534882,-1.6160009801387787 l-0.7051441073417664,-1.8500159680843353 -1.7499609291553497,-2.465514987707138 l-1.2047231197357178,-1.2485385686159134 -2.5368914008140564,-1.5626075863838196 l-2.2255995869636536,-0.565381832420826 -1.9526337087154388,-0.09646854363381863 l-2.1048973500728607,0.36738526076078415 -1.0863640904426575,0.4774349182844162 l-1.0753297060728073,0.9001380950212479 m3.654533326625824,18.502168655395508 l-0.5182456970214844,5.114038586616516 0.25335246697068214,10.116097927093506 l-0.28485899791121483,2.774300277233124 5.7317247410537675e-05,4.324694275856018 l0.306098572909832,1.1264990270137787 m2.5205019116401672,-22.940196990966797 l-0.28030792251229286,6.328991055488586 -0.9028849750757217,9.253332018852234 l-0.18046563491225243,7.461076974868774 0.20318666473031044,1.81451216340065 m-1.7125299572944641,-42.17099189758301 l0.3140401095151901,-0.9346863627433777 2.3155896365642548,-5.9324586391448975 l0.4706772416830063,-1.7602257430553436 1.1519291996955872,-2.919348180294037 l0.8429591357707977,-3.5433125495910645 0.054654027335345745,-1.6921848058700562 l-0.4423939064145088,-1.9099006056785583 -1.2539398670196533,-2.940680682659149 l-1.2033002078533173,-1.7989785969257355 -1.0786867886781693,-0.9946148842573166 l-1.473872810602188,-0.8834204822778702 -1.2766702473163605,-0.48911191523075104 l-2.5914081931114197,-8.843113391776569e-05 -2.380167543888092,1.0327359288930893 l-0.9441572427749634,0.7301511615514755 -0.5837585777044296,0.9596079587936401 l-0.8443314582109451,2.7623268961906433 -0.05863953847438097,1.9800269603729248 l0.5286302044987679,1.301858276128769 0.7015061378479004,0.6346569210290909 l1.4897695183753967,0.5273623764514923 2.0382091403007507,0.07722847629338503 l0.7505366951227188,-0.9093691408634186 0.22298984229564667,-1.0083752125501633 l0.04590804222971201,-2.176206558942795 -0.6838267296552658,-2.330266088247299 m85.66094740811423,25.81348230367439 l-0.7761877030134201,-0.3325720876455307 -2.7267563343048096,-0.16814926639199257 l-3.5944831371307373,-0.0003590945925679989 -3.0615994334220886,0.8272247016429901 l-2.2043947875499725,0.9716311097145081 -1.503240168094635,1.0427385568618774 l-1.368718147277832,1.5082088112831116 -1.369163691997528,2.2065140306949615 l-0.41701510548591614,1.5592719614505768 0.00019519655324984342,1.095632165670395 l0.4778442531824112,1.065150424838066 0.8308880776166916,1.078384518623352 l3.6827754974365234,2.2981873154640198 2.5885730981826782,0.9159218519926071 l2.9360389709472656,0.6770682334899902 3.029524087905884,0.17878057435154915 l5.8109742403030396,-0.7608715444803238 2.708914875984192,-1.131397783756256 l2.0311348140239716,-1.6591975092887878 0.7431162148714066,-1.0332190990447998 l0.5245785415172577,-1.7233480513095856 0.04752596374601126,-1.9887982308864594 l-0.23916346952319145,-1.1218000203371048 -0.5350387468934059,-1.3368761539459229 l-1.578894853591919,-2.1101224422454834 -1.4878158271312714,-1.2802006304264069 l-1.4045290648937225,-0.7959140092134476 -1.2058212608098984,-0.3976438567042351 l-2.5581616163253784,-8.414178410021123e-05 -1.0441864281892776,0.2262725494801998 l-0.8278754353523254,0.5098306760191917 m2.6030588150024414,1.7467646300792694 l0.08227108046412468,-0.6733131408691406 0.06701648235321045,-2.56060391664505 l-0.41014011949300766,-7.586045861244202 -0.08098031394183636,-6.8076092004776 l0.20338580012321472,-3.0171021819114685 0.5016312748193741,-2.093121111392975 l0.7457631826400757,-1.5140214562416077 2.3651760816574097,-2.3084810376167297 l2.504303753376007,-1.1492075026035309 1.5756334364414215,-0.326886847615242 l2.4547065794467926,-9.996816515922546e-05 2.991139590740204,0.8596042543649673 l2.0684194564819336,1.5892037749290466 m-22.00479507446289,38.287513256073 l0.23346781730651855,1.8923482298851013 0.00038539084926014766,9.871529340744019 l0.190404262393713,4.022900462150574 0.5163879320025444,2.817888855934143 l0.3346383571624756,0.5796617269515991 m2.898052930831909,-20.045835971832275 l0.6120571121573448,3.4447181224823 1.7322975397109985,6.7743635177612305 l0.5919156596064568,4.193010926246643 0.13744882307946682,3.0067414045333862 l0.6381647288799286,2.9753220081329346 m5.613951683044434,-45.834784507751465 l0.2946135029196739,-0.21534522995352745 1.1988770216703415,-1.756892204284668 l1.0587376356124878,-3.4518471360206604 0.3204936906695366,-1.5418075025081635 l0.4042687267065048,-3.0747318267822266 0.3449937701225281,-0.665820762515068 l0.49967866390943527,-0.3367369994521141 0.5576260387897491,-7.131719939934555e-05 l1.1300966888666153,0.8787603676319122 1.5571458637714386,1.9685983657836914 l1.2406284362077713,1.5307246148586273 0.42510654777288437,0.9901387989521027 l0.0002372032577113714,1.338181495666504 -0.6400317698717117,1.6039253771305084 l-0.5701901763677597,0.46733956784009933 -1.3556750118732452,0.448848158121109 l-3.7606388330459595,-0.44350143522024155 -0.8650751411914825,-1.1416281014680862 l-0.007494496530853212,-1.9932779669761658 m2.286505699157715,-2.0676031708717346 l0.9646622091531754,1.6520126163959503 0.5812959000468254,2.016115188598633 l1.079230159521103,2.5682467222213745 0.6015987321734428,2.6533493399620056 l-0.02784654265269637,2.9423853754997253 -0.31609077006578445,0.4072261229157448 l-1.3273188471794128,0.6288713216781616 -1.583460420370102,-0.004492094449233264 l-0.6608223915100098,-0.43692298233509064 -1.1388061940670013,-1.5479150414466858 l-0.5674619227647781,-1.8161576986312866 -0.3262307122349739,-2.657898962497711 l0.10638055391609669,-0.3859509527683258 m63.65867963337223,-17.489198020648473 l-1.6589900851249695,0.4560910537838936 -4.078360497951508,2.4152496457099915 l-1.7068102955818176,1.6675426065921783 -1.499151736497879,2.5401967763900757 l0.04969824105501175,3.57756108045578 1.9178873300552368,1.1568717658519745 l3.085891008377075,0.8039963990449905 3.2476529479026794,-9.702445822767913e-05 l1.7785625159740448,-0.6997647136449814 2.156147062778473,-1.4529773592948914 l0.9748299419879913,-1.1350633949041367 0.7603710889816284,-1.461227536201477 l0.3502262756228447,-1.4444246888160706 9.51732636167435e-05,-1.6031812131404877 l-1.1952103674411774,-2.2703561186790466 -1.3302139937877655,-1.384018361568451 l-1.4385280013084412,-0.8226971328258514 -1.559584140777588,-8.430503839917947e-05 l-2.058028131723404,1.0712753981351852 m-3.6898785829544067,4.267230927944183 l-0.947883129119873,0.4246921092271805 -4.211396276950836,2.8019389510154724 l-6.943154335021973,5.210874676704407 2.757095694541931,-0.2045132964849472 l5.595040917396545,-1.2530036270618439 5.04195511341095,-1.48341104388237 m5.930584073066711,0.24140805006027222 l0.08762739598751068,4.060736298561096 -0.7736054807901382,8.368358612060547 l-0.012877561384811997,7.96880841255188 0.39535708725452423,3.343966007232666 l0.7768548280000687,2.39270880818367 1.1187965422868729,1.9567202031612396 l1.1227373033761978,1.1283471435308456 1.3665921986103058,0.893581211566925 l2.5044095516204834,0.9737512469291687 2.5581490993499756,0.5023502558469772 l4.0715935826301575,0.23135585710406303 4.5176613330841064,-0.3159504383802414 l3.0357617139816284,-0.6661229580640793 3.0037078261375427,-1.2641337513923645 l3.2497212290763855,-2.3980489373207092 1.5676210820674896,-1.8897609412670135 l1.1110274493694305,-2.4247273802757263 0.2089577354490757,-1.1855001747608185 l-0.44388730078935623,-1.749769151210785 -3.6659273505210876,-3.135932981967926 l-2.219720184803009,-0.9253260493278503 -2.1090714633464813,-0.5797219648957253 l-5.619822144508362,-0.5834747105836868 -3.9591431617736816,0.11471543461084366 l-3.788183331489563,0.6268750876188278 -3.8440707325935364,1.0617134720087051 l-2.7994194626808167,1.1606305092573166 -3.8427650928497314,2.387932240962982 l-2.0218732953071594,1.869455873966217 -0.8902033418416977,1.4290636777877808 m14.585033655166626,8.299536108970642 l0.12520652264356613,5.943556427955627 0.8354832977056503,8.569287657737732 l0.3885668143630028,8.4310382604599 -0.23968340829014778,4.074675440788269 m6.161457896232605,-26.99859619140625 l-0.4985145479440689,1.866038590669632 -0.4185664653778076,6.314707398414612 l-0.36065369844436646,0.9739233553409576 0.13172772713005543,6.394505500793457 l0.9075640887022018,4.169586896896362 0.08122369647026062,2.9270362854003906 l0.30980104580521584,1.318473219871521 -0.06798915565013885,1.3173046708106995 l0.0002551585203036666,2.126675695180893 m61.67379644624816,-63.435336257794006 l-0.6088282912969589,0.6680276989936829 -1.0787824541330338,2.63397216796875 l-3.9330291748046875,10.845813751220703 -0.6949427723884583,3.5804226994514465 l-0.00024176710212486796,4.600445926189423 0.2582189068198204,0.8186530321836472 l0.4619082063436508,0.6013119965791702 1.6994667053222656,1.2631876766681671 l1.7125354707241058,0.4363344609737396 3.985275626182556,0.21497339010238647 l0.6077492237091064,-0.15443689189851284 1.8612372875213623,-2.117859423160553 l0.453883595764637,-1.6372545063495636 0.19754566252231598,-3.382163941860199 l-0.18993064761161804,-1.361386775970459 -0.8672063797712326,-2.339145541191101 l-1.9527274370193481,-3.2732966542243958 -0.9826023131608963,-1.0605395585298538 l-0.9440865367650986,-0.5155771225690842 -3.4259146451950073,-1.7173045873641968 l-1.035432443022728,-1.347123384475708 -0.28134264051914215,-1.1031802743673325 l1.031586229801178,-3.894874155521393 1.0085979104042053,-1.1203596740961075 l3.229813277721405,-1.9269607961177826 1.8214872479438782,-0.35494934767484665 m0.5569009110331535,9.183320999145508 l0.23565083742141724,-0.5540653690695763 2.188316136598587,-2.1689240634441376 l1.4792661368846893,-1.2425918132066727 3.6469823122024536,-2.338210791349411 l3.7957510352134705,-2.076592445373535 1.8568836152553558,-0.6087660789489746 l2.2275501489639282,-8.61669013829669e-05 2.322642356157303,0.9830780327320099 l0.798838660120964,1.3294915854930878 0.9171149134635925,3.2352861762046814 l-0.01367400516755879,2.139255106449127 -0.35654328763484955,1.452680379152298 l-0.5950240418314934,1.0266491025686264 -0.944254919886589,0.993407815694809 l-2.2896361351013184,1.2148802727460861 -2.0600436627864838,0.5424898490309715 l-1.8927854299545288,0.171988345682621 -9.79756772518158,-1.3112637400627136 l-1.6853989660739899,-1.229621097445488 m-2.131894677877426,14.759136438369751 l-0.08100503124296665,4.853425920009613 -1.0081526637077332,9.652323126792908 l-0.8039051294326782,6.9361817836761475 2.3185934878711123e-05,2.657260000705719 l0.5040667578577995,2.5993937253952026 3.2995325326919556,4.7858887910842896 l0.7936087250709534,1.0613714903593063 1.0011370480060577,0.8463501185178757 l2.608584761619568,1.3945403695106506 m1.757996529340744,-36.24926567077637 l0.620366707444191,3.1889790296554565 0.3109300136566162,5.223015546798706 l-0.3724128380417824,9.796133041381836 0.25018172338604927,5.4821741580963135 l0.4901386424899101,3.7487834692001343 0.7107404619455338,2.143842428922653 l2.0726951956748962,3.9447936415672302 1.821763962507248,2.474202811717987 l0.7212615013122559,0.3833067789673805 m-4.403315186500549,-2.3755472898483276 l0.8522339165210724,-0.07855513133108616 0.9276429563760757,0.51702830940485 m66.79984379885013,-62.20528071265562 l-0.9482579678297043,0.22418582811951637 -2.702038288116455,2.378314435482025 l-0.7090606540441513,0.9062839299440384 -0.4514969140291214,0.9841497987508774 l-0.1573352888226509,1.2715454399585724 0.20034601911902428,0.9342034161090851 l0.543297715485096,0.9093216806650162 0.5661451071500778,0.5274485424160957 l0.622866079211235,0.2543164789676666 1.871582269668579,-0.009348168969154358 l3.2609209418296814,-2.390619218349457 0.9368383884429932,-1.0272341966629028 l0.35974688827991486,-1.24996118247509 -0.4007178917527199,-1.3878701627254486 l-1.5049703419208527,-0.9164271503686905 -1.7573840916156769,-0.45914269983768463 l-1.1291266232728958,0.15340776182711124 -0.9922661632299423,0.5582249537110329 m-2.5012752413749695,3.5484644770622253 l-2.6296690106391907,0.5875665321946144 -1.0124024003744125,0.49123432487249374 l-0.584033913910389,0.5544820055365562 -1.726730147311173e-05,0.708061009645462 m9.725030064582825,0.5899377912282944 l0.09736824780702591,1.3547885417938232 -0.23880211636424065,1.6587404906749725 l-1.8240819871425629,6.797376275062561 -0.38775674998760223,5.04275381565094 l3.917640697181923e-05,6.642211675643921 0.5015146732330322,2.7401867508888245 m0.6828944385051727,0.11110886931419373 l0.6395655870437622,-0.8979598432779312 2.352571338415146,-1.2627935409545898 l4.597636461257935,-0.8780183643102646 2.830571234226227,-0.02690074034035206 l5.1689594984054565,-0.00022760632418794557 1.7340421676635742,0.22562116384506226 l3.4097781777381897,1.3530968129634857 4.069865047931671,2.525711953639984 l0.9010230004787445,1.1480405926704407 0.4073108732700348,1.1258207261562347 l-0.20492443814873695,2.0672859251499176 -0.6462854146957397,1.2495725601911545 l-1.4523424208164215,1.2548162043094635 -1.4186930656433105,0.7866045087575912 l-1.499098539352417,0.4021696001291275 -2.5196194648742676,0.39910532534122467 l-5.649188160896301,-9.018824130180292e-05 -3.4076103568077087,-0.5424657464027405 l-1.8931637704372406,-0.6134191155433655 -4.7408658266067505,-3.0322402715682983 l-2.459154576063156,-2.156479060649872 -1.127648502588272,-1.5303893387317657 m9.764506816864014,7.764067649841309 l0.0977517943829298,1.0004767030477524 -0.33172085881233215,2.4184954166412354 l-0.1286571566015482,0.8551552891731262 -0.6954625993967056,4.763956964015961 l-1.137848049402237,4.751047194004059 -1.0416246950626373,5.6969499588012695 l-0.4163350537419319,1.8716762959957123 -0.4953308403491974,0.48401109874248505 l-2.408556640148163,1.2180569022893906 -0.9946976602077484,0.7467074692249298 l1.2917552888393402,-0.31782787293195724 0.9953580051660538,-0.49473345279693604 l0.44387463480234146,-0.27937158942222595 0.2582056261599064,0.5348538607358932 l-0.6345389038324356,1.6505014896392822 -5.3512148951995187e-05,-0.11817522346973419 m2.03697606921196,-3.3574172854423523 l1.2343581020832062,1.5940144658088684 0.8237128704786301,0.6845879554748535 l-0.009302450343966484,-1.0691970586776733 -5.753351160819875e-05,-1.9810520112514496 m80.9105396496102,-57.95609580595283 l-0.7073543965816498,-0.31964778900146484 -1.5727105736732483,0.013682099524885416 l-1.2381969392299652,0.2523410692811012 -1.542350947856903,0.8596695959568024 l-1.3429860770702362,1.0871890932321548 -1.5179359912872314,2.068963348865509 l-0.6808719038963318,2.454371601343155 -0.0966267567127943,1.1125338077545166 l0.27768801897764206,1.4131096005439758 1.1637705564498901,1.15922249853611 l1.4379078149795532,0.491197369992733 1.7113065719604492,-0.08237689733505249 l3.038904368877411,-1.4000862836837769 1.4910413324832916,-1.3268116116523743 l0.8426228165626526,-1.2858963012695312 0.44730905443429947,-1.5646226704120636 l-0.1911892555654049,-2.2321824729442596 -0.926784947514534,-2.0278672873973846 l-0.9079121053218842,-1.1551578342914581 -0.9980637580156326,-0.6057113781571388 m-8.63807499408722,7.2343868017196655 l-2.997717261314392,0.4809490591287613 -2.404942810535431,1.2235236167907715 l-1.1670587211847305,0.9878244996070862 -0.9756246954202652,1.2877583503723145 l1.319996863603592,0.28776269406080246 2.6935312151908875,8.593734492023941e-05 l3.852742314338684,-0.8887331187725067 m4.531869888305664,2.278394103050232 l-0.411396324634552,6.194330453872681 -0.31476031988859177,2.1551592648029327 l-0.13011112809181213,3.798670172691345 0.3346752002835274,3.340398669242859 l0.3949429467320442,1.082514449954033 0.6599335372447968,0.9515823423862457 l1.3472503423690796,1.0197395086288452 2.4058572947978973,1.0176917165517807 l3.967786431312561,0.4871542751789093 3.2982149720191956,-0.1870325580239296 l3.149001896381378,-0.7317120581865311 2.4465811252593994,-0.891973078250885 l1.753954142332077,-0.910736545920372 2.253316193819046,-1.7099320888519287 l1.0125160217285156,-1.1407161504030228 0.7467573881149292,-1.340591311454773 l0.34525081515312195,-1.2466957420110703 0.0595536595210433,-1.2613275647163391 l-0.6885559111833572,-1.6256360709667206 -2.0302195847034454,-2.092868983745575 l-4.565511047840118,-2.0604828000068665 -4.937413930892944,-0.6326936930418015 l-4.100399613380432,0.03280780743807554 -3.0670735239982605,0.32393675297498703 l-2.457387149333954,0.6867752969264984 -0.6919045001268387,0.43537937104701996 l-0.6136032193899155,0.9362459182739258 m7.849633693695068,14.612741470336914 l0.25758201256394386,10.667767524719238 0.41204337030649185,5.13112485408783 l0.3877890110015869,2.3704783618450165 0.4388062655925751,1.1532896012067795 l-0.6798151135444641,3.317148983478546 -0.633213222026825,1.484159678220749 l-2.080785781145096,0.7121026515960693 -0.4711921885609627,-0.3517674282193184 l1.0105979442596436,-1.6465409100055695 m4.886649549007416,-25.726449489593506 l-0.18129639327526093,1.7216156423091888 -0.6398806720972061,6.572193503379822 l-0.3064209781587124,5.249784588813782 -0.8567160367965698,4.91561233997345 l-1.4240892231464386,6.898553371429443 -0.44109176844358444,1.2507864832878113 l0.19813068211078644,0.033371164463460445 0.07205202244222164,-0.5972151458263397 l-0.5801961570978165,-2.543136179447174 m75.87358774850145,-39.19099989674123 l-0.8998105674982071,0.7188358902931213 -1.2515930831432343,2.143496423959732 l-1.9450847804546356,5.787234306335449 -0.5348380282521248,4.532766044139862 l0.06647329777479172,4.505360126495361 0.69415383040905,3.4271806478500366 l0.8472812920808792,2.2577907145023346 0.7050610333681107,1.0439864546060562 l0.9199178218841553,0.7023996859788895 1.6132494807243347,0.7250874489545822 l2.216721773147583,0.4229728505015373 2.953556478023529,0.009328884771093726 l2.0249809324741364,-0.434371680021286 2.073880136013031,-1.0323742777109146 l3.8108736276626587,-3.8431167602539062 1.2813757359981537,-2.590399384498596 l1.0317135602235794,-3.7571707367897034 0.13419338501989841,-2.9106974601745605 l-0.4485594481229782,-2.5019878149032593 -0.9017656743526459,-2.252339720726013 l-1.0981021076440811,-1.6642920672893524 -1.3915733993053436,-1.4159485697746277 l-2.877761721611023,-1.8061789870262146 -1.6032616794109344,-0.4954211413860321 l-4.545186161994934,-0.3306126594543457 -1.5617755055427551,0.14769733883440495 m1.775926649570465,6.9586241245269775 l-0.26588035747408867,-2.299948036670685 -0.9455293416976929,-6.937494874000549 l-2.0161454379558563,-8.76418650150299 -1.4398176968097687,-5.250638723373413 l-1.7801012098789215,-2.821040153503418 -1.1378680914640427,-0.9092196822166443 l-1.7383264005184174,-0.19648682326078415 -1.3870897889137268,0.6540605425834656 l-1.770148128271103,1.6896606981754303 -1.545201987028122,2.9698339104652405 l-0.582151897251606,2.169279456138611 -0.20648185163736343,2.3724721372127533 l0.3379199281334877,1.5938156843185425 0.7403432577848434,1.1524967104196548 l1.3361789286136627,1.137874349951744 1.1571691185235977,0.5467737093567848 l1.8139155209064484,0.23262383416295052 4.203767776489258,-1.039167121052742 l1.0513190925121307,-0.7517902553081512 2.108059674501419,-2.2425423562526703 l0.2893218770623207,-1.288825273513794 -0.3893847391009331,-2.197839766740799 l-0.9254151582717896,-1.7730064690113068 -1.14018052816391,-1.2581700086593628 l-1.07106514275074,-0.6716722995042801 -1.7571043968200684,-0.30076073482632637 l-2.012970745563507,0.2994721755385399 m11.534022092819214,40.39265155792236 l0.4233703762292862,4.5289939641952515 0.043129962868988514,6.016889810562134 l0.30334794893860817,2.095124125480652 0.28263475745916367,7.746449708938599 l-0.27812659740448,1.7990991473197937 -0.8405972272157669,1.7231318354606628 m-0.10080937296152115,-23.423731327056885 l1.8097460269927979,3.463708758354187 3.8794589042663574,5.472986102104187 l-0.0029729536618106067,0.7290413230657578 -4.272019863128662,1.9104796648025513 l-1.4078682661056519,0.916079506278038 -1.7439773678779602,1.9697998464107513 \" fill=\"none\" stroke=\"black\" stroke-width=\"1\"/></svg>"
      ],
      "text/plain": [
       "<IPython.core.display.SVG object>"
      ]
     },
     "metadata": {},
     "output_type": "display_data"
    }
   ],
   "source": [
    "stroke_grid = make_grid_svg(reconstructions)\n",
    "draw_strokes(stroke_grid)"
   ]
  },
  {
   "cell_type": "markdown",
   "metadata": {
    "colab_type": "text",
    "id": "L-rJ0iUQFQvl"
   },
   "source": [
    "Let's load the owl model, and generate two sketches using two random IID gaussian latent vectors"
   ]
  },
  {
   "cell_type": "code",
   "execution_count": 0,
   "metadata": {
    "colab": {},
    "colab_type": "code",
    "id": "of4SWwGdFQvm"
   },
   "outputs": [],
   "source": [
    "model_dir = '/tmp/sketch_rnn/models/owl/lstm'"
   ]
  },
  {
   "cell_type": "code",
   "execution_count": 59,
   "metadata": {
    "colab": {
     "base_uri": "https://localhost:8080/",
     "height": 255
    },
    "colab_type": "code",
    "id": "jJiSZFQeFQvp",
    "outputId": "f84360ca-c2be-482f-db57-41b5ecc05768"
   },
   "outputs": [
    {
     "name": "stdout",
     "output_type": "stream",
     "text": [
      "INFO:tensorflow:Model using gpu.\n",
      "INFO:tensorflow:Input dropout mode = False.\n",
      "INFO:tensorflow:Output dropout mode = False.\n",
      "INFO:tensorflow:Recurrent dropout mode = False.\n",
      "INFO:tensorflow:Model using gpu.\n",
      "INFO:tensorflow:Input dropout mode = 0.\n",
      "INFO:tensorflow:Output dropout mode = 0.\n",
      "INFO:tensorflow:Recurrent dropout mode = 0.\n",
      "INFO:tensorflow:Model using gpu.\n",
      "INFO:tensorflow:Input dropout mode = 0.\n",
      "INFO:tensorflow:Output dropout mode = 0.\n",
      "INFO:tensorflow:Recurrent dropout mode = 0.\n",
      "INFO:tensorflow:Loading model /tmp/sketch_rnn/models/owl/lstm/vector.\n",
      "INFO:tensorflow:Restoring parameters from /tmp/sketch_rnn/models/owl/lstm/vector\n"
     ]
    }
   ],
   "source": [
    "[hps_model, eval_hps_model, sample_hps_model] = load_model_compatible(model_dir)\n",
    "# construct the sketch-rnn model here:\n",
    "reset_graph()\n",
    "model = Model(hps_model)\n",
    "eval_model = Model(eval_hps_model, reuse=True)\n",
    "sample_model = Model(sample_hps_model, reuse=True)\n",
    "sess = tf.InteractiveSession()\n",
    "sess.run(tf.global_variables_initializer())\n",
    "# loads the weights from checkpoint into our model\n",
    "load_checkpoint(sess, model_dir)"
   ]
  },
  {
   "cell_type": "code",
   "execution_count": 60,
   "metadata": {
    "colab": {
     "base_uri": "https://localhost:8080/",
     "height": 141
    },
    "colab_type": "code",
    "id": "vR4TDoi5FQvr",
    "outputId": "db08cb2c-952c-4949-d2b0-94c11351264b"
   },
   "outputs": [
    {
     "data": {
      "image/svg+xml": [
       "<svg baseProfile=\"full\" height=\"120.184078347\" version=\"1.1\" width=\"98.8725474746\" xmlns=\"http://www.w3.org/2000/svg\" xmlns:ev=\"http://www.w3.org/2001/xml-events\" xmlns:xlink=\"http://www.w3.org/1999/xlink\"><defs/><rect fill=\"white\" height=\"120.184078347\" width=\"98.8725474746\" x=\"0\" y=\"0\"/><path d=\"M41.5331514304,47.8121304913 m-0.132065089419,-0.818965733051 l-1.78446769714,-4.37339872122 -0.449359863997,-1.68071240187 l0.000442053933511,-3.18809241056 0.000388614498661,-3.89637112617 l0.346569791436,-1.25295981765 1.10776923597,-1.88584446907 l1.73459753394,-1.50131702423 2.03410193324,-0.757536664605 l1.99948683381,-0.00102532932942 0.786211192608,0.968269556761 l0.787319988012,2.56595700979 0.000546700066479,4.06032085419 l-0.822296440601,3.35661351681 -1.45263329148,2.40721821785 l-1.8565261364,1.62552013993 -2.165376544,0.877661034465 l-1.34748280048,0.000444044126198 m15.3083527088,-0.802424028516 l-1.47368788719,-1.27479910851 -1.06197156012,-2.65573889017 l0.000208061137528,-4.3788933754 0.000424580211984,-4.40278887749 l0.612830072641,-1.24189786613 0.911226272583,-0.867653787136 l2.1902307868,-0.0012513724505 2.43894606829,-4.11187374993e-05 l1.87056452036,0.885151997209 1.50832056999,1.92514464259 l0.857977494597,2.64217227697 0.00038065478293,4.15196985006 l-0.435804836452,1.60096615553 -1.34428799152,2.02306777239 l-1.8200494349,1.43815994263 -2.15610936284,0.813227519393 l-1.99906826019,-0.00274521386018 -0.792735591531,-0.654452368617 m-5.3206551075,-0.570695027709 l0.650407522917,3.24591726065 0.431762933731,3.05901706219 l1.05495944619,0.348732098937 1.48608103395,-3.38784664869 l0.99411688745,-2.4404284358 m-12.5001680851,-17.9557824135 l-1.74334436655,-0.494269132614 -2.9695045948,-0.319730080664 l-1.87135264277,0.192461144179 -3.49551528692,1.5555383265 l-2.48406752944,2.06320300698 -1.80969551206,2.53702431917 l-1.31562590599,3.0613130331 -1.043523103,5.44697701931 l0.000178788177436,6.89047813416 0.852816924453,4.29370284081 l2.60408937931,6.39090538025 2.51832842827,4.09500092268 l5.35060226917,7.79427945614 2.07839220762,4.61394906044 l1.2106475234,4.54003036022 0.788104310632,4.97067660093 l0.452739298344,5.35718619823 0.114500746131,3.70851904154 l-0.181541219354,2.67283350229 m2.99266695976,-69.4676494598 l3.46948355436,-0.592494606972 4.990683496,-0.0154769234359 l7.8266787529,0.000340488804795 3.68951737881,0.682502835989 l3.12869757414,1.26171424985 2.70443201065,1.93808957934 l2.12300464511,2.56196171045 1.39556929469,3.11388999224 l0.762749612331,3.80722731352 0.000205539708986,6.73621177673 l-0.92931471765,4.54613059759 -1.62916317582,4.4717541337 l-4.26714062691,10.0283360481 -1.95177778602,5.89771330357 l-1.39518469572,6.74194931984 -0.816034302115,6.8567699194 l0.000380763995054,5.70140123367 0.916537940502,3.6203455925 m-24.9645543098,-40.7061433792 l-0.676299929619,1.41931325197 \" fill=\"none\" stroke=\"black\" stroke-width=\"1\"/></svg>"
      ],
      "text/plain": [
       "<IPython.core.display.SVG object>"
      ]
     },
     "metadata": {
      "tags": []
     },
     "output_type": "display_data"
    }
   ],
   "source": [
    "z_0 = np.random.randn(eval_model.hps.z_size)\n",
    "_ = decode(z_0)"
   ]
  },
  {
   "cell_type": "code",
   "execution_count": 61,
   "metadata": {
    "colab": {
     "base_uri": "https://localhost:8080/",
     "height": 124
    },
    "colab_type": "code",
    "id": "ZX23lTnpFQvt",
    "outputId": "247052f2-a0f3-4046-83d6-d08e0429fafb"
   },
   "outputs": [
    {
     "data": {
      "image/svg+xml": [
       "<svg baseProfile=\"full\" height=\"103.156437427\" version=\"1.1\" width=\"76.648305431\" xmlns=\"http://www.w3.org/2000/svg\" xmlns:ev=\"http://www.w3.org/2001/xml-events\" xmlns:xlink=\"http://www.w3.org/1999/xlink\"><defs/><rect fill=\"white\" height=\"103.156437427\" width=\"76.648305431\" x=\"0\" y=\"0\"/><path d=\"M30.8883420622,36.6583835035 m-0.995773300529,-0.962532013655 l-1.25780984759,-0.218019597232 -1.40090942383,0.992660149932 l-0.372393801808,1.26535490155 0.000324942920997,2.54081487656 l2.14915663004,1.37105837464 2.84446626902,-0.038248966448 l1.78298652172,-1.40427827835 0.542310960591,-1.2151530385 l0.000573818178964,-1.9342289865 -1.05938784778,-0.939038023353 l-1.65580317378,-0.310601554811 -1.80457934737,-0.000348676258 m14.6391928196,-0.161158926785 l-2.02486693859,-0.307609159499 -1.20914362371,0.38025662303 l-0.739323794842,1.18445441127 0.000388190856029,2.24003642797 l0.622321628034,1.16408839822 1.26943454146,0.639028996229 l2.31054648757,-0.00103231774119 1.11591532826,-1.05773642659 l0.44213116169,-1.17794558406 0.000388732260035,-1.77200719714 l-1.0331839323,-0.994495749474 -1.20821401477,-0.38865339011 m-16.152588129,-3.77420336008 l-0.467010885477,-1.32236272097 0.000216794560401,-2.23593533039 l0.536889433861,-0.951604396105 1.89497917891,-1.54288008809 l1.02331995964,-0.484534986317 1.67512059212,2.78331547976 l1.01098768413,2.12751790881 1.01871103048,0.583166591823 l2.8339150548,-0.00180373142939 3.3438757062,-0.00134693458676 l1.97848573327,-0.408469550312 1.85415565968,-2.65968948603 l1.46219432354,-1.96148216724 0.988113284111,-0.702736005187 l0.665459409356,1.20057038963 0.367847532034,3.80023956299 l0.896093249321,2.48109221458 1.19089074433,2.09763258696 l1.12107351422,2.68811970949 0.558211691678,2.99764633179 l0.000272821780527,4.86015558243 -0.471499115229,2.04992577434 l-1.32380709052,2.65444427729 -2.05463215709,2.4544724822 l-1.53617039323,1.19459815323 -2.56061851978,1.20031863451 l-1.98727488518,0.490378327668 -3.72636377811,-0.00252463243669 l-3.93502652645,-0.00249128468568 -4.22447443008,-1.91017463803 l-1.24039359391,-0.983265340328 -1.62764251232,-2.204002738 l-1.05991430581,-2.19169437885 -0.900488123298,-3.36152017117 l0.000405741848226,-5.28376400471 0.902573391795,-2.9702681303 l1.1107198149,-2.02355161309 1.63499593735,-1.74139678478 m1.9375500083,13.9832317829 l0.312917456031,1.85824751854 0.11474234052,4.12313699722 l-0.0538875116035,7.91432976723 -0.643966719508,4.88242715597 l0.000561536653549,5.3577375412 1.29527136683,2.97560691833 l1.7825640738,2.00202897191 m16.6705226898,-28.1058692932 l0.00361886399332,1.26658275723 0.000215576201299,6.46810352802 l-0.537006482482,6.70796096325 -0.929316952825,6.25021696091 l-1.0363136977,3.4180906415 -1.37526676059,2.76081353426 l-1.60482779145,1.93586409092 -1.80750474334,1.16599790752 l-2.25972115993,0.696989372373 -3.09742212296,-0.00153533750563 l-3.02612900734,-1.44728317857 -1.41145452857,-1.26603841782 l-0.82351744175,-1.33597552776 m3.1371742487,-28.3551907539 l-0.547703653574,1.39112636447 0.000170127077581,3.94152343273 l-0.315908491611,3.29748153687 0.000404399033869,5.2682608366 l0.397268608212,3.4574136138 0.783703550696,2.95529693365 l1.17390699685,2.57992863655 1.51531383395,2.06996172667 l1.84660971165,1.4368082583 2.14215010405,0.769138410687 l2.56978332996,-0.00158462222316 1.12708255649,-0.430434010923 l1.45648032427,-1.51706874371 1.08785569668,-2.03530088067 l0.758628696203,-2.57168382406 0.000484488446091,-6.29753828049 l-1.50331735611,-7.86222159863 -0.973793566227,-2.93035626411 l-1.37418434024,-2.40955933928 m-8.96973013878,5.24879395962 l0.316646844149,3.97685259581 -0.293312165886,5.00504136086 l-1.03661946952,4.10920888186 -1.09365604818,2.68685340881 l-1.08828380704,1.99293076992 m12.7954661846,-18.26218009 l-0.208275709301,1.44114002585 0.000343079009326,6.0398119688 l0.660030916333,4.37685281038 1.24237768352,3.50796490908 l1.68879404664,2.58156120777 1.7774233222,1.44173279405 \" fill=\"none\" stroke=\"black\" stroke-width=\"1\"/></svg>"
      ],
      "text/plain": [
       "<IPython.core.display.SVG object>"
      ]
     },
     "metadata": {
      "tags": []
     },
     "output_type": "display_data"
    }
   ],
   "source": [
    "z_1 = np.random.randn(eval_model.hps.z_size)\n",
    "_ = decode(z_1)"
   ]
  },
  {
   "cell_type": "markdown",
   "metadata": {
    "colab_type": "text",
    "id": "7FjQsF_2FQvv"
   },
   "source": [
    "Let's interpolate between the two owls $z_0$ and $z_1$"
   ]
  },
  {
   "cell_type": "code",
   "execution_count": 0,
   "metadata": {
    "colab": {},
    "colab_type": "code",
    "id": "u6G37E8_FQvw"
   },
   "outputs": [],
   "source": [
    "z_list = [] # interpolate spherically between z_0 and z_1\n",
    "N = 10\n",
    "for t in np.linspace(0, 1, N):\n",
    "  z_list.append(slerp(z_0, z_1, t))\n",
    "# for every latent vector in z_list, sample a vector image\n",
    "reconstructions = []\n",
    "for i in range(N):\n",
    "  reconstructions.append([decode(z_list[i], draw_mode=False, temperature=0.1), [0, i]])"
   ]
  },
  {
   "cell_type": "code",
   "execution_count": 63,
   "metadata": {
    "colab": {
     "base_uri": "https://localhost:8080/",
     "height": 149
    },
    "colab_type": "code",
    "id": "OULjMktmFQvx",
    "outputId": "94b7b68e-9c57-4a1b-b216-83770fa4be81"
   },
   "outputs": [
    {
     "data": {
      "image/svg+xml": [
       "<svg baseProfile=\"full\" height=\"127.634528333\" version=\"1.1\" width=\"823.798878973\" xmlns=\"http://www.w3.org/2000/svg\" xmlns:ev=\"http://www.w3.org/2001/xml-events\" xmlns:xlink=\"http://www.w3.org/1999/xlink\"><defs/><rect fill=\"white\" height=\"127.634528333\" width=\"823.798878973\" x=\"0\" y=\"0\"/><path d=\"M25,39.7206334291 m0.0,0.0 m30.5419966019,11.0517369621 l-0.130790295079,-0.821970626712 -1.56297296286,-3.44355881214 l-0.810060948133,-2.39335089922 0.000479867303511,-3.22102040052 l0.00033964850445,-3.4874728322 0.361222736537,-1.25992178917 l1.79179653525,-2.81430184841 0.968853756785,-0.829446166754 l0.976286008954,-0.349083021283 1.55968084931,-0.00183026262675 l1.69345319271,0.000776153538027 1.94590568542,0.8236579597 l1.20501965284,1.21577709913 1.11128941178,2.25825056434 l0.554293617606,2.93825089931 0.000441627125838,4.22034591436 l-0.898757427931,2.63696163893 -1.72121822834,2.13380008936 l-2.23780155182,1.35028481483 -2.57068812847,0.560129880905 l-2.11540162563,-0.000537940577487 m13.1173753738,-1.12937137485 l-1.45248651505,-2.17158839107 -0.858646780252,-3.06270509958 l0.000175498753379,-4.44179207087 0.000373504044546,-4.57446634769 l0.627821683884,-1.24458014965 2.52491861582,-1.80173784494 l2.6212644577,-0.278210286051 2.24212855101,-0.000668502034387 l2.06600576639,0.917371958494 1.75203874707,1.91701054573 l1.115347296,2.70106256008 0.000310058385367,4.01920646429 l-0.420222841203,1.88330933452 -1.32658526301,2.41520762444 l-2.9484218359,2.84097313881 -2.43803426623,1.01730525494 l-2.31468617916,-0.00315562268952 -0.943105444312,-0.416952967644 m-5.04852354527,-1.22439056635 l0.805781632662,3.52566123009 0.493544861674,3.00472974777 l1.0788359493,0.254272762686 1.5034507215,-3.73510450125 l0.94768114388,-2.33487918973 0.478246323764,-1.21703073382 m-13.7574493885,-16.3546526432 l-1.78905293345,-0.4019164294 -3.13840001822,-0.238769985735 l-3.06999534369,0.323610752821 -2.62113779783,1.05864740908 l-1.41331672668,1.06020323932 -2.23443478346,3.11014682055 l-1.25897288322,3.24561059475 -0.690835565329,3.78885805607 l0.000223516690312,7.2227948904 0.456801503897,2.63458311558 l3.6786660552,9.34825003147 2.47850447893,4.08075898886 l4.38423395157,5.09459018707 2.70667612553,3.2701292634 l1.95724636316,4.00763303041 1.35410264134,4.67128992081 l1.00941762328,5.45493721962 0.548808388412,4.55319613218 l0.233230181038,3.7197431922 0.100202523172,1.58373504877 m2.68061488867,-68.3304214478 l3.91832828522,-0.852669924498 5.00140190125,-0.116617726162 l6.57204866409,-0.000800323759904 5.22561311722,0.964443534613 l3.02044928074,1.42885655165 2.4911904335,2.16459602118 l1.7647318542,2.68096029758 1.05926975608,3.27105551958 l0.467811375856,4.00178968906 0.000126303402794,6.92094147205 l-0.868806540966,4.39922660589 -1.62944063544,4.47579175234 l-3.5293468833,6.51094794273 -1.19311966002,2.8612524271 l-1.67739748955,5.55614352226 -1.27475112677,6.94986104965 l-0.828429609537,7.33003377914 0.00036673311115,6.69217407703 l0.982491523027,3.42833697796 m52.8225331692,-51.353654896 l-0.179362148046,-0.903369262815 -1.62920743227,-3.28932881355 l-0.906066149473,-2.49898999929 0.00051035771321,-2.59266883135 l0.000347062414221,-3.56523901224 0.417044311762,-1.28570497036 l0.714336559176,-1.13926000893 1.56329080462,-1.13759756088 l2.05199196935,-0.552231259644 1.97985470295,-0.00113819012768 l1.85451850295,-0.00093373026175 1.81085169315,0.768176540732 l1.10954836011,1.12643048167 1.08412787318,2.30088368058 l0.000448344617325,3.53681355715 -0.878088846803,2.79807418585 l-1.68571338058,2.35794946551 -2.19275161624,1.60138115287 l-2.64548152685,0.894314572215 -1.87815189362,-0.000594626653765 m12.3930037022,-0.617486909032 l-1.52933612466,-1.72315716743 -0.887011662126,-2.75651812553 l0.000182019357453,-4.42476809025 1.3707883656,-2.84632474184 l1.5728290379,-1.57970935106 1.64202809334,-0.91292925179 l2.6449996233,-0.00135166454129 2.36448422074,-0.000639804275124 l1.95006385446,0.951049178839 1.55169978738,2.00336158276 l0.812436565757,2.56968408823 0.000299139574054,3.45813453197 l-0.477933250368,1.59525990486 -2.22390562296,2.8340998292 l-2.29320973158,1.43437877297 -2.74989366531,0.754635408521 l-2.61219710112,-0.00356734264642 -1.03377133608,-0.620433427393 m-4.60207283497,-0.27431782335 l0.608859285712,3.18827778101 0.463679693639,3.00901681185 l1.08114145696,0.45674752444 1.53460562229,-3.44289124012 l1.07980199158,-2.40180313587 0.454280935228,-1.312366575 m-15.1842451096,-15.8654558659 l-1.02997995913,-0.825017020106 -1.45095005631,-1.16798393428 l-2.01779410243,-1.55357927084 -1.23885072768,-0.704525560141 l-1.02319248021,0.634009987116 -0.607139021158,3.50802153349 l0.00012148650967,5.41070580482 0.611173994839,7.88442909718 l0.465482994914,4.43518131971 0.323769040406,4.41545695066 l0.000449147046311,6.0367423296 -0.20706359297,5.07031857967 l-0.503461919725,5.78731417656 0.000560363514523,6.66669249535 l-0.471485070884,7.2888302803 -0.438506193459,5.49879789352 l-0.3237805143,3.67199778557 0.000548661919311,3.57043743134 m11.104183197,-66.2080860138 l2.00373500586,-1.04878537357 4.31662708521,-0.776256173849 l6.5754455328,-0.13563061133 5.74898183346,0.000452322128695 l4.55986618996,0.75202472508 1.8173776567,0.771940723062 l2.62529999018,2.26868197322 1.49997621775,2.55439907312 l1.29644319415,4.92528170347 0.410122610629,4.46929842234 l0.000335159820679,9.58780944347 -0.946886688471,7.90147304535 l-1.84304475784,12.9119610786 -0.206860285252,4.28757786751 l-0.58015242219,8.0197685957 0.000626934779575,7.74769306183 l0.422867685556,3.20501327515 m-31.8870425224,-40.0462150574 l-0.334677062929,2.4007178843 -0.906986519694,4.16456341743 l-2.31765970588,11.4139783382 -1.26206621528,12.5019919872 l0.000203833387786,6.15783154964 0.895226895809,4.23945695162 l1.37828230858,2.98432528973 1.79141759872,2.06503599882 l1.0400044173,0.639289170504 3.35244834423,-0.000165914370882 l2.1275998652,-1.51463985443 1.86899617314,-2.10721492767 l1.48964449763,-2.50050365925 2.00253859162,-6.01501584053 l1.29271104932,-4.70144987106 1.34775206447,-5.31910300255 l1.48310825229,-5.70787489414 1.46649762988,-5.44201374054 l1.33307412267,-5.31456291676 0.000822764777695,-4.21725958586 m61.6559273244,-4.90261296676 l-0.2499358356,-0.973245427012 -1.60147592425,-3.11570316553 l-0.915143117309,-2.26915076375 0.000510644676979,-2.65014767647 l0.000407122388424,-3.32929074764 0.799965336919,-2.80272990465 l1.02645479143,-1.78898558021 1.80115193129,-1.54998466372 l2.13864669204,-0.783110186458 2.08690613508,-0.000792611244833 l1.29247441888,0.572999306023 1.0101403296,1.07275612652 l1.41505673528,3.37395519018 0.00045697313908,3.61302882433 l-0.850557014346,2.77189910412 -1.60299569368,2.33769536018 l-2.06033200026,1.60330280662 -2.36028954387,0.84464840591 l-2.00047671795,-0.00041238963604 m14.4678878784,-0.727621018887 l-1.21217057109,-0.479749143124 -1.25503569841,-2.06456318498 l-0.776283815503,-2.35249176621 0.000341463601217,-4.2325425148 l0.440923385322,-1.39623463154 1.45759403706,-2.08148911595 l3.17541331053,-1.87916249037 2.43172690272,-0.662737637758 l2.28218227625,-0.00152959444677 2.40353003144,1.27158209682 l1.41714215279,2.253934443 0.536127649248,1.76419213414 l0.000395833085349,4.01393771172 -1.02319948375,2.54085719585 l-1.73852324486,2.00481504202 -2.29430690408,1.3871447742 l-2.66951411963,0.752961561084 -2.57734894753,-0.00305337423924 l-0.938251167536,-0.56967690587 m-4.89163458347,-1.46632120013 l0.210061259568,2.89982408285 0.240399204195,2.79074788094 l1.11232385039,0.508820153773 1.56081780791,-3.09830069542 l0.850534439087,-2.11142167449 m-14.8002159595,-14.0419638157 l-0.813121497631,-1.38868972659 -1.11049838364,-3.96340280771 l-0.505487024784,-3.23704987764 0.000288551927952,-2.37556517124 l1.53391569853,0.517037622631 2.6571649313,3.03858995438 l2.16991484165,1.87559768558 1.18328556418,0.274827200919 l5.54041206837,-0.00149044804857 5.69408178329,0.000357615026587 l3.30408960581,0.24512430653 1.945887357,-2.71070301533 l1.79663404822,-2.94593334198 1.37577936053,-0.216344185174 l0.515831895173,1.28580510616 0.424680635333,4.53791797161 l1.40811517835,3.06347995996 1.59811541438,3.12219947577 l1.64884999394,4.01267021894 0.792985782027,3.83861362934 l0.000285899568553,7.31781303883 -0.803893879056,6.8384116888 l-0.787903517485,7.48229324818 0.000427966624557,8.54022800922 l0.88324919343,5.74498534203 1.56025320292,5.11777162552 l1.50770366192,4.06079262495 0.984660312533,2.25875556469 l0.833944156766,1.71725198627 m-36.8954205513,-56.2637424469 l-0.880264267325,4.75460022688 -0.000156003807206,7.00348377228 l-0.401933081448,3.11806887388 4.57078976979e-05,8.77735316753 l0.397430583835,3.61073195934 0.000393991613237,6.71302378178 l-0.326395258307,7.05933451653 -0.685609281063,6.76234662533 l0.000558279789402,6.7300850153 1.50117456913,3.84698092937 l1.97450190783,2.53202825785 1.60549938679,1.16397634149 l2.72168368101,0.922264307737 7.54801988602,-0.00362435501302 l11.3597643375,-1.74923568964 5.38321793079,-0.923054069281 l3.23648869991,-0.960977822542 2.15266346931,-1.11026205122 m51.190585993,-47.3265378666 l-0.325097516179,-1.02766491473 -1.58740475774,-2.81963139772 l-0.496437884867,-1.345551759 0.000412638873968,-2.7965003252 l0.405576601624,-1.29251927137 1.3046002388,-1.81248769164 l1.85239076614,-1.3086719811 2.11656033993,-0.592213869095 l2.13125541806,-0.00167130638147 0.872511565685,1.10240653157 l0.485784336925,1.28879278898 0.000589240153204,3.84875655174 l-0.469766668975,1.6539619863 -1.34652882814,1.96149110794 l-1.95556789637,1.48898854852 -2.12111890316,0.656485408545 l-1.4025361836,-0.000973185524344 m13.8680291176,-0.468883477151 l-1.62300050259,-1.43194362521 -0.866491869092,-2.34035298228 l0.000289935487672,-3.43357771635 0.552035272121,-1.30854547024 l2.46056824923,-2.26933687925 1.98312863708,-0.878949388862 l2.29696109891,-0.000886866546352 1.51191100478,0.975754186511 l0.703489854932,1.25734984875 0.555200017989,3.08780550957 l0.000414031892433,3.26215416193 -0.928832739592,1.94857120514 l-1.74360468984,1.47904142737 -2.20217853785,0.698816031218 l-2.28650078177,-0.00238236098085 -0.983224660158,-0.602921694517 m-6.75321996212,1.98995947838 l1.08711756766,2.97036498785 0.981254652143,3.05295169353 l1.11950844526,0.0291469320655 1.67053714395,-3.58214437962 l1.12432926893,-2.2970187664 m-13.1760501862,-17.3487007618 l-1.2356133759,-0.540585443377 -2.13666036725,-0.62606215477 l-2.72865325212,-0.451680906117 -1.44471153617,1.03411287069 l-1.41858071089,2.26227551699 -1.08871996403,3.08398991823 l-0.635373145342,3.56551110744 0.000254862588918,6.51017785072 l0.816975086927,3.79687815905 1.58213689923,3.63917857409 l2.12310776114,3.17707180977 2.57590562105,2.63250410557 l4.56052452326,2.89865493774 2.45143547654,0.912452340126 l3.26452046633,1.21453985572 4.76753532887,-0.00131403663545 l5.07487356663,-0.000410356478824 4.848485291,-1.50639355183 l1.60657346249,-0.867859721184 2.54594802856,-2.14969351888 l2.26510897279,-3.19025933743 1.56942054629,-3.93314242363 l0.757086724043,-4.51413482428 0.000518959277542,-4.79767590761 l-0.954259112477,-4.39687162638 -1.75258055329,-3.92325818539 l-2.55255997181,-3.41270387173 -2.24680349231,-1.98204368353 l-2.29796424508,-1.28891855478 -3.69983375072,-1.23686976731 l-4.21806931496,-0.704758539796 -6.52426183224,0.000328086462105 l-3.66169333458,1.31763696671 -2.78497308493,1.75000548363 l-1.98926284909,1.98830679059 m-2.2672533989,26.2903118134 l-2.26442545652,5.03026545048 -1.33611038327,4.93435740471 l-0.899339467287,7.86151766777 0.000364848638128,10.8255624771 l0.869973450899,4.99467939138 1.44404008985,4.12132918835 l0.693556368351,1.19369789958 m34.1803383827,-40.5099821091 l1.61985903978,3.51911127567 2.55222588778,5.77716350555 l1.45995393395,5.33966124058 0.854368805885,5.63814997673 l0.000405330647482,8.6294054985 -0.912934094667,5.05016028881 l-1.26058027148,3.6746352911 m-31.4236545563,-31.8677663803 l-0.424903593957,3.28575819731 0.000427355807915,7.48115301132 l-0.759705677629,6.12702131271 0.00069423840614,7.09851145744 l0.704740807414,3.89371156693 1.28362551332,3.27984064817 l1.65737554431,2.38226652145 m79.0006326543,-50.2543777708 l-0.416780263186,-1.06199555099 -1.50154173374,-2.41885885596 l-0.512058436871,-1.24042697251 0.000341886043316,-2.52457529306 l0.480119287968,-1.27412557602 1.47541254759,-1.81541264057 l1.99864700437,-1.15871630609 2.09001272917,-0.000955810974119 l2.06985190511,-0.00165669465787 2.38604336977,1.06304742396 l0.659510344267,1.20526403189 0.000530998622708,2.85619974136 l-0.979917496443,2.28274852037 -1.80628687143,1.95621579885 l-2.18871504068,1.12541407347 -1.98705598712,-0.00102360892924 l-0.793442577124,-0.761455819011 m14.0551292896,0.018154050922 l-1.28400698304,-0.264872927219 -1.28174304962,-1.42978772521 l-0.792377069592,-2.35267400742 0.000455076879007,-3.33696901798 l0.718799754977,-1.26918971539 1.8252658844,-1.31339997053 l1.82425558567,-0.645488128066 2.22258657217,-0.000996469170786 l1.69705957174,1.81822285056 0.583887323737,2.38972380757 l0.000372989234165,2.93521761894 -0.942190289497,1.83343142271 l-1.74762994051,1.439781636 -2.09433615208,0.69405041635 l-1.68228954077,-0.00242134541622 m-6.80452525616,1.8393778801 l0.767102688551,2.79139399529 0.809938758612,3.26507896185 l1.13789461553,0.10934847407 1.70728966594,-3.88145178556 l1.06857158244,-2.15136185288 0.307194553316,-0.866142958403 m-11.6463530064,-15.1853978634 l-1.78724274039,-0.366884544492 -2.92251110077,0.0229575810954 l-1.73177063465,0.586917623878 -2.17962294817,1.6172888875 l-1.83954432607,2.36908912659 -1.32284715772,2.90486127138 l-0.798041969538,3.37996393442 0.000269842712441,6.28434002399 l0.495336428285,2.46001943946 2.21409633756,4.8139166832 l2.40289226174,3.35381478071 2.79570937157,2.61169463396 l3.27091425657,1.9451290369 3.9320191741,1.38729885221 l4.16347324848,0.622758939862 4.93512690067,-0.00103522659629 l3.22333157063,-1.19567900896 3.27739089727,-2.20793962479 l2.80399739742,-3.1093621254 2.32149377465,-3.93592119217 l1.43150240183,-4.48892205954 0.571566745639,-4.67611432076 l0.000471211242257,-4.75792199373 -0.318669490516,-1.7632548511 l-1.28150016069,-3.00914555788 -2.34218865633,-3.1579887867 l-2.21702203155,-1.91340237856 -2.34397724271,-1.3549092412 l-3.5394269228,-1.16656459868 -4.47671055794,-1.29196359921e-05 l-3.45596283674,0.576142668724 -3.19617658854,0.907781124115 l-2.60936528444,1.38878077269 m-6.77404463291,27.6452159882 l-1.11590951681,1.89046144485 -1.23138897121,3.85950535536 l-1.10842049122,7.54696369171 0.000418874697061,8.56761097908 l0.86516790092,5.05858123302 2.45620682836,6.89957857132 l2.18113973737,3.49367856979 0.907825008035,0.863580256701 m26.6404986382,-41.0072231293 l1.84778258204,3.26468706131 2.56323099136,5.76764166355 l1.3730494678,5.01485049725 0.697667524219,5.2431422472 l0.000388381595258,8.38680624962 -0.938927382231,4.72693651915 l-2.12207764387,5.37095546722 -1.82545736432,2.83081948757 m-25.7137441635,-35.8385896683 l-0.505716241896,3.23456138372 0.000396324830945,5.29859304428 l-0.827699750662,5.87381601334 0.000648614732199,7.00699448586 l0.73874861002,4.30275589228 1.29846870899,3.52555632591 l1.61661684513,2.45787337422 2.13002234697,1.85661748052 m76.1827350649,-36.2983267465 l-0.51702812314,-1.08335204422 -1.4322322607,-1.97946250439 l-1.07454836369,-1.57349377871 -0.74816249311,-2.13636830449 l0.000421872464358,-2.75016516447 1.90875545144,-2.07578092813 l2.66664087772,-1.1080801487 2.74583131075,-0.000870406875038 l2.25593686104,-0.00126838378492 1.21775902808,0.614170990884 l1.16811066866,1.59288719296 0.569130554795,2.31776550412 l0.000491006030643,3.33604902029 -0.478843972087,1.52990758419 l-1.49310335517,1.78290426731 -2.20270186663,1.18647806346 l-2.67295718193,-0.00253633130342 -1.12309157848,-0.791810527444 m14.3565130234,-0.458807162941 l-1.4042943716,-0.451873056591 -1.38546466827,-1.71758472919 l-0.826073139906,-1.97881385684 0.00044392530981,-3.35835129023 l0.522440932691,-1.31678819656 1.58863782883,-1.80319085717 l1.64433538914,-1.03909738362 2.60703384876,-0.000442741365987 l2.0737862587,-0.00184107542736 1.79115355015,1.84860631824 l0.686925202608,2.46646910906 0.000392608308175,3.02072137594 l-0.96096470952,2.09842219949 -1.71011134982,1.57539948821 l-2.19580993056,0.924235135317 -1.96822851896,-0.0026500961394 l-0.877259746194,-0.574898757041 m-6.86478078365,1.53834536672 l0.848864242435,3.08800429106 0.778436660767,3.24190884829 l1.13188095391,-0.0674055144191 1.65711596608,-3.73753637075 l0.984783545136,-2.06133186817 0.543485246599,-1.04398831725 m-13.3924627304,-14.4211530685 l-0.969575494528,-1.13456651568 -1.26641452312,-1.45128637552 l-1.78922042251,-1.95494160056 -1.31811231375,-0.613924264908 l-1.14559277892,1.70829430223 -0.695128440857,4.23559367657 l3.42106750395e-05,5.24870812893 0.804761275649,1.96952223778 l1.74275070429,2.14265882969 2.45432406664,1.8966011703 l3.05670946836,1.43580406904 3.29165965319,0.769183039665 l4.03581261635,-0.00109470754978 2.93546110392,-0.847530215979 l2.68586486578,-1.61356434226 2.22474336624,-2.24576830864 l1.69532880187,-2.7893447876 1.76620900631,-4.99587714672 l0.370677523315,-3.75900149345 0.000371719070245,-3.45907002687 l-0.870975628495,-2.6864361763 -1.19229540229,-1.90877482295 l-1.46578758955,-1.38907685876 -1.71806946397,-0.881410166621 l-3.09140354395,-0.000916100179893 -5.5506670475,1.8323995173 l-1.88886195421,1.10790632665 -2.99023747444,2.86274552345 l-1.47118404508,2.3911011219 -0.894187763333,2.46529966593 m-2.15667426586,16.1919915676 l-2.07507938147,4.17045712471 -0.833368301392,2.73119568825 l-0.887925550342,6.74694240093 0.000336674638675,9.98459815979 l0.874853506684,4.69367384911 1.51388078928,4.04951781034 l1.97280317545,3.45547199249 0.953771024942,1.08552604914 l0.925487056375,0.859417393804 m19.6934378147,-41.147646904 l1.85005813837,3.65509659052 2.30564892292,5.62209665775 l1.27959489822,5.14465689659 0.56879658252,4.96952056885 l0.000334055330313,8.30309867859 -0.459054708481,2.76946187019 l-1.26360550523,3.69456291199 -1.67463004589,3.10261458158 l-1.91233977675,2.2072955966 -2.25123330951,1.62933573127 m-16.694663763,-36.6129541397 l-0.412125475705,1.27202302217 0.000406092294725,6.43807590008 l-0.852780416608,6.2772333622 0.000606488865742,6.90450072289 l1.26594632864,4.25829350948 1.70608833432,3.1294542551 l2.03973948956,2.36505180597 2.36145719886,1.59535452724 l2.61937111616,0.859825387597 3.31046849489,-0.00242982365307 m66.0476814943,-41.6967522914 l-0.630320459604,-1.07970029116 -1.38414129615,-1.44314557314 l-1.20434328914,-1.04303881526 -0.660619735718,-1.03845693171 l0.000452837557532,-1.79027080536 1.67989820242,-1.51453509927 l2.53846079111,-0.873821899295 3.04272919893,-0.00060365859099 l2.25103721023,-0.00242953727138 1.78341820836,0.701807439327 l1.67451918125,2.2011873126 0.329182371497,2.29681640863 l0.000358741308446,2.36451879144 -0.953265950084,1.87757670879 l-1.9005446136,1.39409959316 -2.50974535942,0.621254108846 l-2.94954270124,-0.00204546449822 -1.20456770062,-1.17760777473 l-0.72379052639,-1.46287366748 0.000261932636931,-2.22977295518 m15.9408557415,2.14839652181 l-1.37034803629,-0.634720176458 -1.04825638235,-1.79842457175 l-0.48567019403,-1.95490777493 0.000424394529546,-2.78475940228 l0.694731622934,-1.25697925687 1.11008949578,-0.972920656204 l1.43588542938,-0.630341619253 2.6846164465,-0.00116519848234 l2.0672865212,-0.00181803610758 1.73685416579,0.811390653253 l1.35139808059,1.6724511981 0.685455650091,2.25960746408 l0.000316185360134,2.45379984379 -0.958679690957,1.88456609845 l-1.79835289717,1.43165677786 -2.43143931031,0.870523527265 l-2.65807300806,-0.00192889609025 -1.23034536839,-0.871018767357 l-0.767924264073,-1.19280077517 m-4.61312264204,2.72068142891 l0.698530226946,2.81727701426 0.674485564232,3.25220137835 l1.10265344381,0.298127904534 1.49575680494,-3.44419002533 l0.889492854476,-2.27116331458 0.3993229568,-1.11179664731 m-13.8427197933,-13.3704280853 l-1.2237431854,-0.70929788053 -1.89120516181,-0.863794460893 l-2.58308291435,-1.05456314981 -1.32351219654,-0.098920725286 l-0.504367426038,1.23058617115 0.000229653251154,4.19683218002 l0.744956955314,3.27562451363 1.35505959392,2.97720491886 l0.97626388073,3.63566875458 0.557878799736,4.11951363087 l0.000487413090013,5.93688905239 -0.0946762878448,4.79186505079 l-0.335414819419,5.33804118633 -0.61593234539,5.36439836025 l0.000457089226984,6.29867553711 -0.246236566454,4.0409001708 l-0.0920589081943,3.48611533642 m10.3075218201,-52.7445602417 l2.56941258907,-1.51466846466 2.90668696165,-0.989322513342 l3.43285888433,-0.509666241705 3.99251759052,0.00105849219835 l3.50525438786,0.897151753306 2.09050416946,1.42907142639 l1.62909448147,2.0798908174 0.755064934492,1.67989388108 l0.895909070969,4.20485675335 0.000489128033223,6.61213159561 l-1.00733689964,6.54142260551 -0.813137441874,6.95042312145 l-0.754745975137,7.72281169891 0.000587730974075,7.92731404305 l0.985302403569,5.63568949699 1.13147564232,3.41360628605 l0.855265185237,2.15260714293 m-25.7305669785,-30.9905099869 l0.0706202723086,1.2890407443 -0.0253698951565,3.37718844414 l-0.62276609242,4.56329196692 -1.46163731813,4.64337855577 l-1.20627716184,2.9914984107 -1.36925131083,2.92582720518 l-1.38834267855,2.60112762451 -1.37277469039,2.18363925815 l-1.28426834941,1.67273774743 -1.15242682397,1.32617861032 l-1.02851226926,0.814017578959 m29.059844017,-27.4291801453 l-0.247904285789,4.20502752066 0.000344008949469,8.77690732479 l0.440290607512,3.271920681 2.0962497592,6.47288382053 l2.19896391034,3.81886273623 2.35303014517,2.39341273904 l1.11309848726,0.711055397987 m55.1776451302,-45.3851442425 l-0.751753747463,-1.06452710927 -1.36417075992,-0.918807610869 l-1.32935702801,-0.363004282117 -0.657733008265,0.969035997987 l0.000410609172832,2.08173707128 1.58055558801,1.04527361691 l2.02506706119,-0.00362427410437 0.949966013432,-0.968381687999 l0.310658887029,-1.25607326627 0.000632205410511,-1.21998012066 l-1.11182101071,-0.636424645782 m12.5416755676,0.469818599522 l-1.61938518286,-0.445644184947 -1.16884618998,0.325764343143 l-0.630944669247,1.18300415576 0.00035137818486,1.58500850201 l1.19325481355,0.731989964843 1.83346182108,-0.00114672599011 l0.810665488243,-1.10344588757 0.00055762950069,-1.53713300824 l-1.05414286256,-0.860403701663 m-8.03210377693,6.90684080124 l0.50307739526,2.50208556652 1.08822286129,0.868865028024 l0.861584693193,-1.09511807561 0.690302029252,-2.17076838017 m-5.92491209507,-13.9782476425 l-2.73755133152,-0.233703888953 -1.97024449706,0.474371723831 l-2.57601082325,1.46930292249 -1.27536028624,1.16025999188 l-1.41406148672,2.17563837767 -0.9199937433,2.73187577724 l0.00026509309464,4.52482163906 0.837512612343,3.07286292315 l1.59472361207,2.73481667042 2.34488204122,2.50400543213 l2.72221177816,1.78533479571 3.40269088745,1.22107744217 l3.85625064373,0.54707352072 4.81590092182,-0.00139303214382 l3.29679787159,-0.85810251534 4.05374020338,-2.53908485174 l1.27387970686,-1.32283315063 1.05048976839,-1.64842143655 l0.699850767851,-1.89622357488 0.000470024388051,-3.99602383375 l-1.3692907989,-3.29815804958 -1.65363684297,-2.3967756331 l-1.88457101583,-1.89647093415 -3.03887844086,-2.05237701535 l-3.50284725428,-1.48421570659 -2.82186239958,-0.685305818915 l-4.25023883581,-0.000107645028038 -1.08282409608,0.348688773811 m-5.96948325634,12.2877955437 l-1.04313015938,1.0403444618 -1.9506521523,3.84390741587 l-1.17220938206,3.79230856895 -0.478378795087,2.62153923512 l0.000283642511931,7.08209633827 0.76754681766,4.85586583614 l1.43454253674,4.53019946814 1.8475882709,3.88401448727 l2.17781990767,3.1462725997 1.01579889655,1.01225070655 l1.9778047502,1.24997586012 m19.3976044655,-34.1788864136 l1.41823455691,3.02997916937 2.14048057795,5.36864042282 l1.04249283671,4.8798006773 0.000301164564007,5.9561419487 l-0.487733148038,2.72145450115 -2.17538803816,5.72049319744 l-2.00243756175,3.26363116503 -2.35079422593,2.65599489212 l-2.35545888543,1.66222423315 -2.74458885193,1.11508540809 l-2.92175680399,0.474348440766 -3.53183835745,-0.00145876983879 l-3.13926458359,-0.00267292169156 -1.39905393124,-0.64115524292 l-1.41919881105,-1.46951138973 m2.58654266596,-31.420044899 l2.64671416517e-05,3.39411377907 -0.462911203504,4.9263510108 l-0.695133879781,2.34287768602 -1.11330524087,3.31299781799 l-1.3504627347,3.3070987463 -1.25915423036,2.70623862743 l-1.24585904181,2.40021079779 m19.2379868031,-22.808175087 l-0.199472550303,1.32352113724 0.00032557243685,6.62100255489 l0.433918759227,3.01757931709 1.2987267971,4.08638328314 l1.91109642386,3.72742325068 2.23751112819,2.89947330952 l2.0837777853,1.65551543236 m58.3384857869,-33.6488287262 l-0.876092016697,-1.02708421648 -1.29731014371,-0.539417490363 l-1.3404417038,0.381380990148 -0.51209975034,1.14463582635 l0.000357170065399,2.21391484141 1.97841063142,1.1256570369 l2.66367763281,-0.00309213879518 1.07505045831,-0.882010608912 l0.402438938618,-1.23659215868 0.000607694018981,-1.48783966899 l-1.09604239464,-0.869505405426 -1.38212785125,-0.00120175245684 m13.8076913357,-0.0472603039816 l-1.26978740096,-0.452922210097 -1.84547543526,-0.00327180925524 l-1.13165095448,0.599878877401 -0.474757701159,1.18743374944 l0.000385109815397,1.69430673122 1.18735723197,0.902944803238 l1.24237895012,0.246581565589 2.00685173273,-0.0015676971816 l0.894379764795,-1.0955735296 0.157792232931,-1.20785906911 l-0.390456020832,-1.1469065398 -1.18102543056,-0.694138854742 m-9.0473729372,7.45889246464 l0.572684891522,2.28107899427 0.803679376841,2.84115642309 l1.00440368056,0.102620171383 1.52071461082,-3.38606923819 l0.864886716008,-1.73639073968 m-6.91937744617,-13.8740348816 l-1.26494973898,-0.172844994813 -2.34373897314,0.00434943591245 l-1.86968833208,0.617401897907 -2.22391828895,1.55403122306 l-1.92689687014,2.24592328072 -1.3674351573,2.69720345736 l-0.810299366713,3.14028173685 0.000241421948886,5.68590581417 l0.462806001306,2.11201697588 1.39054566622,2.99430578947 l1.99030339718,2.62859255075 2.6132646203,2.1607452631 l3.17680746317,1.55173793435 3.84334206581,0.970321595669 l4.53278571367,-0.00126971644931 1.73444032669,-0.33052586019 l2.86441087723,-1.25082656741 2.40879699588,-1.59085467458 l2.63124912977,-2.74596631527 1.95029124618,-3.48470777273 l0.9773029387,-3.10508340597 0.360063351691,-3.93610447645 l0.000492912186019,-3.96067112684 -0.590093582869,-2.67132371664 l-0.997436493635,-2.08807423711 -1.36532813311,-1.67200744152 l-1.71528801322,-1.31090730429 -3.01587194204,-1.33746027946 l-2.69269764423,-0.652269348502 -4.73012506962,2.72586817118e-05 l-3.33683818579,0.853268355131 -2.39291504025,1.33195385337 m-6.55800163746,21.5277862549 l-1.24352440238,1.02286271751 -1.27860844135,2.85722732544 l-0.672307536006,2.34586119652 -0.801674500108,5.95492422581 l0.000411290166085,8.09978485107 0.436434485018,2.81491339207 l1.22994259,3.59744131565 1.57458588481,2.7224946022 l0.879195034504,0.945283547044 m25.2247023582,-30.7211470604 l1.47153452039,2.62647151947 1.17972947657,2.64084964991 l1.10564693809,4.20002222061 0.56057151407,4.74607467651 l0.000423226229032,7.54796147346 -0.440599247813,2.69727051258 l-1.12323626876,3.22731524706 -1.46953687072,2.54439234734 l-1.12294510007,1.26452416182 m-22.7179026604,-27.745552063 l-0.828561559319,2.26100638509 0.000305618887069,6.39577627182 l0.377051904798,3.02697628736 1.49216085672,5.80932855606 l1.3592684269,3.38474273682 1.64657026529,2.73404806852 l1.85824811459,1.93418651819 2.24474519491,1.35217279196 l2.55223661661,0.704762861133 3.34960848093,-0.000796566600911 l1.34126365185,-0.394208431244 1.74678459764,-1.33935630322 l1.38376072049,-1.81884229183 1.47344216704,-3.36295127869 l0.808649659157,-3.38815391064 0.000505927055201,-6.56934559345 l-0.322452373803,-2.13461071253 -1.05832204223,-3.14537078142 l-0.714406818151,-1.22510574758 -1.44798055291,-1.44074425101 m-15.925116539,3.05309087038 l0.026816574391,3.66672158241 0.000587906724832,7.41976559162 l-0.746965333819,4.5230153203 -0.806965827942,2.93621897697 l-0.896343812346,1.90981268883 m82.8348973958,-40.4269916846 l-0.999728292227,-0.974134355783 -1.27438277006,-0.163945220411 l-1.42698764801,1.0501217097 -0.369896329939,1.2484011054 l0.000311708317895,2.48387634754 2.14833050966,1.31545767188 l3.0698466301,-0.00279536121525 1.73688262701,-1.48626789451 l0.495054088533,-1.24048091471 0.000576097227167,-1.83290377259 l-1.03599637747,-0.972305014729 -1.21719606221,-0.371024534106 l-1.86505272985,-0.000119413325592 m14.1238558292,-0.0576347345486 l-1.7286221683,-0.36389414221 -1.21026992798,0.375123769045 l-0.786892101169,1.14912107587 -0.39383802563,1.65964514017 l0.000397723524657,1.91450074315 1.20808698237,0.947450101376 l1.27094477415,0.236010029912 2.07176074386,-0.00152339867782 l1.13885566592,-1.04630172253 0.403980091214,-1.22902952135 l0.00042817024223,-2.09738865495 -1.05666697025,-1.02290116251 l-1.24261200428,-0.448517128825 m-16.4372742176,-2.80802190304 l-0.595738179982,-1.12592421472 0.000258116124314,-2.44146645069 l0.795838311315,-4.32859450579 0.960134491324,-0.617695897818 l1.09767489135,1.07593804598 1.94048374891,3.67244154215 l0.997191146016,0.947300866246 1.07337631285,0.363829024136 l3.40076208115,-0.00127202874864 3.69897305965,-0.00086203290266 l1.63971945643,-2.13487520814 1.38979494572,-2.8683796525 l1.22766137123,-0.707580447197 0.690216720104,1.2513230741 l0.889390036464,4.01379078627 1.16888657212,2.18552440405 l1.07371598482,1.95721298456 0.665598064661,2.38928005099 l0.000330782604578,3.47689419985 -0.779838487506,2.9570415616 l-1.55338555574,2.8175291419 -1.90223991871,2.11039096117 l-2.51513749361,1.69424295425 -2.98896551132,1.03450156748 l-3.78990828991,-0.00183241310879 -3.7328350544,-0.00271177879767 l-1.71749636531,-0.429943911731 -2.08786830306,-1.19407214224 l-1.98226809502,-2.22397044301 -1.12415261567,-2.07972496748 l-1.16733931005,-4.44190382957 0.000383061960747,-3.63925814629 l1.18776932359,-2.19909548759 0.856132805347,-0.869803652167 l1.48697406054,-0.8121535182 m1.74165770411,12.2782289982 l-1.16126105189,0.527214743197 -1.37112975121,1.99086859822 l-1.38560578227,3.15928220749 -0.651643797755,2.30533927679 l-0.729406774044,5.45907437801 0.000346618617186,6.79511725903 l1.44563481212,4.47979211807 1.78973510861,2.82288223505 l2.26401314139,2.23428621888 1.17920883,0.726220682263 m17.5492656231,-30.1996254921 l1.51164785028,2.34453842044 2.30743199587,4.53960716724 l1.17536053061,4.40133363008 0.374237298965,4.18218284845 l0.000332721538143,5.88147342205 -0.457470715046,2.42084816098 l-1.19290329516,2.8031334281 -1.65060773492,2.36213862896 l-2.07548141479,1.80722430348 -2.35801994801,1.1459364742 l-2.9318985343,0.718569532037 -3.82491499186,-0.00167521226103 l-3.87635111809,-0.00146649850649 -1.81781336665,-0.545956715941 l-2.6452472806,-1.67555943131 m2.53662109375,-29.7807073593 l-0.602197311819,1.36803984642 0.000226694082812,4.14378941059 l-0.628662705421,4.27623867989 0.000455667286587,6.54338359833 l0.538899637759,3.64822655916 0.902795493603,3.07222336531 l1.17154687643,2.38102242351 1.50201693177,1.76833584905 m10.3620994091,-26.689157486 l0.383753217757,3.55042040348 0.000266716233455,6.26250326633 l-1.01631008089,6.61549568176 -1.81167647243,6.2830477953 l-1.03852793574,3.55208754539 \" fill=\"none\" stroke=\"black\" stroke-width=\"1\"/></svg>"
      ],
      "text/plain": [
       "<IPython.core.display.SVG object>"
      ]
     },
     "metadata": {
      "tags": []
     },
     "output_type": "display_data"
    }
   ],
   "source": [
    "stroke_grid = make_grid_svg(reconstructions)\n",
    "draw_strokes(stroke_grid)"
   ]
  },
  {
   "cell_type": "markdown",
   "metadata": {
    "colab_type": "text",
    "id": "OiXNC-YsFQv0"
   },
   "source": [
    "Let's load the model trained on both cats and buses!  catbus!"
   ]
  },
  {
   "cell_type": "code",
   "execution_count": 0,
   "metadata": {
    "colab": {},
    "colab_type": "code",
    "id": "SL7WpDDQFQv0"
   },
   "outputs": [],
   "source": [
    "model_dir = '/tmp/sketch_rnn/models/catbus/lstm'"
   ]
  },
  {
   "cell_type": "code",
   "execution_count": 65,
   "metadata": {
    "colab": {
     "base_uri": "https://localhost:8080/",
     "height": 255
    },
    "colab_type": "code",
    "id": "Cvk5WOqHFQv2",
    "outputId": "8081d53d-52d6-4d18-f973-a9dd44c897f2"
   },
   "outputs": [
    {
     "name": "stdout",
     "output_type": "stream",
     "text": [
      "INFO:tensorflow:Model using gpu.\n",
      "INFO:tensorflow:Input dropout mode = False.\n",
      "INFO:tensorflow:Output dropout mode = False.\n",
      "INFO:tensorflow:Recurrent dropout mode = False.\n",
      "INFO:tensorflow:Model using gpu.\n",
      "INFO:tensorflow:Input dropout mode = 0.\n",
      "INFO:tensorflow:Output dropout mode = 0.\n",
      "INFO:tensorflow:Recurrent dropout mode = 0.\n",
      "INFO:tensorflow:Model using gpu.\n",
      "INFO:tensorflow:Input dropout mode = 0.\n",
      "INFO:tensorflow:Output dropout mode = 0.\n",
      "INFO:tensorflow:Recurrent dropout mode = 0.\n",
      "INFO:tensorflow:Loading model /tmp/sketch_rnn/models/catbus/lstm/vector.\n",
      "INFO:tensorflow:Restoring parameters from /tmp/sketch_rnn/models/catbus/lstm/vector\n"
     ]
    }
   ],
   "source": [
    "[hps_model, eval_hps_model, sample_hps_model] = load_model_compatible(model_dir)\n",
    "# construct the sketch-rnn model here:\n",
    "reset_graph()\n",
    "model = Model(hps_model)\n",
    "eval_model = Model(eval_hps_model, reuse=True)\n",
    "sample_model = Model(sample_hps_model, reuse=True)\n",
    "sess = tf.InteractiveSession()\n",
    "sess.run(tf.global_variables_initializer())\n",
    "# loads the weights from checkpoint into our model\n",
    "load_checkpoint(sess, model_dir)"
   ]
  },
  {
   "cell_type": "code",
   "execution_count": 73,
   "metadata": {
    "colab": {
     "base_uri": "https://localhost:8080/",
     "height": 106
    },
    "colab_type": "code",
    "id": "icvlBPVkFQv5",
    "outputId": "f7b415fe-4d65-4b00-c0eb-fb592597dba2"
   },
   "outputs": [
    {
     "data": {
      "image/svg+xml": [
       "<svg baseProfile=\"full\" height=\"85.0024624268\" version=\"1.1\" width=\"97.0106323063\" xmlns=\"http://www.w3.org/2000/svg\" xmlns:ev=\"http://www.w3.org/2001/xml-events\" xmlns:xlink=\"http://www.w3.org/1999/xlink\"><defs/><rect fill=\"white\" height=\"85.0024624268\" width=\"97.0106323063\" x=\"0\" y=\"0\"/><path d=\"M46.3545013685,33.7004358135 m-1.67252272367,0.394050441682 l-2.03154876828,1.45254462957 -1.77578791976,1.80640622973 l-1.6109457612,2.1960131824 -1.18691310287,2.34753742814 l-0.678012892604,2.30114400387 -0.20122455433,2.21701934934 l0.332671366632,2.12932109833 1.03898189962,1.93650469184 l1.74471467733,1.76480427384 2.42952331901,1.4399163425 l3.00780057907,0.961375236511 3.41435223818,0.406128205359 l3.47424894571,-0.119643304497 3.25872182846,-0.736866593361 l2.82667756081,-1.2964771688 2.19879046082,-1.72045439482 l1.47952780128,-2.00524181128 0.781586319208,-2.26519107819 l0.0863485690206,-2.36544474959 -0.624918863177,-2.38882064819 l-1.35048046708,-2.27941468358 -2.01366201043,-2.13800251484 l-2.45773822069,-1.7978258431 -2.69231259823,-1.3554097712 l-2.68344372511,-0.840844660997 -2.60668128729,-0.349534451962 l-2.29395762086,0.0881606899202 -1.97751566768,0.484185256064 m-4.22170132399,5.59232115746 l-0.858224183321,-0.992628484964 -1.42562314868,-2.25309178233 l-1.4492110908,-2.57754087448 -2.78117597103,-5.97079396248 l-0.8167950809,-2.6043471694 1.32482737303,-0.160294082016 l1.46054670215,0.706794261932 5.88625133038,3.87950181961 l3.83870124817,3.03945600986 1.23776055872,0.720141157508 m9.16391193867,1.79712742567 l1.0277723521,-0.794012546539 4.92988169193,-3.58641952276 l7.03148722649,-4.49979126453 1.72269210219,-0.779656022787 l0.18622552976,1.22162371874 -1.75484806299,3.27743798494 l-3.89630943537,6.59069061279 -1.24373376369,2.57274150848 l-0.521678514779,1.66077747941 m-15.3570437431,4.34784531593 l-0.703595504165,-0.366752743721 -2.21099600196,-0.000145574467751 l-5.26128053665,0.468756966293 -6.46269977093,1.18766956031 l-6.91953063011,2.10482001305 -1.49639204144,0.736465454102 m21.9713330269,-1.93512454629 l-2.08371579647,0.242639295757 -2.40464165807,0.793681591749 l-4.48679834604,2.26089000702 -3.41465473175,2.18791306019 l-2.46110990644,1.95080041885 m16.475225687,-5.77536463737 l-1.67380392551,0.825476571918 -5.39076983929,4.59509968758 l-2.86009788513,3.01156193018 -1.92672237754,2.55981743336 m18.4251654148,-15.2193069458 l1.54628425837,-0.425299890339 5.11826336384,-1.03468291461 l4.404476583,-0.45712724328 5.77219843864,0.0480564497411 m-16.6457545757,5.08838534355 l4.32074040174,0.242472905666 5.61843752861,1.09646350145 l3.88478636742,1.24357588589 2.69302010536,1.29176437855 m-16.8987333775,-1.01418435574 l3.28390866518,1.62312328815 4.95268970728,2.7775490284 l4.96877580881,3.17819237709 \" fill=\"none\" stroke=\"black\" stroke-width=\"1\"/></svg>"
      ],
      "text/plain": [
       "<IPython.core.display.SVG object>"
      ]
     },
     "metadata": {
      "tags": []
     },
     "output_type": "display_data"
    }
   ],
   "source": [
    "z_1 = np.random.randn(eval_model.hps.z_size)\n",
    "_ = decode(z_1)"
   ]
  },
  {
   "cell_type": "code",
   "execution_count": 77,
   "metadata": {
    "colab": {
     "base_uri": "https://localhost:8080/",
     "height": 88
    },
    "colab_type": "code",
    "id": "uaNxd0LuFQv-",
    "outputId": "4de5ee9a-cf14-49f4-e5f5-399a0d0b8215"
   },
   "outputs": [
    {
     "data": {
      "image/svg+xml": [
       "<svg baseProfile=\"full\" height=\"67.3315515471\" version=\"1.1\" width=\"97.5152636358\" xmlns=\"http://www.w3.org/2000/svg\" xmlns:ev=\"http://www.w3.org/2001/xml-events\" xmlns:xlink=\"http://www.w3.org/1999/xlink\"><defs/><rect fill=\"white\" height=\"67.3315515471\" width=\"97.5152636358\" x=\"0\" y=\"0\"/><path d=\"M29.9867404057,33.2670614123 m0.805409103632,-0.833975374699 l0.307652484626,-2.26678669453 0.151711469516,-3.54340940714 l0.245695672929,-1.62288993597 1.97277218103,0.558484233916 l9.41576838493,0.598074384034 1.79785534739,-0.0017053897318 l8.29492747784,0.0356167810969 0.235580727458,0.256019569933 l-0.0790408626199,4.21960532665 -0.012879089918,0.991931930184 l0.238454733044,0.568543076515 1.72342002392,0.0859044771641 l3.79813492298,0.127453990281 3.35740298033,0.193893890828 l2.98197507858,0.242248829454 2.23931834102,0.237911213189 l0.467457100749,1.53499528766 -6.0118318288e-05,1.97919502854 l-0.358457006514,0.899271965027 -1.3161124289,0.617377273738 l-1.56984224916,0.285860393196 -10.0039458275,-2.17749629883e-05 l-5.3582406044,-0.0280871801078 -17.0182836056,-0.501958318055 l-2.51457840204,-0.427288264036 -3.71798098087,-0.000259167863987 l-0.701615363359,-0.541000440717 -0.369239896536,-0.776930525899 l0.101714814082,-2.19061970711 0.609980300069,-2.19438523054 l0.583609454334,-0.528184100986 1.46566271782,-0.540503934026 l4.08039957285,-0.000195461961994 m28.6143398285,3.29255849123 l0.701352730393,-0.000361385791621 3.46933543682,0.0793636124581 l3.49189370871,-0.0329374009743 0.17093334347,0.102780237794 l-2.13421202488e-06,0.437825731933 -0.109605332837,1.93959712982 l-0.176565013826,1.56886965036 -0.811747461557,0.48882830888 l-9.52714025974,-0.269736666232 -2.52711653709,-0.335641019046 l-1.11822590232,-0.269015040249 -0.65738119185,-0.333181209862 l-0.345065407455,-0.51040943712 2.87700959234e-05,-1.82359144092 l0.546319633722,-2.12298080325 0.640969648957,-1.13863490522 m-21.3961911201,0.175616070628 l0.123352808878,1.75562694669 0.0747249089181,1.63561850786 l9.42731380463,0.0902032107115 1.62131980062,0.176886226982 l9.18411612511,0.247723404318 8.82574737072,-0.0572470016778 l2.63554483652,-0.0353826978244 0.296976547688,-0.193656068295 l0.000153735891217,-1.33447080851 -0.782406032085,-1.43808186054 l-0.364653207362,-0.214961729944 -15.9434425831,-0.106446798891 l-4.01207536459,-0.365686267614 -8.76956820488,-0.289525035769 l-1.16007901728,-0.147831970826 m2.86592900753,0.15889108181 l0.217890720814,2.00570434332 0.197594668716,0.598792210221 m4.64557051659,-2.32862919569 l0.539546869695,2.49007418752 0.32267279923,-0.0375697994605 m5.02432882786,-2.40153804421 l0.819848701358,2.54082530737 0.324251390994,0.343451648951 m4.47809964418,-2.83502340317 l0.971145778894,2.4656496942 0.412364751101,0.0167141086422 m4.11571443081,-2.65937894583 l0.979021638632,2.4001275003 0.346556939185,0.233826283365 l0.617895312607,-0.000109118318505 m3.05825412273,-2.66095519066 l0.814893916249,2.26838067174 0.360139980912,0.908551961184 l0.277478862554,0.294007174671 m-25.8793306351,2.12347775698 l-0.513627231121,-0.000485890341224 -0.521563515067,0.404155403376 l-0.36268081516,0.635671690106 3.32933063873e-05,0.870118141174 l0.307805500925,0.411691330373 0.911298170686,0.451387614012 l1.59308031201,-0.000136071012093 0.5957833305,-0.689334720373 l-2.61452532868e-05,-1.03384450078 -0.524161532521,-0.614503696561 l-0.852187871933,-0.328905619681 -1.14544011652,-0.000197982080863 l-0.176711063832,0.567854233086 m24.4003796577,0.548551231623 l-1.17612704635,0.419630333781 -0.6187973544,0.660637766123 l-0.190389137715,0.672465264797 0.306343305856,0.88217549026 l0.701067596674,0.531736761332 1.27594053745,0.344648398459 l1.61455705762,-6.17346495346e-05 0.655116811395,-0.625963658094 l4.13193492932e-05,-1.13174140453 -0.550770349801,-0.795240625739 l-1.00279971957,-0.554721839726 -1.46591112018,-0.33558037132 l-1.39785453677,-0.000171943738678 m-27.5255537033,-4.18329238892 l0.861325189471,-0.000235227307712 3.75310570002,-0.000122374522107 l8.99283826351,0.360180735588 5.18573880196,0.210896059871 l5.27216970921,0.231435690075 5.06657361984,0.14730297029 l1.9112432003,0.0967795029283 3.54516118765,0.234489161521 l1.4175029099,0.00369216315448 2.69836604595,0.186217669398 \" fill=\"none\" stroke=\"black\" stroke-width=\"1\"/></svg>"
      ],
      "text/plain": [
       "<IPython.core.display.SVG object>"
      ]
     },
     "metadata": {
      "tags": []
     },
     "output_type": "display_data"
    }
   ],
   "source": [
    "z_0 = np.random.randn(eval_model.hps.z_size)\n",
    "_ = decode(z_0)"
   ]
  },
  {
   "cell_type": "markdown",
   "metadata": {
    "colab_type": "text",
    "id": "VtSYkS6mFQwC"
   },
   "source": [
    "Let's interpolate between a cat and a bus!!!"
   ]
  },
  {
   "cell_type": "code",
   "execution_count": 0,
   "metadata": {
    "colab": {},
    "colab_type": "code",
    "id": "qIDYUxBEFQwD"
   },
   "outputs": [],
   "source": [
    "z_list = [] # interpolate spherically between z_1 and z_0\n",
    "N = 10\n",
    "for t in np.linspace(0, 1, N):\n",
    "  z_list.append(slerp(z_1, z_0, t))\n",
    "# for every latent vector in z_list, sample a vector image\n",
    "reconstructions = []\n",
    "for i in range(N):\n",
    "  reconstructions.append([decode(z_list[i], draw_mode=False, temperature=0.15), [0, i]])"
   ]
  },
  {
   "cell_type": "code",
   "execution_count": 79,
   "metadata": {
    "colab": {
     "base_uri": "https://localhost:8080/",
     "height": 112
    },
    "colab_type": "code",
    "id": "ZHmnSjSaFQwH",
    "outputId": "38fe3c7e-698b-4b19-8851-e7f3ff037744"
   },
   "outputs": [
    {
     "data": {
      "image/svg+xml": [
       "<svg baseProfile=\"full\" height=\"91.2642718171\" version=\"1.1\" width=\"833.762525478\" xmlns=\"http://www.w3.org/2000/svg\" xmlns:ev=\"http://www.w3.org/2001/xml-events\" xmlns:xlink=\"http://www.w3.org/1999/xlink\"><defs/><rect fill=\"white\" height=\"91.2642718171\" width=\"833.762525478\" x=\"0\" y=\"0\"/><path d=\"M25,25 m0.0,0.0 m34.7885648068,15.8217988545 l-1.70768797398,0.394326560199 -1.98709502816,1.39832496643 l-1.8858024478,1.81873455644 -1.72703936696,2.22130462527 l-1.25907227397,2.31055215001 -0.718402788043,2.31609672308 l-0.24189863354,2.28290840983 0.230393186212,2.17298224568 l0.899575799704,1.9522215426 1.58570617437,1.83934673667 l2.33861714602,1.53588861227 2.9568567872,1.06947176158 l3.42917084694,0.520680546761 4.56664592028,-0.000210430407606 l3.39892715216,-0.948901027441 2.86075204611,-1.51679575443 l2.18323692679,-1.95775061846 1.4845071733,-2.26167857647 l0.732822492719,-2.37686693668 0.0455579627305,-2.435528934 l-0.657622814178,-2.33118370175 -1.39675825834,-2.27535650134 l-2.00977087021,-2.11376160383 -2.45251193643,-1.75328552723 l-2.64242887497,-1.283313483 -2.64447331429,-0.779226571321 l-2.5469186902,-0.307059139013 -3.40631514788,0.205508377403 l-2.24611267447,0.615477263927 -1.7066423595,0.891111493111 m-1.41870632768,5.79610526562 l-0.981892421842,-0.701759532094 -1.57779186964,-1.86256706715 l-3.94318550825,-5.96731066704 -1.26046702266,-2.31150478125 l-0.750524476171,-1.99218571186 1.31670936942,-0.331926830113 l5.24980604649,2.5949165225 4.44657832384,2.77433514595 l1.48569047451,0.834902450442 m12.0142829418,1.30933701992 l0.924543663859,-0.972671657801 5.24440228939,-3.89542460442 l3.17973524332,-1.83452144265 2.36633822322,-0.941159427166 l0.351397916675,1.17977015674 -1.43672227859,3.12728255987 l-1.51523455977,3.65620046854 -2.21588477492,5.07369637489 l-0.433258190751,1.62227928638 m-15.6633877754,2.73675113916 l-1.03453852236,-0.391437746584 -2.45932713151,-0.000107182286229 l-5.03336369991,0.635710656643 -4.2340490222,1.17464527488 l-4.15684431791,1.76218211651 -2.99315959215,2.01255023479 m18.9975297451,-2.38496765494 l-2.13352456689,0.30238263309 -2.33867675066,0.903116837144 l-4.20184582472,2.53625094891 -3.17722201347,2.4148504436 l-2.34716102481,2.23815530539 m15.4375433922,-6.45224153996 l-1.71578854322,0.833854526281 -1.90653860569,1.54518857598 l-3.17113667727,3.54830682278 -2.14653044939,3.04755568504 m17.5838243961,-14.1745126247 l3.51344525814,-0.229860078543 5.83615481853,0.454912856221 l3.94071519375,0.842000097036 2.94197976589,1.04170843959 m-16.3493454456,1.84369981289 l3.97710770369,0.671474412084 3.52026820183,1.08801908791 l3.00031900406,1.40454411507 2.20906510949,1.55138850212 m-13.7836539745,-1.43525511026 l3.12916815281,1.78138285875 4.6027341485,2.91536957026 l3.78896981478,2.86304265261 m61.1221673153,-27.923102595 l-1.34081676602,0.300077814609 -1.77816852927,1.15137435496 l-1.62679851055,1.47592157125 -1.43992945552,1.77372604609 l-1.08541429043,1.92270770669 -0.644427761436,1.92675754428 l-0.21293323487,1.87265947461 0.254271049052,1.76748842001 l0.883712470531,1.68196752667 1.49429023266,1.57750234008 l2.15454220772,1.35759070516 2.70775288343,0.947909727693 l3.03057283163,0.473473891616 4.73421037197,-0.000199037658604 l3.06011736393,-1.01655952632 2.40617737174,-1.48026823997 l1.62968218327,-1.69074848294 0.972700193524,-1.85510024428 l0.398075133562,-2.01211079955 -0.211320854723,-2.11091920733 l-0.869603008032,-2.04913049936 -1.43723905087,-1.9520162046 l-1.84315979481,-1.64211899042 -2.09660440683,-1.297814399 l-2.31836304069,-0.969325378537 -2.27361395955,-0.537845902145 l-3.29529613256,-0.178839098662 -2.333355546,0.290679857135 l-1.61313489079,0.587641783059 -1.19258515537,0.792306736112 m2.72446841002,8.12675774097 l-1.75951942801,-0.581844598055 -6.07385754585,-1.5052010119 l-6.84001326561,-1.22386828065 -5.02493917942,-0.323068425059 l-2.98428446054,0.201857183129 -3.10902446508,0.914908722043 m23.889541626,4.46558892727 l-1.96429252625,0.0333260954358 -7.01863706112,1.10142633319 l-4.18344855309,0.89569106698 -3.10170590878,1.00869335234 l-2.19626620412,1.02675966918 -1.42079696059,1.03357359767 m20.789937973,-3.38880389929 l-1.54975727201,0.450737923384 -5.71410655975,3.2258990407 l-6.52717471123,4.69007343054 -1.75974026322,1.4480240643 m25.5840778351,-12.9877793789 l3.3687210083,-0.581119991839 6.09343469143,-0.320724770427 l6.22236907482,-0.555112808943 3.84471863508,-0.000113958794827 l3.6867839098,0.509935356677 1.05137556791,0.401513315737 m-23.7228369713,3.16447019577 l4.44630384445,0.708516687155 3.89528036118,0.988985821605 l3.52292358875,1.27116620541 2.90525883436,1.44292399287 l1.08033113182,0.838916897774 m-17.7968907356,-2.42074772716 l3.46976935863,1.88631013036 4.78761792183,3.05467605591 l4.19219851494,3.18067759275 1.21502868831,1.26656219363 m-21.69444561,-19.5003724098 l0.129600903019,-1.12517558038 0.800416022539,-1.7693464458 l1.08374379575,-1.48350641131 1.54425293207,-1.31653442979 l0.714464485645,0.949614867568 -0.000199777332455,2.84882605076 l-0.379973426461,1.37607008219 m5.44975399971,0.450557805598 l1.28930523992,-1.25219404697 1.86940953135,-1.60637646914 l1.43993899226,-0.830921530724 0.455965921283,1.09380014241 l-0.000222284106712,3.12435805798 -0.545425005257,1.51105627418 l-1.38976112008,2.11816653609 m-10.6656336784,1.25718653202 l0.0594600057229,1.17128476501 m77.4217587701,-9.49063634575 l-1.05272300541,0.231363754719 -1.49198234081,0.905212163925 l-1.40259116888,1.21015749872 -1.35581493378,1.60547852516 l-0.94908580184,1.67874529958 -0.551148727536,1.76460593939 l-0.000181085524673,2.11175531149 0.600012429059,1.80026322603 l1.11243955791,1.60005837679 1.56121686101,1.29039749503 l2.03958272934,0.991111323237 4.07528579235,0.758623853326 l4.1394752264,-9.72608449956e-05 2.65082389116,-0.885989665985 l2.07997068763,-1.30379930139 1.4967417717,-1.60956382751 l0.856701657176,-1.72815218568 0.327393598855,-1.77469983697 l-0.188593510538,-1.67157500982 -0.756347477436,-1.59974947572 l-1.3280646503,-1.58470347524 -2.75902628899,-2.09800451994 l-2.55750745535,-1.30546495318 -2.29568257928,-0.757255256176 l-3.31821739674,-0.523357242346 -2.71527081728,-0.000174231372512 l-1.87796056271,0.439582802355 -1.35757192969,0.697766840458 l-0.891847237945,0.870327502489 -0.536807887256,1.00225783885 m7.28169679642,7.41823911667 l-1.13386549056,1.00583069026 -2.14324891567,1.14934362471 l-3.07324916124,0.953980460763 -6.30411922932,1.25460475683 l-3.12406122684,0.380666591227 -2.14499294758,0.48919711262 l-1.58669188619,0.585118532181 m19.4818115234,-3.42844694853 l-1.00470259786,0.859153717756 -2.89884358644,1.74016907811 l-6.63260281086,3.38040500879 -6.09033346176,2.65592575073 l-1.77707061172,0.270040500909 m19.8901057243,-8.22713673115 l-0.465024933219,3.70004922152 -0.812648683786,2.85652309656 l-1.11152715981,2.39800423384 -1.09302386642,1.67222961783 m8.52242469788,-14.2369294167 l4.02571648359,-0.490326806903 10.7411003113,-1.82064339519 l4.86219853163,-0.888512060046 2.03941062093,-5.94121365793e-05 m-19.7138917446,5.66905319691 l3.63939762115,0.867229029536 5.65425992012,1.48675307631 l3.46987426281,0.576598718762 2.48714253306,0.19827703014 l0.91207370162,0.273711569607 m-16.9982790947,-1.46495297551 l2.29849040508,1.7916251719 4.25688445568,2.84828364849 l6.98166489601,3.86535048485 2.39423140883,0.915944203734 m-25.8874845505,-17.981441021 l-0.165865588933,-1.81872278452 0.0212128902785,-1.7885774374 l0.355022512376,-1.69516652822 0.636772811413,-1.37852430344 l0.858012884855,-1.01530522108 1.34456634521,-0.755780935287 l0.563290379941,0.709295868874 0.515430532396,2.34861001372 l0.324794836342,2.8080072999 0.163361411542,0.813717916608 m4.97062534094,0.382200032473 l2.08155214787,-2.71675139666 2.52416580915,-2.19626873732 l0.909035205841,-0.432681627572 0.283276122063,0.808296352625 l-0.629743561149,4.24503594637 -0.648921951652,2.09819972515 m-11.5411925316,3.481361866 l0.49384213984,-0.263805445284 0.243028625846,0.241926703602 l-0.181605480611,0.104862246662 -0.053020324558,-0.208454411477 m4.86806690693,-0.249655712396 l-0.129984933883,0.151077387854 -0.0608192291111,-0.222034845501 m86.2173719062,-6.631798133 l-0.800843164325,0.153561672196 -1.29188746214,0.689508393407 l-1.87164932489,1.52196630836 -1.24036371708,1.49555578828 l-0.811742693186,1.47446125746 -0.339269675314,1.39644056559 l-0.000196008168132,1.99010044336 0.97118370235,2.10257276893 l1.47220343351,1.47307395935 2.82930016518,1.41759335995 l2.70601212978,0.571088455617 3.32877904177,-0.000185658973351 l2.27597624063,-0.743930786848 1.85063719749,-1.13415829837 l1.34743392467,-1.38155281544 0.858136340976,-1.51142820716 l0.396832302213,-1.61945283413 -0.000103396423583,-2.09597498178 l-0.787668451667,-1.64738163352 -1.17966197431,-1.41628310084 l-1.47763192654,-1.1745390296 -2.82909750938,-1.38160035014 l-2.13164299726,-0.623854622245 -3.09203475714,-0.379225313663 l-2.46064782143,-0.000176889825525 -1.64692685008,0.383203476667 l-1.70256391168,0.959909409285 -0.544241219759,0.582911595702 l-0.496056936681,1.19713075459 m8.4709328413,6.17238163948 l-0.839278921485,0.100494790822 -5.22711515427,1.0365845263 l-7.8011906147,1.26599669456 -8.21896255016,1.30399852991 l-1.43203154206,0.464997515082 -0.358604602516,0.334879159927 l0.27479859069,0.202506612986 m22.7743721008,-3.75505268574 l-5.04449546337,2.63064593077 -7.88665950298,3.35116952658 l-3.55101644993,1.01233907044 -1.43359154463,0.150364693254 m21.6535377502,-8.57915341854 l3.43457400799,1.45957648754 3.03476154804,1.3306298852 l8.16144168377,2.23898544908 3.02991241217,0.493617355824 l1.96072459221,0.00105350693048 1.2331417948,-0.273353680968 m-20.4767012596,-3.56553316116 l2.91390925646,1.76036432385 7.66400158405,3.37751179934 l3.07332366705,0.904266089201 1.92246600986,0.258977115154 l1.67873948812,-0.0587911903858 m-23.3199429512,-11.1704611778 l0.265660416335,-0.000231024241657 0.339218974113,-0.103367250413 l-0.218573044986,0.100157354027 -0.146574806422,-0.0211665453389 l-0.0787196494639,-0.000153823748406 -0.00388697895687,-0.000127832345242 l0.0271065742709,-8.92466050573e-05 -0.211513843387,0.00191773695406 l0.402923449874,-0.0676799938083 -0.347743406892,0.0509304506704 l-0.442712008953,-5.03017827214e-05 m7.21222400665,0.00688569503836 l-0.334367677569,-0.0286015076563 -0.0261707790196,-0.108954887837 l-0.213281940669,0.22262096405 0.150782661512,-0.0285805854946 l0.0544943660498,-0.0606665201485 -0.0826898310333,0.0378933479078 l-0.038236877881,0.0754917319864 m-4.43813830614,1.67824208736 l0.736944004893,-0.000126561062643 m-2.98272818327,1.52260988951 l-0.0167129235342,-6.79959430272e-05 0.922482833266,0.231220312417 l0.789243876934,0.0735459011048 0.528379753232,-0.00204021212994 l0.545105077326,0.316700674593 m-3.02394777536,-0.306086111814 l-0.306961145252,-0.443260408938 -3.03595244884,-1.37290433049 l-1.43399506807,-0.644370466471 -2.26288422942,-0.733746215701 l-5.89421570301,-1.1798543483 -7.22966253757,-0.936437994242 l-4.50277596712,-0.000357130884368 -3.92497420311,0.858423635364 l-3.78847926855,1.62663176656 -3.19427222013,2.14010179043 l-1.65021255612,1.71246424317 -0.821161344647,1.53852552176 l-0.000356921191269,1.45562127233 0.461274273694,0.866288095713 l2.25414305925,1.49081006646 4.66654837132,1.4361461997 l6.71365439892,0.81541493535 18.1164383888,-0.702959001064 l2.91923254728,-0.944255664945 4.49356496334,-2.50916898251 l0.781933069229,-0.871339812875 0.585274361074,-1.6334964335 m52.6524120378,-11.8565135153 l-0.574092790484,0.0804120581597 -0.993667468429,0.470500774682 l-1.54801368713,1.20758935809 -1.43520921469,1.92345306277 l-0.436187908053,0.974724292755 -0.000139388548632,1.88541769981 l0.320744626224,0.805025994778 1.24290451407,1.33320763707 l2.36471578479,1.28009840846 3.21704506874,0.702763050795 l3.4132835269,-0.000192888219317 1.83816805482,-0.793727263808 l1.77455559373,-1.6019615531 0.518018268049,-0.877787843347 l0.3697341308,-1.70932278037 -0.000110823402792,-1.60232633352 l-0.720342025161,-1.51504158974 -1.35807752609,-1.25060081482 l-2.42579132318,-1.37903556228 -3.11367541552,-1.03390417993 l-2.74273335934,-0.348013825715 -2.5818297267,-0.000212740524148 l-1.47140160203,0.342714451253 -1.55218437314,0.952822938561 l-0.827332288027,0.903880000114 -0.163919217885,0.536427870393 m8.61066937447,6.01038098335 l2.21028253436,0.148987425491 4.98449325562,-0.140133481473 l9.98504698277,-0.123348878697 5.26606738567,0.608112625778 l4.06922250986,1.17615237832 0.92357814312,0.532421804965 l1.7260864377,2.08409115672 0.287052728236,0.890151783824 l-0.249102115631,1.76988750696 -1.63553655148,1.29464909434 l-1.93185120821,0.790849477053 -2.16329485178,0.485244356096 l-7.32450723648,0.315707214177 -8.97904574871,-1.1678186059 l-4.79459583759,-1.30088463426 -3.4376975894,-1.47159785032 l-1.42260491848,-0.805969014764 -1.42642617226,-1.39356791973 l-0.845452770591,-1.70598641038 -6.31736884316e-05,-1.43114849925 l0.421087108552,-0.457604080439 m7.21279382706,7.05982685089 l-0.676115900278,1.93000853062 -1.2773104012,2.48345851898 l-0.914197936654,1.60535410047 -0.635868012905,0.747172683477 l-0.434014722705,0.353692397475 m12.8865587711,-5.25023043156 l-0.519021935761,3.15577685833 -0.850263684988,1.87241360545 l-0.601446852088,0.863930955529 m10.5453598499,-5.22026777267 l0.0841656047851,3.46492648125 -0.397443249822,1.7654761672 l-0.430482588708,0.650541931391 m6.07006072998,-6.27663612366 l0.677030608058,3.64985495806 0.656012296677,4.55441564322 m3.07793170214,-14.964312315 l4.29661810398,-0.0803036335856 1.87959909439,-0.631983801723 l1.40462502837,-0.854656100273 3.43778342009,-3.08298319578 l1.46836221218,-2.37536773086 0.923022553325,-2.61803239584 l-0.000133172843562,-2.2229142487 -0.543183870614,-1.10248275101 l-2.73510724306,-1.96834921837 -1.65982544422,-0.611692331731 l-1.98662266135,-3.17030890074e-05 -1.65908709168,0.481598377228 l-2.38763928413,1.5406319499 -1.89177960157,2.23336040974 l-0.824167355895,1.64851471782 -1.30166605115,3.81613194942 l-0.551991090178,1.63439914584 -0.773336067796,1.27257049084 l-1.23362213373,0.948034003377 -3.24517905712,1.11873477697 l-2.52919495106,0.329379066825 -3.68511676788,-7.82794995757e-05 m-20.1643967628,-4.76072728634 l-1.35871246457,-3.6555776 -0.793228596449,-1.7220044136 l0.616980865598,-0.216068029404 2.65580445528,2.49533236027 l1.51071131229,1.79097265005 m5.35683393478,-0.957586839795 l0.840554386377,-2.20779687166 1.83694303036,-2.6588255167 l0.246099382639,0.724646449089 -0.139801008627,2.28658497334 l-0.277562849224,3.81807804108 m-10.4155242443,2.37124830484 l-0.155520718545,-4.82040013594e-05 -0.269501563162,-0.000174406141014 l-0.818388015032,-3.77440096599e-05 m6.53351604939,0.0608242908493 l-0.303285233676,0.15636747703 -0.0117910443805,0.1180041302 l0.286922603846,9.95676236926e-05 m87.7685385881,-7.38987424735 l-0.342884659767,-0.0326933152974 -0.781464576721,0.299764573574 l-1.5146137774,1.08983941376 -1.14889115095,1.65027409792 l-0.526527538896,1.91498994827 -0.000194646163436,1.56864196062 l0.762747079134,1.70027554035 1.4701859653,1.35929837823 l2.26000607014,0.891803354025 2.64717042446,0.250900480896 l3.16830068827,-0.00013217929336 1.58382713795,-0.652152076364 l1.60873308778,-1.43516927958 0.870338082314,-1.85597315431 l-3.98949123337e-05,-1.59375399351 -0.623387694359,-1.29846587777 l-1.22111022472,-1.29893094301 -2.28892087936,-1.64672598243 l-2.76133686304,-1.24988779426 -2.80328631401,-0.673827901483 l-1.75786525011,-0.000209121062653 -1.17423318326,0.381322614849 l-0.881445482373,0.635740458965 m14.6353363991,6.00293815136 l2.41817176342,-0.16956999898 6.09776854515,-0.589030832052 l6.4622169733,-0.00010597707842 8.49314272404,1.36653959751 l6.85401618481,2.06924647093 2.10174486041,1.17215514183 l0.620303861797,0.602095499635 0.672941282392,1.52462914586 l-0.000232234560826,1.21634148061 -0.615553706884,1.10490433872 l-1.145844087,0.835621282458 -1.59293353558,0.646070986986 l-2.03251108527,0.478836931288 -4.08995330334,0.398535467684 l-8.32490324974,-0.000197244698938 -8.96855056286,-1.05012558401 l-7.33244717121,-1.84607625008 -3.51475119591,-1.57978340983 l-1.23553015292,-0.817293971777 -0.791219174862,-0.835289508104 l-0.318155512214,-0.78605748713 m6.26292347908,3.39666187763 l0.131401354447,3.56122672558 -0.175877492875,2.16755107045 l-0.179097391665,1.75001040101 -0.146919451654,0.988211706281 l-0.217402037233,0.372143350542 -0.870476514101,0.422401987016 l-0.728901401162,0.190925654024 -0.489773005247,0.047642425634 l-1.26107677817,-0.455859415233 -0.465980246663,-1.04270190001 l-0.000114242848213,-3.08584690094 0.507878661156,-3.92757594585 l0.595298856497,-2.01526939869 m5.36417961121,1.47210583091 l-1.67302448517e-05,4.89188343287 -0.0568000087515,3.34440678358 l0.048707020469,0.948856920004 0.0884676165879,0.00099637247331 l0.0921808183193,-1.3604940474 0.339711904526,-5.68235814571 l0.0749013386667,-2.62658208609 m18.2541799545,1.79534569383 l0.23194713518,5.97216367722 0.31026320532,2.64126986265 l0.375177711248,0.325795486569 1.04522459209,-3.84095072746 l0.200849175453,-4.0104919672 -0.114421825856,-1.22149974108 m5.13552963734,-0.47951631248 l0.166430901736,5.10445892811 0.143521074206,1.5651884675 l0.354095101357,1.30582809448 0.607761032879,1.36004731059 l0.544009320438,-0.916400700808 6.90093111189e-05,-3.43268990517 l-0.792677029967,-4.30229842663 -0.42882591486,-2.25809857249 m-41.8885421753,-8.08446764946 l-0.409216545522,-0.37060584873 -1.15709476173,-0.849002227187 l-3.71320217848,-2.38312721252 -2.47046336532,-0.909365937114 l-4.01041835546,-1.03238753974 -1.6608543694,-0.000180023089342 l-1.77214041352,0.775729715824 -1.60747006536,1.55395060778 l-0.249967575073,0.658059120178 -5.49498508917e-05,0.957198143005 l0.951231643558,1.30363062024 2.32363581657,1.27965882421 l3.52009624243,0.814445093274 4.1314125061,-0.000191049402929 l2.12789684534,-0.166208557785 1.5600463748,-0.246234238148 l3.51080924273,-1.17107413709 1.24685227871,-0.43788254261 l1.92680701613,-2.100304755e-05 m-14.8272609711,-3.54823380709 l-0.805655568838,-0.0676610507071 -3.72652769089,-0.848078429699 l-1.73000872135,-0.718641206622 -3.59921306372,-1.38419464231 l-1.67971760035,-0.9191108495 -2.61820971966,-1.03047594428 l-1.7006623745,-8.30894987303e-05 -0.0272000255063,0.819789096713 l0.466079413891,0.630247443914 2.98617810011,1.99500307441 l3.74104619026,1.24777369201 4.17889297009,0.787334516644 l2.73290574551,0.308775193989 4.80103135109,-9.47939315665e-05 l4.31188702583,2.3783686629e-05 m66.1227589662,-1.05647943569 l-0.119739593938,-0.105961374938 -0.555940084159,0.121613545343 l-2.06629067659,1.05591244996 -1.20084166527,0.999835804105 l-0.968786627054,1.67256370187 -6.67466701998e-05,1.99248716235 l0.900006592274,1.74439519644 1.56985223293,1.30418807268 l1.4161786437,0.608017221093 2.48360559344,-0.000188215381058 l1.46801665425,-0.646522268653 1.56581327319,-1.43860116601 l0.870430469513,-1.83575406671 -1.94354493033e-05,-1.96889668703 l-0.521695129573,-1.12952955067 -1.0117970407,-1.13949641585 l-1.72306478024,-1.21014460921 -2.07011327147,-0.856653302908 l-1.23532764614,-0.222619622946 -1.58522710204,0.14943591319 m16.8751633167,4.57698911428 l0.428184717894,-3.50979303221e-05 2.59873986244,0.359811410308 l3.9526194334,0.835293978453 3.82494300604,0.978889614344 l5.98491430283,1.36429518461 3.04782390594,0.939204320312 l2.58765667677,1.1074513942 0.601587295532,0.499946326017 l0.554011054337,1.11281886697 -0.000333695206791,1.07096150517 l-0.546506941319,0.973040536046 -1.86812028289,1.30404323339 l-1.98989674449,0.76069816947 -3.73029619455,0.678046569228 l-7.72620975971,0.108168935403 -8.25177967548,-1.26456439495 l-6.76170945168,-1.84651374817 -3.14324349165,-1.45440116525 l-1.31325617433,-0.835504606366 -1.1634016782,-1.44741460681 l-0.521465465426,-1.68418884277 -5.97881853537e-05,-1.24428607523 l0.380104109645,-0.435207374394 1.59591108561,-0.47727946192 l3.32414478064,-0.000211071401282 m0.0573362549767,6.66731536388 l-0.869495198131,1.28957331181 -1.72973930836,1.55463770032 l-3.22608709335,2.57343709469 -1.29516944289,0.717179179192 m17.8614914417,-4.42774355412 l-0.957996919751,2.62257218361 -1.54915526509,2.11917757988 l-1.26952648163,1.09225451946 m12.5926852226,-4.88579511642 l1.87153622508,5.66886246204 0.623434223235,0.794622376561 m3.33348542452,-7.06626355648 l3.7110093236,4.1611084342 2.86255061626,2.65964925289 l0.587722472847,0.310596115887 m-4.39843356609,-14.9318861961 l1.2000054121,-0.584535934031 1.50823041797,-0.870185345411 l5.83425223827,-2.87511914968 5.40851831436,-2.3014895618 l3.17800164223,-1.16762503982 2.78766185045,-0.77985458076 l1.48250281811,-0.000242735659413 1.92209109664,0.510813742876 l1.63724914193,1.15657806396 0.713053122163,0.956336706877 l0.215993206948,0.916363149881 -0.336105376482,0.747361704707 l-0.824851617217,0.606937296689 -4.72090423107,1.43812164664 l-6.54159426689,1.03657051921 -3.28347116709,0.886767655611 l-2.84003704786,0.983144566417 -1.89248383045,0.919015854597 l-1.6743311286,0.903004780412 -1.61625400186,0.795787647367 l-1.44555449486,0.499749034643 -3.35794180632,0.195563193411 l-1.68943047523,-0.0953695643693 -2.60629326105,-7.61798446547e-05 m-23.7284946442,-5.49366354942 l0.12106959708,4.92957133247e-05 m5.30744969845,-0.21600663662 l-0.0399327417836,0.000103532738649 m-5.88018596172,1.20698578656 l0.165055189282,-1.57957379088e-05 0.486535690725,0.299330297858 l0.320439860225,0.0622809911147 0.320644937456,-0.000135349664561 l0.0871312338859,-0.000125964388644 -0.284940879792,-0.000133789735628 m-2.35858157277,0.0939030665904 l-0.139367859811,0.00764035969041 -0.571539849043,-4.11544078815e-05 l-1.35752514005,-0.000128615138237 -0.561179146171,0.0450652558357 m2.24003598094,0.133782913908 l-0.837381780148,0.607680268586 -1.17462486029,0.459080375731 l-0.785231813788,0.275797434151 m2.82436072826,-1.18840895593 l-0.5686840415,0.821235477924 -0.963979288936,0.79313531518 l-0.754424259067,0.453111156821 m3.81136834621,-2.72455483675 l3.69599819183,0.0863127503544 1.71905085444,-0.227262713015 m85.5757000672,2.16459211335 l0.334460884333,-0.507520362735 -0.152028156444,-0.73619633913 l-0.595440790057,-2.1042560041 -0.42881835252,-1.34789988399 l-2.32491879615e-05,-0.969608426094 1.46652370691,0.0064285058761 l3.28931003809,0.463838689029 8.27967464924,0.433349236846 l3.50744813681,0.273294206709 3.06925594807,0.119372038171 l0.562688931823,1.31544932723 0.195494722575,3.10458153486 l0.0043115313747,0.834838971496 0.0767337204888,0.754288360476 l0.122632747516,0.506898127496 1.66526228189,0.279694516212 l2.3574154079,0.313408225775 2.45995119214,0.390120893717 l2.4399754405,0.448820367455 2.10878834128,0.4560636729 l0.0603885762393,1.27386465669 -0.261654797941,2.44093880057 l-0.500286668539,0.390974767506 -15.3416645527,-0.104897245765 l-3.77224743366,-0.238058138639 -9.16058003902,-0.000160039235197 l-3.40849637985,-0.463637411594 -2.00272455812,-0.204662494361 l-1.27670943737,-0.295072998852 -0.951374545693,-0.582421794534 l-0.733232274652,-0.986130461097 9.25143012864e-05,-2.36159324646 l0.51925804466,-2.71760165691 0.663950517774,-0.759231373668 l0.560455881059,-0.192304179072 3.23203802109,-0.236328318715 l10.8670723438,0.377198942006 m15.1319766045,3.65544646978 l3.81168305874,0.584699474275 4.68393832445,0.25470232591 l2.95713692904,0.231362506747 2.08973512053,0.10535554029 l-0.462882630527,0.258936546743 -2.28616565466,1.11558906734 l-2.66716122627,0.570549443364 -6.57844185829,-0.000118205807667 l-3.24561953545,-0.346738956869 -9.52969610691,-0.522328168154 l-2.44194447994,-0.805395171046 -1.47007972002,-0.39112098515 l-4.77880477905,-0.443111024797 -3.85454297066,-0.000398044721805 l-4.83933210373,-0.236139968038 -2.33435943723,-0.194536242634 l-1.9875857234,-0.0842500198632 -1.11805140972,-0.0308111216873 l-9.42834321904e-05,-0.858241021633 0.882021337748,-2.48362526298 l0.566929318011,-0.523057617247 0.519664995372,-0.0960744265467 l7.56592690945,0.0397091638297 11.5582132339,0.208295676857 l10.4374158382,0.209092963487 3.28826159239,0.0641443254426 l3.57855349779,-7.43697501093e-05 0.192151982337,0.192128214985 m-4.42592293024,-0.16060795635 l-0.0564375054091,1.5812702477 m-4.12979215384,-1.69360294938 l-0.142230913043,0.832635760307 m-5.34449398518,-0.751793384552 l-0.260060057044,0.457233712077 -0.34631870687,0.375364981592 m-6.40315294266,-0.844799950719 l-0.40263235569,0.3140373528 -0.250612217933,0.585522912443 m-5.12857615948,-0.657959729433 l-0.434864796698,0.152589268982 -2.05164019462e-05,0.520313307643 l0.4419028759,0.0201035756618 0.341558009386,-0.000117558583952 l0.419356636703,-0.19950510934 -5.43130909136e-05,-0.356371849775 l-0.494620352983,-0.0875113066286 -0.36840505898,-0.0276982574724 m2.62187033892,0.151548637077 l-0.653814971447,0.0387273891829 -0.203496459872,0.254598408937 l0.572155378759,0.171816851944 0.671230256557,-0.000123107329273 l0.225909296423,-0.351839028299 -0.332490578294,-0.133469607681 l-0.432983823121,0.00393590948079 m4.74514991045,0.124767478555 l-0.768317356706,0.0402387464419 -0.161709524691,0.346008948982 l0.360580123961,0.139953782782 0.651588365436,-0.000147763566929 l0.563384667039,-0.000160819672601 -0.000137445267683,-0.18519917503 l-0.419420711696,-0.000168785991264 -0.438373312354,-0.000207592947845 m5.91394364834,-0.0330101768486 l-0.812260881066,0.100660519674 -0.191704295576,0.469364896417 l0.360640101135,0.176900941879 0.789735615253,-0.000154345270857 l0.229543354362,-0.300458762795 -0.152986003086,-0.230786893517 l-0.417761392891,-0.00011278412785 m7.26212739944,0.133851990104 l-0.888017266989,0.187365990132 -0.19449589774,0.487943813205 l0.219769198447,0.270786620677 0.898086279631,-0.000131055803649 l0.246715433896,-0.307870693505 -0.111856954172,-0.264588873833 l-0.414639487863,-0.00012343391063 m6.50281727314,-0.0623971829191 l-0.908522233367,0.573395602405 -0.0928581692278,0.418043099344 l0.397355221212,0.111971953884 0.754116252065,-0.000110250930447 l0.237642601132,-0.330615006387 -0.107775712386,-0.270033404231 l-0.556088276207,-8.68309507496e-05 m54.8034080162,-2.14721279674 l0.576249882579,-0.657738819718 0.0540502555668,-1.37662380934 l-0.105912396684,-3.17857921124 0.00247399817454,-1.44378662109 l1.31129086018,0.2889203839 3.44998419285,0.55849019438 l2.02327087522,0.111471526325 8.90452027321,0.147584946826 l1.79262459278,-0.147424470633 5.54787278175,-3.21463448927e-05 l0.371909439564,1.43562793732 0.134841240942,3.91416728497 l0.277195293456,0.819738358259 1.43761962652,0.133967911825 l3.12156915665,0.152055602521 3.43387782574,0.262827333063 l2.29942843318,0.247207060456 0.295009352267,0.430057533085 l0.227263327688,3.32706362009 -0.322499610484,0.615067072213 l-0.458380058408,0.227946322411 -1.7002774775,0.163875613362 l-7.53753781319,-6.41403403279e-05 -17.3141026497,-0.516761615872 l-4.13670271635,-0.401273816824 -5.05086004734,-0.000237639178522 l-2.00676187873,-0.301114693284 -3.44072043896,-0.34914880991 l-2.31558099389,-0.34594848752 -2.73994773626,-0.305953081697 l-1.57714247704,-0.188210625201 0.0961038190871,-3.6957025528 l1.29315853119,-2.25447669625 0.925650149584,-0.333271771669 l5.80800831318,-0.000285983096546 9.96850192547,0.530195087194 l4.56129014492,-0.0046902988106 3.77831339836,-0.0212449021637 l7.90341079235,-0.000123538993648 3.93542587757,-0.0247700302862 l2.95343667269,-0.0460799876601 m-4.09528583288,2.49020457268 l-0.101406387985,1.52888864279 -0.142418295145,1.69052153826 l-0.28573429212,2.02439382672 m-1.57918080688,-5.56866049767 l1.42022356391,0.149815147743 2.83333450556,0.105449017137 l0.154838031158,0.316420979798 -0.262661203742,4.03999477625 l-0.159305427223,1.15189582109 -0.19041147083,0.734840407968 l-0.833771973848,-0.120022408664 m-29.1902899742,-7.288813591 l1.69692918658,-0.000175465211214 4.70515519381,0.207851752639 l13.2050919533,0.571056269109 5.14947593212,0.300912559032 l5.79668939114,-0.00021185096557 2.17616453767,0.0497011421248 l1.6709908843,-0.0110890343785 1.39285057783,0.0128694844898 m-31.0951948166,-5.52376687527 l0.0978808384389,2.20853805542 0.177104752511,1.08621500432 l0.170046240091,0.83428837359 m5.21684110165,-3.76138657331 l0.51744248718,2.82305836678 0.351111963391,0.984178707004 l0.266326442361,0.156911481172 m5.78899085522,-3.78365218639 l0.749629810452,3.09018701315 0.468524880707,0.491859540343 l0.353732071817,-0.00853725650813 m5.54361701012,-3.23383897543 l0.897318571806,2.49118342996 0.43659619987,0.945089235902 l0.239267926663,0.116383014247 m4.78656470776,-3.38871717453 l1.01442910731,2.89468586445 0.371218845248,1.17386743426 l0.378145836294,0.602371022105 m-24.3468666077,3.34676086903 l-1.25101551414,0.103837726638 -0.945673286915,0.55397387594 l-0.789935290813,1.12702868879 -0.0792637467384,0.599402412772 l0.519235320389,1.01282969117 1.37082129717,0.832507759333 l1.72811076045,0.306310672313 1.73634126782,-9.1766623882e-05 l0.651660785079,-0.21196115762 0.848566219211,-0.749963223934 l5.91169225572e-06,-1.28863438964 -0.645295828581,-0.756398364902 l-1.12272754312,-0.655279904604 -1.60411968827,-0.456598214805 l-1.55811965466,-0.000189701349882 m26.9696974754,0.846580415964 l-1.59791484475,-0.00029610697311 -1.52147859335,0.614215992391 l-0.729926526546,0.676414594054 -0.353138782084,1.08871906996 l-3.06079687107e-05,0.837335735559 0.69167278707,0.980551987886 l0.599420629442,0.357648469508 1.4833047986,0.325746946037 l2.28589475155,-8.42847566673e-05 1.33887127042,-1.02478645742 l0.245425719768,-1.06662787497 -0.257597696036,-0.997521728277 l-0.799571722746,-0.820630937815 -1.46015584469,-0.792224481702 l-1.68061047792,-0.472595952451 m-29.8440265656,-5.21363675594 l0.634939819574,0.0294309481978 8.83153915405,0.18097428605 l4.82362151146,0.11661214754 5.01452565193,0.159020014107 l5.46618282795,0.126993078738 5.11264503002,0.14596725814 l1.78291469812,0.0109928462189 4.601816535,-6.10199413131e-05 l2.76153326035,0.06285878364 m37.0001563104,0.230233606783 l0.773810818791,-0.780032724142 0.272988919169,-2.32334703207 l0.22511491552,-3.47314298153 0.184976309538,-1.91972568631 l1.92811787128,0.780996754766 4.01163846254,0.744545310736 l4.35732960701,0.408964678645 4.38751965761,0.186248533428 l4.16760116816,0.119311353192 4.20186549425,0.00525766110513 l3.64925384521,0.0406110053882 3.01986187696,0.0447271158919 l0.250927116722,0.328645221889 -0.117834387347,5.74526965618 l0.0161475862842,0.851716846228 0.0719993188977,0.539017356932 l0.797013118863,0.025145499967 1.92286238074,-0.0110834510997 l2.69466936588,0.119563220069 2.1972347796,0.239456463605 l1.88705027103,0.229234006256 0.173245184124,1.63888141513 l-0.109046902508,2.83881932497 -0.509129203856,0.2707724832 l-10.6712400913,6.6709121711e-05 -20.2186942101,-0.519036091864 l-4.03884649277,-0.450172275305 -8.81336510181,-0.44698830694 l-1.00869007409,-0.597673766315 -0.608417242765,-0.756120234728 l0.207585059106,-2.23994508386 0.7310564816,-2.04503104091 l0.821128189564,-1.64324641228 0.494947731495,-0.30375642702 m4.12084043026,4.11362200975 l5.169968009,0.217308476567 5.27096748352,0.171645097435 l11.5321314335,0.374396033585 2.28255808353,0.0120746449102 l7.62313842773,-7.50488288759e-05 1.15880921483,-0.0370535789989 l1.6957886517,0.0312591996044 m-31.1058664322,-5.39704859257 l0.0570042617619,1.08446724713 -0.0881399214268,1.51235923171 l0.42782317847,0.174676049501 3.62102895975,-0.000173086027644 l1.46610021591,-0.081617468968 0.140145504847,-0.294351372868 l-2.35374227486e-05,-1.52856811881 -0.69556646049,-1.13646000624 l-0.787341371179,-0.269381459802 -3.63730818033,-0.000213211951632 m9.43131864071,1.19941912591 l-0.0041988180601,1.85372486711 0.292387064546,0.488059036434 l6.23452484608,-0.0399936176836 -0.416381135583,-1.84110671282 l-0.797046497464,-0.57077974081 -3.52693915367,-0.000170852890733 l-1.47142454982,-0.0216502696276 m10.3481698036,0.497786737978 l-0.181375201792,1.83700844646 0.359834134579,0.435759350657 l3.03960561752,0.0346830999479 2.09818184376,-0.188041422516 l0.21365981549,-0.319672822952 -7.59299746278e-05,-1.21715642512 l-0.265836324543,-0.24336155504 -5.06268084049,-0.471448302269 l-1.39919474721,-0.00597669859417 m9.89276170731,0.0828793551773 l-1.13283965675e-05,1.80148109794 0.346947200596,0.466093756258 l2.64591902494,0.0238319765776 0.235521178693,-0.227250512689 l0.160892996937,-0.732935741544 -0.559511817992,-1.2585529685 l-0.843542590737,-0.287528261542 -3.00104707479,-0.000225624698942 m-19.6321773529,7.38409042358 l-0.901262760162,0.0146772712469 -1.68149679899,0.703638568521 l-0.645077377558,0.795703530312 -7.07747994966e-05,0.949522033334 l0.301645323634,0.382154323161 1.13292463124,0.534128919244 l2.6229351759,-0.000102144886114 0.655227005482,-0.753250494599 l-1.07132882476e-05,-1.37524157763 -0.604641139507,-0.603416375816 l-1.15672841668,-0.522241704166 m20.1180315018,0.617494955659 l-1.43678978086,-0.000200604936254 -0.993494689465,0.387228839099 l-0.996910259128,0.933575183153 -0.305412840098,0.770391747355 l-1.5898745005e-05,1.00444167852 0.710157454014,0.784713327885 l1.40399307013,0.500174127519 2.25450396538,-7.18338105798e-05 l0.834328383207,-0.640552788973 0.318757481873,-1.02652564645 l5.03257660966e-05,-1.25412166119 -0.5726775527,-0.720833912492 l-1.09828725457,-0.504177622497 m-26.3925147057,-6.20228052139 l-0.559029579163,-0.0095378048718 -2.26619169116,0.4306403175 l-1.03231884539,0.670168474317 -0.234930254519,1.58446833491 l-2.13691600948e-05,1.39370322227 0.172374267131,0.422167815268 l1.69319614768,0.635837763548 3.86396497488,-5.03750698044e-05 l1.01378776133,-0.504933670163 0.150792319328,-0.494896508753 l3.10012205773e-05,-1.74102365971 -0.968177244067,-1.79080799222 l-0.855878219008,-0.526622980833 -1.40995636582,-0.348166339099 m18.9080548286,1.44115403295 l-0.061330748722,-9.8052305475e-05 -1.09743915498,0.906925052404 l-0.641183033586,1.21465943754 -4.65345738121e-05,1.20015159249 l0.262861158699,0.359237156808 1.08631111681,0.514072850347 l3.20742070675,2.37326673869e-06 0.878235846758,-0.506976805627 l0.179519671947,-0.494617894292 8.66047685122e-06,-1.45371094346 l-0.644826367497,-0.758478194475 -1.13258346915,-0.41206382215 \" fill=\"none\" stroke=\"black\" stroke-width=\"1\"/></svg>"
      ],
      "text/plain": [
       "<IPython.core.display.SVG object>"
      ]
     },
     "metadata": {
      "tags": []
     },
     "output_type": "display_data"
    }
   ],
   "source": [
    "stroke_grid = make_grid_svg(reconstructions)\n",
    "draw_strokes(stroke_grid)"
   ]
  },
  {
   "cell_type": "markdown",
   "metadata": {
    "colab_type": "text",
    "id": "flZ_OgzCFQwJ"
   },
   "source": [
    "Why stop here? Let's load the model trained on both elephants and pigs!!!"
   ]
  },
  {
   "cell_type": "code",
   "execution_count": 0,
   "metadata": {
    "colab": {},
    "colab_type": "code",
    "id": "S8WwK8FPFQwK"
   },
   "outputs": [],
   "source": [
    "model_dir = '/tmp/sketch_rnn/models/elephantpig/lstm'"
   ]
  },
  {
   "cell_type": "code",
   "execution_count": 81,
   "metadata": {
    "colab": {
     "base_uri": "https://localhost:8080/",
     "height": 255
    },
    "colab_type": "code",
    "id": "meOH4AFXFQwM",
    "outputId": "764938a7-bbdc-4732-e688-a8a278ab3089"
   },
   "outputs": [
    {
     "name": "stdout",
     "output_type": "stream",
     "text": [
      "INFO:tensorflow:Model using gpu.\n",
      "INFO:tensorflow:Input dropout mode = False.\n",
      "INFO:tensorflow:Output dropout mode = False.\n",
      "INFO:tensorflow:Recurrent dropout mode = False.\n",
      "INFO:tensorflow:Model using gpu.\n",
      "INFO:tensorflow:Input dropout mode = 0.\n",
      "INFO:tensorflow:Output dropout mode = 0.\n",
      "INFO:tensorflow:Recurrent dropout mode = 0.\n",
      "INFO:tensorflow:Model using gpu.\n",
      "INFO:tensorflow:Input dropout mode = 0.\n",
      "INFO:tensorflow:Output dropout mode = 0.\n",
      "INFO:tensorflow:Recurrent dropout mode = 0.\n",
      "INFO:tensorflow:Loading model /tmp/sketch_rnn/models/elephantpig/lstm/vector.\n",
      "INFO:tensorflow:Restoring parameters from /tmp/sketch_rnn/models/elephantpig/lstm/vector\n"
     ]
    }
   ],
   "source": [
    "[hps_model, eval_hps_model, sample_hps_model] = load_model_compatible(model_dir)\n",
    "# construct the sketch-rnn model here:\n",
    "reset_graph()\n",
    "model = Model(hps_model)\n",
    "eval_model = Model(eval_hps_model, reuse=True)\n",
    "sample_model = Model(sample_hps_model, reuse=True)\n",
    "sess = tf.InteractiveSession()\n",
    "sess.run(tf.global_variables_initializer())\n",
    "# loads the weights from checkpoint into our model\n",
    "load_checkpoint(sess, model_dir)"
   ]
  },
  {
   "cell_type": "code",
   "execution_count": 82,
   "metadata": {
    "colab": {
     "base_uri": "https://localhost:8080/",
     "height": 121
    },
    "colab_type": "code",
    "id": "foZiiYPdFQwO",
    "outputId": "a09fc4fb-110f-4280-8515-c9b673cb6b90"
   },
   "outputs": [
    {
     "data": {
      "image/svg+xml": [
       "<svg baseProfile=\"full\" height=\"100.1374763\" version=\"1.1\" width=\"142.341965201\" xmlns=\"http://www.w3.org/2000/svg\" xmlns:ev=\"http://www.w3.org/2001/xml-events\" xmlns:xlink=\"http://www.w3.org/1999/xlink\"><defs/><rect fill=\"white\" height=\"100.1374763\" width=\"142.341965201\" x=\"0\" y=\"0\"/><path d=\"M75.6208756314,29.3256763004 m-0.582655221224,-1.41240119934 l-1.66317984462,-1.22074924409 -2.75809496641,-1.09683960676 l-3.07550758123,-0.595324225724 -3.89009475708,-0.0003620244388 l-2.75750011206,0.816095769405 -2.29113280773,1.42393887043 l-1.95413276553,1.73745810986 -2.5669786334,3.43614578247 l-1.2735286355,2.90598779917 -0.989861860871,4.62075203657 l-1.10287764699e-06,3.90399307013 0.0547751411796,2.40621611476 l-5.02344391862e-05,4.53562498093 -0.561834573746,2.95333892107 l-1.06312431395,2.36744016409 -1.39197811484,1.87399983406 l-1.81149438024,1.4499156177 -3.41289192438,1.46371915936 l-4.07461106777,0.591216534376 -2.99031198025,-0.000154946810653 l-2.05114141107,-0.504599288106 -3.31417560577,-2.18389704823 l-1.98922514915,-2.78586387634 -1.16057910025,-3.39478313923 l-0.749077796936,-1.05758979917 -1.1735855788,0.551885999739 l-1.12867623568,2.37056776881 -0.000225016756303,2.13919103146 l1.86253547668,3.32723408937 2.09212735295,2.05651387572 l2.78266966343,1.62848427892 2.35207825899,0.817296206951 l3.75963628292,0.627428814769 4.50475424528,-0.000153672626766 l2.55202025175,-0.602679848671 3.2840013504,-1.56706660986 l2.95549511909,-2.35042721033 2.25631594658,-2.8442376852 l1.56401470304,-3.43744754791 1.15526020527,-1.92337587476 l1.24448925257,-1.33059889078 1.20743431151,-0.737381130457 l2.127353549,-5.7606757764e-05 0.882499217987,0.618953853846 l0.892083570361,1.13026738167 0.919248387218,2.08400338888 l1.45457953215,1.42186954618 2.3826391995,0.643569454551 l3.19635272026,-7.14248699296e-05 1.80601090193,-0.769607052207 l2.01613679528,-1.80690050125 1.76834836602,-2.94737517834 l1.10689990222,-3.9570748806 -0.000208850142371,-3.89997035265 l-0.712704136968,-2.58619070053 -1.0928696394,-1.96944758296 l-1.35899797082,-1.44939050078 -2.53083497286,-1.57845303416 l-1.3102221489,-0.938470289111 m-8.47513616085,2.06321552396 l2.4355866015,-0.519107766449 m0.0358278979547,4.56360518932 l1.47531658411,0.13141923584 1.70170679688,0.58035377413 l1.42589494586,1.11343696713 1.35092258453,1.92930743098 l0.647478997707,3.07652205229 -0.000102521598819,4.67519849539 l-0.69078065455,2.5873413682 -1.09512798488,1.92682042718 l-1.49378657341,1.34781494737 -1.76812708378,0.683051273227 l-1.73257008195,-6.02221098234e-05 -1.2951849401,-1.2457408011 l-1.54103249311,-3.08542668819 -0.340462885797,-2.90916055441 l-9.72003363131e-05,-3.77835482359 m5.41582465172,-4.64801728725 l0.886888504028,1.27891331911 1.70460686088,2.93731004 l1.42219677567,3.44551324844 1.11802093685,3.74898761511 l1.05097316206,4.37461674213 0.681472197175,4.86078739166 l0.532193183899,4.21487510204 0.503655560315,3.45398724079 l0.972457081079,3.35574686527 4.5726788044,0.662470981479 l5.87475061417,0.0322064291686 0.792977139354,-0.890891775489 l-0.000170101102412,-6.2473064661 0.294471308589,-4.34204846621 l0.982625558972,-1.62652179599 6.85891509056,-0.797987431288 l7.57929980755,-0.391377769411 0.904950499535,0.837505757809 l0.270838290453,7.563611269 0.89445322752,4.74498152733 l0.910309106112,0.974612608552 7.57054567337,-0.12530952692 l1.04310050607,-0.603834278882 1.12687677145,-1.70403778553 l1.33766591549,-5.06121516228 0.211263485253,-5.79871416092 l0.121820848435,-4.75001722574 0.359147302806,-4.64286923409 l0.58768376708,-4.5747640729 -7.25926793166e-05,-4.30104911327 l-0.775724723935,-3.36740553379 -1.36360242963,-2.7925285697 l-1.96151554585,-2.37419635057 -4.03261274099,-2.97431200743 l-3.31938505173,-1.49296477437 -5.44422984123,-1.3656245172 l-6.53502523899,-0.000157591148309 -4.3574282527,0.902363657951 l-4.84326660633,1.89100310206 -2.40882813931,1.37651488185 \" fill=\"none\" stroke=\"black\" stroke-width=\"1\"/></svg>"
      ],
      "text/plain": [
       "<IPython.core.display.SVG object>"
      ]
     },
     "metadata": {
      "tags": []
     },
     "output_type": "display_data"
    }
   ],
   "source": [
    "z_0 = np.random.randn(eval_model.hps.z_size)\n",
    "_ = decode(z_0)"
   ]
  },
  {
   "cell_type": "code",
   "execution_count": 84,
   "metadata": {
    "colab": {
     "base_uri": "https://localhost:8080/",
     "height": 163
    },
    "colab_type": "code",
    "id": "6Gaz3QG1FQwS",
    "outputId": "0cfc279c-1c59-419f-86d4-ed74d5e38a26"
   },
   "outputs": [
    {
     "data": {
      "image/svg+xml": [
       "<svg baseProfile=\"full\" height=\"142.446283479\" version=\"1.1\" width=\"121.156762694\" xmlns=\"http://www.w3.org/2000/svg\" xmlns:ev=\"http://www.w3.org/2001/xml-events\" xmlns:xlink=\"http://www.w3.org/1999/xlink\"><defs/><rect fill=\"white\" height=\"142.446283479\" width=\"121.156762694\" x=\"0\" y=\"0\"/><path d=\"M47.3451428087,38.8328450652 m-2.69179135561,-0.522680617869 l-2.46359333396,0.129737621173 -3.64385932684,1.0975138098 l-2.15494379401,1.07036538422 -2.08060890436,1.53608307242 l-1.96840047836,2.08357974887 -1.74982562661,2.6373142004 l-1.34052321315,3.16095918417 -0.773111879826,3.57092946768 l-0.00011535658814,6.66993737221 1.26118257642,3.88434410095 l2.23773092031,3.732226789 3.06275784969,3.34774464369 l3.70705157518,2.74497538805 4.19200122356,2.04243674874 l4.60648804903,1.16009183228 4.82164353132,0.346559546888 l4.85705465078,-0.46856187284 4.67804729939,-1.30255714059 l4.22396481037,-2.06189543009 3.67749035358,-2.70488619804 l2.9124763608,-3.24077129364 2.11292609572,-3.73789638281 l1.22385747731,-4.0058645606 0.389578789473,-4.10688310862 l-0.395166948438,-4.06808823347 -2.03144267201,-4.19365376234 l-2.74696111679,-3.68090391159 -3.35527479649,-3.11336934566 l-3.77657920122,-2.39820197225 -4.10039186478,-1.66519939899 l-4.22022551298,-0.929644852877 -4.23147052526,-0.284992158413 l-3.82128596306,0.320291407406 -3.23317825794,0.905640497804 l-2.34930440784,1.56960785389 m6.13138318062,16.7095828056 l-0.719936415553,1.17638163269 -0.0361430016346,3.35672169924 l1.70996874571,2.95245826244 2.10571438074,1.3426668942 l2.49130383134,0.738167464733 2.69166857004,0.112504223362 l2.34241992235,-1.29301711917 1.75146520138,-1.91541656852 l1.06740474701,-2.18215048313 0.356686748564,-2.17146858573 l-0.306813810021,-2.01713651419 -1.91864490509,-1.80962726474 l-2.74145185947,-0.976984575391 -3.70214641094,-9.05096749193e-05 l-2.21886113286,1.41673818231 -1.0569217056,2.1912111342 m3.31286668777,2.92156904936 l-0.00127496110508,9.13770236366e-05 m4.82796519995,-0.242250692099 l-0.00170641360455,8.72614782566e-05 m-6.82623028755,-0.151730859652 l-0.00119594427815,-9.57147790359e-06 m5.99596917629,0.11367588304 l-0.000914006886887,0.000136158987516 m-16.9885921478,-11.680355072 l-0.818383544683,-0.229816455394 m22.6836252213,-1.48830547929 l0.00150344174472,-0.000165050223586 m-29.3880820274,3.16085159779 l-3.24901610613,-5.98880529404 -4.6749702096,-12.1396255493 l0.10100627318,-2.48672604561 2.45123192668,-1.7078320682 l2.37694829702,0.495375953615 6.47590875626,4.74105596542 l5.4493445158,4.70880299807 2.04894557595,1.55856758356 m20.8354377747,0.784763395786 l0.355187766254,-2.05176264048 3.11466038227,-4.65667247772 l6.12619042397,-6.64859414101 1.80937632918,0.92253126204 l0.291855279356,9.25140440464 -0.0302001321688,7.49153196812 l-0.0555114913732,2.07715794444 m-30.3195738792,21.4522743225 l-2.83037006855,0.808310285211 -2.34350711107,1.84400230646 l-3.49290966988,4.2313721776 -2.72830665112,5.57296454906 l-1.28466308117,4.81901556253 -0.337231941521,4.46374237537 l0.522851757705,4.03009414673 1.33307233453,3.76228779554 l2.22003132105,3.50767344236 3.0556127429,2.98304110765 l3.85734289885,2.40282431245 4.55951154232,1.79839834571 l5.22038280964,1.19931094348 5.79709410667,0.56781925261 l6.00298702717,-0.112360613421 6.04290783405,-0.952734276652 l5.68931043148,-1.74580782652 5.14512181282,-2.44568526745 l4.47602778673,-3.17111521959 3.73202204704,-3.75576108694 l2.85150945187,-4.18114542961 1.86040177941,-4.58756119013 l0.776755735278,-4.70811665058 -0.167255941778,-4.60611075163 l-1.02364048362,-4.13730382919 -1.91024109721,-3.71803939342 l-2.63743102551,-3.18669259548 -3.32270681858,-2.57904231548 l-3.85786920786,-1.87214508653 -4.18146580458,-1.13132365048 l-4.41078215837,-0.471304915845 -4.28273439407,0.0765748461708 l-3.89084875584,0.625018998981 -3.32822203636,1.12325668335 m-17.0552754402,35.0428938866 l-1.10362760723,6.38467431068 -2.09086015821,8.7335306406 l-0.828807502985,4.63682770729 m14.5904958248,-15.6632947922 l0.0219103763811,10.053716898 0.203560218215,3.23187142611 \" fill=\"none\" stroke=\"black\" stroke-width=\"1\"/></svg>"
      ],
      "text/plain": [
       "<IPython.core.display.SVG object>"
      ]
     },
     "metadata": {
      "tags": []
     },
     "output_type": "display_data"
    }
   ],
   "source": [
    "z_1 = np.random.randn(eval_model.hps.z_size)\n",
    "_ = decode(z_1)"
   ]
  },
  {
   "cell_type": "markdown",
   "metadata": {
    "colab_type": "text",
    "id": "oVtr7NnGFQwU"
   },
   "source": [
    "Tribute to an episode of [South Park](https://en.wikipedia.org/wiki/An_Elephant_Makes_Love_to_a_Pig): The interpolation between an Elephant and a Pig"
   ]
  },
  {
   "cell_type": "code",
   "execution_count": 0,
   "metadata": {
    "colab": {},
    "colab_type": "code",
    "id": "lJs9JbROFQwU"
   },
   "outputs": [],
   "source": [
    "z_list = [] # interpolate spherically between z_1 and z_0\n",
    "N = 10\n",
    "for t in np.linspace(0, 1, N):\n",
    "  z_list.append(slerp(z_0, z_1, t))\n",
    "# for every latent vector in z_list, sample a vector image\n",
    "reconstructions = []\n",
    "for i in range(N):\n",
    "  reconstructions.append([decode(z_list[i], draw_mode=False, temperature=0.15), [0, i]])"
   ]
  },
  {
   "cell_type": "code",
   "execution_count": 0,
   "metadata": {
    "colab": {},
    "colab_type": "code",
    "id": "0FOuNfJMFQwW"
   },
   "outputs": [],
   "source": [
    "stroke_grid = make_grid_svg(reconstructions, grid_space_x=25.0)"
   ]
  },
  {
   "cell_type": "code",
   "execution_count": 87,
   "metadata": {
    "colab": {
     "base_uri": "https://localhost:8080/",
     "height": 130
    },
    "colab_type": "code",
    "id": "bZ6zpdiMFQwX",
    "outputId": "70679bd1-4dba-4c08-b39f-bbde81d22019"
   },
   "outputs": [
    {
     "data": {
      "image/svg+xml": [
       "<svg baseProfile=\"full\" height=\"109.00576679\" version=\"1.1\" width=\"862.546443792\" xmlns=\"http://www.w3.org/2000/svg\" xmlns:ev=\"http://www.w3.org/2001/xml-events\" xmlns:xlink=\"http://www.w3.org/1999/xlink\"><defs/><rect fill=\"white\" height=\"109.00576679\" width=\"862.546443792\" x=\"0\" y=\"0\"/><path d=\"M25,38.1831235842 m0.0,0.0 m40.3581455331,2.82800302197 l-0.378496597211,-0.942793885867 -1.08258038759,-0.83274135987 l-1.8540841341,-0.789756278197 -2.15390443802,-0.487522731225 l-2.79743472735,-0.000234783122626 -1.7284421126,0.606830815474 l-1.53313219547,1.02461586396 -1.29573484262,1.22345874707 l-1.58294657866,2.25630164146 -0.798018773397,1.92778845628 l-0.568047215541,2.96886920929 3.9221716482e-05,2.74062494437 l0.0825978443027,1.70337537924 0.0658295986553,1.83018108209 l-4.18956369685e-05,2.86497910817 -0.36412725846,2.06300278505 l-0.580140650272,1.543366611 -0.913490056992,1.52876536051 l-1.1813339591,1.22372478247 -1.29933635394,0.753335903088 l-2.1799403429,0.532850772142 -1.8045214812,-9.4624022798e-05 l-1.25179062287,-0.368923122684 -1.72518908978,-1.17050498724 l-1.45504683256,-1.84583723545 -0.755226860444,-2.00826346874 l-0.985868275166,0.210959662994 -1.00094437599,1.68799161911 l0.108616761863,2.33768125375 0.753759394089,1.22163434823 l0.915662447611,0.952262282372 1.72761420409,0.970152616501 l2.33942826589,0.738220065832 2.66645093759,-3.50273846076e-05 l1.60050223271,-0.253365536531 2.26083318392,-0.883591671785 l2.00808962186,-1.36971453826 1.50928040346,-1.65376057227 l1.37365102768,-2.43256568909 0.475250035524,-1.12122406562 l0.861239135265,-1.7592249314 0.846806466579,-1.2684978048 l0.72356586655,-0.473249256611 1.39712731043,-7.09822537222e-05 l0.63394472003,0.422367701928 0.62478368481,0.72414735953 l0.669047733148,1.25953455766 1.00913008054,0.764722476403 l1.81411385536,0.287176221609 2.47577369213,-2.5789419548e-05 l1.06462736924,-0.458767265081 1.30395621061,-1.1537061135 l1.06676538785,-1.77375157674 0.723564475775,-2.5575919946 l-0.000155070022932,-2.51510798931 -0.39561457932,-1.60602162282 l-0.643726934989,-1.38317296902 -0.854347546895,-1.06314480305 l-2.43696173032,-1.57457093398 -0.937446753184,-0.636196732521 l-1.48657073577,-0.648199866215 m-3.64236474037,2.49623179436 l-0.000173840526259,0.84529966116 m1.12244407336,0.867857038975 l-0.0002331820239,1.01362705231 m3.33216090997,1.85423254967 l-0.00010090814006,2.0757273833 0.197403617203,1.46861940622 l0.372601772348,3.40051015218 0.380365500847,3.70887160301 l0.185999895136,4.0286608537 0.213129892945,2.76001870632 l0.464647163947,0.665376186371 3.83311033249,0.32306474944 l0.50651734074,-0.563532114029 -0.000109039259163,-3.79998922348 l0.536116858323,-3.05108428001 0.671009868383,-0.686208158731 l1.75060470899,-0.408555269241 0.567283580701,0.4294462502 l0.309656634927,0.863170226415 0.0688720370332,4.64280088743 l0.611871977647,1.92999521891 0.656995574633,0.521012445291 l1.82740231355,0.000106826288781 0.691714435816,-0.423030406237 l1.00126475096,-1.99268082778 0.305511454741,-5.19896666209 l0.746012379726,-1.12652818362 4.29864366849,-0.407001078129 l4.13205067317,-0.32341239353 0.506373544534,0.531463126342 l-0.0732465833426,4.37028686206 0.458998382092,3.29502264659 l1.4017272989,0.839974880219 1.68818195661,-6.1790979089e-05 l0.671848207712,-0.514399906 0.926823019981,-2.3958359162 l0.368392691016,-2.92728265127 -7.74879360203e-05,-2.11215595404 l0.469564547141,-0.575836400191 0.643949558338,0.636035899321 l0.616255005201,4.11497950554 0.562191704909,3.1211344401 l0.556699385246,0.607586105665 2.47283756733,-0.480076819658 l0.643956561883,-0.682924042145 0.572394082944,-1.56708449125 l0.27671555678,-2.55557676156 -0.23298509419,-3.28345259031 l-1.5864850084,-7.74031877518 -0.352423340082,-1.64118091265 l-0.655504117409,-1.61060283581 -1.01384510597,-1.44528677066 l-1.4810226361,-1.34819507599 -2.83679922422,-1.56789163748 l-3.74763170878,-1.24461640914 -4.67546860377,-0.805585235357 l-5.31808018684,-0.000146045761843 -3.03719202677,0.46410664916 l-3.24039161205,1.0053323706 m79.7116583084,-5.13219681341 l-0.534425328175,-0.964543720086 -1.18314961592,-0.770847549041 l-2.07376460234,-0.744169702133 -2.1265121301,-0.292076120774 l-2.80123472214,-0.000243839604082 -1.96544647217,0.556908349196 l-1.16316884756,0.57935471336 -2.22630143166,1.6610784332 l-1.31700525681,1.58782680829 -0.867328047752,1.66680733363 l-0.918102065722,2.9907176892 -0.183018743992,1.4225028952 l3.67350518597e-05,3.36017052333 0.0934144792457,1.85742298762 l1.74072420123e-05,3.28979412715 -0.288573130965,2.11588561535 l-0.531477679809,1.81433618069 -0.749007413785,1.56301945448 l-0.993230640888,1.26051257054 -1.2416540583,0.92407176892 l-2.32341766357,0.966442426046 -2.55559941133,0.401263435682 l-2.18913296858,-4.30526779382e-05 -1.22439950705,-0.136788686117 l-1.54078394175,-0.480284790198 -1.54578864574,-1.04070593913 l-1.1411378781,-1.50937368472 -0.627775837978,-0.787282536427 l-0.96553593874,-1.31941934427 -0.691318909327,0.104696303606 l-0.310184185704,0.844540099303 -0.000117097576246,1.56131396691 l1.40984346469,2.5635834535 1.92644695441,1.93178574244 l1.8845230341,0.959753592809 2.53824969133,0.700077911218 l1.97615305583,0.16793658336 3.50420753161,-1.93783853319e-05 l1.95971866449,-0.527037382126 2.38549470901,-1.24050954978 l2.15361714363,-1.85225844383 1.65720085303,-2.36476858457 l1.15816503763,-2.84471869469 0.80541079243,-2.26260741552 l0.746504664421,-1.46713803212 0.821268161138,-0.539925595125 l1.55364175638,-1.90746031118e-06 0.730584015449,0.371394455433 l0.852735837301,1.02067460616 1.14939173063,0.605365733306 l2.13381290436,-4.34023543979e-05 1.17937932412,-0.55977900823 l0.790538340807,-0.857036411762 m-3.63712867101,-14.1274038951 l1.3760972023,-0.912242233753 1.55219137669,-0.430446763833 l2.39244083563,-0.0503830829014 0.857728024324,0.355421875914 l1.29307945569,1.30189627409 0.739156752825,1.24422649542 l0.660279293855,2.20664203167 0.289188126723,3.14302126567 l-8.30073016308e-05,3.1806153059 -0.52254597346,1.75252715747 l-0.862245559692,1.25282615423 -1.85159166654,1.26960009336 l-1.65028591951,0.366788829366 -2.25817700227,-0.214088335633 l-0.803025116523,-0.409304474791 -1.24818940957,-1.3160615166 l-0.378351633747,-1.59562071164 -0.000143288210287,-2.24053442478 m-2.62423614661,-3.76348574956 l-0.0199473897616,0.000118513659496 m1.4131774505,3.57199748357 l-0.00226518566099,-0.000180833934185 m3.06408603986,2.23802169164 l0.451335062583,0.76301202178 0.771556695302,2.30067213376 l1.1384382844,6.79978450139 0.482720434666,4.13218776385 l0.462354371945,3.28245719274 0.521697103977,0.661311795314 l3.84202162425,0.258036305507 0.600000619888,-0.425707697868 l-0.000196825300615,-3.90051960945 0.507809619109,-3.28396201134 l0.903975168864,-1.05325698853 4.45390383403,-0.68353826801 l0.523834874233,0.603774885337 -0.0570204046865,4.91134643555 l0.373570298155,2.66630868117 0.619552284479,0.685947885116 l3.51276914279,0.0567222572863 1.18031442165,-0.538840293884 l0.440325041612,-0.764643847942 -0.000151193380589,-3.97840579351 l0.190573843817,-2.80719002088 0.668379018704,-0.860503216585 l2.33252326647,3.47267329441e-05 0.679913262526,0.514319837093 l0.43888002634,0.823498268922 0.26270399491,4.79691545169 l0.555342882872,2.22365399202 3.36935361226,-0.0917274442812 l0.659233778715,-0.603580772877 0.651618242264,-1.52456849813 l0.368426019947,-3.6311451594 0.345245997111,-1.78049067656 l0.538131246964,-0.827623556058 0.90218881766,-0.806671530008 l0.700119634469,0.415915946166 0.72043304642,3.49637468656 l0.421292185783,3.69639555613 0.73510641853,0.658034980297 l2.76178518931,-0.4612797002 1.15869561831,-1.09328111013 l0.845655699571,-1.93027396997 0.42413264513,-2.78382837772 l-0.00011981192074,-4.58570599556 -0.524333765109,-2.44391679764 l-0.790698478619,-1.94302380085 -1.16065432628,-1.85378154119 l-2.43557810783,-2.37028360367 -3.46931060155,-2.14082181454 l-4.22654827436,-1.65003468593 -4.79891777039,-0.981968442599 l-4.46155667305,-0.000143765670752 -3.40217192968,0.413642177979 l-2.61940618356,0.558153837919 m75.5132760441,-8.40224927805 l-0.647881726424,-0.960763891538 -1.26269598802,-0.726388494174 l-2.15833147367,-0.63084974885 -2.21422175566,-0.284533600012 l-2.65532354514,-0.000208413475775 -2.12707161903,0.545661002398 l-1.88203990459,0.811405132214 -1.69594566027,1.04265034199 l-1.50009642045,1.27114037673 -1.24306132396,1.51177565257 l-1.01501643658,1.76229854425 -0.710816433032,1.96989476681 l-0.425152728955,2.17080930869 6.39894763784e-05,3.37467153867 l0.291962871949,2.17578053474 0.879583954811,2.53084381421 l1.06266836325,2.12567985058 0.704809476932,1.8490922451 l1.12576633692,2.60938028495 0.497678667307,1.7729049921 l-0.000165063502209,2.50708401203 -0.475227087736,1.73998773098 l-0.817156980435,1.4180385073 -1.78509771824,1.59424990416 l-2.47498353322,1.028607289 -1.83643897374,0.152688051263 l-1.33292396863,-0.26259072125 -1.96042160193,-1.10797444979 l-2.19042738279,-2.75286436081 -1.08127564192,0.303873121738 l-1.056719323,1.64147913456 -0.0979286494354,0.913392106692 l0.67027464509,1.07767870029 0.79878722628,0.530536919832 l2.83552885056,0.918850501378 3.89806747437,1.26897166173 l2.87489195665,-8.76343923058e-05 1.91488385201,-0.452749629815 l2.37889866034,-1.14426493645 1.62321607272,-1.12925757964 l1.1673121651,-1.19755993287 1.28890474637,-2.07585493724 l0.969984928767,-2.94090072314 0.449963708719,-3.29785267512 l-7.33243299085e-05,-3.25279374917 0.241634150346,-2.25258529186 l0.797278185685,-1.72163466612 0.938709676266,-1.06643905242 l1.75387680531,-1.10440423091 m-2.72444506486,-11.6758179665 l0.286355639497,-0.546262462934 0.626622637113,-0.599536846081 l1.96319381396,-1.06431772312 3.32770168781,-0.510656734308 l0.910985271136,0.309930344423 1.47711018721,1.25898162524 l0.879173477491,1.27136657635 0.855350494385,2.29548195998 l0.291337395708,1.82810862859 -6.38236754943e-05,3.02494565646 l-0.560714403788,1.63099984328 -0.879491269588,1.19493295749 l-1.19411458572,0.82881535093 -2.26322690646,0.712331881126 l-1.92267358303,-0.000178198606591 -0.809875279665,-0.336018204689 l-1.23175481955,-1.1898213625 m-3.60740145048,-8.77147992452 l0.112482607365,-0.916004876296 m6.78384542465,1.62390093009 l0.00462777485761,-0.000229786043443 m-5.29548724492,3.76700321833 l0.701081156731,0.640078534683 0.649882505337,0.549351771673 l0.658070196708,0.417485684156 0.375042979916,-0.696687251329 l-0.423174848159,-0.806962251663 m8.33309014638,-2.42909451326 l2.59452342987,-0.691444476446 8.31813017527,-0.879020492236 l6.52191758156,-0.000213119055843 2.52151290576,0.619594405095 l2.68112421036,1.31535361211 1.98535958926,1.6590466102 l1.51564031839,2.15068459511 0.827713012695,1.84072415034 l0.691826293866,3.000395298 0.221509610613,3.94432544708 l-0.000106671189618,5.18694122632 -0.377974982063,4.84821677208 l-0.531290521224,2.14587787787 -0.884785453478,1.43681834141 l-1.106886367,0.695691605409 -3.0740104119,0.477965424458 l-1.22377961874,-1.09733621279 -0.672897746166,-4.44076895714 l-0.954189896584,-3.58174880346 -0.673738668362,-0.745817323526 l-2.1784255902,-0.000104247543883 -1.35562231143,1.14838172992 l-0.395587881406,0.890419781208 -0.0263374081502,5.17324050268 l-0.41999856631,1.27704113722 -0.870176255703,0.783225695292 l-1.1245076855,0.217171783249 -1.88552260399,-0.264673605561 l-1.07135802507,-1.80652896563 -0.704059700171,-4.45305307706 l-0.692573289076,-2.02652732531 -0.730614215136,-0.559645990531 l-5.43788989385,0.476517528296 -1.40619466702,0.533642868201 l-0.846010446548,1.2559680144 -0.451127588749,4.80163057645 l-0.877423783143,1.90282503764 -0.993545552095,0.782089432081 l-0.979502598445,0.015260844181 -0.870530605316,-0.779929608107 l-0.542356520891,-1.51098887126 -0.000193568812392,-2.57950762908 l0.0536111245553,-2.12659657001 -0.285916179419,-1.28255575895 l-0.652279953162,-0.869114995003 -0.864738921324,-0.355312824249 l-0.830605526765,-0.0214746175334 m106.564250326,-23.5015943551 l-0.8359186848,-0.929940342903 -1.35635276635,-0.626590549946 l-3.30032467842,-0.707925061385 -2.62112597624,-0.000154627668962 l-1.37689153353,0.255354270339 -1.45128508409,0.515303810438 l-2.70540734132,1.52670313915 -1.77777806918,1.64565642675 l-1.44258250793,1.77874346574 -1.19033147891,1.96556707223 l-0.943043828011,2.18005875746 -0.627740869919,2.191375494 l-0.30909443895,2.65537758668 0.0233746242399,2.60044296583 l0.342031295101,2.46173938115 0.648016234239,2.2791882356 l0.899914105733,2.09712306658 1.16107106209,1.88844124476 l1.38155132532,1.63490841786 1.57233804464,1.34339034557 l1.67730510235,1.01052035888 1.72975341479,0.699525078138 l1.76832238833,0.421768526236 3.04851174355,0.211225201686 l1.36665115754,-0.151399299502 2.62260635694,-0.834602018197 l2.14200556278,-1.11699114243 1.75690690676,-1.35029186805 l1.39558106661,-1.55723164479 1.10926111539,-1.7773793141 l1.20828429858,-3.21798543135 0.541600733995,-2.82770117124 l2.44123596834e-05,-3.71589422226 -0.574120829503,-2.461181283 l-0.955669184526,-2.21420407295 -1.9205413262,-2.94648309549 l-1.71447734038,-1.78497274717 -2.5896825393,-1.93284829458 l-1.0084293286,-0.506071597338 m-9.47815100352,9.65227206548 l-0.734680344661,0.0389110421141 -0.829777568579,0.926441550255 l-0.37808428208,1.77599092325 1.11476292213,1.76648199558 l1.72395904859,0.27697339654 0.946897367636,-0.56112964948 l0.51002835234,-0.957122445107 -9.69209274141e-05,-1.54203285774 l-0.669279346863,-0.827829390764 -0.998748938243,-0.389768605431 m9.53479448954,-0.066328595082 l-1.17765317361,0.164036837717 -0.992639660835,0.874088009199 l-0.492218534152,1.26288791498 0.774726271629,0.887711842855 l1.77228053411,-0.0798784134289 0.755056589842,-0.693933566411 l0.292042319973,-0.956574380398 -0.831689089537,-1.10622733831 m-7.53762483597,2.89732416471 l-1.04216466347,-0.173462728659 -1.09594245752,0.608825584253 l-0.628698815902,0.775323311488 -0.570402592421,1.60968770583 l-9.47604712564e-05,1.47077997526 0.923709173997,0.898469090462 l1.39354914427,0.222882504265 1.035810709,-0.478303283453 l0.795981486638,-0.805468509595 0.765095502138,-1.63640151421 l-0.000129469784345,-1.37817243735 -0.646793246269,-0.619074006875 l-0.952570339044,-0.161220344404 m-1.68619930744,2.19518939654 l0.00620740000159,-0.000125235989496 m2.2027405103,0.203363224864 l0.000737955027337,-0.000154809422384 m-3.31751366456,-2.91773796082 l-0.829815715551,-2.11923201879 -0.926848848661,-2.0820804437 l-2.05889503161,-3.87685338656 -3.32043727239,-3.7465830644 l-2.90969689687,-1.89979036649 -3.20946355661,-1.03506485621 l-2.58579969406,-0.262776762247 -2.48687704404,0.173400963346 l-2.33726004759,0.762948840857 -3.27855606874,1.9306888183 l-1.9774689277,1.90409680208 -2.11966355642,3.11410407225 l-0.648252765338,1.49559527636 -0.714023311933,3.22091182073 l-0.000252689060289,3.98094177246 0.355246936282,1.42744024595 l1.27472807964,2.58043309053 2.33363330364,2.57866382599 l3.27625274658,2.27672477563 2.60706722736,1.23861183723 l3.89643867811,1.07744902372 3.09864858786,0.402763113379 l4.17006572088,2.56110403522e-05 2.16243743896,-0.477393666903 l2.98316737016,-1.26785218716 2.06276595592,-1.3172930479 l2.22246905168,-2.10604826609 1.3653537631,-1.94781422615 l0.895709395409,-2.46929506461 m-28.2464059194,2.10712095102 l-0.699154039224,1.00234945615 -0.876231789589,2.26576268673 l-1.07568065325,4.38429077466 -0.281238580743,3.04650743802 l0.823096980651,2.14937667052 1.89702987671,0.0923477113247 l1.39577716589,-1.3576216499 1.48643483718,-4.86939787865 l0.60297931234,-3.64050626755 0.203342499832,-1.17834041516 m11.4486122131,2.94936021169 l-0.371311629812,1.19553267956 -0.275327836474,6.04178706805 l0.574972977241,1.67146941026 1.78780794144,0.195531696081 l1.56743486722,-0.917878448963 1.14330857992,-1.1637343963 l0.710085978111,-1.28386169672 0.575541208188,-2.54204293092 l-8.93843692514e-05,-2.91641930739 -0.453836818536,-1.5562642614 m79.2748980218,-24.5869792199 l-0.971046884855,-0.867474973202 -1.46589348714,-0.548089792331 l-2.50363588333,-0.398507937789 -2.81543215116,-0.000246229853171 l-1.5938436985,0.256129826109 -1.60785883665,0.541033148766 l-1.65196935336,0.868580142657 -1.60556922356,1.2014601628 l-2.42566823959,2.61060198148 -1.70039653778,2.50495175521 l-1.29592676957,2.55882680416 -0.882117251555,2.52986967564 l-0.511224021514,2.55692323049 -0.161388317744,2.43827839692 l0.152242469291,2.42023507754 0.4939387242,2.34771807988 l0.80506230394,2.20353364944 1.13302191099,2.09953566392 l1.43125146627,1.95468525092 1.70369187991,1.70558194319 l1.94754024347,1.42887145281 2.09610760212,1.11256092787 l2.17502454917,0.766866207123 2.28775342306,0.461097906033 l2.41460720698,0.165045186877 2.37554212411,-0.179974312584 l2.20721860727,-0.543061246475 2.12297916412,-0.899475415548 l1.89038614432,-1.18651260932 1.64752890666,-1.46011521419 l2.23011295001,-2.99575229486 1.45581156015,-2.92031566302 l0.909846425056,-2.8982202212 0.518105576436,-4.19644792875 l-6.07771410917e-05,-4.05354976654 -0.794159521659,-2.87876149019 l-1.22556885084,-2.25557386875 -3.98277123769,-4.44009542465 l-1.37672275305,-1.05448037386 -2.62145062288,-1.312918365 l-3.19632649422,-0.888634324074 -1.96316679319,-0.000108636716808 m-3.15690696239,13.7105512619 l-0.911082327366,0.464108784993 -1.05955272913,1.75624271234 l-0.365458130836,1.83434089025 0.292165453235,2.59661912918 l0.934684475263,1.32930805286 1.2224282821,1.01929644744 l1.40903741121,0.603738427162 1.46144151688,0.23846099774 l1.50598456462,-0.116787801186 1.36866162221,-0.472453435262 l1.1826718847,-0.781601071358 0.942946374416,-1.0143789649 l0.835218429565,-1.96845670541 -0.000106776945662,-1.7903594176 l-0.927516321341,-1.60546263059 -0.900430977345,-0.781974693139 l-3.03200105826,-1.34614785512 -2.36951212088,-0.000103803710469 l-1.0144524773,0.779593487581 m0.931751430035,3.35369825363 l0.139859132469,1.31571918726 m3.34500153859,-1.1733725667 l0.182694134613,1.51068518559 m-9.2307917277,-11.1255200704 l-0.684735576312,0.353486388922 -0.489250322183,0.741163740555 l0.610224207242,0.680586844683 1.28118256728,-0.444026986758 l-0.0803244300187,-0.700259457032 -0.728257447481,-0.0351024698466 m13.9569711685,-0.197812095284 l-0.958401064078,0.0771875617405 -0.444495578607,1.05291763941 l1.34977012873,0.00803965609521 0.418375879526,-0.850986838341 l-0.778843810161,-0.545880099138 m-17.2221088409,5.82247773806 l-2.30158567429,-3.29793492953 -1.24518980583,-1.61968012651 l-1.03709052006,-1.5229767561 -1.42911007007,-2.35543509324 l-1.58790787061,-2.82951394717 -1.00155373414,-2.03411122163 l-0.687705179056,-1.7156992356 -0.000296567741316,-1.89972778161 l0.886005560557,-1.46123031775 1.2970679005,-1.07330421607 l1.50214781364,-0.761126826207 2.79205103715,-0.704377094905 l2.48654047648,-0.000174955494003 1.19051992893,0.469954262177 l1.92136963209,1.50538424651 1.85721496741,2.37062553565 l0.992246568203,1.95169488589 0.490452001492,1.78709208965 l-0.000137650871087,2.18647539616 m11.5213624636,-0.00323995132931 l-0.0061827719522,-1.23110572497 0.644080390533,-1.55405431986 l3.32051813602,-4.12689010302 3.14325869083,-1.97320997715 l1.86947305997,-0.365746418635 1.87651475271,-3.16206690817e-05 l1.55931343635,0.395172635714 0.97892810901,0.756886551778 l0.725336621205,1.0902022322 0.612259904544,2.43105987708 l-4.62302674957e-05,2.82746752103 -0.693606038888,2.2895381848 l-1.15415821473,1.94172163804 -2.52516686916,2.69734462102 l-1.8296444416,1.17921600739 -1.7508739233,0.54782902201 m-17.0965019862,17.8230158488 l1.19395524263,2.3029345274 1.66545371215,3.07791848977 l2.56119529406,4.26382422447 1.64490302404,1.8324893713 l3.49543054899,2.20730721951 5.378784736,1.59658203522 l6.03188673655,0.493043164412 7.53635327021,-0.483198712269 l3.03412357966,-0.906266967456 3.12817931175,-1.75696531932 l1.03163450956,-0.988749563694 1.33504668872,-2.27975050608 l0.680062572161,-2.29333500067 0.172047540545,-2.14742918809 l-0.441866070032,-3.23812862237 -1.11529936393,-2.5451918443 l-2.3084272941,-3.00364136696 -1.21870050828,-1.10482643048 l-2.72103309631,-1.59819851319 -5.54970026016,-1.4857874314 l-2.73417274157,-0.396461958687 m62.8230965459,-14.3194284929 l-1.12981756528,-0.79553609093 -1.51499976714,-0.40155266722 l-2.56092270215,-0.246127694845 -2.63685047626,-0.000207019741841 l-1.64243986209,0.275693212946 -1.64336035649,0.571189274391 l-1.66727701823,0.886213580767 -1.60440852245,1.22024248044 l-1.47552947203,1.58163964748 -1.25351468722,1.93842113018 l-1.03738854329,2.24545478821 -0.757979154587,2.49335726102 l-0.463715990384,2.71908442179 -0.141741981109,2.80386865139 l0.217911303043,2.86284804344 0.61844120423,2.81956374645 l0.979833602905,2.62819806735 1.29883070787,2.39105045795 l1.6482407848,2.17134435972 1.90934975942,1.80664757888 l2.10616072019,1.44580821196 2.25942333539,1.0632883509 l2.29105710983,0.616307357947 2.39800512791,0.264259452621 l2.42815037568,-0.0741599376003 3.84582797686,-0.921137531598 l2.31999754906,-1.2993490696 2.05285509427,-1.66162580252 l1.76031728586,-2.00528581937 1.39533172051,-2.20441480478 l1.00474476814,-2.40260402362 0.603589067856,-2.50433564186 l0.232039019465,-2.53064413865 -4.87302380255e-05,-4.03476675351 l-0.727755129337,-3.23116759459 -1.22170855602,-2.7129693826 l-2.52184947332,-3.57185562452 -3.4118950367,-3.13405851523 l-2.2431798776,-1.35283648968 -2.98334777355,-1.10996544361 l-2.17325905959,-0.231633558869 m-3.38734110196,13.0691671371 l-1.15866154432,0.0176173976312 -1.32292807102,1.42227043708 l-0.593822797139,1.77099704742 -0.195343929032,1.77967528502 l1.39771550894,2.92918523153 1.52879486481,1.01846218109 l1.76056901614,0.62690620621 1.81700487932,0.182609880964 l1.55074814955,-0.622192273537 1.20919942856,-1.01416895787 l0.876050889492,-1.27239535252 0.496501326561,-1.41692062219 l0.126541989545,-1.48920685053 -0.762240886688,-1.59016340971 l-1.50445570548,-1.20410054922 -2.49162534873,-1.05361739794 l-1.03541374207,-0.17597147574 -1.51379664739,0.165620831152 m0.114982662102,3.95725727081 l-0.00212222958604,-9.09899184383e-05 m3.6805609862,0.508363246918 l-0.0013551087856,2.97475253319e-05 m-7.92772134145,-9.47361389796 l-0.624754726887,0.0123871684385 -0.407270292441,0.629617621501 l0.70410763224,0.313035150369 0.0610893281798,-0.688668092092 l-0.554729998112,0.163368272285 m13.0640610059,0.457083831231 l-0.439965029558,0.267499536276 0.39439484477,-0.191245327393 l-0.62076985836,-0.0818899273872 m-0.188667873542,-7.06979751587 l0.367778961857,-0.966143608093 1.76057199637,-2.22478469213 l1.79595371087,-1.74843947093 3.40641975403,-2.2789500157 l0.859870612621,0.775059958299 -0.145454009374,4.55823699633 l-0.760518014431,4.39687053363 -0.436667154233,2.71394272645 m-17.948975563,-3.95501097043 l-1.04256480932,-1.05839957794 -2.80719121297,-3.64308834076 l-2.14341839155,-1.38905922572 -1.17021759351,0.706025063992 l-0.531506786744,3.04805298646 0.0729408301413,5.29054760933 l0.399306640029,1.35889540116 m11.5204222997,14.8954216639 l0.327262505889,2.45253145695 0.907413562139,2.45075702667 l1.62405987581,2.22683429718 2.61703590552,2.00698991617 l2.38111078739,1.19970152775 2.55230565866,0.842008690039 l2.67303268115,0.496984372536 2.8960643212,0.235458339254 l4.77244853973,-9.05550715894e-07 2.61509418488,-0.450668831666 l2.34903931618,-0.771254400412 2.02198704084,-1.06630772352 l2.31478134791,-1.9957925876 1.54211223125,-2.035531799 l1.01542939742,-2.17738767465 0.579651792844,-2.20768868923 l0.141118379931,-2.21472700437 -0.259724333882,-2.1388365825 l-1.03616386652,-1.91387573878 -2.75118966897,-2.85303254922 l-2.69380152225,-1.54069473346 -4.10057981809,-1.24231646458 l-3.0968383948,-0.227525358399 -3.89745910962,0.404270266493 l-1.96112612883,0.798618396123 -1.53197298447,0.985711912314 m19.5063622793,3.78476381302 l0.30770589908,-1.14298045635 0.897249082724,-1.22823625803 l2.23945399125,-2.33136018117 1.69085323811,-1.35114302238 l1.68240070343,-1.05445732673 1.6200063626,-0.781077692906 l1.57256374756,-0.606565425793 1.59098555644,-0.534715503454 m45.8303083918,-5.90680368802 l-1.32181316614,-0.696566601594 -1.58976713816,-0.301895911495 l-3.60098401705,-0.000175939773423 -1.64404183626,0.251635164022 l-1.66423847278,0.499990185102 -1.66564941406,0.786929180225 l-1.63026213646,1.11218680938 -1.55468136072,1.45253608624 l-1.42192373673,1.85324589411 -1.19377762079,2.1664061149 l-0.940565268199,2.47203330199 -0.593357384205,2.74756173293 l-0.226263006528,2.8936924537 0.176474315425,2.88355271022 l0.566379676263,2.82301882903 1.01368019978,2.76032606761 l1.38232588768,2.50653386116 1.77576005459,2.21076528231 l2.12171534697,1.85825069745 2.46179163456,1.51492377122 l2.63183693091,1.08334531387 2.67756144206,0.607339690129 l2.82218674819,0.183441701035 2.81528353691,-0.242782384157 l2.73338615894,-0.714932084084 2.51052061717,-1.09496206045 l2.29596714179,-1.45826925834 1.93428675334,-1.75643523534 l1.60605420669,-2.1057120959 1.27954582373,-2.40260998408 l0.884186724822,-2.69420683384 0.443954914808,-2.82279670238 l0.0560313463211,-2.82183766365 -0.358153358102,-2.7446860075 l-0.711788336436,-2.49340931575 -0.988173882167,-2.2741462787 l-1.27684295177,-2.07788189252 -2.80687967936,-3.0312560002 l-1.59823089838,-1.24876091878 -3.2732129097,-1.78628842036 l-3.90987038612,-1.23308817546 -1.46195958058,-0.172827318311 m-3.2530862093,14.3450276057 l-1.06376171112,0.352055976788 -0.919103225072,1.04612181584 l-0.542291253805,1.64825091759 -7.46418057436e-05,2.22931702932 l0.445475280285,1.24240338802 1.4945062995,1.80860201518 l1.62670691808,0.804269860188 1.80704156558,0.335259512067 l1.7467212677,-0.107152486841 1.56035761038,-0.501735260089 l1.25533511241,-0.85783491532 1.42317324877,-2.77207553387 l0.098462831229,-1.27712736527 -0.291458194455,-1.36740118265 l-1.15637342135,-1.34330123663 -1.65502876043,-0.890019635359 l-1.78598225117,-0.363053853313 -2.57903158665,0.00635731926498 l-1.0318612059,0.663161973159 m1.10991577307,3.88962546984 l-0.00173378250717,1.14884255709e-05 m4.00564750036,0.0490565411747 l-0.00154553728256,3.28662963511e-07 m-9.79116678238,-9.39455111821 l-0.484281877677,0.197227622072 m14.2398643494,0.239721387625 l-0.000398427558442,-0.000119846178374 m-17.3471196493,-1.2746566534 l-0.848305424054,-1.67860031128 -2.34099368254,-6.14722768466 l-0.143376712998,-2.02999750773 1.38131966194,-0.721318721771 l4.18757398923,2.40136722724 3.44883203506,2.39246249199 l1.19005203247,0.555234948794 m11.830672423,1.01278712352 l0.460150589546,-1.21497799953 2.15295771758,-2.58260846138 l3.88810356458,-3.67513140043 0.761789778868,1.03507846594 l-0.44854114453,6.16551240285 -0.676013727983,4.44737911224 l-0.0511569002022,0.738421827555 m0.0916396578153,4.3244600296 l0.546169777711,-1.08410398165 1.74984236558,-1.10997100671 l2.24057575067,-0.895387927691 2.41800069809,-0.540547569593 l2.39722808202,-0.194439875583 3.51889093717,0.317560955882 l1.65592779716,0.545362432798 1.56011551619,0.85773696502 l2.13013211886,1.92813237508 1.38341426849,1.9092386961 l0.958067675432,1.93765719732 0.611312886079,2.04729775588 l0.291144624352,2.08628575007 -0.0104794480527,2.06369082133 l-0.633243868748,2.1263786157 -1.32506022851,1.92677716414 l-3.06176682313,2.70227928956 -4.26020900408,2.19193061193 l-3.45575769742,0.969866613547 -4.84162211418,0.438048988581 l-4.42209124565,-0.000127416230195 -3.23569138845,-0.997970799605 l-4.22260522842,-2.85607556502 -0.852894882361,-0.911983251572 m27.4007511139,-15.9365193049 l0.503930399815,-1.02240463098 0.929850041866,-1.32664779822 l2.10241019726,-3.03084115187 0.688845564922,-1.36864046256 l0.593670904636,-1.99623147647 -0.000224924976161,-2.07261244456 l-0.928399264812,-1.431265076 -1.36018484831,-0.718771914641 l-1.34613295396,0.0285808338473 -1.00855698188,0.91886729002 l1.05499943097,1.20988508066 2.1756196022,-0.403363108635 l1.05629185836,-0.928923288981 0.827449460824,-1.28292292356 l0.517874608437,-1.48052314917 0.209566255411,-2.48330036799 l-0.718021690845,-1.07242296139 -1.34092966715,-0.18439779679 l-0.933951437473,0.776631484429 1.62936757008,0.0197266073277 l0.774137973785,-0.867503186067 0.709690451622,-1.86191638311 m51.0899237143,4.68367130498 l-1.46161884069,-0.589436093966 -1.64665023486,-0.186042065422 l-3.61164331436,-0.000100468114397 -1.55333012342,0.293790722887 l-1.55213445425,0.570590645075 -1.55243128538,0.89785138766 l-1.4977350831,1.2358725071 -1.43548429012,1.64466450612 l-1.29282146692,2.09179957708 -0.995212197304,2.39210307598 l-0.651239305735,2.67156898975 -0.273681605856,2.87805259228 l0.15343029052,2.96559552352 0.626682937145,3.02495539188 l1.11735860507,2.89976100127 1.61798020204,2.73741205533 l2.12272822857,2.40050772826 2.47413337231,1.96888446808 l2.72084037463,1.48087441921 2.9285856088,0.911441644033 l3.07068228722,0.361154203614 3.15516491731,-0.132037065923 l3.0301574866,-0.674668500821 2.82169620196,-1.19654347499 l2.54271090031,-1.64692978064 2.12220648925,-2.01448877652 l1.72840893269,-2.36347814401 1.28058036168,-2.69981880983 l0.770718405644,-2.92060156663 0.256923511624,-2.99926638603 l-0.217114662131,-2.93231447538 -0.658936897914,-2.72753278414 l-1.05396260818,-2.50780820847 -1.37999494871,-2.2618685166 l-1.68910523256,-2.04465091228 -1.99708898862,-1.71702504158 l-2.20039586226,-1.30773504575 -2.42953379949,-0.957416594028 l-2.49800384045,-0.514884541432 -2.48033006986,-0.133820213377 l-2.25542843342,0.238529567917 m-1.54537598292,13.8446998596 l-1.1204229792,0.569832772017 -0.934725602468,1.34150316318 l-0.357298726837,1.79524362087 -7.05453931005e-05,2.31591264407 l1.0312585036,1.57619814078 1.6628091534,0.900755822659 l2.02849328518,0.427333613237 2.06287364165,-0.056061030676 l1.88290437063,-0.503461807966 1.50101780891,-0.806097487609 l1.04566663504,-1.03521327178 0.642404903968,-1.20244969924 l0.222838247816,-1.32968227069 -0.192809924483,-1.36315474908 l-1.13850702842,-1.4717545112 -1.71471039454,-0.954918662707 l-4.01137193044,-0.600130508343 -1.49768680334,0.539856106043 m0.714773088694,3.87007753054 l-0.00164859055076,3.33549845285e-05 m3.83308291435,-0.0188673784335 l-0.00137152227884,4.76843221501e-06 m-4.36463991801,0.059255703042 l-0.00185161499151,9.3761923381e-06 m4.53161040942,-0.138652237753 l-0.000803405855549,9.78712281115e-05 m-11.233013471,-10.4561511676 l-0.771210988363,-0.107924640179 -0.718666861455,-0.00237152756502 l-0.418020784855,0.307284593582 0.986230472724,0.721948742867 l1.3296888272,-0.249519993862 -0.335626130303,-0.795592814684 l-0.921093622843,0.184992638727 m16.1117617289,-0.232940067848 l-0.739849160115,0.310364812613 0.770353277524,-0.022822949104 l-0.670238981644,-0.27428475519 -0.619672387838,0.357408498724 m-19.8956108093,1.76494936148 l-1.32334212462,-5.21192550659 -0.400069504976,-2.20627129078 l-0.539675752322,-5.30498345693 1.16140166918,-1.48734847705 l1.4076072971,0.43156315883 4.04451131821,3.23102355003 l1.83800935745,1.46470308304 1.90260887146,0.981245140235 m14.4703435898,1.3726974527 l0.603384226561,-1.27301315467 2.51566727956,-2.82044231892 l4.8469376564,-4.05288259188 0.723629097144,0.789434959491 l-0.335668673118,5.87437033653 -0.515396744013,4.80881134669 l-0.0246084745352,1.2197158734 m-20.052728653,11.5548849106 l-1.5471414725,0.463134547075 -1.69760604699,1.35502487421 l-1.37199898561,1.91954533259 -0.945563515027,1.95617894332 l-0.856473346551,3.48090688388 -0.000244164524095,3.45399260521 l0.835961500804,2.13755428791 1.42730941375,2.07014520963 l1.95239623388,1.78955634435 2.48640100161,1.47927671671 l2.81486411889,1.06686681509 3.16457529863,0.64704110225 l3.40652704239,0.230923344692 3.53764931361,-0.169698918859 l3.40371568998,-0.71231380105 3.15722227097,-1.10904256503 l2.84178992112,-1.43467297157 2.492005229,-1.74762368202 l2.07201441129,-2.07410434882 1.46291941404,-2.29974985123 l0.847171843052,-2.38564729691 0.341619004806,-2.44608382384 l-0.11460715284,-2.39028473695 -0.558941115936,-2.09136803945 l-1.01069281499,-1.84863050779 -1.40132844448,-1.59244974454 l-1.74015462399,-1.28584086895 -3.37736209234,-1.41153881947 l-4.30128693581,-0.726999888817 -2.91198949019,0.040121016403 m71.4433437421,-17.5735492087 l-1.63755943378,-0.469317535559 -1.69701576233,-0.000340789192705 l-2.62595792611,0.581840326389 -1.52271529039,0.614345322053 l-1.51888032754,0.923145711422 -1.52209480604,1.30204856396 l-1.43471668164,1.67408963044 -1.17241799831,1.97539488475 l-0.862792332967,2.28667537371 -0.486824661493,2.56655037403 l-8.64292663512e-06,4.08079703649 0.777864704529,2.75147815545 l1.34847035011,2.63842840989 1.85315628846,2.39225069682 l2.28420495987,2.08048164845 2.63270417849,1.61817024151 l2.92661229769,1.16573850314 3.14861178398,0.636889735858 l3.21038782597,0.103679889192 3.04424067338,-0.436700681845 l2.82411158085,-1.00400298834 2.58349339167,-1.48568650087 l2.24600891272,-1.9051194191 1.80454154809,-2.30325380961 l1.29677206278,-2.57238805294 0.775262216727,-2.87138720353 l0.252687285344,-2.84526586533 -0.247946828604,-2.68074095249 l-0.702405621608,-2.46929486593 -1.09877735376,-2.34156668186 l-1.5010535717,-2.12546805541 -1.88574135303,-1.85426314672 l-2.15773502986,-1.52488331 -2.44423846404,-1.1000948151 l-2.57615804672,-0.671981622775 -2.71075546741,-0.27560668687 l-2.5855855147,0.106267097096 -2.15132375558,0.701732486486 m2.02970683575,13.5818465551 l-1.23466312885,0.240752771497 -1.02904717127,1.00934455792 l-0.635560800632,1.60222192605 1.6045075655,4.89949822426 l1.73991044362,1.06189131737 1.99662446976,0.603887587786 l2.10874776045,0.111046545208 1.89018885295,-0.931353271008 l1.34837160508,-1.30149890979 0.843083659808,-1.45443757375 l0.346061438322,-1.57829274734 -0.0833679611484,-1.56333684921 l-0.561589499315,-1.40427629153 -1.01921478907,-1.20712290208 l-3.16869914532,-1.34360820055 -1.73723081748,0.0253729708493 l-1.268483301,0.630470315615 m0.406878640254,4.48041200638 l-0.00163814033537,3.8590293722e-05 m4.11048650742,-0.276151100794 l-0.000843053179172,1.28989891361e-06 m-4.740913709,-0.00795647501945 l-0.00130956032081,-5.32867973864e-05 m3.65847587585,-0.108995859822 l-0.000955953728408,7.10736094334e-05 m-11.5020012856,-10.6277267138 l-0.744920323292,-0.0142610895758 -0.773680259784,0.48008903861 l-0.27732004722,0.992059806983 1.27825727065,0.669582535823 l1.20822330316,-0.993079145749 -0.361053794622,-0.9868735075 l-1.01295779149,0.11632754157 m16.8697579702,-0.958219269911 l-0.49055437247,0.77730635802 1.0056194663,0.0934953615069 l-0.533240338167,-0.902876158555 -0.894079109033,0.0866193386416 m-20.9178733826,3.35438847542 l-0.986487666766,-1.95855816205 -3.50214838982,-8.13902854919 l-0.665541142225,-3.00869146983 0.903049210707,-1.30944391092 l4.94446714719,1.94208999475 2.53083368142,1.59120907386 l3.45012307167,2.31429696083 m15.7994604111,-0.268123199542 l0.592768241962,-1.35797411203 3.93571813901,-5.09357452393 l1.57163421313,-1.57091488441 1.10246976217,0.48931106925 l0.390671541293,2.87630875905 0.182514203091,6.88545624415 l-0.0405222239594,4.17704065641 m-23.1385453542,11.6297117869 l-1.1181379358,1.26545667648 -0.596457868814,1.94198111693 l-0.536693880955,5.67499955495 0.433028240999,2.36899554729 l0.844451387723,2.24435587724 1.33408953746,2.15338269869 l1.80900077025,1.9228241841 2.22263216972,1.60869320234 l2.61142273744,1.28098855416 2.75146345297,0.858944058418 l3.0099550883,0.446067601442 3.28554968039,0.0683729040126 l3.31799566746,-0.423494329055 3.19932758808,-0.941425263882 l2.96616872152,-1.3988083601 2.63926843802,-1.76775077979 l2.1677039067,-2.09127803644 1.67873481909,-2.38884627819 l1.05445295572,-2.52002974351 0.450034489234,-2.56835103035 l-0.0363159676393,-2.59690642357 -0.518939594428,-2.43875881036 l-1.01729035378,-2.1888222297 -1.38440042734,-1.87624851863 l-1.732716163,-1.55491948128 -2.05496470133,-1.18665625652 l-2.25048542023,-0.821206768354 -2.33091215293,-0.467357337475 l-2.25630442301,-0.129234194756 m-14.6096261342,22.7624464035 l-0.398737092813,4.07105962435 -0.827292700609,5.31417965889 l-1.04038665692,4.66028014819 m80.384479359,-47.7685667272 l-1.7799325784,-0.346906855702 -1.60599102577,0.0984109876057 l-2.45357652505,0.782148788373 -1.40148530404,0.747911632061 l-1.33596599102,1.02808117867 -1.31613403559,1.44058654706 l-1.12530211608,1.81326548258 -0.799872279167,2.13622848193 l-0.450851370891,2.42564837138 -6.18645450838e-05,4.36292767525 l0.916829506556,2.68656770388 1.51150594155,2.52968887488 l2.04324980577,2.21321463585 2.50365416209,1.81471765041 l2.7922753493,1.27285907666 3.10120006402,0.700123310089 l3.31829329332,0.184469272693 3.43862692515,-0.373696337144 l3.16966672738,-0.983436107635 2.8843408823,-1.49523556232 l2.40508377552,-1.92678411802 1.8813620011,-2.2262942791 l1.33235305548,-2.4640639623 0.761458327373,-2.63166904449 l0.21060715119,-2.67002622286 -0.312490413586,-2.66163388888 l-0.893534521262,-2.52349714438 -1.43924037615,-2.2799440225 l-1.8315354983,-1.94499929746 -2.22607413928,-1.58614337444 l-2.58146226406,-1.1538006862 -2.81016727289,-0.684278905392 l-2.86908884843,-0.24706274271 -2.8270359834,0.100575188796 l-2.45312392712,0.485829611619 -2.11323022842,0.796019832293 m1.82418882847,10.7767963409 l-0.395047267278,1.18946880102 0.197338014841,2.24040428797 l1.08484695355,1.47299150626 2.39997982979,1.13776654005 l4.99560832977,-0.441179772218 1.71261012554,-1.32802178462 l1.08891477187,-1.4270033439 0.524890770515,-1.43678764502 l-0.000105563825249,-1.63786143064 -1.30881130695,-1.43235474825 l-2.00567662716,-0.765687078238 -3.37104360263,-0.388208081325 l-2.29051172733,0.584722906351 -1.34317020575,1.38183414936 l-0.5618904531,1.41753107309 m3.38123480479,1.37523720662 l-0.00185986321109,4.50252749336e-05 m3.58984827995,-0.62196329236 l-0.000949436216615,2.96870469659e-05 m-4.05746738116,0.0748276089629 l-0.00119994976558,-3.46440901922e-05 m4.3977646033,-0.202284480135 l-0.000668745584941,9.03994077817e-05 m-11.0866936048,-7.53950595856 l-0.569374412298,-0.140721797943 m14.3129205704,-1.02532198032 l0.000671730328274,-0.000104998228683 m-19.42334493,7.27741241455 l-0.385870585839,-2.76769975821 -1.30964140097,-7.69222577413 l-0.25873777767,-2.47373878956 -0.205133991937,-5.05959351858 l1.38352821271,-1.16475413243 4.41600640615,1.75749142965 l4.18522040049,3.22441220284 2.04930146535,1.95081373056 l1.1651028196,1.5461319685 m10.2245457967,0.621845622857 l0.41521285971,-1.4425043265 3.56690724691,-5.02633253733 l2.7192701896,-2.90212174257 1.05130195618,-0.815930267175 l0.81989377737,1.0077308615 0.367615744472,6.62094116211 l0.0997425491611,6.13498767217 -0.01205467619,3.60100388527 m-19.2438793182,10.8544699351 l-1.66092813015,0.833097646634 -3.597732385,3.49430282911 l-1.04678134123,1.60094896952 -0.902550121148,1.91326280435 l-0.596699317296,2.15334375699 -0.00023311447876,2.97665496667 l0.981343487899,1.94245576859 1.6829842329,1.83996975422 l2.32937693596,1.59419198831 2.86514838537,1.23050908248 l3.31043601036,0.868666668733 3.65881005923,0.497064987818 l3.85388334592,0.103291875372 3.79082322121,-0.407898525397 l3.67592612902,-0.868691603343 3.34602157275,-1.31523251534 l2.97551850478,-1.76200052102 2.53512501717,-2.12186912696 l2.00850526492,-2.41193433603 1.35326604048,-2.66758998235 l0.649622778098,-2.7155504624 0.0526951253414,-2.62998819351 l-0.499456177155,-2.46039628983 -1.01804335912,-2.12879598141 l-1.5276530385,-1.83860162894 -1.99974914392,-1.55601888895 l-2.40382889907,-1.11662268639 -2.5874565045,-0.664739459753 l-2.61301020781,-0.273802528779 -4.08655405045,0.169742529591 l-2.24178850651,0.814428428809 -1.72744452953,1.03293160597 m-9.98446544011,20.0650962194 l-1.16230845451,1.89099729061 -2.37270454566,5.43327490489 l-1.13452424606,3.06284944216 -0.479233711958,2.15164601803 m22.8371588389,-11.2040750186 l0.548797547817,6.37616038322 0.507819801569,5.71570515633 l0.365977014105,1.16984794537 \" fill=\"none\" stroke=\"black\" stroke-width=\"1\"/></svg>"
      ],
      "text/plain": [
       "<IPython.core.display.SVG object>"
      ]
     },
     "metadata": {
      "tags": []
     },
     "output_type": "display_data"
    }
   ],
   "source": [
    "draw_strokes(stroke_grid, factor=0.3)"
   ]
  },
  {
   "cell_type": "code",
   "execution_count": 0,
   "metadata": {
    "colab": {},
    "colab_type": "code",
    "id": "KUgVRGnSFQwa"
   },
   "outputs": [],
   "source": []
  }
 ],
 "metadata": {
  "colab": {
   "name": "Sketch_RNN.ipynb",
   "provenance": [],
   "version": "0.3.2"
  },
  "kernelspec": {
   "display_name": "Python 2",
   "language": "python",
   "name": "python2"
  },
  "language_info": {
   "codemirror_mode": {
    "name": "ipython",
    "version": 3
   },
   "file_extension": ".py",
   "mimetype": "text/x-python",
   "name": "python",
   "nbconvert_exporter": "python",
   "pygments_lexer": "ipython3",
   "version": "3.7.2"
  }
 },
 "nbformat": 4,
 "nbformat_minor": 1
}
